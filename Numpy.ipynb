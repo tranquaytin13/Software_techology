{
  "nbformat": 4,
  "nbformat_minor": 0,
  "metadata": {
    "colab": {
      "provenance": []
    },
    "kernelspec": {
      "name": "python3",
      "display_name": "Python 3"
    },
    "language_info": {
      "name": "python"
    }
  },
  "cells": [
    {
      "cell_type": "code",
      "execution_count": null,
      "metadata": {
        "id": "HBDVxT8XzW_R"
      },
      "outputs": [],
      "source": [
        "#Numpy là viết tắt của Numerical Python - Thư viện mã nguồn mở trong python - tính toán số học"
      ]
    },
    {
      "cell_type": "code",
      "source": [
        "#Cung cấp  - các cấu trúc dữ liệu và hàm để xử lý các phép toán làm việc với mảng và thực hiện tính toán số học"
      ],
      "metadata": {
        "id": "ieShxVyl9nG2"
      },
      "execution_count": null,
      "outputs": []
    },
    {
      "cell_type": "markdown",
      "source": [
        "#Import module numpy"
      ],
      "metadata": {
        "id": "AhCkzhf996yu"
      }
    },
    {
      "cell_type": "code",
      "source": [
        "import numpy as np"
      ],
      "metadata": {
        "id": "jbNWvc3j93xT"
      },
      "execution_count": null,
      "outputs": []
    },
    {
      "cell_type": "markdown",
      "source": [
        "#Tạo 1 mảng dữ liệu"
      ],
      "metadata": {
        "id": "qPHuU5vO-Mqk"
      }
    },
    {
      "cell_type": "code",
      "source": [
        "a = np.array([1,2,3])"
      ],
      "metadata": {
        "id": "52YFcLul-X5C"
      },
      "execution_count": null,
      "outputs": []
    },
    {
      "cell_type": "code",
      "source": [
        "a"
      ],
      "metadata": {
        "colab": {
          "base_uri": "https://localhost:8080/"
        },
        "id": "3cDv9C31-lld",
        "outputId": "63739948-ca11-40ca-9701-1f5d7d653d34"
      },
      "execution_count": null,
      "outputs": [
        {
          "output_type": "execute_result",
          "data": {
            "text/plain": [
              "array([1, 2, 3])"
            ]
          },
          "metadata": {},
          "execution_count": 5
        }
      ]
    },
    {
      "cell_type": "code",
      "source": [
        "print(a)"
      ],
      "metadata": {
        "colab": {
          "base_uri": "https://localhost:8080/"
        },
        "id": "_SdeMcFx-u7B",
        "outputId": "68311eb5-a36e-4496-aff7-e9a74303518a"
      },
      "execution_count": null,
      "outputs": [
        {
          "output_type": "stream",
          "name": "stdout",
          "text": [
            "[1 2 3]\n"
          ]
        }
      ]
    },
    {
      "cell_type": "code",
      "source": [
        "a.shape"
      ],
      "metadata": {
        "colab": {
          "base_uri": "https://localhost:8080/"
        },
        "id": "hrYbZBlL-9w9",
        "outputId": "2cd0e812-b712-4b84-a0ac-597db2f721dc"
      },
      "execution_count": null,
      "outputs": [
        {
          "output_type": "execute_result",
          "data": {
            "text/plain": [
              "(3,)"
            ]
          },
          "metadata": {},
          "execution_count": 7
        }
      ]
    },
    {
      "cell_type": "code",
      "source": [
        "a[0]"
      ],
      "metadata": {
        "colab": {
          "base_uri": "https://localhost:8080/"
        },
        "id": "KSx8eXJW_CWy",
        "outputId": "73883d12-0e42-40f4-8276-713cedca127f"
      },
      "execution_count": null,
      "outputs": [
        {
          "output_type": "execute_result",
          "data": {
            "text/plain": [
              "1"
            ]
          },
          "metadata": {},
          "execution_count": 9
        }
      ]
    },
    {
      "cell_type": "markdown",
      "source": [
        "#Mảng 2 chiều"
      ],
      "metadata": {
        "id": "f6gigqkc_nSy"
      }
    },
    {
      "cell_type": "code",
      "source": [
        "b = np.array([[1,2,3],[4,5,6]])\n",
        "b"
      ],
      "metadata": {
        "colab": {
          "base_uri": "https://localhost:8080/"
        },
        "id": "_gArrW3k_ltP",
        "outputId": "9f771fec-c8ed-4aef-888d-14a4e34ef6a5"
      },
      "execution_count": null,
      "outputs": [
        {
          "output_type": "execute_result",
          "data": {
            "text/plain": [
              "array([[1, 2, 3],\n",
              "       [4, 5, 6]])"
            ]
          },
          "metadata": {},
          "execution_count": 10
        }
      ]
    },
    {
      "cell_type": "code",
      "source": [
        "print(b)"
      ],
      "metadata": {
        "colab": {
          "base_uri": "https://localhost:8080/"
        },
        "id": "XQ0KRS70Aa8k",
        "outputId": "d214fc50-8130-4e6f-b207-7e1b8be0af9f"
      },
      "execution_count": null,
      "outputs": [
        {
          "output_type": "stream",
          "name": "stdout",
          "text": [
            "[[1 2 3]\n",
            " [4 5 6]]\n"
          ]
        }
      ]
    },
    {
      "cell_type": "code",
      "source": [
        "b.shape"
      ],
      "metadata": {
        "colab": {
          "base_uri": "https://localhost:8080/"
        },
        "id": "5H6woowsAemH",
        "outputId": "2548b454-aec0-4738-a91d-bc4391f8963f"
      },
      "execution_count": null,
      "outputs": [
        {
          "output_type": "execute_result",
          "data": {
            "text/plain": [
              "(2, 3)"
            ]
          },
          "metadata": {},
          "execution_count": 12
        }
      ]
    },
    {
      "cell_type": "code",
      "source": [
        "b[1,1]"
      ],
      "metadata": {
        "colab": {
          "base_uri": "https://localhost:8080/"
        },
        "id": "2UI4H1azBbiQ",
        "outputId": "330daf21-cc44-4543-8b2d-ac0a924bcfe1"
      },
      "execution_count": null,
      "outputs": [
        {
          "output_type": "execute_result",
          "data": {
            "text/plain": [
              "5"
            ]
          },
          "metadata": {},
          "execution_count": 13
        }
      ]
    },
    {
      "cell_type": "markdown",
      "source": [
        "#Tạo mảng ngẫu nhiên"
      ],
      "metadata": {
        "id": "yvLMA66KCSS6"
      }
    },
    {
      "cell_type": "code",
      "source": [
        "c = np.random.random((2,3))\n",
        "c"
      ],
      "metadata": {
        "colab": {
          "base_uri": "https://localhost:8080/"
        },
        "id": "ZOy-Wu3UCXTi",
        "outputId": "c122f6bc-b338-4581-ba91-b4be7e5915d0"
      },
      "execution_count": null,
      "outputs": [
        {
          "output_type": "execute_result",
          "data": {
            "text/plain": [
              "array([[0.89359831, 0.59191313, 0.46067578],\n",
              "       [0.38058403, 0.81381135, 0.26508647]])"
            ]
          },
          "metadata": {},
          "execution_count": 20
        }
      ]
    },
    {
      "cell_type": "code",
      "source": [
        "np.random.seed(11)\n",
        "c=np.random.random((2,3))\n",
        "c"
      ],
      "metadata": {
        "colab": {
          "base_uri": "https://localhost:8080/"
        },
        "id": "mYdIDFJSDS2W",
        "outputId": "84d4ffbe-9473-4f53-f79c-d76ec7927ec4"
      },
      "execution_count": null,
      "outputs": [
        {
          "output_type": "execute_result",
          "data": {
            "text/plain": [
              "array([[0.18026969, 0.01947524, 0.46321853],\n",
              "       [0.72493393, 0.4202036 , 0.4854271 ]])"
            ]
          },
          "metadata": {},
          "execution_count": 25
        }
      ]
    },
    {
      "cell_type": "code",
      "source": [
        "d = np.array([[[1,2,3],\n",
        "               [4,5,6]],\n",
        "              \n",
        "              [[7,8,9],\n",
        "               [10,11,12]]])\n",
        "d"
      ],
      "metadata": {
        "colab": {
          "base_uri": "https://localhost:8080/"
        },
        "id": "wOkt-zaxEJeM",
        "outputId": "7bcf1259-e595-4d65-d0f8-e6280b36be05"
      },
      "execution_count": null,
      "outputs": [
        {
          "output_type": "execute_result",
          "data": {
            "text/plain": [
              "array([[[ 1,  2,  3],\n",
              "        [ 4,  5,  6]],\n",
              "\n",
              "       [[ 7,  8,  9],\n",
              "        [10, 11, 12]]])"
            ]
          },
          "metadata": {},
          "execution_count": 26
        }
      ]
    },
    {
      "cell_type": "code",
      "source": [
        "d.shape"
      ],
      "metadata": {
        "colab": {
          "base_uri": "https://localhost:8080/"
        },
        "id": "qvfx4twIFlfp",
        "outputId": "94f7c32b-417c-410f-b1b3-31137d6dc9d1"
      },
      "execution_count": null,
      "outputs": [
        {
          "output_type": "execute_result",
          "data": {
            "text/plain": [
              "(2, 2, 3)"
            ]
          },
          "metadata": {},
          "execution_count": 27
        }
      ]
    },
    {
      "cell_type": "markdown",
      "source": [
        "#Reshape"
      ],
      "metadata": {
        "id": "fCih-lF9F2Gv"
      }
    },
    {
      "cell_type": "code",
      "source": [
        "e = np.array([1,2,3,4,5,6,7,8,9])"
      ],
      "metadata": {
        "id": "9dRhrIUpFxsO"
      },
      "execution_count": null,
      "outputs": []
    },
    {
      "cell_type": "code",
      "source": [
        "e"
      ],
      "metadata": {
        "colab": {
          "base_uri": "https://localhost:8080/"
        },
        "id": "3Xqx-PGyGAN_",
        "outputId": "c3102ca6-34a7-422e-8638-5a4d640c19d3"
      },
      "execution_count": null,
      "outputs": [
        {
          "output_type": "execute_result",
          "data": {
            "text/plain": [
              "array([1, 2, 3, 4, 5, 6, 7, 8, 9])"
            ]
          },
          "metadata": {},
          "execution_count": 29
        }
      ]
    },
    {
      "cell_type": "code",
      "source": [
        "print(e.reshape(3,3))"
      ],
      "metadata": {
        "colab": {
          "base_uri": "https://localhost:8080/"
        },
        "id": "IBYoymKmGKis",
        "outputId": "982a427f-9c25-40a8-e274-889d8a102fd0"
      },
      "execution_count": null,
      "outputs": [
        {
          "output_type": "stream",
          "name": "stdout",
          "text": [
            "[[1 2 3]\n",
            " [4 5 6]\n",
            " [7 8 9]]\n"
          ]
        }
      ]
    },
    {
      "cell_type": "code",
      "source": [
        "f =  np.array([1,2,3,4,5,6,7,8,9])\n",
        "f.reshape(3,-1)"
      ],
      "metadata": {
        "colab": {
          "base_uri": "https://localhost:8080/"
        },
        "id": "t6qmgvECGj9w",
        "outputId": "768bc6f0-029a-4570-cab5-dac631b57608"
      },
      "execution_count": null,
      "outputs": [
        {
          "output_type": "execute_result",
          "data": {
            "text/plain": [
              "array([[1, 2, 3],\n",
              "       [4, 5, 6],\n",
              "       [7, 8, 9]])"
            ]
          },
          "metadata": {},
          "execution_count": 34
        }
      ]
    },
    {
      "cell_type": "code",
      "source": [
        "b"
      ],
      "metadata": {
        "colab": {
          "base_uri": "https://localhost:8080/"
        },
        "id": "oLd87x-kHL7J",
        "outputId": "be7aa337-500f-49ce-8849-50eae62f1f05"
      },
      "execution_count": null,
      "outputs": [
        {
          "output_type": "execute_result",
          "data": {
            "text/plain": [
              "array([[1, 2, 3],\n",
              "       [4, 5, 6]])"
            ]
          },
          "metadata": {},
          "execution_count": 37
        }
      ]
    },
    {
      "cell_type": "code",
      "source": [
        "b.reshape(6)"
      ],
      "metadata": {
        "colab": {
          "base_uri": "https://localhost:8080/"
        },
        "id": "B_opNHmDG2OL",
        "outputId": "87cedee7-7118-4827-ec85-9b0ac4bf3b1b"
      },
      "execution_count": null,
      "outputs": [
        {
          "output_type": "execute_result",
          "data": {
            "text/plain": [
              "array([1, 2, 3, 4, 5, 6])"
            ]
          },
          "metadata": {},
          "execution_count": 36
        }
      ]
    },
    {
      "cell_type": "markdown",
      "source": [
        "#So sánh trong numpy"
      ],
      "metadata": {
        "id": "B29b9AxJHcoV"
      }
    },
    {
      "cell_type": "code",
      "source": [
        "f>3"
      ],
      "metadata": {
        "colab": {
          "base_uri": "https://localhost:8080/"
        },
        "id": "ugrf9x0AHfij",
        "outputId": "6079b6ed-1e92-4916-be96-2cf0b1aedf81"
      },
      "execution_count": null,
      "outputs": [
        {
          "output_type": "execute_result",
          "data": {
            "text/plain": [
              "array([False, False, False,  True,  True,  True,  True,  True,  True])"
            ]
          },
          "metadata": {},
          "execution_count": 38
        }
      ]
    },
    {
      "cell_type": "code",
      "source": [
        "f[f>3]"
      ],
      "metadata": {
        "colab": {
          "base_uri": "https://localhost:8080/"
        },
        "id": "WP49_dIXHus3",
        "outputId": "f08ff755-bf07-4b40-c471-9d14b390e49e"
      },
      "execution_count": null,
      "outputs": [
        {
          "output_type": "execute_result",
          "data": {
            "text/plain": [
              "array([4, 5, 6, 7, 8, 9])"
            ]
          },
          "metadata": {},
          "execution_count": 39
        }
      ]
    },
    {
      "cell_type": "code",
      "source": [
        "b"
      ],
      "metadata": {
        "colab": {
          "base_uri": "https://localhost:8080/"
        },
        "id": "D7gjp6bKIHMD",
        "outputId": "2cbacfff-2885-41e8-8816-9b1c469c3ae0"
      },
      "execution_count": null,
      "outputs": [
        {
          "output_type": "execute_result",
          "data": {
            "text/plain": [
              "array([[1, 2, 3],\n",
              "       [4, 5, 6]])"
            ]
          },
          "metadata": {},
          "execution_count": 40
        }
      ]
    },
    {
      "cell_type": "code",
      "source": [
        "g = np.array([[7,8,9],[10,11,12]])\n",
        "g"
      ],
      "metadata": {
        "colab": {
          "base_uri": "https://localhost:8080/"
        },
        "id": "iulLsgUdINl6",
        "outputId": "8cc68632-1e77-4086-c71b-d3941a4c8ad1"
      },
      "execution_count": null,
      "outputs": [
        {
          "output_type": "execute_result",
          "data": {
            "text/plain": [
              "array([[ 7,  8,  9],\n",
              "       [10, 11, 12]])"
            ]
          },
          "metadata": {},
          "execution_count": 41
        }
      ]
    },
    {
      "cell_type": "code",
      "source": [
        "b*g"
      ],
      "metadata": {
        "colab": {
          "base_uri": "https://localhost:8080/"
        },
        "id": "97GjHtuuIcHI",
        "outputId": "ded2b860-0cf8-44cd-fc22-966fbd8ad6ec"
      },
      "execution_count": null,
      "outputs": [
        {
          "output_type": "execute_result",
          "data": {
            "text/plain": [
              "array([[ 7, 16, 27],\n",
              "       [40, 55, 72]])"
            ]
          },
          "metadata": {},
          "execution_count": 42
        }
      ]
    },
    {
      "cell_type": "code",
      "source": [
        "b/g"
      ],
      "metadata": {
        "colab": {
          "base_uri": "https://localhost:8080/"
        },
        "id": "G6DwYL5aIlJf",
        "outputId": "f3d8dc72-35ca-4dc6-dd8d-59865bda4748"
      },
      "execution_count": null,
      "outputs": [
        {
          "output_type": "execute_result",
          "data": {
            "text/plain": [
              "array([[0.14285714, 0.25      , 0.33333333],\n",
              "       [0.4       , 0.45454545, 0.5       ]])"
            ]
          },
          "metadata": {},
          "execution_count": 43
        }
      ]
    },
    {
      "cell_type": "markdown",
      "source": [
        "#Tổng, Min, Max"
      ],
      "metadata": {
        "id": "3_w3BgUnI3Yu"
      }
    },
    {
      "cell_type": "code",
      "source": [
        "f"
      ],
      "metadata": {
        "colab": {
          "base_uri": "https://localhost:8080/"
        },
        "id": "WFuXvlLPIs12",
        "outputId": "c3713cb4-c3d1-4b80-a770-881666bf92df"
      },
      "execution_count": null,
      "outputs": [
        {
          "output_type": "execute_result",
          "data": {
            "text/plain": [
              "array([1, 2, 3, 4, 5, 6, 7, 8, 9])"
            ]
          },
          "metadata": {},
          "execution_count": 44
        }
      ]
    },
    {
      "cell_type": "code",
      "source": [
        "f.sum()"
      ],
      "metadata": {
        "colab": {
          "base_uri": "https://localhost:8080/"
        },
        "id": "7zAS6No-IyLQ",
        "outputId": "18598fa9-6dfd-4287-f6da-23974d0df8c2"
      },
      "execution_count": null,
      "outputs": [
        {
          "output_type": "execute_result",
          "data": {
            "text/plain": [
              "45"
            ]
          },
          "metadata": {},
          "execution_count": 45
        }
      ]
    },
    {
      "cell_type": "code",
      "source": [
        "f.min()"
      ],
      "metadata": {
        "colab": {
          "base_uri": "https://localhost:8080/"
        },
        "id": "2XnIUmV5I7w_",
        "outputId": "2ee031dd-def7-47ac-df4b-5405545554a5"
      },
      "execution_count": null,
      "outputs": [
        {
          "output_type": "execute_result",
          "data": {
            "text/plain": [
              "1"
            ]
          },
          "metadata": {},
          "execution_count": 46
        }
      ]
    },
    {
      "cell_type": "code",
      "source": [
        "f.max()"
      ],
      "metadata": {
        "colab": {
          "base_uri": "https://localhost:8080/"
        },
        "id": "ZagUnuBdJAol",
        "outputId": "23d45ba2-54f6-442a-de85-fcfc177b70be"
      },
      "execution_count": null,
      "outputs": [
        {
          "output_type": "execute_result",
          "data": {
            "text/plain": [
              "9"
            ]
          },
          "metadata": {},
          "execution_count": 47
        }
      ]
    },
    {
      "cell_type": "markdown",
      "source": [
        "#Nhân ma trận"
      ],
      "metadata": {
        "id": "h40hAtA4JME9"
      }
    },
    {
      "cell_type": "code",
      "source": [
        "A = np.array([[1,2],[2,1],[3,2],[4,5]])\n",
        "A"
      ],
      "metadata": {
        "colab": {
          "base_uri": "https://localhost:8080/"
        },
        "id": "8cRANly7JKuD",
        "outputId": "6ba96987-ee9a-4fa6-e4ff-48be75a09fbd"
      },
      "execution_count": null,
      "outputs": [
        {
          "output_type": "execute_result",
          "data": {
            "text/plain": [
              "array([[1, 2],\n",
              "       [2, 1],\n",
              "       [3, 2],\n",
              "       [4, 5]])"
            ]
          },
          "metadata": {},
          "execution_count": 49
        }
      ]
    },
    {
      "cell_type": "code",
      "source": [
        "B= np.array([[3,2,1],[4,2,6]])\n",
        "B"
      ],
      "metadata": {
        "colab": {
          "base_uri": "https://localhost:8080/"
        },
        "id": "aP1Ok_XqKcdT",
        "outputId": "bacf8a9f-f2a5-421c-f196-43e838c7cb03"
      },
      "execution_count": null,
      "outputs": [
        {
          "output_type": "execute_result",
          "data": {
            "text/plain": [
              "array([[3, 2, 1],\n",
              "       [4, 2, 6]])"
            ]
          },
          "metadata": {},
          "execution_count": 50
        }
      ]
    },
    {
      "cell_type": "code",
      "source": [
        "C = A.dot(B)\n",
        "C"
      ],
      "metadata": {
        "colab": {
          "base_uri": "https://localhost:8080/"
        },
        "id": "b9C_GvE8KuIf",
        "outputId": "421414ac-a042-4a4b-b8cc-3226c1d4146a"
      },
      "execution_count": null,
      "outputs": [
        {
          "output_type": "execute_result",
          "data": {
            "text/plain": [
              "array([[11,  6, 13],\n",
              "       [10,  6,  8],\n",
              "       [17, 10, 15],\n",
              "       [32, 18, 34]])"
            ]
          },
          "metadata": {},
          "execution_count": 52
        }
      ]
    },
    {
      "cell_type": "markdown",
      "source": [
        "Cài đặt module\n",
        "Lấy danh sách tin mới nhất\n",
        "Lấy dữ liệu tin tức chi tiết từng bài\n"
      ],
      "metadata": {
        "id": "Je7acbe5MQBt"
      }
    },
    {
      "cell_type": "code",
      "source": [
        "#cài đặt module requests\n",
        "# pip install requests\n",
        "#cài đặt module Pillow\n",
        "# pip install Pillow"
      ],
      "metadata": {
        "id": "nf8_zHDxMaEz"
      },
      "execution_count": null,
      "outputs": []
    },
    {
      "cell_type": "markdown",
      "source": [
        "requests.mothod(get, post, put, delete...)\n",
        "\n",
        "requests.get(\"bỏ địa chỉ cần lấy vào đây\")"
      ],
      "metadata": {
        "id": "tPiNv_vQM8CZ"
      }
    },
    {
      "cell_type": "code",
      "source": [
        "import requests as rq"
      ],
      "metadata": {
        "id": "RsDIA7iPNWxZ"
      },
      "execution_count": null,
      "outputs": []
    },
    {
      "cell_type": "code",
      "source": [
        "r = rq.get(\"https://tuoitre.vn/tin-moi-nhat.htm\")\n",
        "print(r.content)"
      ],
      "metadata": {
        "colab": {
          "base_uri": "https://localhost:8080/"
        },
        "id": "MU7HPetANeoz",
        "outputId": "eab0ab15-9db0-4053-c1bc-83e413785e93"
      },
      "execution_count": null,
      "outputs": [
        {
          "output_type": "stream",
          "name": "stdout",
          "text": [
            "b'\\r\\n    <!DOCTYPE html>\\r\\n    <html id=\"mainHtml\" lang=\"vi\" xmlns=\"http://www.w3.org/1999/xhtml\">\\r\\n    <head prefix=\"og:&#32;http://ogp.me/ns#&#32;fb:&#32;http://ogp.me/ns/fb#&#32;website:&#32;http://ogp.me/ns/website#\"><link rel=\"dns-prefetch\" href=\"https://cdn.tuoitre.vn\" /><link rel=\"dns-prefetch\" href=\"https://cdn1.tuoitre.vn\" /><link rel=\"dns-prefetch\" href=\"https://statictuoitre.mediacdn.vn\" /><link rel=\"dns-prefetch\" href=\"https://adservice.google.com\" /><link rel=\"dns-prefetch\" href=\"https://adservice.google.com.vn\" /><link rel=\"dns-prefetch\" href=\"https://www.googletagservices.com\" /><link rel=\"dns-prefetch\" href=\"https://partner.googleadservices.com\" /><link rel=\"dns-prefetch\" href=\"https://js.aiservice.vn\" /><link rel=\"dns-prefetch\" href=\"https://media1.admicro.vn\" /><link rel=\"dns-prefetch\" href=\"https://lg1.logging.admicro.vn\" /><link rel=\"dns-prefetch\" href=\"https://static.contineljs.com\" /><link rel=\"dns-prefetch\" href=\"https://contineljs.com\" /><link rel=\"preconnect\" href=\"https://www.googletagmanager.com\" /><link rel=\"preconnect\" href=\"https://www.google-analytics.com\" /><link rel=\"preconnect\" href=\"https://securepubads.g.doubleclick.net\" /><link rel=\"preconnect\" href=\"https://tpc.googlesyndication.com\" /><link rel=\"preconnect\" href=\"https://media1.admicro.vn\" /><title>Tin m\\xe1\\xbb\\x9bi nh\\xe1\\xba\\xa5t - Tu\\xe1\\xbb\\x95i tr\\xe1\\xba\\xbb Online</title><meta name=\"keywords\" content=\"Tin m\\xe1\\xbb\\x9bi nh\\xe1\\xba\\xa5t - Tu\\xe1\\xbb\\x95i tr\\xe1\\xba\\xbb Online\" />\\r\\n<meta name=\"news_keywords\" content=\"Tin m\\xe1\\xbb\\x9bi nh\\xe1\\xba\\xa5t - Tu\\xe1\\xbb\\x95i tr\\xe1\\xba\\xbb Online\" />\\r\\n<meta name=\"description\" content=\"\" />\\r\\n<meta id=\"metaRobots\" name=\"robots\" content=\"index,follow,all\" /><meta name=\"viewport\" content=\"width=device-width,&#32;initial-scale=1.0,&#32;maximum-scale=1.0,&#32;user-scalable=1\" /><script type=\"text/javascript\">var _ADM_Channel = \\'%2Ftin-moi-nhat%2F\\';</script>\\r\\n<script type=\"text/javascript\">\\r\\n    var arfAsync = arfAsync || [];\\r\\n    var googletag = googletag || {};\\r\\n    googletag.cmd = googletag.cmd || [];\\r\\n\\r\\n    var is_iPadScreen = navigator.userAgent.match(/iPad/i);\\r\\n    var widthScreen;\\r\\n    (runinit = window.runinit || []).push(function () {\\r\\n        widthScreen = $(window).width();\\r\\n    });\\r\\n</script><script>window.dataLayer = window.dataLayer || [];dataLayer.push({\\'pageCategory\\': \\'/tin-moi-nhat/\\'});</script><script>window.dataLayer = window.dataLayer || [];dataLayer.push({  \\'articleId\\': \\'0\\',  \\'articleTitle\\': \\'\\',  \\'articleCategory\\': \\'Tin m\\\\u1edbi nh\\\\u1ea5t\\',  \\'articleAlowAds\\': \\'1\\',  \\'articleSponsor\\': \\'0\\',  \\'articleType\\': \\'\\',  \\'articleTags\\': \\'\\',  \\'articlePublishDate\\': \\'\\',  \\'articleThumbnail\\': \\'\\',  \\'articleShortUrl\\': \\'\\',  \\'articleFullUrl\\': \\'\\',  \\'articleLayout\\': \\'\\',  \\'pageType\\': \\'LatestNews\\'});</script>\\r\\n\\r\\n<meta name=\"author\" content=\"TUOI TRE ONLINE\" />\\r\\n<meta name=\"copyright\" content=\"Copyright \\xc2\\xa9 2023 by TUOITRE.VN\" />\\r\\n<meta name=\"RATING\" content=\"GENERAL\" />\\r\\n<meta name=\"GENERATOR\" content=\"TUOI TRE ONLINE\" />\\r\\n\\r\\n\\r\\n<link rel=\"stylesheet\" type=\"text/css\" href=\"https://statictuoitre.mediacdn.vn/web_css/font.2017.11.28.1.min.css\" />\\r\\n\\r\\n<script type=\"text/javascript\">\\r\\n    var appSettings = pageSettings = {\\r\\n        domain: \"https://tuoitre.vn\",\\r\\n        apiDomain: \"https://s5.tuoitre.vn\",\\r\\n        ajaxDomain: \"https://s5.tuoitre.vn\",\\r\\n        idDomain: \"https://id.tuoitre.vn\",\\r\\n        //urlJsId:\"https://static.mediacdn.vn/tuoitre/web_js/kcb.plugin.01082022v1.min.js\",\\r\\n        urlJsId: \"https://static.mediacdn.vn/tuoitre/web_js/corecommentv2.plugin.27122022v1.min.js\",\\r\\n        \\r\\n        \\r\\n        sharefbApiDomain: \"https://sharefb.cnnd.vn\",\\r\\n        videoplayer: \"https://vcplayer.mediacdn.vn\",\\r\\n        imageStorage:\"https://cdn.tuoitre.vn\",\\r\\n        videoImageDomain: \"http://video-thumbs.tuoitre.vn\",\\r\\n        domain_TVO: \"https://video.tuoitre.vn\",\\r\\n        apiUtils: \"https://utils3.cnnd.vn\",\\r\\n        isLoginv2: 2,\\r\\n        SSOapiurl: \\'https://sso.tuoitre.vn\\',\\r\\n        allowAds: true,\\r\\n        playerSecureToken: \"L3NlY3VyZS92ZXJpZnkveHZxcmNhZGhlYmZpMHY1dm5zM2Ywd3d3a3Y2MDdkMDgvMTAwMjI1L2V5SmhiR2NpT2lKSVV6STFOaUlzSW5SNWNDSTZJa3BYVkNKOS5leUp5WldZaU9pSWlMQ0poY0hCclpYa2lPaUo0ZG5GeVkyRmthR1ZpWm1rd2RqVjJibk16WmpCM2QzZHJkall3TjJRd09DSXNJbkJzWVhsbGNpSTZJakV3TURJeU5TSXNJbWxuYm05eVpVVjRjR2x5WVhScGIyNGlPblJ5ZFdVc0ltbGhkQ0k2TVRVek9UVTNNVEE1TVN3aVpYaHdJam94TlRNNU5UY3hNakV4ZlEuVVZUWUxLNkROcjF1TG9vMDYzNVJ2TXNpeU1wUFJvYVJCa0tva3VhWC03OA==\"\\r\\n        \\r\\n        \\r\\n    };\\r\\n</script>\\r\\n\\r\\n\\r\\n\\r\\n<script type=\"text/javascript\">\\r\\n    function getCookie(n) { var t, i; return document.cookie.length > 0 ? (t = document.cookie.indexOf(n + \"=\"), t != -1 ? (t = t + n.length + 1, i = document.cookie.indexOf(\";\", t), i == -1 && (i = document.cookie.length), unescape(document.cookie.substring(t, i))) : \"\") : \"\" } function loadCss(n) { var i = document.getElementsByTagName(\"head\")[0], t = document.createElement(\"link\"); t.rel = \"stylesheet\"; t.type = \"text/css\"; t.href = n; t.media = \"all\"; i.appendChild(t) } function loadJsAsync(n, t, i) { var r = document.createElement(\"script\"), f, e, u, o; if (r.type = \"text/javascript\", r.async = !0, typeof t == \"function\" && (r.onreadystatechange = r.onload = function () { t() }), r.src = n, typeof i != \"undefined\" && r.setAttribute(\"onerror\", i), r) { for (f = document.getElementsByTagName(\"script\"), e = !1, u = 0; u < f.length; u++)f[u].src == n && (e = !0); e || (o = document.getElementsByTagName(\"head\")[0], o.appendChild(r)) } } function adsCore() { pageSettings.allowAds && (loadCss(\"https://quangcao.tuoitre.vn/static/js/cms_ads.css\"), loadJsAsync(\"https://quangcao.tuoitre.vn/static/js/cms_ads.js\"), loadJsAsync(\"https://static.amcdn.vn/tka/cdn.js\"), loadJsAsync(\"https://media1.admicro.vn/cms/Arf.min.js\", \"\", callbackEr = \"window.arferrorload = true;\"), (window.location.host == \"tuoitre.vn\" || window.location.host == \"b1.tuoitre.vn\" || window.location.host == \"b2.tuoitre.vn\") && function (n, t, i, r, u) { n[r] = n[r] || []; n[r].push({ \"gtm.start\": (new Date).getTime(), event: \"gtm.js\" }); var e = t.getElementsByTagName(i)[0], f = t.createElement(i), o = r != \"dataLayer\" ? \"&l=\" + r : \"\"; f.async = !0; f.src = \"https://www.googletagmanager.com/gtm.js?id=\" + u + o; e.parentNode.insertBefore(f, e) }(window, document, \"script\", \"dataLayer\", \"GTM-KG7C9D4\")) } var ttostartloadads = getCookie(\"_ck_user\"), ttocheckuserstar, ttocheckuserlogin; \"true\" == ttostartloadads || pageSettings.allowAds && adsCore(); ttocheckuserstar = getCookie(\"_ck_isTTSao\"); typeof ttocheckuserstar != \"undefined\" && ttocheckuserstar != null && ttocheckuserstar == \"true\" ? dataLayer.push({ isTTSao: \"1\" }) : dataLayer.push({ isTTSao: \"0\" }); ttocheckuserlogin = getCookie(\"_ck_isLogin\"); typeof ttocheckuserlogin != \"undefined\" && ttocheckuserlogin != null && ttocheckuserlogin == \"true\" ? dataLayer.push({ isLogin: \"1\" }) : dataLayer.push({ isLogin: \"0\" });\\r\\n</script>\\r\\n<!-- adm tracking -->\\r\\n<script async type=\"text/javascript\" src=\"//media1.admicro.vn/core/adm_tracking.js\"></script>\\r\\n\\r\\n<!-- Google Analytics -->\\r\\n<script>(function (w, d, s, l, i) {\\r\\n        w[l] = w[l] || []; w[l].push({\\r\\n            \\'gtm.start\\':\\r\\n                new Date().getTime(), event: \\'gtm.js\\'\\r\\n        }); var f = d.getElementsByTagName(s)[0],\\r\\n            j = d.createElement(s), dl = l != \\'dataLayer\\' ? \\'&l=\\' + l : \\'\\'; j.async = true; j.src =\\r\\n                \\'https://www.googletagmanager.com/gtm.js?id=\\' + i + dl; f.parentNode.insertBefore(j, f);\\r\\n    })(window, document, \\'script\\', \\'dataLayer\\', \\'GTM-KFJP3N\\');</script>\\r\\n\\r\\n\\r\\n\\r\\n<meta name=\"google-site-verification\" content=\"y8PMKPH-UzpVdjHXzQjJ4oUEPfqLSWZl_EyOz5P02vc\" />\\r\\n        <!-- Open Graph data -->\\r\\n        \\r\\n        <!--end Open Graph data -->\\r\\n        <meta property=\"fb:app_id\" content=\"769128874330419\" /><meta name=\"distribution\" content=\"Global\" /><meta property=\"fb:pages\" content=\"214610578564918\" /><meta property=\"fb:pages\" content=\"131539760743\" /><meta name=\"msvalidate.01\" content=\"E52E0AECFFC89B1959FC75D368D4B11E\" /><link rel=\"shortcut&#32;icon\" href=\"https://statictuoitre.mediacdn.vn/web_images/favicon.ico\" type=\"image/x-icon\" /><meta http-equiv=\"Content-Type\" content=\"text/html;charset=utf-8\" /><meta http-equiv=\"Content-Language\" content=\"vi\" /><meta name=\"Language\" content=\"vi\" /><meta http-equiv=\"REFRESH\" content=\"1800\" /><meta name=\"REVISIT-AFTER\" content=\"1&#32;DAYS\" />\\r\\n    \\r\\n\\r\\n<link href=\"https://static.mediacdn.vn/tuoitre/web_css/tuoitrenew.list.10012023v1.min.css\" rel=\"stylesheet\" />\\r\\n\\r\\n<link rel=\"canonical\" href=\"https://tuoitre.vn/tin-moi-nhat.htm\" /></head>\\r\\n    <body class=\"  pagewaiting\">\\r\\n        <script type=\"text/javascript\">var ttostarteamplate = \"\"; if (document.cookie.length > 0) { var t = document.cookie.indexOf(\"_ck_user=\"); if (-1 != t) { t = t + 8 + 1; var e = document.cookie.indexOf(\";\", t); -1 == e && (e = document.cookie.length), ttostarteamplate = unescape(document.cookie.substring(t, e)) } else ttostarteamplate = \"\" } \"true\" == ttostarteamplate && document.body.classList.add(\"blue-style\");</script>\\r\\n        <!-- Google Tag Manager (noscript) -->\\r\\n        <noscript>\\r\\n            <iframe src=\"https://www.googletagmanager.com/ns.html?id=GTM-KFJP3N\" height=\"0\" width=\"0\" style=\"display: none; visibility: hidden\"></iframe>\\r\\n        </noscript>\\r\\n        <!-- End Google Tag Manager (noscript) -->\\r\\n        \\r\\n            <div id=\"admWrapsite\">\\r\\n                <div class=\"wapper\">\\r\\n                    \\r\\n\\r\\n<div id=\"LeaderBoardTop\">\\r\\n    \\r\\n<div class=\"clearfix \" data-atc=\"atc-nonstar\">\\r\\n    <zone id=\"jmg15j90\"></zone>\\r\\n    <script>\\r\\n        if (is_iPadScreen != null && widthScreen < 1024) { } else\\r\\n            arfAsync.push(\"jmg15j90\");\\r\\n    </script>\\r\\n</div>\\r\\n\\r\\n</div>\\r\\n<div class=\"header\">\\r\\n    <div class=\"header__sc\">\\r\\n        <div class=\"header__top\">\\r\\n            <div class=\"container\">\\r\\n                <div class=\"header__top-flex\">\\r\\n                    <div class=\"header__top-left\">\\r\\n                        <a href=\"/\" title=\"Tin t\\xe1\\xbb\\xa9c, tin n\\xc3\\xb3ng, \\xc4\\x91\\xe1\\xbb\\x8dc b\\xc3\\xa1o \\xc4\\x91i\\xe1\\xbb\\x87n t\\xe1\\xbb\\xad - Tu\\xe1\\xbb\\x95i Tr\\xe1\\xba\\xbb Online\" class=\"header__logo\"><img alt=\"Tin t\\xe1\\xbb\\xa9c, tin n\\xc3\\xb3ng, \\xc4\\x91\\xe1\\xbb\\x8dc b\\xc3\\xa1o \\xc4\\x91i\\xe1\\xbb\\x87n t\\xe1\\xbb\\xad - Tu\\xe1\\xbb\\x95i Tr\\xe1\\xba\\xbb Online\" src=\"https://static.mediacdn.vn/tuoitre/web_images/logottonew.png\" /></a>\\r\\n                        \\r\\n                    </div>\\r\\n                    <div class=\"header__top-right\">\\r\\n                        <div class=\"header__cate\">\\r\\n                            <ul>\\r\\n                                <li>\\r\\n                                    <a href=\"https://podcast.tuoitre.vn/\" target=\"_blank\" rel=\"nofollow\" title=\"PODCAST TU\\xe1\\xbb\\x94I TR\\xe1\\xba\\xba\" class=\"header__clink\">\\r\\n                                        <span class=\"icon\">\\r\\n                                            <svg width=\"18\" height=\"18\" viewBox=\"0 0 18 18\" fill=\"none\" xmlns=\"http://www.w3.org/2000/svg\">\\r\\n                                                <path d=\"M13.0909 7.3125H12.6818C12.4558 7.3125 12.2727 7.50129 12.2727 7.73438V9C12.2727 10.9723 10.6238 12.5548 8.67298 12.3587C6.9727 12.1875 5.72727 10.6113 5.72727 8.84971V7.73438C5.72727 7.50129 5.5442 7.3125 5.31818 7.3125H4.90909C4.68307 7.3125 4.5 7.50129 4.5 7.73438V8.79328C4.5 11.1568 6.1356 13.2638 8.38636 13.5839V14.4844H6.95455C6.72852 14.4844 6.54545 14.6732 6.54545 14.9062V15.3281C6.54545 15.5612 6.72852 15.75 6.95455 15.75H11.0455C11.2715 15.75 11.4545 15.5612 11.4545 15.3281V14.9062C11.4545 14.6732 11.2715 14.4844 11.0455 14.4844H9.61364V13.594C11.8051 13.2839 13.5 11.344 13.5 9V7.73438C13.5 7.50129 13.3169 7.3125 13.0909 7.3125ZM9 11.5312C10.3556 11.5312 11.4545 10.398 11.4545 9H9.27281C9.12222 9 9 8.90561 9 8.78906V8.36719C9 8.25064 9.12222 8.15625 9.27281 8.15625H11.4545V7.3125H9.27281C9.12222 7.3125 9 7.21811 9 7.10156V6.67969C9 6.56314 9.12222 6.46875 9.27281 6.46875H11.4545V5.625H9.27281C9.12222 5.625 9 5.53061 9 5.41406V4.99219C9 4.87564 9.12222 4.78125 9.27281 4.78125H11.4545C11.4545 3.38326 10.3556 2.25 9 2.25C7.64438 2.25 6.54545 3.38326 6.54545 4.78125V9C6.54545 10.398 7.64438 11.5312 9 11.5312Z\" fill=\"#FF7772\" />\\r\\n                                            </svg>\\r\\n                                        </span>\\r\\n                                        Podcast\\r\\n                                    </a>\\r\\n                                </li>\\r\\n                                <li>\\r\\n                                    <a href=\"https://www.youtube.com/channel/UC47WI-kZXFf0H_f7pvaNCEQ\" target=\"_blank\" rel=\"nofollow\" title=\"YOUTUBE B\\xc3\\x81O TU\\xe1\\xbb\\x94I TR\\xe1\\xba\\xba\" class=\"header__clink\">\\r\\n                                        <span class=\"icon\">\\r\\n                                            <svg width=\"18\" height=\"18\" viewBox=\"0 0 18 18\" fill=\"none\" xmlns=\"http://www.w3.org/2000/svg\">\\r\\n                                                <path fill-rule=\"evenodd\" clip-rule=\"evenodd\" d=\"M3.80103 5.78651C3.67089 6.1225 3.59951 6.48778 3.59951 6.86972V11.4001C3.59951 13.057 4.94266 14.4001 6.59951 14.4001H11.6699C12.052 14.4001 12.4174 14.3287 12.7535 14.1985C12.0218 15.1425 10.8769 15.7501 9.59014 15.7501H6.24969C4.04055 15.7501 2.24969 13.9592 2.24969 11.7501V8.94967C2.24969 7.663 2.8572 6.51822 3.80103 5.78651Z\" fill=\"#FF7772\" />\\r\\n                                                <path fill-rule=\"evenodd\" clip-rule=\"evenodd\" d=\"M8.6795 2.24966C6.47037 2.24966 4.6795 4.04052 4.6795 6.24966V9.3201C4.6795 11.5292 6.47037 13.3201 8.6795 13.3201H11.7499C13.9591 13.3201 15.7499 11.5292 15.7499 9.3201V6.24966C15.7499 4.04052 13.9591 2.24966 11.7499 2.24966H8.6795ZM12.1051 8.15374C12.2851 8.04981 12.2851 7.78999 12.1051 7.68606L9.27002 6.04921C9.09002 5.94528 8.86501 6.07519 8.86501 6.28305L8.86501 9.55675C8.86501 9.76461 9.09002 9.89451 9.27002 9.79059L12.1051 8.15374Z\" fill=\"#FF7772\" />\\r\\n                                            </svg>\\r\\n                                        </span>\\r\\n                                        YouTube\\r\\n                                    </a>\\r\\n                                </li>\\r\\n                                <li>\\r\\n                                    <a href=\"https://tuoitre.vn/can-biet.htm\" title=\"C\\xe1\\xba\\xa6N BI\\xe1\\xba\\xbeT\" class=\"header__clink\">\\r\\n                                        <span class=\"icon\">\\r\\n                                            <svg width=\"18\" height=\"18\" viewBox=\"0 0 18 18\" fill=\"none\" xmlns=\"http://www.w3.org/2000/svg\">\\r\\n                                                <path d=\"M8.99662 14.2486C8.84917 14.2486 8.70171 14.2518 8.55425 14.2486C8.10867 14.2356 7.78812 13.9218 7.78491 13.4753C7.78491 13.2941 7.75606 13.1712 7.59257 13.0579C7.40024 12.9285 7.33292 12.7085 7.33292 12.4723C7.33292 12.1973 7.35536 11.9223 7.32651 11.6505C7.29446 11.3108 7.24317 10.971 7.15982 10.6443C7.07647 10.3142 6.86491 10.0489 6.60846 9.82567C5.8872 9.19476 5.44804 8.40206 5.29737 7.4476C5.03772 5.83956 5.86476 4.18947 7.30407 3.43883C7.85864 3.14764 8.44847 2.9794 9.07676 3.00204C10.6764 3.06028 12.1221 4.16035 12.5676 5.71338C13.026 7.302 12.6125 8.67384 11.4136 9.79979C11.1796 10.0198 10.9713 10.256 10.8623 10.5634C10.8078 10.7219 10.7789 10.8901 10.7469 11.0552C10.6539 11.5275 10.6603 12.0064 10.6635 12.4852C10.6635 12.7797 10.5321 12.9997 10.2853 13.1582C10.2532 13.1776 10.2276 13.2294 10.2212 13.2682C10.2083 13.375 10.218 13.485 10.2019 13.595C10.1538 13.9541 9.85893 14.2259 9.50311 14.2453C9.33641 14.255 9.16652 14.2453 8.99983 14.2453C8.99662 14.2453 8.99662 14.2453 8.99662 14.2486ZM6.43856 6.47695C6.43856 6.51901 6.43536 6.5449 6.43856 6.57402C6.45459 6.71638 6.55717 6.81668 6.6918 6.81991C6.82003 6.82315 6.92261 6.72932 6.94825 6.59343C6.95466 6.55784 6.95466 6.52225 6.95466 6.48342C7.01236 5.61308 7.44191 5.00157 8.23049 4.6489C8.46129 4.54537 8.71133 4.50331 8.96457 4.49684C9.1569 4.49037 9.27551 4.36418 9.24986 4.20241C9.22743 4.05034 9.11202 3.97269 8.91969 3.97916C7.56693 4.02446 6.48344 5.11805 6.43856 6.47695ZM7.84582 11.9708C7.84582 12.152 7.83941 12.3299 7.84582 12.5047C7.85223 12.6405 7.9516 12.7376 8.08624 12.7408C8.69209 12.7441 9.30115 12.7441 9.90701 12.7408C10.0288 12.7408 10.125 12.6664 10.1346 12.5499C10.1538 12.3558 10.141 12.1617 10.141 11.974C9.37488 11.9708 8.61836 11.9708 7.84582 11.9708ZM9.69865 13.2715C9.22422 13.2715 8.76582 13.2715 8.2978 13.2715C8.2978 13.3459 8.2946 13.4138 8.2978 13.4818C8.30742 13.6241 8.40038 13.7277 8.54143 13.7277C8.84596 13.7341 9.14729 13.7341 9.45182 13.7277C9.59286 13.7244 9.68582 13.6241 9.69544 13.4785C9.70185 13.4138 9.69865 13.3459 9.69865 13.2715Z\" fill=\"#FF7772\" />\\r\\n                                            </svg>\\r\\n                                        </span>\\r\\n                                        C\\xe1\\xba\\xa7n bi\\xe1\\xba\\xbft\\r\\n                                    </a>\\r\\n                                </li>\\r\\n                                \\r\\n                                <li>\\r\\n                                    <a href=\"https://raovat.tuoitre.vn\" target=\"_blank\" rel=\"nofollow\" title=\"RAO V\\xe1\\xba\\xb6T\" class=\"header__clink\">\\r\\n                                        <span class=\"icon\">\\r\\n                                            <svg width=\"18\" height=\"18\" viewBox=\"0 0 18 18\" fill=\"none\" xmlns=\"http://www.w3.org/2000/svg\">\\r\\n                                                <path d=\"M15 6.08317C15 6.05337 14.9706 6.03251 14.9442 6.04443C13.1301 6.73582 11.319 7.42722 9.50195 8.11265C9.39921 8.15139 9.36986 8.19907 9.36986 8.30636C9.37279 10.4938 9.37279 12.6842 9.37279 14.8716V14.958C9.37279 14.9879 9.40215 15.0087 9.42857 14.9968C11.2838 14.2905 13.1272 13.5902 14.9706 12.8868C14.9883 12.8809 15 12.863 15 12.8451C15 10.5921 15 8.33616 15 6.08317ZM12.0558 12.8779C12.0294 12.8868 12 12.869 12 12.8392C12 12.6097 12.0029 12.3951 11.9971 12.1776C11.9941 12.1031 12.0235 12.0733 12.0881 12.0524C12.1937 12.0166 12.2994 11.9719 12.4051 11.9332C12.7485 11.8021 13.089 11.6739 13.4442 11.5398C13.4706 11.5309 13.5 11.5488 13.5 11.5786C13.5 11.817 13.5029 12.0464 13.4971 12.2759C13.4971 12.3027 13.4589 12.3415 13.4325 12.3534C13.2916 12.413 13.1507 12.4637 13.0068 12.5173C12.6928 12.6365 12.3816 12.7557 12.0558 12.8779Z\" fill=\"#FF7772\" />\\r\\n                                                <path d=\"M8.57142 14.9936C8.59784 15.0026 8.62426 14.9817 8.62426 14.9549V14.8834C8.62426 12.687 8.62426 10.4906 8.6272 8.29425C8.6272 8.19292 8.59784 8.1512 8.50685 8.11842C7.96966 7.91875 7.43248 7.71312 6.8953 7.50749C6.86594 7.49557 6.83952 7.48663 6.80724 7.47769C6.78082 7.46875 6.7544 7.48961 6.7544 7.51643V9.29856C6.7544 9.32836 6.72504 9.34922 6.69863 9.3373C6.60763 9.30154 6.5225 9.27174 6.44031 9.23896C6.07925 9.10187 5.71819 8.9618 5.3542 8.83068C5.27494 8.80087 5.24853 8.76511 5.24853 8.67869C5.25146 8.11246 5.25146 7.54325 5.25146 6.97702C5.25146 6.91742 5.24559 6.87868 5.17808 6.85186C4.47357 6.58662 3.76907 6.31543 3.06457 6.04722C3.06164 6.04424 3.05577 6.04424 3.05283 6.04424C3.02641 6.03828 3.00293 6.05914 3.00293 6.08596V6.14854C3.00293 8.35385 3.00293 10.5592 2.99999 12.7615C2.99999 12.8539 3.02935 12.8926 3.11154 12.9224C4.91682 13.6049 6.71917 14.2933 8.52152 14.9787C8.5362 14.9817 8.55381 14.9877 8.57142 14.9936Z\" fill=\"#FF7772\" />\\r\\n                                                <path d=\"M3.10269 5.2217C3.06746 5.2366 3.06746 5.28726 3.10269 5.29918C3.66629 5.51376 4.20347 5.71939 4.74359 5.92502C4.91091 5.9876 5.08116 6.10382 5.24848 6.09786C5.41873 6.0919 5.58605 5.96674 5.75337 5.89223C6.3023 5.64488 6.84828 5.39455 7.39721 5.14422C7.46472 5.11144 7.52343 5.10846 7.59388 5.14124C8.02539 5.33197 8.46277 5.51674 8.89427 5.70448C8.90015 5.70746 8.90308 5.70746 8.90895 5.71045C8.94124 5.72535 8.94124 5.77303 8.90895 5.78793C8.225 6.07402 7.54985 6.35714 6.85416 6.64919C6.81893 6.66409 6.81893 6.71476 6.85416 6.72668C6.9158 6.75052 6.96864 6.77138 7.02148 6.79224C7.65259 7.03363 8.28371 7.27502 8.91482 7.51343C8.96179 7.53132 9.02343 7.5343 9.06746 7.51642C11.0136 6.78032 12.954 6.04124 14.8972 5.29918C14.9324 5.28726 14.9324 5.2366 14.9001 5.2217C14.8943 5.21872 14.8884 5.21574 14.8825 5.21276C12.951 4.47964 11.0225 3.74653 9.09095 3.01341C9.04105 2.99553 8.95885 2.99553 8.90895 3.01341C6.97744 3.74355 5.04887 4.47964 3.1203 5.21574C3.11443 5.21574 3.10856 5.21872 3.10269 5.2217Z\" fill=\"#FF7772\" />\\r\\n                                            </svg>\\r\\n                                        </span>\\r\\n                                        Rao v\\xe1\\xba\\xb7t\\r\\n                                    </a>\\r\\n                                </li>\\r\\n                            </ul>\\r\\n                        </div>\\r\\n\\r\\n                        <div class=\"header__action\">\\r\\n                            <div class=\"box-search frm-search\">\\r\\n                                <input onfocus=\"this.removeAttribute(\\'readonly\\');\" class=\"input-search txt-search\" placeholder=\"Nh\\xe1\\xba\\xadp n\\xe1\\xbb\\x99i dung c\\xe1\\xba\\xa7n t\\xc3\\xacm\" />\\r\\n                                <a href=\"javascript:;\" rel=\"nofollow\" class=\"header__search\">\\r\\n                                    <svg width=\"24\" height=\"24\" viewBox=\"0 0 24 24\" fill=\"none\" xmlns=\"http://www.w3.org/2000/svg\">\\r\\n                                        <g clip-path=\"url(#clip0_5065_43138)\">\\r\\n                                            <path d=\"M15.4996 14.0006H14.7096L14.4296 13.7306C15.6296 12.3306 16.2496 10.4206 15.9096 8.39063C15.4396 5.61063 13.1196 3.39063 10.3196 3.05063C6.08965 2.53063 2.52965 6.09063 3.04965 10.3206C3.38965 13.1206 5.60965 15.4406 8.38965 15.9106C10.4196 16.2506 12.3296 15.6306 13.7296 14.4306L13.9996 14.7106V15.5006L18.2496 19.7506C18.6596 20.1606 19.3296 20.1606 19.7396 19.7506C20.1496 19.3406 20.1496 18.6706 19.7396 18.2606L15.4996 14.0006ZM9.49965 14.0006C7.00965 14.0006 4.99965 11.9906 4.99965 9.50063C4.99965 7.01063 7.00965 5.00063 9.49965 5.00063C11.9896 5.00063 13.9996 7.01063 13.9996 9.50063C13.9996 11.9906 11.9896 14.0006 9.49965 14.0006Z\" fill=\"white\" />\\r\\n                                        </g>\\r\\n                                        <defs>\\r\\n                                            <clipPath id=\"clip0_5065_43138\">\\r\\n                                                <rect width=\"24\" height=\"24\" fill=\"white\" />\\r\\n                                            </clipPath>\\r\\n                                        </defs>\\r\\n                                    </svg>\\r\\n\\r\\n                                </a>\\r\\n                                <a href=\"javascript:;\" rel=\"nofollow\" class=\"header__search btn-search\">\\r\\n                                    <svg width=\"24\" height=\"24\" viewBox=\"0 0 24 24\" fill=\"none\" xmlns=\"http://www.w3.org/2000/svg\">\\r\\n                                        <g clip-path=\"url(#clip0_5065_431381)\">\\r\\n                                            <path d=\"M15.4996 14.0006H14.7096L14.4296 13.7306C15.6296 12.3306 16.2496 10.4206 15.9096 8.39063C15.4396 5.61063 13.1196 3.39063 10.3196 3.05063C6.08965 2.53063 2.52965 6.09063 3.04965 10.3206C3.38965 13.1206 5.60965 15.4406 8.38965 15.9106C10.4196 16.2506 12.3296 15.6306 13.7296 14.4306L13.9996 14.7106V15.5006L18.2496 19.7506C18.6596 20.1606 19.3296 20.1606 19.7396 19.7506C20.1496 19.3406 20.1496 18.6706 19.7396 18.2606L15.4996 14.0006ZM9.49965 14.0006C7.00965 14.0006 4.99965 11.9906 4.99965 9.50063C4.99965 7.01063 7.00965 5.00063 9.49965 5.00063C11.9896 5.00063 13.9996 7.01063 13.9996 9.50063C13.9996 11.9906 11.9896 14.0006 9.49965 14.0006Z\" fill=\"white\" />\\r\\n                                        </g>\\r\\n                                        <defs>\\r\\n                                            <clipPath id=\"clip0_5065_431381\">\\r\\n                                                <rect width=\"24\" height=\"24\" fill=\"white\" />\\r\\n                                            </clipPath>\\r\\n                                        </defs>\\r\\n                                    </svg>\\r\\n\\r\\n                                </a>\\r\\n                            </div>\\r\\n                            \\r\\n<div class=\"loginform\">\\r\\n    <div class=\"h_logout\" id=\"head_login\">\\r\\n        <a href=\"javascript:;\" rel=\"nofollow\" class=\"header__user\" data-atc=\"login\">\\r\\n            <svg width=\"24\" height=\"24\" viewBox=\"0 0 32 32\" fill=\"none\" xmlns=\"http://www.w3.org/2000/svg\">\\r\\n                <ellipse cx=\"16\" cy=\"13.3333\" rx=\"4\" ry=\"4\" fill=\"white\" stroke=\"white\" stroke-width=\"2\" stroke-linecap=\"round\" />\\r\\n                <circle cx=\"16\" cy=\"16\" r=\"12\" stroke=\"white\" stroke-width=\"2\" />\\r\\n                <path d=\"M23.7074 25.1019C23.8769 25.0088 23.957 24.8073 23.8854 24.6277C23.3712 23.3393 22.3808 22.2046 21.0419 21.3776C19.5955 20.4843 17.8232 20 16 20C14.1768 20 12.4046 20.4842 10.9581 21.3776C9.61925 22.2046 8.6288 23.3393 8.11464 24.6277C8.04298 24.8073 8.12314 25.0088 8.29264 25.1019C13.0929 27.7373 18.9071 27.7373 23.7074 25.1019Z\" fill=\"white\" />\\r\\n            </svg>\\r\\n        </a>\\r\\n    </div>\\r\\n    <div class=\"h_login\" id=\"head_islogin\">\\r\\n        <a class=\"h_name\" href=\"https://sso.tuoitre.vn\" target=\"_blank\" rel=\"nofollow\" title=\"Th\\xc3\\xb4ng tin t\\xc3\\xa0i kho\\xe1\\xba\\xa3n\">\\r\\n            <img src=\"https://static.mediacdn.vn/tuoitre/web_images/userdeffault.jpg\" alt=\"th\\xc3\\xb4ng tin t\\xc3\\xa0i kho\\xe1\\xba\\xa3n\" data-uinfo=\"avatar_path\" />\\r\\n            <span class=\"txt\"></span>\\r\\n        </a>\\r\\n        <div class=\"logininfo\">\\r\\n            <div class=\"u_name\">Xin ch\\xc3\\xa0o, <a href=\"javascript:;\" rel=\"nofollow\" title=\"\" data-uinfo=\"name\"></a></div>\\r\\n            <ul>\\r\\n                <li>\\r\\n                    <a href=\"https://sso.tuoitre.vn\" target=\"_blank\" rel=\"nofollow\" title=\"C\\xc3\\xa0i \\xc4\\x91\\xe1\\xba\\xb7t t\\xc3\\xa0i kho\\xe1\\xba\\xa3n\">C\\xc3\\xa0i \\xc4\\x91\\xe1\\xba\\xb7t t\\xc3\\xa0i kho\\xe1\\xba\\xa3n</a>\\r\\n                </li>\\r\\n                <li>\\r\\n                    <a href=\"https://sso.tuoitre.vn/bookmarked-articles\" target=\"_blank\" rel=\"nofollow\" title=\"Tin \\xc4\\x91\\xc3\\xa3 l\\xc6\\xb0u\">Tin \\xc4\\x91\\xc3\\xa3 l\\xc6\\xb0u</a>\\r\\n                </li>\\r\\n                <li>\\r\\n                    <a href=\"https://sso.tuoitre.vn/commented-articles\" target=\"_blank\" rel=\"nofollow\" title=\"B\\xc3\\xacnh lu\\xe1\\xba\\xadn c\\xe1\\xbb\\xa7a b\\xe1\\xba\\xa1n\">B\\xc3\\xacnh lu\\xe1\\xba\\xadn c\\xe1\\xbb\\xa7a b\\xe1\\xba\\xa1n</a>\\r\\n                </li>\\r\\n                <li>\\r\\n                    <a href=\"https://sso.tuoitre.vn/transactions\" target=\"_blank\" rel=\"nofollow\" title=\"L\\xe1\\xbb\\x8bch s\\xe1\\xbb\\xad giao d\\xe1\\xbb\\x8bch\">L\\xe1\\xbb\\x8bch s\\xe1\\xbb\\xad giao d\\xe1\\xbb\\x8bch</a>\\r\\n                </li>\\r\\n                <li data-atc=\"atc-star\">\\r\\n                    <a href=\"/danh-cho-ban.htm\" title=\"D\\xc3\\xa0nh cho b\\xe1\\xba\\xa1n\">D\\xc3\\xa0nh cho b\\xe1\\xba\\xa1n</a>\\r\\n                </li>\\r\\n                <li data-atc=\"atc-startemp\" class=\"templatestarbtn\">\\r\\n                    <a href=\"javascript:;\" rel=\"nofollow\" title=\"V\\xc3\\xa0o Tu\\xe1\\xbb\\x95i Tr\\xe1\\xba\\xbb Sao\" id=\"btnStarTemp1\">V\\xc3\\xa0o Tu\\xe1\\xbb\\x95i Tr\\xe1\\xba\\xbb Sao</a>\\r\\n                </li>\\r\\n                <li data-atc=\"logouttemplatestar\" class=\"templatestarbtn\">\\r\\n                    <a href=\"javascript:;\" rel=\"nofollow\" title=\"Tho\\xc3\\xa1t Tu\\xe1\\xbb\\x95i Tr\\xe1\\xba\\xbb Sao\">Tho\\xc3\\xa1t Tu\\xe1\\xbb\\x95i Tr\\xe1\\xba\\xbb Sao</a>\\r\\n                </li>\\r\\n                <li>\\r\\n                    <a href=\"javascript:;\" rel=\"nofollow\" id=\"head_logout\" title=\"\\xc4\\x90\\xc4\\x83ng xu\\xe1\\xba\\xa5t\" data-atc=\"logout\">\\xc4\\x90\\xc4\\x83ng xu\\xe1\\xba\\xa5t</a>\\r\\n                </li>\\r\\n            </ul>\\r\\n        </div>\\r\\n    </div>\\r\\n</div>\\r\\n\\r\\n                            \\r\\n                            <a href=\"/dang-ky-tuoi-tre-sao.htm\"  data-view=\"hidebylogin\" class=\"btnstarregister templatestarbtn\">\\xc4\\x90\\xc4\\x83ng k\\xc3\\xbd Tu\\xe1\\xbb\\x95i Tr\\xe1\\xba\\xbb Sao</a>\\r\\n                            <a href=\"javascript:void(0)\" rel=\"nofollow\" data-atc=\"atc-startemp\" title=\"V\\xc3\\xa0o Tu\\xe1\\xbb\\x95i Tr\\xe1\\xba\\xbb Sao\" class=\"btnstarregister templatestarbtn\" id=\"btnStarTemp\">V\\xc3\\xa0o trang Tu\\xe1\\xbb\\x95i Tr\\xe1\\xba\\xbb Sao</a>\\r\\n                            <a  data-view=\"hidebylogin\" class=\"introduce_tto\" href=\"javascript:;\" rel=\"nofollow\">\\r\\n                                <svg width=\"18\" height=\"19\" viewBox=\"0 0 18 19\" fill=\"none\" xmlns=\"http://www.w3.org/2000/svg\">\\r\\n                                    <circle cx=\"8.5\" cy=\"8.5\" r=\"7.5\" fill=\"white\" />\\r\\n                                    <path d=\"M15.8028 18.048C15.3611 17.8664 14.9462 17.6938 14.5284 17.5211C13.633 17.1519 12.7376 16.7828 11.8422 16.4077C11.7467 16.366 11.6631 16.36 11.5616 16.4017C6.6936 18.2743 1.28836 15.3568 0.189996 10.263C-0.791963 5.70517 2.13003 1.18303 6.69957 0.194651C11.4183 -0.826478 16.0625 2.27561 16.8803 7.02401C17.2892 9.40565 16.7579 11.5848 15.3342 13.5408C15.2596 13.642 15.2387 13.7343 15.2537 13.8563C15.4297 15.1722 15.6029 16.491 15.779 17.8099C15.7879 17.8783 15.7939 17.9528 15.8028 18.048ZM9.37086 11.6087C9.37981 11.5789 9.38578 11.564 9.38578 11.5491C9.39175 11.4539 9.40369 11.3616 9.39772 11.2663C9.3619 10.6947 9.60665 10.2928 10.0842 9.97724C10.5647 9.65572 11.0363 9.30443 11.4601 8.91146C12.7913 7.673 12.9913 5.29136 11.29 3.92192C10.517 3.29972 9.62455 3.06453 8.65155 3.07048C6.64286 3.07941 5.0192 4.38932 4.6103 6.34524C4.56553 6.55661 4.54165 6.77096 4.50882 6.98828C5.15053 7.10141 5.76537 7.21156 6.38917 7.32469C6.40111 7.25622 6.41006 7.20263 6.422 7.15202C6.50258 6.83645 6.55929 6.51195 6.66973 6.20532C6.9861 5.32113 7.61885 4.88053 8.51426 4.88053C9.69619 4.88053 10.3976 5.83319 10.1618 6.97637C10.0484 7.53606 9.70216 7.9588 9.2843 8.32498C8.98583 8.58696 8.67244 8.83108 8.36801 9.08413C8.01283 9.37885 7.73824 9.72419 7.72332 10.2095C7.70839 10.6649 7.71735 11.1204 7.71735 11.5789C7.71735 11.5878 7.72929 11.5938 7.73824 11.6087C8.2725 11.6087 8.81869 11.6087 9.37086 11.6087ZM9.72305 12.8441C9.04254 12.8441 8.37696 12.8441 7.71436 12.8441C7.71436 13.5616 7.71436 14.2672 7.71436 14.9698C8.39188 14.9698 9.05448 14.9698 9.72305 14.9698C9.72305 14.2553 9.72305 13.5527 9.72305 12.8441Z\" fill=\"#5580DF\" />\\r\\n                                </svg>\\r\\n                            </a>\\r\\n                        </div>\\r\\n                    </div>\\r\\n                </div>\\r\\n            </div>\\r\\n        </div>\\r\\n        <div class=\"header__middle\">\\r\\n            <div class=\"header__postion\">\\r\\n                <div class=\"header__nav\">\\r\\n                    <div class=\"container\">\\r\\n                        <div class=\"header__nav-flex\">\\r\\n\\r\\n                            <ul class=\"menu-nav\">\\r\\n                                <li>\\r\\n                                    <a href=\"/\" title=\"Trang ch\\xe1\\xbb\\xa7\" class=\"nav-link home\">\\r\\n                                        <svg width=\"18\" height=\"18\" viewBox=\"0 0 18 18\" fill=\"none\" xmlns=\"http://www.w3.org/2000/svg\">\\r\\n                                            <path d=\"M3.23348 7.8415L8.81161 2.47448C9.12279 2.17517 9.62721 2.17517 9.93839 2.47448L15.5165 7.8415C15.6659 7.98526 15.75 8.18023 15.75 8.38357V15.7333C15.75 16.1567 15.3932 16.5 14.9531 16.5H10.9688V11.133H7.78125V16.5H3.79688C3.35678 16.5 3 16.1567 3 15.7333V8.38357C3 8.18023 3.08403 7.98526 3.23348 7.8415Z\" fill=\"#ED1C24\" />\\r\\n                                        </svg>\\r\\n                                    </a>\\r\\n                                </li>\\r\\n                                <li>\\r\\n                                    <a title=\"Media\" href=\"https://video.tuoitre.vn\" class=\"nav-link\">Media\\r\\n                                    </a>\\r\\n                                </li>\\r\\n                                <li>\\r\\n                                    <a title=\"Th\\xe1\\xbb\\x9di s\\xe1\\xbb\\xb1\" href=\"/thoi-su.htm\" class=\"nav-link \">Th\\xe1\\xbb\\x9di s\\xe1\\xbb\\xb1\\r\\n                                    </a>\\r\\n                                </li>\\r\\n                                <li>\\r\\n                                    <a title=\"Th\\xe1\\xba\\xbf gi\\xe1\\xbb\\x9bi\" href=\"/the-gioi.htm\" class=\"nav-link \">Th\\xe1\\xba\\xbf gi\\xe1\\xbb\\x9bi\\r\\n                                    </a>\\r\\n                                </li>\\r\\n                                <li>\\r\\n                                    <a title=\"Ph\\xc3\\xa1p lu\\xe1\\xba\\xadt\" href=\"/phap-luat.htm\" class=\"nav-link \">Ph\\xc3\\xa1p lu\\xe1\\xba\\xadt\\r\\n                                    </a>\\r\\n                                </li>\\r\\n                                <li>\\r\\n                                    <a title=\"Kinh doanh\" href=\"/kinh-doanh.htm\" class=\"nav-link \">Kinh doanh\\r\\n                                    </a>\\r\\n                                </li>\\r\\n                                <li>\\r\\n                                    <a title=\"C\\xc3\\xb4ng ngh\\xe1\\xbb\\x87\" href=\"/cong-nghe.htm\" class=\"nav-link \">C\\xc3\\xb4ng ngh\\xe1\\xbb\\x87\\r\\n                                    </a>\\r\\n                                </li>\\r\\n                                <li>\\r\\n                                    <a title=\"Xe\" href=\"/xe.htm\" class=\"nav-link \">Xe\\r\\n                                    </a>\\r\\n                                </li>\\r\\n                                <li>\\r\\n                                    <a title=\"Du l\\xe1\\xbb\\x8bch\" href=\"/du-lich.htm\" class=\"nav-link \">Du l\\xe1\\xbb\\x8bch\\r\\n                                    </a>\\r\\n                                </li>\\r\\n                                <li>\\r\\n                                    <a title=\"Nh\\xe1\\xbb\\x8bp s\\xe1\\xbb\\x91ng tr\\xe1\\xba\\xbb\" href=\"/nhip-song-tre.htm\" class=\"nav-link \">Nh\\xe1\\xbb\\x8bp s\\xe1\\xbb\\x91ng tr\\xe1\\xba\\xbb\\r\\n                                    </a>\\r\\n                                </li>\\r\\n                                <li>\\r\\n                                    <a href=\"/van-hoa.htm\" title=\"V\\xc4\\x83n h\\xc3\\xb3a\" class=\"nav-link \">V\\xc4\\x83n h\\xc3\\xb3a\\r\\n                                    </a>\\r\\n                                </li>\\r\\n                                <li>\\r\\n                                    <a title=\"Gi\\xe1\\xba\\xa3i tr\\xc3\\xad\" href=\"/giai-tri.htm\" class=\"nav-link \">Gi\\xe1\\xba\\xa3i tr\\xc3\\xad\\r\\n                                    </a>\\r\\n                                </li>\\r\\n                                <li>\\r\\n                                    <a title=\"Th\\xe1\\xbb\\x83 thao\" href=\"/the-thao.htm\" class=\"nav-link \">Th\\xe1\\xbb\\x83 thao\\r\\n                                    </a>\\r\\n                                </li>\\r\\n                                <li>\\r\\n                                    <a title=\"Gi\\xc3\\xa1o d\\xe1\\xbb\\xa5c\" href=\"/giao-duc.htm\" class=\"nav-link \">Gi\\xc3\\xa1o d\\xe1\\xbb\\xa5c\\r\\n                                    </a>\\r\\n                                </li>\\r\\n                                <li>\\r\\n                                    <a href=\"/nha-dat.htm\" title=\"Nh\\xc3\\xa0 \\xc4\\x91\\xe1\\xba\\xa5t\" class=\"nav-link\">Nh\\xc3\\xa0 \\xc4\\x91\\xe1\\xba\\xa5t</a>\\r\\n                                </li>\\r\\n                                \\r\\n                                <li>\\r\\n                                    <a title=\"S\\xe1\\xbb\\xa9c kh\\xe1\\xbb\\x8fe\" href=\"/suc-khoe.htm\" class=\"nav-link \">S\\xe1\\xbb\\xa9c kh\\xe1\\xbb\\x8fe\\r\\n                                    </a>\\r\\n                                </li>\\r\\n                                <li>\\r\\n                                    <a title=\"Gi\\xe1\\xba\\xa3-th\\xe1\\xba\\xadt\" href=\"/gia-that.htm\" class=\"nav-link \">Gi\\xe1\\xba\\xa3 th\\xe1\\xba\\xadt\\r\\n                                    </a>\\r\\n                                </li>\\r\\n                                <li>\\r\\n                                    <a href=\"/ban-doc-lam-bao.htm\" title=\"B\\xe1\\xba\\xa1n \\xc4\\x91\\xe1\\xbb\\x8dc\" class=\"nav-link \">B\\xe1\\xba\\xa1n \\xc4\\x91\\xe1\\xbb\\x8dc\\r\\n                                    </a>\\r\\n                                </li>\\r\\n                            </ul>\\r\\n                        </div>\\r\\n                    </div>\\r\\n                </div>\\r\\n            </div>\\r\\n        </div>\\r\\n    </div>\\r\\n</div>\\r\\n<div id=\"LeaderBoardBackgroundU\">\\r\\n    \\r\\n<div class=\"clearfix \" data-atc=\"atc-nonstar\">\\r\\n    <zone id=\"jphs5rwl\"></zone>\\r\\n    <script>\\r\\n        if (is_iPadScreen != null && widthScreen < 1024) { } else\\r\\n            arfAsync.push(\"jphs5rwl\");\\r\\n    </script>\\r\\n</div>\\r\\n\\r\\n</div>\\r\\n\\r\\n                    <div class=\"main\" id=\"content\">\\r\\n                        \\r\\n\\r\\n    <div class=\"pagetag\">\\r\\n        <div class=\"list__breadcrumb\">\\r\\n            <div class=\"container\">\\r\\n                <div class=\"list__breadcrumb-flex\">\\r\\n                    <h1>\\r\\n                        <span class=\"title\">Tin m\\xe1\\xbb\\x9bi nh\\xe1\\xba\\xa5t</span>\\r\\n                    </h1>\\r\\n                    <p>Th\\xe1\\xbb\\xa9 t\\xc6\\xb0, ng\\xc3\\xa0y 1 th\\xc3\\xa1ng 2 n\\xc4\\x83m 2023</p>\\r\\n                </div>\\r\\n            </div>\\r\\n        </div>\\r\\n        <div class=\"list__listing\">\\r\\n            <div class=\"container\">\\r\\n                <div class=\"list__listing-flex\">\\r\\n                    <div class=\"list__listing-main\">\\r\\n                        <div class=\"box-category-news box-first\">\\r\\n                            <div class=\"box-category box-border-top box-last-news\" data-layout=\"3\">\\r\\n                                <div class=\"box-category-middle\" id=\"load-list-news\">\\r\\n                                    \\r\\n                                    \\r\\n        <div class=\"box-category-item\">\\r\\n            <span class=\"time-ago-last-news\" title=\"2023-02-01T16:30:26\"></span>\\r\\n            <a class=\"box-category-link-with-avatar img-resize\"\\r\\n                data-type=\"0\"\\r\\n                data-newstype=\"0\"\\r\\n                href=\"/cac-dai-gia-premier-league-mua-sam-the-nao-trong-mua-dong-20230201161646786.htm\" title=\"C\\xc3\\xa1c \\xc4\\x91&#7841;i gia Premier League mua s&#7855;m th&#7871; n\\xc3\\xa0o trong m\\xc3\\xb9a \\xc4\\x91\\xc3\\xb4ng?\" >\\r\\n                <img data-type=\"avatar\" loading=\"lazy\" src=\"https://cdn.tuoitre.vn/zoom/260_163/471584752817336320/2023/2/1/r1118849-1296x729-16-9-1675242823740275980732-0-0-729-1166-crop-1675242828359932143639.jpeg\" alt=\"C\\xc3\\xa1c \\xc4\\x91&#7841;i gia Premier League mua s&#7855;m th&#7871; n\\xc3\\xa0o trong m\\xc3\\xb9a \\xc4\\x91\\xc3\\xb4ng?\" class=\"box-category-avatar\">\\r\\n                \\r\\n            </a>\\r\\n            <div class=\"box-category-content\">\\r\\n                <a class=\"box-category-category\" href=\"/the-thao.htm\" title=\"Th\\xe1\\xbb\\x83 thao\">Th\\xe1\\xbb\\x83 thao</a>\\r\\n                <div class=\"box-content-title\">\\r\\n                    <h3 class=\"box-title-text\" data-comment=\"20230201161646786\">\\r\\n                        <a class=\"box-category-link-title\" data-objecttype=\"\"\\r\\n                            data-type=\"0\"\\r\\n                            data-linktype=\"newsdetail\"\\r\\n                            data-newstype=\"0\"\\r\\n                            data-id=\"20230201161646786\"\\r\\n                            href=\"/cac-dai-gia-premier-league-mua-sam-the-nao-trong-mua-dong-20230201161646786.htm\"\\r\\n                            title=\"C\\xc3\\xa1c \\xc4\\x91&#7841;i gia Premier League mua s&#7855;m th&#7871; n\\xc3\\xa0o trong m\\xc3\\xb9a \\xc4\\x91\\xc3\\xb4ng?\" >C\\xc3\\xa1c \\xc4\\x91\\xe1\\xba\\xa1i gia Premier League mua s\\xe1\\xba\\xafm th\\xe1\\xba\\xbf n\\xc3\\xa0o trong m\\xc3\\xb9a \\xc4\\x91\\xc3\\xb4ng?</a>\\r\\n                    </h3>\\r\\n                </div>\\r\\n                <p data-type=\"sapo\" class=\"box-category-sapo need-trimline\" rel=\"3\">Th\\xe1\\xbb\\x8b tr\\xc6\\xb0\\xe1\\xbb\\x9dng chuy\\xe1\\xbb\\x83n nh\\xc6\\xb0\\xe1\\xbb\\xa3ng m\\xc3\\xb9a \\xc4\\x91\\xc3\\xb4ng c\\xc3\\xa1c Premier League ti\\xe1\\xba\\xbfp t\\xe1\\xbb\\xa5c di\\xe1\\xbb\\x85n ra \\xc4\\x91\\xe1\\xba\\xa7y s\\xc3\\xb4i \\xc4\\x91\\xe1\\xbb\\x99ng. V\\xc3\\xa0 th\\xe1\\xba\\xadm ch\\xc3\\xad nhi\\xe1\\xbb\\x81u \"bom t\\xe1\\xba\\xa5n\" \\xc4\\x91\\xc3\\xa3 n\\xe1\\xbb\\x95 v\\xc3\\xa0o gi\\xe1\\xbb\\x9d ch\\xc3\\xb3t.</p>\\r\\n            </div>\\r\\n        </div>\\r\\n    \\r\\n        <div class=\"box-category-item\">\\r\\n            <span class=\"time-ago-last-news\" title=\"2023-02-01T16:30:16\"></span>\\r\\n            <a class=\"box-category-link-with-avatar img-resize\"\\r\\n                data-type=\"0\"\\r\\n                data-newstype=\"0\"\\r\\n                href=\"/me-ngoai-35-tuoi-bo-tren-45-tuoi-co-nguy-co-sinh-con-khuyet-tat-20230201161202107.htm\" title=\"M&#7865; ngo\\xc3\\xa0i 35 tu&#7893;i, b&#7889; tr\\xc3\\xaan 45 tu&#7893;i c\\xc3\\xb3 nguy c\\xc6\\xa1 sinh con khuy&#7871;t t&#7853;t\" >\\r\\n                <img data-type=\"avatar\" loading=\"lazy\" src=\"https://cdn.tuoitre.vn/zoom/260_163/471584752817336320/2023/2/1/ky-thuat-lay-mau-got-chan-16752424822922145898656-91-0-457-586-crop-1675242599670470531962.jpg\" alt=\"M&#7865; ngo\\xc3\\xa0i 35 tu&#7893;i, b&#7889; tr\\xc3\\xaan 45 tu&#7893;i c\\xc3\\xb3 nguy c\\xc6\\xa1 sinh con khuy&#7871;t t&#7853;t\" class=\"box-category-avatar\">\\r\\n                \\r\\n            </a>\\r\\n            <div class=\"box-category-content\">\\r\\n                <a class=\"box-category-category\" href=\"/suc-khoe.htm\" title=\"S\\xe1\\xbb\\xa9c kh\\xe1\\xbb\\x8fe\">S\\xe1\\xbb\\xa9c kh\\xe1\\xbb\\x8fe</a>\\r\\n                <div class=\"box-content-title\">\\r\\n                    <h3 class=\"box-title-text\" data-comment=\"20230201161202107\">\\r\\n                        <a class=\"box-category-link-title\" data-objecttype=\"\"\\r\\n                            data-type=\"0\"\\r\\n                            data-linktype=\"newsdetail\"\\r\\n                            data-newstype=\"0\"\\r\\n                            data-id=\"20230201161202107\"\\r\\n                            href=\"/me-ngoai-35-tuoi-bo-tren-45-tuoi-co-nguy-co-sinh-con-khuyet-tat-20230201161202107.htm\"\\r\\n                            title=\"M&#7865; ngo\\xc3\\xa0i 35 tu&#7893;i, b&#7889; tr\\xc3\\xaan 45 tu&#7893;i c\\xc3\\xb3 nguy c\\xc6\\xa1 sinh con khuy&#7871;t t&#7853;t\" >M\\xe1\\xba\\xb9 ngo\\xc3\\xa0i 35 tu\\xe1\\xbb\\x95i, b\\xe1\\xbb\\x91 tr\\xc3\\xaan 45 tu\\xe1\\xbb\\x95i c\\xc3\\xb3 nguy c\\xc6\\xa1 sinh con khuy\\xe1\\xba\\xbft t\\xe1\\xba\\xadt</a>\\r\\n                    </h3>\\r\\n                </div>\\r\\n                <p data-type=\"sapo\" class=\"box-category-sapo need-trimline\" rel=\"3\">Theo t\\xc3\\xa0i li\\xe1\\xbb\\x87u \\xe2\\x80\\x9cH\\xc6\\xb0\\xe1\\xbb\\x9bng d\\xe1\\xba\\xabn ph\\xc3\\xa1t hi\\xe1\\xbb\\x87n s\\xe1\\xbb\\x9bm \\xe2\\x80\\x93 can thi\\xe1\\xbb\\x87p s\\xe1\\xbb\\x9bm khuy\\xe1\\xba\\xbft t\\xe1\\xba\\xadt tr\\xe1\\xba\\xbb em\\xe2\\x80\\x9d do B\\xe1\\xbb\\x99 Y t\\xe1\\xba\\xbf v\\xe1\\xbb\\xaba ban h\\xc3\\xa0nh, m\\xe1\\xbb\\x99t trong nh\\xe1\\xbb\\xafng nguy\\xc3\\xaan nh\\xc3\\xa2n g\\xc3\\xa2y khuy\\xe1\\xba\\xbft t\\xe1\\xba\\xadt \\xe1\\xbb\\x9f tr\\xe1\\xba\\xbb l\\xc3\\xa0 sinh con khi m\\xe1\\xba\\xb9 tr\\xc3\\xaan 35 v\\xc3\\xa0 b\\xe1\\xbb\\x91 tr\\xc3\\xaan 45 tu\\xe1\\xbb\\x95i.</p>\\r\\n            </div>\\r\\n        </div>\\r\\n    \\r\\n        <div class=\"box-category-item\">\\r\\n            <span class=\"time-ago-last-news\" title=\"2023-02-01T16:30:00\"></span>\\r\\n            <a class=\"box-category-link-with-avatar img-resize\"\\r\\n                data-type=\"0\"\\r\\n                data-newstype=\"0\"\\r\\n                href=\"/dau-nam-quy-mao-2023-gia-gas-ban-le-tang-manh-20230201140050746.htm\" title=\"\\xc4\\x90&#7847;u n\\xc4\\x83m Qu\\xc3\\xbd M\\xc3\\xa3o 2023, gi\\xc3\\xa1 gas b\\xc3\\xa1n l&#7867; t\\xc4\\x83ng m&#7841;nh\" >\\r\\n                <img data-type=\"avatar\" loading=\"lazy\" src=\"https://cdn.tuoitre.vn/zoom/260_163/471584752817336320/2023/2/1/photo1675234555819-16752345558941572736722.jpg\" alt=\"\\xc4\\x90&#7847;u n\\xc4\\x83m Qu\\xc3\\xbd M\\xc3\\xa3o 2023, gi\\xc3\\xa1 gas b\\xc3\\xa1n l&#7867; t\\xc4\\x83ng m&#7841;nh\" class=\"box-category-avatar\">\\r\\n                \\r\\n            </a>\\r\\n            <div class=\"box-category-content\">\\r\\n                <a class=\"box-category-category\" href=\"/can-biet.htm\" title=\"C\\xe1\\xba\\xa7n bi\\xe1\\xba\\xbft\">C\\xe1\\xba\\xa7n bi\\xe1\\xba\\xbft</a>\\r\\n                <div class=\"box-content-title\">\\r\\n                    <h3 class=\"box-title-text\" data-comment=\"20230201140050746\">\\r\\n                        <a class=\"box-category-link-title\" data-objecttype=\"\"\\r\\n                            data-type=\"0\"\\r\\n                            data-linktype=\"newsdetail\"\\r\\n                            data-newstype=\"0\"\\r\\n                            data-id=\"20230201140050746\"\\r\\n                            href=\"/dau-nam-quy-mao-2023-gia-gas-ban-le-tang-manh-20230201140050746.htm\"\\r\\n                            title=\"\\xc4\\x90&#7847;u n\\xc4\\x83m Qu\\xc3\\xbd M\\xc3\\xa3o 2023, gi\\xc3\\xa1 gas b\\xc3\\xa1n l&#7867; t\\xc4\\x83ng m&#7841;nh\" >\\xc4\\x90\\xe1\\xba\\xa7u n\\xc4\\x83m Qu\\xc3\\xbd M\\xc3\\xa3o 2023, gi\\xc3\\xa1 gas b\\xc3\\xa1n l\\xe1\\xba\\xbb t\\xc4\\x83ng m\\xe1\\xba\\xa1nh</a>\\r\\n                    </h3>\\r\\n                </div>\\r\\n                <p data-type=\"sapo\" class=\"box-category-sapo need-trimline\" rel=\"3\">\\xc4\\x90\\xe1\\xba\\xa7u n\\xc4\\x83m Qu\\xc3\\xbd M\\xc3\\xa3o 2023, m\\xe1\\xbb\\x99t s\\xe1\\xbb\\x91 doanh nghi\\xe1\\xbb\\x87p kinh doanh gas trong n\\xc6\\xb0\\xe1\\xbb\\x9bc v\\xe1\\xbb\\xaba th\\xc3\\xb4ng b\\xc3\\xa1o t\\xc4\\x83ng gi\\xc3\\xa1 b\\xc3\\xa1n gas.</p>\\r\\n            </div>\\r\\n        </div>\\r\\n    \\r\\n        <div class=\"box-category-item\">\\r\\n            <span class=\"time-ago-last-news\" title=\"2023-02-01T16:29:38\"></span>\\r\\n            <a class=\"box-category-link-with-avatar img-resize\"\\r\\n                data-type=\"0\"\\r\\n                data-newstype=\"0\"\\r\\n                href=\"/dan-mang-trung-quoc-lo-ceo-tiktok-gap-nguy-hiem-tai-my-20230201115012606.htm\" title=\"D\\xc3\\xa2n m&#7841;ng Trung Qu&#7889;c lo CEO TikTok g&#7863;p nguy hi&#7875;m t&#7841;i M&#7929;\" >\\r\\n                <img data-type=\"avatar\" loading=\"lazy\" src=\"https://cdn.tuoitre.vn/zoom/260_163/471584752817336320/2023/2/1/221219164230-20-tiktok-stock-16752252589941384692757-0-0-478-765-crop-16752252618371394434745.jpg\" alt=\"D\\xc3\\xa2n m&#7841;ng Trung Qu&#7889;c lo CEO TikTok g&#7863;p nguy hi&#7875;m t&#7841;i M&#7929;\" class=\"box-category-avatar\">\\r\\n                \\r\\n            </a>\\r\\n            <div class=\"box-category-content\">\\r\\n                <a class=\"box-category-category\" href=\"/cong-nghe.htm\" title=\"C\\xc3\\xb4ng ngh\\xe1\\xbb\\x87\">C\\xc3\\xb4ng ngh\\xe1\\xbb\\x87</a>\\r\\n                <div class=\"box-content-title\">\\r\\n                    <h3 class=\"box-title-text\" data-comment=\"20230201115012606\">\\r\\n                        <a class=\"box-category-link-title\" data-objecttype=\"\"\\r\\n                            data-type=\"0\"\\r\\n                            data-linktype=\"newsdetail\"\\r\\n                            data-newstype=\"0\"\\r\\n                            data-id=\"20230201115012606\"\\r\\n                            href=\"/dan-mang-trung-quoc-lo-ceo-tiktok-gap-nguy-hiem-tai-my-20230201115012606.htm\"\\r\\n                            title=\"D\\xc3\\xa2n m&#7841;ng Trung Qu&#7889;c lo CEO TikTok g&#7863;p nguy hi&#7875;m t&#7841;i M&#7929;\" >D\\xc3\\xa2n m\\xe1\\xba\\xa1ng Trung Qu\\xe1\\xbb\\x91c lo CEO TikTok g\\xe1\\xba\\xb7p nguy hi\\xe1\\xbb\\x83m t\\xe1\\xba\\xa1i M\\xe1\\xbb\\xb9</a>\\r\\n                    </h3>\\r\\n                </div>\\r\\n                <p data-type=\"sapo\" class=\"box-category-sapo need-trimline\" rel=\"3\">Sau khi nh\\xe1\\xbb\\xafng tin t\\xe1\\xbb\\xa9c v\\xe1\\xbb\\x81 vi\\xe1\\xbb\\x87c \\xc3\\xb4ng Shou Zi Chew, CEO TikTok s\\xe1\\xba\\xbd \\xc4\\x91i\\xe1\\xbb\\x81u tr\\xe1\\xba\\xa7n tr\\xc6\\xb0\\xe1\\xbb\\x9bc Qu\\xe1\\xbb\\x91c h\\xe1\\xbb\\x99i M\\xe1\\xbb\\xb9 v\\xc3\\xa0o th\\xc3\\xa1ng 3 t\\xe1\\xbb\\x9bi, c\\xe1\\xbb\\x99ng \\xc4\\x91\\xe1\\xbb\\x93ng m\\xe1\\xba\\xa1ng Trung Qu\\xe1\\xbb\\x91c lo ng\\xe1\\xba\\xa1i \\xc3\\xb4ng n\\xc3\\xa0y s\\xe1\\xba\\xbd b\\xe1\\xbb\\x8b b\\xe1\\xba\\xaft gi\\xe1\\xbb\\xaf t\\xe1\\xba\\xa1i M\\xe1\\xbb\\xb9.</p>\\r\\n            </div>\\r\\n        </div>\\r\\n    \\r\\n        <div class=\"box-category-item\">\\r\\n            <span class=\"time-ago-last-news\" title=\"2023-02-01T16:29:22\"></span>\\r\\n            <a class=\"box-category-link-with-avatar img-resize\"\\r\\n                data-type=\"0\"\\r\\n                data-newstype=\"0\"\\r\\n                href=\"/da-nang-canh-sat-dot-kich-vu-truong-new-phuong-dong-nhieu-dan-choi-ma-tuy-gay-canh-20230201160159709.htm\" title=\"\\xc4\\x90\\xc3\\xa0 N&#7861;ng: C&#7843;nh s\\xc3\\xa1t \\xc4\\x91&#7897;t k\\xc3\\xadch v\\xc5\\xa9 tr\\xc6\\xb0&#7901;ng New Ph\\xc6\\xb0\\xc6\\xa1ng \\xc4\\x90\\xc3\\xb4ng, nhi&#7873;u d\\xc3\\xa2n ch\\xc6\\xa1i ma t\\xc3\\xbay &#8216;g\\xc3\\xa3y c\\xc3\\xa1nh&#8217;\" >\\r\\n                <img data-type=\"avatar\" loading=\"lazy\" src=\"https://cdn.tuoitre.vn/zoom/260_163/471584752817336320/2023/2/1/13-3-vu-truong-new-phuong-dong-1-1675241404785518034842-159-0-959-1280-crop-1675242408315446492124.jpg\" alt=\"\\xc4\\x90\\xc3\\xa0 N&#7861;ng: C&#7843;nh s\\xc3\\xa1t \\xc4\\x91&#7897;t k\\xc3\\xadch v\\xc5\\xa9 tr\\xc6\\xb0&#7901;ng New Ph\\xc6\\xb0\\xc6\\xa1ng \\xc4\\x90\\xc3\\xb4ng, nhi&#7873;u d\\xc3\\xa2n ch\\xc6\\xa1i ma t\\xc3\\xbay &#8216;g\\xc3\\xa3y c\\xc3\\xa1nh&#8217;\" class=\"box-category-avatar\">\\r\\n                \\r\\n            </a>\\r\\n            <div class=\"box-category-content\">\\r\\n                <a class=\"box-category-category\" href=\"/phap-luat.htm\" title=\"Ph\\xc3\\xa1p lu\\xe1\\xba\\xadt\">Ph\\xc3\\xa1p lu\\xe1\\xba\\xadt</a>\\r\\n                <div class=\"box-content-title\">\\r\\n                    <h3 class=\"box-title-text\" data-comment=\"20230201160159709\">\\r\\n                        <a class=\"box-category-link-title\" data-objecttype=\"\"\\r\\n                            data-type=\"0\"\\r\\n                            data-linktype=\"newsdetail\"\\r\\n                            data-newstype=\"0\"\\r\\n                            data-id=\"20230201160159709\"\\r\\n                            href=\"/da-nang-canh-sat-dot-kich-vu-truong-new-phuong-dong-nhieu-dan-choi-ma-tuy-gay-canh-20230201160159709.htm\"\\r\\n                            title=\"\\xc4\\x90\\xc3\\xa0 N&#7861;ng: C&#7843;nh s\\xc3\\xa1t \\xc4\\x91&#7897;t k\\xc3\\xadch v\\xc5\\xa9 tr\\xc6\\xb0&#7901;ng New Ph\\xc6\\xb0\\xc6\\xa1ng \\xc4\\x90\\xc3\\xb4ng, nhi&#7873;u d\\xc3\\xa2n ch\\xc6\\xa1i ma t\\xc3\\xbay &#8216;g\\xc3\\xa3y c\\xc3\\xa1nh&#8217;\" >\\xc4\\x90\\xc3\\xa0 N\\xe1\\xba\\xb5ng: C\\xe1\\xba\\xa3nh s\\xc3\\xa1t \\xc4\\x91\\xe1\\xbb\\x99t k\\xc3\\xadch v\\xc5\\xa9 tr\\xc6\\xb0\\xe1\\xbb\\x9dng New Ph\\xc6\\xb0\\xc6\\xa1ng \\xc4\\x90\\xc3\\xb4ng, nhi\\xe1\\xbb\\x81u d\\xc3\\xa2n ch\\xc6\\xa1i ma t\\xc3\\xbay \\xe2\\x80\\x98g\\xc3\\xa3y c\\xc3\\xa1nh\\xe2\\x80\\x99</a>\\r\\n                    </h3>\\r\\n                </div>\\r\\n                <p data-type=\"sapo\" class=\"box-category-sapo need-trimline\" rel=\"3\">C\\xc3\\xb4ng an qu\\xe1\\xba\\xadn H\\xe1\\xba\\xa3i Ch\\xc3\\xa2u (\\xc4\\x90\\xc3\\xa0 N\\xe1\\xba\\xb5ng) \\xc4\\x91ang ti\\xe1\\xba\\xbfp t\\xe1\\xbb\\xa5c \\xc4\\x91i\\xe1\\xbb\\x81u tra v\\xe1\\xbb\\xa5 h\\xc3\\xa0ng ch\\xe1\\xbb\\xa5c thanh ni\\xc3\\xaan s\\xe1\\xbb\\xad d\\xe1\\xbb\\xa5ng tr\\xc3\\xa1i ph\\xc3\\xa9p ch\\xe1\\xba\\xa5t ma t\\xc3\\xbay trong v\\xc5\\xa9 tr\\xc6\\xb0\\xe1\\xbb\\x9dng New Ph\\xc6\\xb0\\xc6\\xa1ng \\xc4\\x90\\xc3\\xb4ng (qu\\xe1\\xba\\xadn H\\xe1\\xba\\xa3u Ch\\xc3\\xa2u, \\xc4\\x90\\xc3\\xa0 N\\xe1\\xba\\xb5ng).</p>\\r\\n            </div>\\r\\n        </div>\\r\\n    \\r\\n        <div class=\"box-category-item\">\\r\\n            <span class=\"time-ago-last-news\" title=\"2023-02-01T16:08:49\"></span>\\r\\n            <a class=\"box-category-link-with-avatar img-resize\"\\r\\n                data-type=\"0\"\\r\\n                data-newstype=\"0\"\\r\\n                href=\"/de-xuat-co-che-moi-lam-cac-du-an-bot-o-tp-hcm-20230201152557466.htm\" title=\"\\xc4\\x90&#7873; xu&#7845;t c\\xc6\\xa1 ch&#7871; m&#7899;i l\\xc3\\xa0m c\\xc3\\xa1c d&#7921; \\xc3\\xa1n BOT &#7903; TP.HCM\" >\\r\\n                <img data-type=\"avatar\" loading=\"lazy\" src=\"https://cdn.tuoitre.vn/zoom/260_163/471584752817336320/2023/2/1/cau-binh-trieu-17-16752394913632129242791.jpg\" alt=\"\\xc4\\x90&#7873; xu&#7845;t c\\xc6\\xa1 ch&#7871; m&#7899;i l\\xc3\\xa0m c\\xc3\\xa1c d&#7921; \\xc3\\xa1n BOT &#7903; TP.HCM\" class=\"box-category-avatar\">\\r\\n                \\r\\n            </a>\\r\\n            <div class=\"box-category-content\">\\r\\n                <a class=\"box-category-category\" href=\"/thoi-su.htm\" title=\"Th\\xe1\\xbb\\x9di s\\xe1\\xbb\\xb1\">Th\\xe1\\xbb\\x9di s\\xe1\\xbb\\xb1</a>\\r\\n                <div class=\"box-content-title\">\\r\\n                    <h3 class=\"box-title-text\" data-comment=\"20230201152557466\">\\r\\n                        <a class=\"box-category-link-title\" data-objecttype=\"\"\\r\\n                            data-type=\"0\"\\r\\n                            data-linktype=\"newsdetail\"\\r\\n                            data-newstype=\"0\"\\r\\n                            data-id=\"20230201152557466\"\\r\\n                            href=\"/de-xuat-co-che-moi-lam-cac-du-an-bot-o-tp-hcm-20230201152557466.htm\"\\r\\n                            title=\"\\xc4\\x90&#7873; xu&#7845;t c\\xc6\\xa1 ch&#7871; m&#7899;i l\\xc3\\xa0m c\\xc3\\xa1c d&#7921; \\xc3\\xa1n BOT &#7903; TP.HCM\" >\\xc4\\x90\\xe1\\xbb\\x81 xu\\xe1\\xba\\xa5t c\\xc6\\xa1 ch\\xe1\\xba\\xbf m\\xe1\\xbb\\x9bi l\\xc3\\xa0m c\\xc3\\xa1c d\\xe1\\xbb\\xb1 \\xc3\\xa1n BOT \\xe1\\xbb\\x9f TP.HCM</a>\\r\\n                    </h3>\\r\\n                </div>\\r\\n                <p data-type=\"sapo\" class=\"box-category-sapo need-trimline\" rel=\"3\">\\xc4\\x90\\xe1\\xbb\\x83 m\\xe1\\xbb\\x9f r\\xe1\\xbb\\x99ng c\\xc3\\xa1c tuy\\xe1\\xba\\xbfn \\xc4\\x91\\xc6\\xb0\\xe1\\xbb\\x9dng, qu\\xe1\\xbb\\x91c l\\xe1\\xbb\\x99 trong b\\xe1\\xbb\\x91i c\\xe1\\xba\\xa3nh ng\\xc3\\xa2n s\\xc3\\xa1ch h\\xe1\\xba\\xa1n ch\\xe1\\xba\\xbf, S\\xe1\\xbb\\x9f Giao th\\xc3\\xb4ng v\\xe1\\xba\\xadn t\\xe1\\xba\\xa3i TP.HCM \\xc4\\x91\\xe1\\xbb\\x81 xu\\xe1\\xba\\xa5t c\\xc6\\xa1 ch\\xe1\\xba\\xbf ch\\xc3\\xadnh s\\xc3\\xa1ch \\xc4\\x91\\xe1\\xba\\xb7c th\\xc3\\xb9 \\xc4\\x91\\xe1\\xbb\\x83 \\xc3\\xa1p d\\xe1\\xbb\\xa5ng cho c\\xc3\\xa1c d\\xe1\\xbb\\xb1 \\xc3\\xa1n giao th\\xc3\\xb4ng theo h\\xc3\\xacnh th\\xe1\\xbb\\xa9c BOT (x\\xc3\\xa2y d\\xe1\\xbb\\xb1ng - kinh doanh - chuy\\xe1\\xbb\\x83n giao).</p>\\r\\n            </div>\\r\\n        </div>\\r\\n    \\r\\n        <div class=\"box-category-item\">\\r\\n            <span class=\"time-ago-last-news\" title=\"2023-02-01T16:08:38\"></span>\\r\\n            <a class=\"box-category-link-with-avatar img-resize\"\\r\\n                data-type=\"0\"\\r\\n                data-newstype=\"0\"\\r\\n                href=\"/el-pais-tay-ban-nha-gui-xe-tang-leopard-cho-ukraine-20230201150602434.htm\" title=\"El Pais: T\\xc3\\xa2y Ban Nha g&#7917;i xe t\\xc4\\x83ng Leopard cho Ukraine\" >\\r\\n                <img data-type=\"avatar\" loading=\"lazy\" src=\"https://cdn.tuoitre.vn/zoom/260_163/471584752817336320/2023/2/1/2023-01-25t154038z1621074297rc2yqw99e1adrtrmadp3ukraine-crisis-arms-leopard-16752384820222002798116-96-0-1346-2000-crop-1675238545276959403128.jpg\" alt=\"El Pais: T\\xc3\\xa2y Ban Nha g&#7917;i xe t\\xc4\\x83ng Leopard cho Ukraine\" class=\"box-category-avatar\">\\r\\n                \\r\\n            </a>\\r\\n            <div class=\"box-category-content\">\\r\\n                <a class=\"box-category-category\" href=\"/the-gioi.htm\" title=\"Th\\xe1\\xba\\xbf gi\\xe1\\xbb\\x9bi\">Th\\xe1\\xba\\xbf gi\\xe1\\xbb\\x9bi</a>\\r\\n                <div class=\"box-content-title\">\\r\\n                    <h3 class=\"box-title-text\" data-comment=\"20230201150602434\">\\r\\n                        <a class=\"box-category-link-title\" data-objecttype=\"\"\\r\\n                            data-type=\"0\"\\r\\n                            data-linktype=\"newsdetail\"\\r\\n                            data-newstype=\"0\"\\r\\n                            data-id=\"20230201150602434\"\\r\\n                            href=\"/el-pais-tay-ban-nha-gui-xe-tang-leopard-cho-ukraine-20230201150602434.htm\"\\r\\n                            title=\"El Pais: T\\xc3\\xa2y Ban Nha g&#7917;i xe t\\xc4\\x83ng Leopard cho Ukraine\" >El Pais: T\\xc3\\xa2y Ban Nha g\\xe1\\xbb\\xadi xe t\\xc4\\x83ng Leopard cho Ukraine</a>\\r\\n                    </h3>\\r\\n                </div>\\r\\n                <p data-type=\"sapo\" class=\"box-category-sapo need-trimline\" rel=\"3\">T\\xe1\\xbb\\x9d El Pais \\xc4\\x91\\xc6\\xb0a tin T\\xc3\\xa2y Ban Nha c\\xc3\\xb3 k\\xe1\\xba\\xbf ho\\xe1\\xba\\xa1ch g\\xe1\\xbb\\xadi t\\xe1\\xbb\\xab 4 \\xc4\\x91\\xe1\\xba\\xbfn 6 xe t\\xc4\\x83ng Leopard 2A4 do \\xc4\\x90\\xe1\\xbb\\xa9c ch\\xe1\\xba\\xbf t\\xe1\\xba\\xa1o t\\xe1\\xbb\\x9bi Ukraine.</p>\\r\\n            </div>\\r\\n        </div>\\r\\n    \\r\\n        <div class=\"box-category-item\">\\r\\n            <span class=\"time-ago-last-news\" title=\"2023-02-01T16:08:29\"></span>\\r\\n            <a class=\"box-category-link-with-avatar img-resize\"\\r\\n                data-type=\"0\"\\r\\n                data-newstype=\"0\"\\r\\n                href=\"/cong-an-phuong-co-duoc-dung-xe-xu-phat-vi-pham-giao-thong-khong-20230201151348022.htm\" title=\"C\\xc3\\xb4ng an ph\\xc6\\xb0&#7901;ng c\\xc3\\xb3 \\xc4\\x91\\xc6\\xb0&#7907;c d&#7915;ng xe x&#7917; ph&#7841;t vi ph&#7841;m giao th\\xc3\\xb4ng kh\\xc3\\xb4ng?\" >\\r\\n                <img data-type=\"avatar\" loading=\"lazy\" src=\"https://cdn.tuoitre.vn/zoom/260_163/471584752817336320/2023/2/1/edit-img8462-167523303634410372354-261-0-1451-1904-crop-16752333066931420274392.png\" alt=\"C\\xc3\\xb4ng an ph\\xc6\\xb0&#7901;ng c\\xc3\\xb3 \\xc4\\x91\\xc6\\xb0&#7907;c d&#7915;ng xe x&#7917; ph&#7841;t vi ph&#7841;m giao th\\xc3\\xb4ng kh\\xc3\\xb4ng?\" class=\"box-category-avatar\">\\r\\n                \\r\\n            </a>\\r\\n            <div class=\"box-category-content\">\\r\\n                <a class=\"box-category-category\" href=\"/phap-luat/tu-van.htm\" title=\"T\\xc6\\xb0 v\\xe1\\xba\\xa5n\">T\\xc6\\xb0 v\\xe1\\xba\\xa5n</a>\\r\\n                <div class=\"box-content-title\">\\r\\n                    <h3 class=\"box-title-text\" data-comment=\"20230201151348022\">\\r\\n                        <a class=\"box-category-link-title\" data-objecttype=\"\"\\r\\n                            data-type=\"0\"\\r\\n                            data-linktype=\"newsdetail\"\\r\\n                            data-newstype=\"0\"\\r\\n                            data-id=\"20230201151348022\"\\r\\n                            href=\"/cong-an-phuong-co-duoc-dung-xe-xu-phat-vi-pham-giao-thong-khong-20230201151348022.htm\"\\r\\n                            title=\"C\\xc3\\xb4ng an ph\\xc6\\xb0&#7901;ng c\\xc3\\xb3 \\xc4\\x91\\xc6\\xb0&#7907;c d&#7915;ng xe x&#7917; ph&#7841;t vi ph&#7841;m giao th\\xc3\\xb4ng kh\\xc3\\xb4ng?\" >C\\xc3\\xb4ng an ph\\xc6\\xb0\\xe1\\xbb\\x9dng c\\xc3\\xb3 \\xc4\\x91\\xc6\\xb0\\xe1\\xbb\\xa3c d\\xe1\\xbb\\xabng xe x\\xe1\\xbb\\xad ph\\xe1\\xba\\xa1t vi ph\\xe1\\xba\\xa1m giao th\\xc3\\xb4ng kh\\xc3\\xb4ng?</a>\\r\\n                    </h3>\\r\\n                </div>\\r\\n                <p data-type=\"sapo\" class=\"box-category-sapo need-trimline\" rel=\"3\">T\\xc3\\xb4i th\\xe1\\xba\\xa5y l\\xe1\\xbb\\xb1c l\\xc6\\xb0\\xe1\\xbb\\xa3ng c\\xc3\\xb4ng an m\\xe1\\xbb\\x99t ph\\xc6\\xb0\\xe1\\xbb\\x9dng \\xe1\\xbb\\x9f H\\xc3\\xa0 N\\xe1\\xbb\\x99i l\\xe1\\xba\\xadp ch\\xe1\\xbb\\x91t ngay tr\\xc6\\xb0\\xe1\\xbb\\x9bc c\\xe1\\xbb\\x95ng tr\\xe1\\xbb\\xa5 s\\xe1\\xbb\\x9f, trong ng\\xc3\\xb5 nh\\xe1\\xbb\\x8f, d\\xe1\\xbb\\xabng xe ng\\xc6\\xb0\\xe1\\xbb\\x9di vi ph\\xe1\\xba\\xa1m \\xc4\\x91\\xe1\\xbb\\x83 x\\xe1\\xbb\\xad l\\xc3\\xbd vi ph\\xe1\\xba\\xa1m giao th\\xc3\\xb4ng, nh\\xc6\\xb0 v\\xe1\\xba\\xady c\\xc3\\xb3 \\xc4\\x91\\xc3\\xbang quy \\xc4\\x91\\xe1\\xbb\\x8bnh kh\\xc3\\xb4ng?</p>\\r\\n            </div>\\r\\n        </div>\\r\\n    \\r\\n        <div class=\"box-category-item\">\\r\\n            <span class=\"time-ago-last-news\" title=\"2023-02-01T16:08:16\"></span>\\r\\n            <a class=\"box-category-link-with-avatar img-resize\"\\r\\n                data-type=\"0\"\\r\\n                data-newstype=\"0\"\\r\\n                href=\"/khach-di-choi-tet-qua-tan-son-nhat-tang-61-20230201155807154.htm\" title=\"Kh\\xc3\\xa1ch \\xc4\\x91i ch\\xc6\\xa1i T&#7871;t qua T\\xc3\\xa2n S\\xc6\\xa1n Nh&#7845;t t\\xc4\\x83ng 61%\" >\\r\\n                <img data-type=\"avatar\" loading=\"lazy\" src=\"https://cdn.tuoitre.vn/zoom/260_163/471584752817336320/2023/2/1/z4068735081906-cf3cf07edefc978acdf0b482196ee704-1675241746602141663295-69-0-1319-2000-crop-1675241753430740239821.jpg\" alt=\"Kh\\xc3\\xa1ch \\xc4\\x91i ch\\xc6\\xa1i T&#7871;t qua T\\xc3\\xa2n S\\xc6\\xa1n Nh&#7845;t t\\xc4\\x83ng 61%\" class=\"box-category-avatar\">\\r\\n                \\r\\n            </a>\\r\\n            <div class=\"box-category-content\">\\r\\n                <a class=\"box-category-category\" href=\"/kinh-doanh.htm\" title=\"Kinh doanh\">Kinh doanh</a>\\r\\n                <div class=\"box-content-title\">\\r\\n                    <h3 class=\"box-title-text\" data-comment=\"20230201155807154\">\\r\\n                        <a class=\"box-category-link-title\" data-objecttype=\"\"\\r\\n                            data-type=\"0\"\\r\\n                            data-linktype=\"newsdetail\"\\r\\n                            data-newstype=\"0\"\\r\\n                            data-id=\"20230201155807154\"\\r\\n                            href=\"/khach-di-choi-tet-qua-tan-son-nhat-tang-61-20230201155807154.htm\"\\r\\n                            title=\"Kh\\xc3\\xa1ch \\xc4\\x91i ch\\xc6\\xa1i T&#7871;t qua T\\xc3\\xa2n S\\xc6\\xa1n Nh&#7845;t t\\xc4\\x83ng 61%\" >Kh\\xc3\\xa1ch \\xc4\\x91i ch\\xc6\\xa1i T\\xe1\\xba\\xbft qua T\\xc3\\xa2n S\\xc6\\xa1n Nh\\xe1\\xba\\xa5t t\\xc4\\x83ng 61%</a>\\r\\n                    </h3>\\r\\n                </div>\\r\\n                <p data-type=\"sapo\" class=\"box-category-sapo need-trimline\" rel=\"3\">M\\xe1\\xbb\\x99t con s\\xe1\\xbb\\x91 \\xc4\\x91\\xc3\\xa1ng ch\\xc3\\xba \\xc3\\xbd khi s\\xe1\\xba\\xa3n l\\xc6\\xb0\\xe1\\xbb\\xa3ng kh\\xc3\\xa1ch tr\\xc6\\xb0\\xe1\\xbb\\x9bc v\\xc3\\xa0 sau T\\xe1\\xba\\xbft qua T\\xc3\\xa2n S\\xc6\\xa1n Nh\\xe1\\xba\\xa5t t\\xc4\\x83ng k\\xe1\\xbb\\xb7 l\\xe1\\xbb\\xa5c h\\xc6\\xa1n 3,1 tri\\xe1\\xbb\\x87u kh\\xc3\\xa1ch, t\\xc4\\x83ng 61% so v\\xe1\\xbb\\x9bi c\\xc3\\xb9ng k\\xe1\\xbb\\xb3 n\\xc4\\x83m ngo\\xc3\\xa1i. Ch\\xe1\\xbb\\xa7 \\xc4\\x91\\xe1\\xbb\\x99ng ph\\xc6\\xb0\\xc6\\xa1ng \\xc3\\xa1n ph\\xe1\\xbb\\xa5c v\\xe1\\xbb\\xa5, t\\xe1\\xba\\xa7n su\\xe1\\xba\\xa5t, s\\xe1\\xba\\xa3n l\\xc6\\xb0\\xe1\\xbb\\xa3ng kh\\xc3\\xa1ch t\\xc4\\x83ng, vi\\xe1\\xbb\\x87c \\xc4\\x91i l\\xe1\\xba\\xa1i T\\xe1\\xba\\xbft \\xe1\\xbb\\x9f s\\xc3\\xa2n bay c\\xc6\\xa1 b\\xe1\\xba\\xa3n thu\\xe1\\xba\\xadn l\\xe1\\xbb\\xa3i.</p>\\r\\n            </div>\\r\\n        </div>\\r\\n    \\r\\n        <div class=\"box-category-item\">\\r\\n            <span class=\"time-ago-last-news\" title=\"2023-02-01T16:07:54\"></span>\\r\\n            <a class=\"box-category-link-with-avatar img-resize\"\\r\\n                data-type=\"0\"\\r\\n                data-newstype=\"0\"\\r\\n                href=\"/phat-dong-cuoc-thi-bao-ve-nen-tang-tu-tuong-cua-dang-lan-thu-3-20230201154618226.htm\" title=\"Ph\\xc3\\xa1t \\xc4\\x91&#7897;ng Cu&#7897;c thi b&#7843;o v&#7879; n&#7873;n t&#7843;ng t\\xc6\\xb0 t\\xc6\\xb0&#7903;ng c&#7911;a \\xc4\\x90&#7843;ng l&#7847;n th&#7913; 3\" >\\r\\n                <img data-type=\"avatar\" loading=\"lazy\" src=\"https://cdn.tuoitre.vn/zoom/260_163/471584752817336320/2023/2/1/hinh-ttx-16752408294531395828798-13-0-735-1155-crop-16752410701721826595108.jpg\" alt=\"Ph\\xc3\\xa1t \\xc4\\x91&#7897;ng Cu&#7897;c thi b&#7843;o v&#7879; n&#7873;n t&#7843;ng t\\xc6\\xb0 t\\xc6\\xb0&#7903;ng c&#7911;a \\xc4\\x90&#7843;ng l&#7847;n th&#7913; 3\" class=\"box-category-avatar\">\\r\\n                \\r\\n            </a>\\r\\n            <div class=\"box-category-content\">\\r\\n                <a class=\"box-category-category\" href=\"/thoi-su.htm\" title=\"Th\\xe1\\xbb\\x9di s\\xe1\\xbb\\xb1\">Th\\xe1\\xbb\\x9di s\\xe1\\xbb\\xb1</a>\\r\\n                <div class=\"box-content-title\">\\r\\n                    <h3 class=\"box-title-text\" data-comment=\"20230201154618226\">\\r\\n                        <a class=\"box-category-link-title\" data-objecttype=\"\"\\r\\n                            data-type=\"0\"\\r\\n                            data-linktype=\"newsdetail\"\\r\\n                            data-newstype=\"0\"\\r\\n                            data-id=\"20230201154618226\"\\r\\n                            href=\"/phat-dong-cuoc-thi-bao-ve-nen-tang-tu-tuong-cua-dang-lan-thu-3-20230201154618226.htm\"\\r\\n                            title=\"Ph\\xc3\\xa1t \\xc4\\x91&#7897;ng Cu&#7897;c thi b&#7843;o v&#7879; n&#7873;n t&#7843;ng t\\xc6\\xb0 t\\xc6\\xb0&#7903;ng c&#7911;a \\xc4\\x90&#7843;ng l&#7847;n th&#7913; 3\" >Ph\\xc3\\xa1t \\xc4\\x91\\xe1\\xbb\\x99ng Cu\\xe1\\xbb\\x99c thi b\\xe1\\xba\\xa3o v\\xe1\\xbb\\x87 n\\xe1\\xbb\\x81n t\\xe1\\xba\\xa3ng t\\xc6\\xb0 t\\xc6\\xb0\\xe1\\xbb\\x9fng c\\xe1\\xbb\\xa7a \\xc4\\x90\\xe1\\xba\\xa3ng l\\xe1\\xba\\xa7n th\\xe1\\xbb\\xa9 3</a>\\r\\n                    </h3>\\r\\n                </div>\\r\\n                <p data-type=\"sapo\" class=\"box-category-sapo need-trimline\" rel=\"3\">Cu\\xe1\\xbb\\x99c thi l\\xc3\\xa0 s\\xe1\\xbb\\xb1 ti\\xe1\\xba\\xbfp n\\xe1\\xbb\\x91i th\\xc3\\xa0nh c\\xc3\\xb4ng c\\xe1\\xbb\\xa7a 2 cu\\xe1\\xbb\\x99c thi vi\\xe1\\xba\\xbft ch\\xc3\\xadnh lu\\xe1\\xba\\xadn v\\xe1\\xbb\\x81 \"B\\xe1\\xba\\xa3o v\\xe1\\xbb\\x87 n\\xe1\\xbb\\x81n t\\xe1\\xba\\xa3ng t\\xc6\\xb0 t\\xc6\\xb0\\xe1\\xbb\\x9fng c\\xe1\\xbb\\xa7a \\xc4\\x90\\xe1\\xba\\xa3ng, \\xc4\\x91\\xe1\\xba\\xa5u tranh ph\\xe1\\xba\\xa3n b\\xc3\\xa1c c\\xc3\\xa1c quan \\xc4\\x91i\\xe1\\xbb\\x83m sai tr\\xc3\\xa1i, th\\xc3\\xb9 \\xc4\\x91\\xe1\\xbb\\x8bch trong t\\xc3\\xacnh h\\xc3\\xacnh m\\xe1\\xbb\\x9bi\" n\\xc4\\x83m 2021, 2022.</p>\\r\\n            </div>\\r\\n        </div>\\r\\n    \\r\\n        <div class=\"box-category-item\">\\r\\n            <span class=\"time-ago-last-news\" title=\"2023-02-01T16:07:27\"></span>\\r\\n            <a class=\"box-category-link-with-avatar img-resize\"\\r\\n                data-type=\"0\"\\r\\n                data-newstype=\"0\"\\r\\n                href=\"/mang-xa-hoi-snapchat-bao-lo-nang-20230201155225369.htm\" title=\"M&#7841;ng x\\xc3\\xa3 h&#7897;i Snapchat b\\xc3\\xa1o l&#7895; n&#7863;ng\" >\\r\\n                <img data-type=\"avatar\" loading=\"lazy\" src=\"https://cdn.tuoitre.vn/zoom/260_163/471584752817336320/2023/2/1/snapchat-1675241452818634265962-0-28-403-673-crop-1675241594600817765342.jpg\" alt=\"M&#7841;ng x\\xc3\\xa3 h&#7897;i Snapchat b\\xc3\\xa1o l&#7895; n&#7863;ng\" class=\"box-category-avatar\">\\r\\n                \\r\\n            </a>\\r\\n            <div class=\"box-category-content\">\\r\\n                <a class=\"box-category-category\" href=\"/cong-nghe.htm\" title=\"C\\xc3\\xb4ng ngh\\xe1\\xbb\\x87\">C\\xc3\\xb4ng ngh\\xe1\\xbb\\x87</a>\\r\\n                <div class=\"box-content-title\">\\r\\n                    <h3 class=\"box-title-text\" data-comment=\"20230201155225369\">\\r\\n                        <a class=\"box-category-link-title\" data-objecttype=\"\"\\r\\n                            data-type=\"0\"\\r\\n                            data-linktype=\"newsdetail\"\\r\\n                            data-newstype=\"0\"\\r\\n                            data-id=\"20230201155225369\"\\r\\n                            href=\"/mang-xa-hoi-snapchat-bao-lo-nang-20230201155225369.htm\"\\r\\n                            title=\"M&#7841;ng x\\xc3\\xa3 h&#7897;i Snapchat b\\xc3\\xa1o l&#7895; n&#7863;ng\" >M\\xe1\\xba\\xa1ng x\\xc3\\xa3 h\\xe1\\xbb\\x99i Snapchat b\\xc3\\xa1o l\\xe1\\xbb\\x97 n\\xe1\\xba\\xb7ng</a>\\r\\n                    </h3>\\r\\n                </div>\\r\\n                <p data-type=\"sapo\" class=\"box-category-sapo need-trimline\" rel=\"3\">Gi\\xe1\\xbb\\x9bi chuy\\xc3\\xaan gia c\\xe1\\xba\\xa3nh b\\xc3\\xa1o doanh thu \\xe1\\xba\\xa3m \\xc4\\x91\\xe1\\xba\\xa1m c\\xe1\\xbb\\xa7a Snapchat cho th\\xe1\\xba\\xa5y \\'b\\xe1\\xbb\\xa9c tranh \\xc4\\x91\\xc3\\xa1ng lo ng\\xe1\\xba\\xa1i\\' v\\xe1\\xbb\\x81 th\\xe1\\xbb\\xb1c tr\\xe1\\xba\\xa1ng c\\xe1\\xbb\\xa7a th\\xe1\\xbb\\x8b tr\\xc6\\xb0\\xe1\\xbb\\x9dng qu\\xe1\\xba\\xa3ng c\\xc3\\xa1o tr\\xc3\\xaan m\\xe1\\xba\\xa1ng x\\xc3\\xa3 h\\xe1\\xbb\\x99i.</p>\\r\\n            </div>\\r\\n        </div>\\r\\n    \\r\\n        <div class=\"box-category-item\">\\r\\n            <span class=\"time-ago-last-news\" title=\"2023-02-01T15:48:00\"></span>\\r\\n            <a class=\"box-category-link-with-avatar img-resize\"\\r\\n                data-type=\"1\"\\r\\n                data-newstype=\"0\"\\r\\n                href=\"/xe-may-dien-honda-cub-e-sang-cua-ban-tai-viet-nam-nhieu-chi-tiet-hien-dai-20230201111822056.htm\" title=\"Xe m\\xc3\\xa1y \\xc4\\x91i&#7879;n Honda Cub E s\\xc3\\xa1ng c&#7917;a b\\xc3\\xa1n t&#7841;i Vi&#7879;t Nam, nhi&#7873;u chi ti&#7871;t hi&#7879;n \\xc4\\x91&#7841;i h&#7907;p n&#7919; gi&#7899;i\" >\\r\\n                <img data-type=\"avatar\" loading=\"lazy\" src=\"https://cdn.tuoitre.vn/zoom/260_163/471584752817336320/2023/2/1/cub-e-1-16752249058591226761223-122-0-849-1164-crop-16752250550801084201490.png\" alt=\"Xe m\\xc3\\xa1y \\xc4\\x91i&#7879;n Honda Cub E s\\xc3\\xa1ng c&#7917;a b\\xc3\\xa1n t&#7841;i Vi&#7879;t Nam, nhi&#7873;u chi ti&#7871;t hi&#7879;n \\xc4\\x91&#7841;i h&#7907;p n&#7919; gi&#7899;i\" class=\"box-category-avatar\">\\r\\n                \\r\\n            </a>\\r\\n            <div class=\"box-category-content\">\\r\\n                <a class=\"box-category-category\" href=\"/xe.htm\" title=\"Xe\">Xe</a>\\r\\n                <div class=\"box-content-title\">\\r\\n                    <h3 class=\"box-title-text\" data-comment=\"20230201111822056\">\\r\\n                        <a class=\"box-category-link-title\" data-objecttype=\"\"\\r\\n                            data-type=\"1\"\\r\\n                            data-linktype=\"newsdetail\"\\r\\n                            data-newstype=\"0\"\\r\\n                            data-id=\"20230201111822056\"\\r\\n                            href=\"/xe-may-dien-honda-cub-e-sang-cua-ban-tai-viet-nam-nhieu-chi-tiet-hien-dai-20230201111822056.htm\"\\r\\n                            title=\"Xe m\\xc3\\xa1y \\xc4\\x91i&#7879;n Honda Cub E s\\xc3\\xa1ng c&#7917;a b\\xc3\\xa1n t&#7841;i Vi&#7879;t Nam, nhi&#7873;u chi ti&#7871;t hi&#7879;n \\xc4\\x91&#7841;i h&#7907;p n&#7919; gi&#7899;i\" >Xe m\\xc3\\xa1y \\xc4\\x91i\\xe1\\xbb\\x87n Honda Cub E s\\xc3\\xa1ng c\\xe1\\xbb\\xada b\\xc3\\xa1n t\\xe1\\xba\\xa1i Vi\\xe1\\xbb\\x87t Nam, nhi\\xe1\\xbb\\x81u chi ti\\xe1\\xba\\xbft hi\\xe1\\xbb\\x87n \\xc4\\x91\\xe1\\xba\\xa1i h\\xe1\\xbb\\xa3p n\\xe1\\xbb\\xaf gi\\xe1\\xbb\\x9bi</a>\\r\\n                    </h3>\\r\\n                </div>\\r\\n                <p data-type=\"sapo\" class=\"box-category-sapo need-trimline\" rel=\"3\">Ki\\xe1\\xbb\\x83u d\\xc3\\xa1ng d\\xe1\\xbb\\xb1a tr\\xc3\\xaan d\\xc3\\xb2ng Cub huy\\xe1\\xbb\\x81n tho\\xe1\\xba\\xa1i, Honda Cub E s\\xe1\\xbb\\xad d\\xe1\\xbb\\xa5ng \\xc4\\x91\\xe1\\xbb\\x99ng c\\xc6\\xa1 \\xc4\\x91i\\xe1\\xbb\\x87n \\xc4\\x91\\xc3\\xa3 \\xc4\\x91\\xc6\\xb0\\xe1\\xbb\\xa3c \\xc4\\x91\\xc4\\x83ng k\\xc3\\xbd b\\xe1\\xba\\xa3o h\\xe1\\xbb\\x99 ki\\xe1\\xbb\\x83u d\\xc3\\xa1ng c\\xc3\\xb4ng nghi\\xe1\\xbb\\x87p t\\xe1\\xba\\xa1i Vi\\xe1\\xbb\\x87t Nam.</p>\\r\\n            </div>\\r\\n        </div>\\r\\n    \\r\\n        <div class=\"box-category-item\">\\r\\n            <span class=\"time-ago-last-news\" title=\"2023-02-01T15:41:44\"></span>\\r\\n            <a class=\"box-category-link-with-avatar img-resize\"\\r\\n                data-type=\"0\"\\r\\n                data-newstype=\"0\"\\r\\n                href=\"/den-tho-vua-hung-tp-can-tho-tro-thanh-diem-du-lich-tieu-bieu-20230201152918774.htm\" title=\"\\xc4\\x90&#7873;n th&#7901; Vua H\\xc3\\xb9ng TP C&#7847;n Th\\xc6\\xa1 tr&#7903; th\\xc3\\xa0nh \\xc4\\x91i&#7875;m du l&#7883;ch ti\\xc3\\xaau bi&#7875;u\" >\\r\\n                <img data-type=\"avatar\" loading=\"lazy\" src=\"https://cdn.tuoitre.vn/zoom/260_163/471584752817336320/2023/2/1/den-tho-1675239604316383470831-0-71-602-1034-crop-1675239685203372683447.jpg\" alt=\"\\xc4\\x90&#7873;n th&#7901; Vua H\\xc3\\xb9ng TP C&#7847;n Th\\xc6\\xa1 tr&#7903; th\\xc3\\xa0nh \\xc4\\x91i&#7875;m du l&#7883;ch ti\\xc3\\xaau bi&#7875;u\" class=\"box-category-avatar\">\\r\\n                \\r\\n            </a>\\r\\n            <div class=\"box-category-content\">\\r\\n                <a class=\"box-category-category\" href=\"/du-lich.htm\" title=\"Du l\\xe1\\xbb\\x8bch\">Du l\\xe1\\xbb\\x8bch</a>\\r\\n                <div class=\"box-content-title\">\\r\\n                    <h3 class=\"box-title-text\" data-comment=\"20230201152918774\">\\r\\n                        <a class=\"box-category-link-title\" data-objecttype=\"\"\\r\\n                            data-type=\"0\"\\r\\n                            data-linktype=\"newsdetail\"\\r\\n                            data-newstype=\"0\"\\r\\n                            data-id=\"20230201152918774\"\\r\\n                            href=\"/den-tho-vua-hung-tp-can-tho-tro-thanh-diem-du-lich-tieu-bieu-20230201152918774.htm\"\\r\\n                            title=\"\\xc4\\x90&#7873;n th&#7901; Vua H\\xc3\\xb9ng TP C&#7847;n Th\\xc6\\xa1 tr&#7903; th\\xc3\\xa0nh \\xc4\\x91i&#7875;m du l&#7883;ch ti\\xc3\\xaau bi&#7875;u\" >\\xc4\\x90\\xe1\\xbb\\x81n th\\xe1\\xbb\\x9d Vua H\\xc3\\xb9ng TP C\\xe1\\xba\\xa7n Th\\xc6\\xa1 tr\\xe1\\xbb\\x9f th\\xc3\\xa0nh \\xc4\\x91i\\xe1\\xbb\\x83m du l\\xe1\\xbb\\x8bch ti\\xc3\\xaau bi\\xe1\\xbb\\x83u</a>\\r\\n                    </h3>\\r\\n                </div>\\r\\n                <p data-type=\"sapo\" class=\"box-category-sapo need-trimline\" rel=\"3\">\\xc4\\x90\\xe1\\xbb\\x81n th\\xe1\\xbb\\x9d Vua H\\xc3\\xb9ng th\\xc3\\xa0nh ph\\xe1\\xbb\\x91 C\\xe1\\xba\\xa7n Th\\xc6\\xa1 l\\xc3\\xa0 m\\xe1\\xbb\\x99t trong hai \\xc4\\x91i\\xe1\\xbb\\x83m du l\\xe1\\xbb\\x8bch v\\xe1\\xbb\\xaba \\xc4\\x91\\xc6\\xb0\\xe1\\xbb\\xa3c c\\xc3\\xb4ng nh\\xe1\\xba\\xadn ti\\xc3\\xaau bi\\xe1\\xbb\\x83u c\\xe1\\xba\\xa5p th\\xc3\\xa0nh ph\\xe1\\xbb\\x91, n\\xc3\\xa2ng t\\xe1\\xbb\\x95ng s\\xe1\\xbb\\x91 \\xc4\\x91i\\xe1\\xbb\\x83m du l\\xe1\\xbb\\x8bch ti\\xc3\\xaau bi\\xe1\\xbb\\x83u c\\xe1\\xbb\\xa7a C\\xe1\\xba\\xa7n Th\\xc6\\xa1 l\\xc3\\xaan 18.</p>\\r\\n            </div>\\r\\n        </div>\\r\\n    \\r\\n        <div class=\"box-category-item\">\\r\\n            <span class=\"time-ago-last-news\" title=\"2023-02-01T15:41:17\"></span>\\r\\n            <a class=\"box-category-link-with-avatar img-resize\"\\r\\n                data-type=\"0\"\\r\\n                data-newstype=\"0\"\\r\\n                href=\"/du-khach-da-nhan-lai-duoc-vali-bi-cam-nham-tai-san-bay-phu-quoc-20230201145805418.htm\" title=\"Du kh\\xc3\\xa1ch \\xc4\\x91\\xc3\\xa3 nh&#7853;n l&#7841;i \\xc4\\x91\\xc6\\xb0&#7907;c vali b&#7883; &#39;c&#7847;m nh&#7847;m&#39; t&#7841;i s\\xc3\\xa2n bay Ph\\xc3\\xba Qu&#7889;c\" >\\r\\n                <img data-type=\"avatar\" loading=\"lazy\" src=\"https://cdn.tuoitre.vn/zoom/260_163/471584752817336320/2023/2/1/b9af113f1caac7f49ebb-1675238322323923065586-119-0-1369-2000-crop-1675238327746220540263.jpg\" alt=\"Du kh\\xc3\\xa1ch \\xc4\\x91\\xc3\\xa3 nh&#7853;n l&#7841;i \\xc4\\x91\\xc6\\xb0&#7907;c vali b&#7883; &#39;c&#7847;m nh&#7847;m&#39; t&#7841;i s\\xc3\\xa2n bay Ph\\xc3\\xba Qu&#7889;c\" class=\"box-category-avatar\">\\r\\n                \\r\\n            </a>\\r\\n            <div class=\"box-category-content\">\\r\\n                <a class=\"box-category-category\" href=\"/thoi-su.htm\" title=\"Th\\xe1\\xbb\\x9di s\\xe1\\xbb\\xb1\">Th\\xe1\\xbb\\x9di s\\xe1\\xbb\\xb1</a>\\r\\n                <div class=\"box-content-title\">\\r\\n                    <h3 class=\"box-title-text\" data-comment=\"20230201145805418\">\\r\\n                        <a class=\"box-category-link-title\" data-objecttype=\"\"\\r\\n                            data-type=\"0\"\\r\\n                            data-linktype=\"newsdetail\"\\r\\n                            data-newstype=\"0\"\\r\\n                            data-id=\"20230201145805418\"\\r\\n                            href=\"/du-khach-da-nhan-lai-duoc-vali-bi-cam-nham-tai-san-bay-phu-quoc-20230201145805418.htm\"\\r\\n                            title=\"Du kh\\xc3\\xa1ch \\xc4\\x91\\xc3\\xa3 nh&#7853;n l&#7841;i \\xc4\\x91\\xc6\\xb0&#7907;c vali b&#7883; &#39;c&#7847;m nh&#7847;m&#39; t&#7841;i s\\xc3\\xa2n bay Ph\\xc3\\xba Qu&#7889;c\" >Du kh\\xc3\\xa1ch \\xc4\\x91\\xc3\\xa3 nh\\xe1\\xba\\xadn l\\xe1\\xba\\xa1i \\xc4\\x91\\xc6\\xb0\\xe1\\xbb\\xa3c vali b\\xe1\\xbb\\x8b \\'c\\xe1\\xba\\xa7m nh\\xe1\\xba\\xa7m\\' t\\xe1\\xba\\xa1i s\\xc3\\xa2n bay Ph\\xc3\\xba Qu\\xe1\\xbb\\x91c</a>\\r\\n                    </h3>\\r\\n                </div>\\r\\n                <p data-type=\"sapo\" class=\"box-category-sapo need-trimline\" rel=\"3\">Li\\xc3\\xaan quan \\xc4\\x91\\xe1\\xba\\xbfn vi\\xe1\\xbb\\x87c b\\xe1\\xbb\\x8b \\'c\\xe1\\xba\\xa7m nh\\xe1\\xba\\xa7m\\' vali \\xe1\\xbb\\x9f s\\xc3\\xa2n bay Ph\\xc3\\xba Qu\\xe1\\xbb\\x91c, v\\xe1\\xbb\\xa3 ch\\xe1\\xbb\\x93ng du kh\\xc3\\xa1ch ng\\xc6\\xb0\\xe1\\xbb\\x9di H\\xc3\\xa0 N\\xe1\\xbb\\x99i \\xc4\\x91\\xc3\\xa3 nh\\xe1\\xba\\xadn \\xc4\\x91\\xc6\\xb0\\xe1\\xbb\\xa3c vali sau hai ng\\xc3\\xa0y th\\xe1\\xba\\xa5t l\\xe1\\xba\\xa1c.</p>\\r\\n            </div>\\r\\n        </div>\\r\\n    \\r\\n        <div class=\"box-category-item\">\\r\\n            <span class=\"time-ago-last-news\" title=\"2023-02-01T15:34:42\"></span>\\r\\n            <a class=\"box-category-link-with-avatar img-resize\"\\r\\n                data-type=\"0\"\\r\\n                data-newstype=\"0\"\\r\\n                href=\"/bang-duong-vuot-bui-ram-den-thang-canh-roi-te-ngua-20230201151359225.htm\" title=\"B\\xc4\\x83ng \\xc4\\x91\\xc6\\xb0&#7901;ng, v\\xc6\\xb0&#7907;t b&#7909;i r&#7853;m \\xc4\\x91&#7871;n th&#7855;ng c&#7843;nh r&#7891;i&#8230; t\\xc3\\xa9 ng&#7917;a\" >\\r\\n                <img data-type=\"avatar\" loading=\"lazy\" src=\"https://cdn.tuoitre.vn/zoom/260_163/471584752817336320/2023/2/1/figure-eight-pools-anh-instagramjesshendersonntiktok-1675239114780117104662-0-19-402-662-crop-16752391435771678935293.png\" alt=\"B\\xc4\\x83ng \\xc4\\x91\\xc6\\xb0&#7901;ng, v\\xc6\\xb0&#7907;t b&#7909;i r&#7853;m \\xc4\\x91&#7871;n th&#7855;ng c&#7843;nh r&#7891;i&#8230; t\\xc3\\xa9 ng&#7917;a\" class=\"box-category-avatar\">\\r\\n                \\r\\n            </a>\\r\\n            <div class=\"box-category-content\">\\r\\n                <a class=\"box-category-category\" href=\"/du-lich.htm\" title=\"Du l\\xe1\\xbb\\x8bch\">Du l\\xe1\\xbb\\x8bch</a>\\r\\n                <div class=\"box-content-title\">\\r\\n                    <h3 class=\"box-title-text\" data-comment=\"20230201151359225\">\\r\\n                        <a class=\"box-category-link-title\" data-objecttype=\"\"\\r\\n                            data-type=\"0\"\\r\\n                            data-linktype=\"newsdetail\"\\r\\n                            data-newstype=\"0\"\\r\\n                            data-id=\"20230201151359225\"\\r\\n                            href=\"/bang-duong-vuot-bui-ram-den-thang-canh-roi-te-ngua-20230201151359225.htm\"\\r\\n                            title=\"B\\xc4\\x83ng \\xc4\\x91\\xc6\\xb0&#7901;ng, v\\xc6\\xb0&#7907;t b&#7909;i r&#7853;m \\xc4\\x91&#7871;n th&#7855;ng c&#7843;nh r&#7891;i&#8230; t\\xc3\\xa9 ng&#7917;a\" >B\\xc4\\x83ng \\xc4\\x91\\xc6\\xb0\\xe1\\xbb\\x9dng, v\\xc6\\xb0\\xe1\\xbb\\xa3t b\\xe1\\xbb\\xa5i r\\xe1\\xba\\xadm \\xc4\\x91\\xe1\\xba\\xbfn th\\xe1\\xba\\xafng c\\xe1\\xba\\xa3nh r\\xe1\\xbb\\x93i\\xe2\\x80\\xa6 t\\xc3\\xa9 ng\\xe1\\xbb\\xada</a>\\r\\n                    </h3>\\r\\n                </div>\\r\\n                <p data-type=\"sapo\" class=\"box-category-sapo need-trimline\" rel=\"3\">N\\xe1\\xbb\\x97i th\\xe1\\xba\\xa5t v\\xe1\\xbb\\x8dng c\\xe1\\xbb\\xa7a n\\xe1\\xbb\\xaf TikToker khi \\xc4\\x91\\xe1\\xba\\xbfn Figure Eight Pools ch\\xe1\\xbb\\x89 l\\xc3\\xa0 m\\xe1\\xbb\\x99t trong r\\xe1\\xba\\xa5t nhi\\xe1\\xbb\\x81u tr\\xc6\\xb0\\xe1\\xbb\\x9dng h\\xe1\\xbb\\xa3p \\xe1\\xba\\xa3nh m\\xe1\\xba\\xa1ng x\\xc3\\xa3 h\\xe1\\xbb\\x99i l\\xc3\\xa0 m\\xe1\\xbb\\x99t tr\\xe1\\xbb\\x9di m\\xe1\\xbb\\x99t v\\xe1\\xbb\\xb1c so v\\xe1\\xbb\\x9bi th\\xe1\\xbb\\xb1c t\\xe1\\xba\\xbf.</p>\\r\\n            </div>\\r\\n        </div>\\r\\n    \\r\\n        <div class=\"box-category-item\">\\r\\n            <span class=\"time-ago-last-news\" title=\"2023-02-01T15:34:32\"></span>\\r\\n            <a class=\"box-category-link-with-avatar img-resize\"\\r\\n                data-type=\"0\"\\r\\n                data-newstype=\"0\"\\r\\n                href=\"/dieu-tra-vu-mot-cong-an-xa-bi-vay-danh-khi-xac-minh-tin-bao-danh-bac-20230201150550863.htm\" title=\"\\xc4\\x90i&#7873;u tra v&#7909; m&#7897;t c\\xc3\\xb4ng an x\\xc3\\xa3 b&#7883; v\\xc3\\xa2y \\xc4\\x91\\xc3\\xa1nh khi x\\xc3\\xa1c minh tin b\\xc3\\xa1o \\xc4\\x91\\xc3\\xa1nh b&#7841;c\" >\\r\\n                <img data-type=\"avatar\" loading=\"lazy\" src=\"https://cdn.tuoitre.vn/zoom/260_163/471584752817336320/2023/2/1/danh-bac-1-1675238554167335138329-0-0-1229-1966-crop-16752385577981369284152.jpg\" alt=\"\\xc4\\x90i&#7873;u tra v&#7909; m&#7897;t c\\xc3\\xb4ng an x\\xc3\\xa3 b&#7883; v\\xc3\\xa2y \\xc4\\x91\\xc3\\xa1nh khi x\\xc3\\xa1c minh tin b\\xc3\\xa1o \\xc4\\x91\\xc3\\xa1nh b&#7841;c\" class=\"box-category-avatar\">\\r\\n                \\r\\n            </a>\\r\\n            <div class=\"box-category-content\">\\r\\n                <a class=\"box-category-category\" href=\"/phap-luat.htm\" title=\"Ph\\xc3\\xa1p lu\\xe1\\xba\\xadt\">Ph\\xc3\\xa1p lu\\xe1\\xba\\xadt</a>\\r\\n                <div class=\"box-content-title\">\\r\\n                    <h3 class=\"box-title-text\" data-comment=\"20230201150550863\">\\r\\n                        <a class=\"box-category-link-title\" data-objecttype=\"\"\\r\\n                            data-type=\"0\"\\r\\n                            data-linktype=\"newsdetail\"\\r\\n                            data-newstype=\"0\"\\r\\n                            data-id=\"20230201150550863\"\\r\\n                            href=\"/dieu-tra-vu-mot-cong-an-xa-bi-vay-danh-khi-xac-minh-tin-bao-danh-bac-20230201150550863.htm\"\\r\\n                            title=\"\\xc4\\x90i&#7873;u tra v&#7909; m&#7897;t c\\xc3\\xb4ng an x\\xc3\\xa3 b&#7883; v\\xc3\\xa2y \\xc4\\x91\\xc3\\xa1nh khi x\\xc3\\xa1c minh tin b\\xc3\\xa1o \\xc4\\x91\\xc3\\xa1nh b&#7841;c\" >\\xc4\\x90i\\xe1\\xbb\\x81u tra v\\xe1\\xbb\\xa5 m\\xe1\\xbb\\x99t c\\xc3\\xb4ng an x\\xc3\\xa3 b\\xe1\\xbb\\x8b v\\xc3\\xa2y \\xc4\\x91\\xc3\\xa1nh khi x\\xc3\\xa1c minh tin b\\xc3\\xa1o \\xc4\\x91\\xc3\\xa1nh b\\xe1\\xba\\xa1c</a>\\r\\n                    </h3>\\r\\n                </div>\\r\\n                <p data-type=\"sapo\" class=\"box-category-sapo need-trimline\" rel=\"3\">C\\xc3\\xb4ng an \\xc4\\x91ang v\\xc3\\xa0o cu\\xe1\\xbb\\x99c \\xc4\\x91i\\xe1\\xbb\\x81u tra v\\xe1\\xbb\\xa5 vi\\xe1\\xbb\\x87c m\\xe1\\xbb\\x99t c\\xc3\\xa1n b\\xe1\\xbb\\x99 c\\xc3\\xb4ng an x\\xc3\\xa3 \\xe1\\xbb\\x9f Qu\\xe1\\xba\\xa3ng Nam b\\xe1\\xbb\\x8b m\\xe1\\xbb\\x99t s\\xe1\\xbb\\x91 ng\\xc6\\xb0\\xe1\\xbb\\x9di v\\xc3\\xa2y \\xc4\\x91\\xc3\\xa1nh b\\xe1\\xbb\\x8b th\\xc6\\xb0\\xc6\\xa1ng trong l\\xc3\\xbac x\\xc3\\xa1c minh th\\xc3\\xb4ng tin \\xc4\\x91\\xc3\\xa1nh b\\xe1\\xba\\xa1c.</p>\\r\\n            </div>\\r\\n        </div>\\r\\n    \\r\\n        <div class=\"box-category-item\">\\r\\n            <span class=\"time-ago-last-news\" title=\"2023-02-01T15:26:54\"></span>\\r\\n            <a class=\"box-category-link-with-avatar img-resize\"\\r\\n                data-type=\"1\"\\r\\n                data-newstype=\"1\"\\r\\n                href=\"/toyota-wigo-sap-tro-lai-viet-nam-gia-tam-tinh-tu-352-trieu-dong-co-the-giao-xe-thang-6-20230131185523077.htm\" title=\"Toyota Wigo s&#7855;p tr&#7903; l&#7841;i Vi&#7879;t Nam: Gi\\xc3\\xa1 t&#7841;m t\\xc3\\xadnh t&#7915; 352 tri&#7879;u \\xc4\\x91&#7891;ng, c\\xc3\\xb3 th&#7875; giao xe th\\xc3\\xa1ng 6\" >\\r\\n                <img data-type=\"avatar\" loading=\"lazy\" src=\"https://cdn.tuoitre.vn/zoom/260_163/471584752817336320/2023/1/31/6342131529304164111443094n-1675151293740231188355-1675152169948-1675152172173569825469-1675165638345-1675165638735514406182-0-93-1134-1907-crop-1675165981635912764353.jpg\" alt=\"Toyota Wigo s&#7855;p tr&#7903; l&#7841;i Vi&#7879;t Nam: Gi\\xc3\\xa1 t&#7841;m t\\xc3\\xadnh t&#7915; 352 tri&#7879;u \\xc4\\x91&#7891;ng, c\\xc3\\xb3 th&#7875; giao xe th\\xc3\\xa1ng 6\" class=\"box-category-avatar\">\\r\\n                \\r\\n            </a>\\r\\n            <div class=\"box-category-content\">\\r\\n                <a class=\"box-category-category\" href=\"/xe.htm\" title=\"Xe\">Xe</a>\\r\\n                <div class=\"box-content-title\">\\r\\n                    <h3 class=\"box-title-text\" data-comment=\"20230131185523077\">\\r\\n                        <a class=\"box-category-link-title\" data-objecttype=\"\"\\r\\n                            data-type=\"1\"\\r\\n                            data-linktype=\"newsdetail\"\\r\\n                            data-newstype=\"1\"\\r\\n                            data-id=\"20230131185523077\"\\r\\n                            href=\"/toyota-wigo-sap-tro-lai-viet-nam-gia-tam-tinh-tu-352-trieu-dong-co-the-giao-xe-thang-6-20230131185523077.htm\"\\r\\n                            title=\"Toyota Wigo s&#7855;p tr&#7903; l&#7841;i Vi&#7879;t Nam: Gi\\xc3\\xa1 t&#7841;m t\\xc3\\xadnh t&#7915; 352 tri&#7879;u \\xc4\\x91&#7891;ng, c\\xc3\\xb3 th&#7875; giao xe th\\xc3\\xa1ng 6\" >Toyota Wigo s\\xe1\\xba\\xafp tr\\xe1\\xbb\\x9f l\\xe1\\xba\\xa1i Vi\\xe1\\xbb\\x87t Nam: Gi\\xc3\\xa1 t\\xe1\\xba\\xa1m t\\xc3\\xadnh t\\xe1\\xbb\\xab 352 tri\\xe1\\xbb\\x87u \\xc4\\x91\\xe1\\xbb\\x93ng, c\\xc3\\xb3 th\\xe1\\xbb\\x83 giao xe th\\xc3\\xa1ng 6</a>\\r\\n                    </h3>\\r\\n                </div>\\r\\n                <p data-type=\"sapo\" class=\"box-category-sapo need-trimline\" rel=\"3\">Toyota Wigo phi\\xc3\\xaan b\\xe1\\xba\\xa3n m\\xe1\\xbb\\x9bi s\\xe1\\xba\\xbd tr\\xe1\\xbb\\x9f l\\xe1\\xba\\xa1i Vi\\xe1\\xbb\\x87t Nam gi\\xe1\\xbb\\xafa n\\xc4\\x83m nay v\\xe1\\xbb\\x9bi nh\\xe1\\xbb\\xafng thay \\xc4\\x91\\xe1\\xbb\\x95i \\xc4\\x91\\xc3\\xa1ng ch\\xc3\\xba \\xc3\\xbd \\xc4\\x91\\xe1\\xbb\\x83 c\\xe1\\xba\\xa1nh tranh Hyundai Grand i10 v\\xc3\\xa0 Kia Morning.</p>\\r\\n            </div>\\r\\n        </div>\\r\\n    \\r\\n        <div class=\"box-category-item\">\\r\\n            <span class=\"time-ago-last-news\" title=\"2023-02-01T15:14:55\"></span>\\r\\n            <a class=\"box-category-link-with-avatar img-resize\"\\r\\n                data-type=\"0\"\\r\\n                data-newstype=\"0\"\\r\\n                href=\"/13-hanh-vi-bi-nghiem-cam-lien-quan-den-dat-dai-20230201151227952.htm\" title=\"13 h\\xc3\\xa0nh vi b&#7883; nghi\\xc3\\xaam c&#7845;m li\\xc3\\xaan quan \\xc4\\x91&#7871;n \\xc4\\x91&#7845;t \\xc4\\x91ai\" >\\r\\n                <img data-type=\"avatar\" loading=\"lazy\" src=\"https://cdn.tuoitre.vn/zoom/260_163/471584752817336320/2023/1/16/907d0efc88cc4e9217dd-1read-only-1667871934229637947920-16738665899461568290218-92-0-548-730-crop-1673866597071369212017.jpg\" alt=\"13 h\\xc3\\xa0nh vi b&#7883; nghi\\xc3\\xaam c&#7845;m li\\xc3\\xaan quan \\xc4\\x91&#7871;n \\xc4\\x91&#7845;t \\xc4\\x91ai\" class=\"box-category-avatar\">\\r\\n                \\r\\n            </a>\\r\\n            <div class=\"box-category-content\">\\r\\n                <a class=\"box-category-category\" href=\"/nha-dat.htm\" title=\"Nh\\xc3\\xa0 \\xc4\\x91\\xe1\\xba\\xa5t\">Nh\\xc3\\xa0 \\xc4\\x91\\xe1\\xba\\xa5t</a>\\r\\n                <div class=\"box-content-title\">\\r\\n                    <h3 class=\"box-title-text\" data-comment=\"20230201151227952\">\\r\\n                        <a class=\"box-category-link-title\" data-objecttype=\"\"\\r\\n                            data-type=\"0\"\\r\\n                            data-linktype=\"newsdetail\"\\r\\n                            data-newstype=\"0\"\\r\\n                            data-id=\"20230201151227952\"\\r\\n                            href=\"/13-hanh-vi-bi-nghiem-cam-lien-quan-den-dat-dai-20230201151227952.htm\"\\r\\n                            title=\"13 h\\xc3\\xa0nh vi b&#7883; nghi\\xc3\\xaam c&#7845;m li\\xc3\\xaan quan \\xc4\\x91&#7871;n \\xc4\\x91&#7845;t \\xc4\\x91ai\" >13 h\\xc3\\xa0nh vi b\\xe1\\xbb\\x8b nghi\\xc3\\xaam c\\xe1\\xba\\xa5m li\\xc3\\xaan quan \\xc4\\x91\\xe1\\xba\\xbfn \\xc4\\x91\\xe1\\xba\\xa5t \\xc4\\x91ai</a>\\r\\n                    </h3>\\r\\n                </div>\\r\\n                <p data-type=\"sapo\" class=\"box-category-sapo need-trimline\" rel=\"3\">T\\xe1\\xba\\xa1i d\\xe1\\xbb\\xb1 th\\xe1\\xba\\xa3o Lu\\xe1\\xba\\xadt \\xc4\\x91\\xe1\\xba\\xa5t \\xc4\\x91ai (s\\xe1\\xbb\\xada \\xc4\\x91\\xe1\\xbb\\x95i), B\\xe1\\xbb\\x99 T\\xc3\\xa0i nguy\\xc3\\xaan v\\xc3\\xa0 M\\xc3\\xb4i tr\\xc6\\xb0\\xe1\\xbb\\x9dng \\xc4\\x91\\xe1\\xbb\\x81 xu\\xe1\\xba\\xa5t 13 h\\xc3\\xa0nh vi b\\xe1\\xbb\\x8b nghi\\xc3\\xaam c\\xe1\\xba\\xa5m li\\xc3\\xaan quan \\xc4\\x91\\xe1\\xba\\xbfn \\xc4\\x91\\xe1\\xba\\xa5t \\xc4\\x91ai.</p>\\r\\n            </div>\\r\\n        </div>\\r\\n    \\r\\n        <div class=\"box-category-item\">\\r\\n            <span class=\"time-ago-last-news\" title=\"2023-02-01T15:14:38\"></span>\\r\\n            <a class=\"box-category-link-with-avatar img-resize\"\\r\\n                data-type=\"0\"\\r\\n                data-newstype=\"0\"\\r\\n                href=\"/khanh-hoa-gap-rut-sua-chua-san-van-dong-19-8-truoc-mua-giai-v-league-2023-20230201145348155.htm\" title=\"Kh\\xc3\\xa1nh H\\xc3\\xb2a g&#7845;p r\\xc3\\xbat s&#7917;a ch&#7919;a s\\xc3\\xa2n v&#7853;n \\xc4\\x91&#7897;ng 19-8 tr\\xc6\\xb0&#7899;c m\\xc3\\xb9a gi&#7843;i V-League 2023\" >\\r\\n                <img data-type=\"avatar\" loading=\"lazy\" src=\"https://cdn.tuoitre.vn/zoom/260_163/471584752817336320/2023/2/1/dsc-0854-16752372744041087525501-83-0-1333-2000-crop-1675237281907152837905.jpg\" alt=\"Kh\\xc3\\xa1nh H\\xc3\\xb2a g&#7845;p r\\xc3\\xbat s&#7917;a ch&#7919;a s\\xc3\\xa2n v&#7853;n \\xc4\\x91&#7897;ng 19-8 tr\\xc6\\xb0&#7899;c m\\xc3\\xb9a gi&#7843;i V-League 2023\" class=\"box-category-avatar\">\\r\\n                \\r\\n            </a>\\r\\n            <div class=\"box-category-content\">\\r\\n                <a class=\"box-category-category\" href=\"/thoi-su.htm\" title=\"Th\\xe1\\xbb\\x9di s\\xe1\\xbb\\xb1\">Th\\xe1\\xbb\\x9di s\\xe1\\xbb\\xb1</a>\\r\\n                <div class=\"box-content-title\">\\r\\n                    <h3 class=\"box-title-text\" data-comment=\"20230201145348155\">\\r\\n                        <a class=\"box-category-link-title\" data-objecttype=\"\"\\r\\n                            data-type=\"0\"\\r\\n                            data-linktype=\"newsdetail\"\\r\\n                            data-newstype=\"0\"\\r\\n                            data-id=\"20230201145348155\"\\r\\n                            href=\"/khanh-hoa-gap-rut-sua-chua-san-van-dong-19-8-truoc-mua-giai-v-league-2023-20230201145348155.htm\"\\r\\n                            title=\"Kh\\xc3\\xa1nh H\\xc3\\xb2a g&#7845;p r\\xc3\\xbat s&#7917;a ch&#7919;a s\\xc3\\xa2n v&#7853;n \\xc4\\x91&#7897;ng 19-8 tr\\xc6\\xb0&#7899;c m\\xc3\\xb9a gi&#7843;i V-League 2023\" >Kh\\xc3\\xa1nh H\\xc3\\xb2a g\\xe1\\xba\\xa5p r\\xc3\\xbat s\\xe1\\xbb\\xada ch\\xe1\\xbb\\xafa s\\xc3\\xa2n v\\xe1\\xba\\xadn \\xc4\\x91\\xe1\\xbb\\x99ng 19-8 tr\\xc6\\xb0\\xe1\\xbb\\x9bc m\\xc3\\xb9a gi\\xe1\\xba\\xa3i V-League 2023</a>\\r\\n                    </h3>\\r\\n                </div>\\r\\n                <p data-type=\"sapo\" class=\"box-category-sapo need-trimline\" rel=\"3\">Chi\\xe1\\xbb\\x81u 1-2, l\\xc3\\xa3nh \\xc4\\x91\\xe1\\xba\\xa1o S\\xe1\\xbb\\x9f V\\xc4\\x83n h\\xc3\\xb3a - Th\\xe1\\xbb\\x83 thao Kh\\xc3\\xa1nh H\\xc3\\xb2a cho hay d\\xe1\\xbb\\xb1 ki\\xe1\\xba\\xbfn s\\xe1\\xba\\xbd chi kho\\xe1\\xba\\xa3ng 37 t\\xe1\\xbb\\x89 \\xc4\\x91\\xe1\\xbb\\x93ng \\xc4\\x91\\xe1\\xbb\\x83 s\\xe1\\xbb\\xada ch\\xe1\\xbb\\xafa, n\\xc3\\xa2ng c\\xe1\\xba\\xa5p s\\xc3\\xa2n v\\xe1\\xba\\xadn \\xc4\\x91\\xe1\\xbb\\x99ng 19-8 (TP Nha Trang) tr\\xc6\\xb0\\xe1\\xbb\\x9bc m\\xc3\\xb9a gi\\xe1\\xba\\xa3i V-League 2023.</p>\\r\\n            </div>\\r\\n        </div>\\r\\n    \\r\\n        <div class=\"box-category-item\">\\r\\n            <span class=\"time-ago-last-news\" title=\"2023-02-01T15:03:20\"></span>\\r\\n            <a class=\"box-category-link-with-avatar img-resize\"\\r\\n                data-type=\"0\"\\r\\n                data-newstype=\"0\"\\r\\n                href=\"/bat-dong-san-it-nguoi-mua-vi-gia-qua-cao-2023020108581581.htm\" title=\"B&#7845;t \\xc4\\x91&#7897;ng s&#7843;n \\xc3\\xadt ng\\xc6\\xb0&#7901;i mua v\\xc3\\xac gi\\xc3\\xa1 qu\\xc3\\xa1 cao\" >\\r\\n                <img data-type=\"avatar\" loading=\"lazy\" src=\"https://cdn.tuoitre.vn/zoom/260_163/471584752817336320/2023/2/1/bat-dong-san-1675216504403547410045-0-0-1250-2000-crop-1675216540882423654403.jpg\" alt=\"B&#7845;t \\xc4\\x91&#7897;ng s&#7843;n \\xc3\\xadt ng\\xc6\\xb0&#7901;i mua v\\xc3\\xac gi\\xc3\\xa1 qu\\xc3\\xa1 cao\" class=\"box-category-avatar\">\\r\\n                \\r\\n            </a>\\r\\n            <div class=\"box-category-content\">\\r\\n                <a class=\"box-category-category\" href=\"/kinh-doanh.htm\" title=\"Kinh doanh\">Kinh doanh</a>\\r\\n                <div class=\"box-content-title\">\\r\\n                    <h3 class=\"box-title-text\" data-comment=\"2023020108581581\">\\r\\n                        <a class=\"box-category-link-title\" data-objecttype=\"\"\\r\\n                            data-type=\"0\"\\r\\n                            data-linktype=\"newsdetail\"\\r\\n                            data-newstype=\"0\"\\r\\n                            data-id=\"2023020108581581\"\\r\\n                            href=\"/bat-dong-san-it-nguoi-mua-vi-gia-qua-cao-2023020108581581.htm\"\\r\\n                            title=\"B&#7845;t \\xc4\\x91&#7897;ng s&#7843;n \\xc3\\xadt ng\\xc6\\xb0&#7901;i mua v\\xc3\\xac gi\\xc3\\xa1 qu\\xc3\\xa1 cao\" >B\\xe1\\xba\\xa5t \\xc4\\x91\\xe1\\xbb\\x99ng s\\xe1\\xba\\xa3n \\xc3\\xadt ng\\xc6\\xb0\\xe1\\xbb\\x9di mua v\\xc3\\xac gi\\xc3\\xa1 qu\\xc3\\xa1 cao</a>\\r\\n                    </h3>\\r\\n                </div>\\r\\n                <p data-type=\"sapo\" class=\"box-category-sapo need-trimline\" rel=\"3\">Th\\xc3\\xb4ng tin v\\xe1\\xbb\\x81 nh\\xc3\\xa0 \\xe1\\xbb\\x9f v\\xc3\\xa0 th\\xe1\\xbb\\x8b tr\\xc6\\xb0\\xe1\\xbb\\x9dng b\\xe1\\xba\\xa5t \\xc4\\x91\\xe1\\xbb\\x99ng s\\xe1\\xba\\xa3n qu\\xc3\\xbd 4 v\\xc3\\xa0 c\\xe1\\xba\\xa3 n\\xc4\\x83m 2022 v\\xe1\\xbb\\xaba \\xc4\\x91\\xc6\\xb0\\xe1\\xbb\\xa3c B\\xe1\\xbb\\x99 X\\xc3\\xa2y d\\xe1\\xbb\\xb1ng c\\xc3\\xb4ng b\\xe1\\xbb\\x91 cho th\\xe1\\xba\\xa5y trong n\\xc4\\x83m 2022, c\\xe1\\xba\\xa3 n\\xc6\\xb0\\xe1\\xbb\\x9bc ch\\xe1\\xbb\\x89 c\\xc3\\xb3 126 d\\xe1\\xbb\\xb1 \\xc3\\xa1n (quy m\\xc3\\xb4 55.732 ca\\xcc\\x86n h\\xe1\\xbb\\x99) \\xc4\\x91\\xc6\\xb0\\xe1\\xbb\\xa3c c\\xc3\\xa2\\xcc\\x81p phe\\xcc\\x81p.</p>\\r\\n            </div>\\r\\n        </div>\\r\\n    \\r\\n\\r\\n<script>\\r\\n    (runinit = window.runinit || []).push(function () {\\r\\n        $(\".time-ago-last-news\").timeago();\\r\\n    });\\r\\n</script>\\r\\n\\r\\n                                </div>\\r\\n                            </div>\\r\\n                            \\r\\n\\r\\n<div class=\"fb-loading-wrapper\" id=\"IconLoadListDetail\">\\r\\n    <div class=\"fblw-timeline-item\">\\r\\n        <div class=\"fblwti-animated\">\\r\\n            <div class=\"fblwtia-mask fblwtia-title-line fblwtia-title-mask-0\"></div>\\r\\n            <div class=\"fblwtia-mask fblwtia-sepline-sapo fblwtia-sapo-line-0\"></div>\\r\\n            <div class=\"fblwtia-mask fblwtia-sepline-sapo fblwtia-sepline-sapo-0\"></div>\\r\\n            <!-- End .fblwtia-title-line -->\\r\\n            <div class=\"fblwtia-mask fblwtia-title-line fblwtia-title-mask-1\"></div>\\r\\n            <div class=\"fblwtia-mask fblwtia-sepline-sapo fblwtia-sapo-line-1\"></div>\\r\\n            <div class=\"fblwtia-mask fblwtia-sepline-sapo fblwtia-sepline-sapo-1\"></div>\\r\\n            <!-- End .fblwtia-title-line 1 -->\\r\\n            <div class=\"fblwtia-mask fblwtia-front-mask fblwtia-front-mask-2\"></div>\\r\\n            <div class=\"fblwtia-mask fblwtia-sapo-line fblwtia-sapo-line-2\"></div>\\r\\n            <div class=\"fblwtia-mask fblwtia-sepline-sapo fblwtia-sepline-sapo-2\"></div>\\r\\n            <!-- End .fblwtia-cate -->\\r\\n            <div class=\"fblwtia-mask fblwtia-front-mask fblwtia-front-mask-3\"></div>\\r\\n            <div class=\"fblwtia-mask fblwtia-sapo-line fblwtia-sapo-line-3\"></div>\\r\\n            <div class=\"fblwtia-mask fblwtia-sepline-sapo fblwtia-sepline-sapo-3\"></div>\\r\\n            <!-- End .fblwtia-sapo 1 -->\\r\\n            <div class=\"fblwtia-mask fblwtia-front-mask fblwtia-front-mask-4\"></div>\\r\\n            <div class=\"fblwtia-mask fblwtia-sapo-line fblwtia-sapo-line-4\"></div>\\r\\n            <div class=\"fblwtia-mask fblwtia-sepline-sapo fblwtia-sepline-sapo-4\"></div>\\r\\n            <!-- End .fblwtia-sapo 2 -->\\r\\n        </div>\\r\\n    </div>\\r\\n</div>\\r\\n\\r\\n                            <div id=\"elmCheckTopLoadTimeline\" class=\"clearfix\"></div>\\r\\n                            \\r\\n                            <div class=\"box-viewmore\">\\r\\n                                <a href=\"javascript:;\" rel=\"nofollow\" class=\"view-more\">Xem th\\xc3\\xaam</a>\\r\\n                            </div>\\r\\n                            \\r\\n                        </div>\\r\\n                    </div>\\r\\n                    <div class=\"list__search-sub\">\\r\\n                    </div>\\r\\n                </div>\\r\\n            </div>\\r\\n        </div>\\r\\n    </div>\\r\\n    <input type=\"hidden\" name=\"hdZoneId\" id=\"hdZoneId\" value=\"0\" />\\r\\n    <input type=\"hidden\" name=\"hdPageIndex\" id=\"hdPageIndex\" value=\"1\" />\\r\\n\\r\\n\\r\\n                    </div>\\r\\n                    \\r\\n\\r\\n<style>\\r\\n    .footer__m-content .box .list.no-border a {border:none;padding:0}\\r\\n</style>\\r\\n<div class=\"section__muasam\" data-atc=\"atc-nonstar\">\\r\\n    <div class=\"container\">\\r\\n        <div class=\"content-amuasam\" id=\"advfootpage\">\\r\\n        </div>\\r\\n    </div>\\r\\n</div>\\r\\n<div class=\"footer\">\\r\\n    <div class=\"footer__top\">\\r\\n        <div class=\"container\">\\r\\n            <div class=\"footer__nav\">\\r\\n                <ul class=\"menu-nav\">\\r\\n                    <li>\\r\\n                        <a href=\"/\" title=\"Trang ch\\xe1\\xbb\\xa7\" class=\"nav-link\">Trang ch\\xe1\\xbb\\xa7\\r\\n                        </a>\\r\\n                    </li>\\r\\n                    <li>\\r\\n                        <a href=\"https://video.tuoitre.vn\" title=\"MEDIA\" rel=\"nofollow\" target=\"_blank\" class=\"nav-link\">Media\\r\\n                        </a>\\r\\n                    </li>\\r\\n                    <li>\\r\\n                        <a href=\"/thoi-su.htm\" title=\"TH\\xe1\\xbb\\x9cI S\\xe1\\xbb\\xb0\" class=\"nav-link \">Th\\xe1\\xbb\\x9di s\\xe1\\xbb\\xb1\\r\\n                        </a>\\r\\n                    </li>\\r\\n                    <li>\\r\\n                        <a href=\"/the-gioi.htm\" title=\"TH\\xe1\\xba\\xbe GI\\xe1\\xbb\\x9aI\" class=\"nav-link \">Th\\xe1\\xba\\xbf gi\\xe1\\xbb\\x9bi\\r\\n                        </a>\\r\\n                    </li>\\r\\n                    <li>\\r\\n                        <a href=\"/phap-luat.htm\" title=\"PH\\xc3\\x81P LU\\xe1\\xba\\xacT\" class=\"nav-link \">Ph\\xc3\\xa1p lu\\xe1\\xba\\xadt\\r\\n                        </a>\\r\\n                    </li>\\r\\n                    <li>\\r\\n                        <a href=\"/kinh-doanh.htm\" title=\"KINH DOANH\" class=\"nav-link \">Kinh doanh\\r\\n                        </a>\\r\\n                    </li>\\r\\n                    <li>\\r\\n                        <a href=\"/cong-nghe.htm\" title=\"C\\xc3\\x94NG NGH\\xe1\\xbb\\x86\" class=\"nav-link \">C\\xc3\\xb4ng ngh\\xe1\\xbb\\x87\\r\\n                        </a>\\r\\n                    </li>\\r\\n                    <li>\\r\\n                        <a href=\"/xe.htm\" title=\"XE\" class=\"nav-link \">Xe\\r\\n                        </a>\\r\\n                    </li>\\r\\n                    <li>\\r\\n                        <a href=\"/du-lich.htm\" title=\"DU L\\xe1\\xbb\\x8aCH\" class=\"nav-link \">Du l\\xe1\\xbb\\x8bch\\r\\n                        </a>\\r\\n                    </li>\\r\\n                    <li>\\r\\n                        <a href=\"/nhip-song-tre.htm\" title=\"NH\\xe1\\xbb\\x8aP S\\xe1\\xbb\\x90NG TR\\xe1\\xba\\xba\" class=\"nav-link \">Nh\\xe1\\xbb\\x8bp s\\xe1\\xbb\\x91ng tr\\xe1\\xba\\xbb\\r\\n                        </a>\\r\\n                    </li>\\r\\n                    <li>\\r\\n                        <a href=\"/van-hoa.htm\" title=\"V\\xc4\\x82N H\\xc3\\x93A\" class=\"nav-link \">V\\xc4\\x83n h\\xc3\\xb3a\\r\\n                        </a>\\r\\n                    </li>\\r\\n                    <li>\\r\\n                        <a href=\"/giai-tri.htm\" title=\"GI\\xe1\\xba\\xa2I TR\\xc3\\x8d\" class=\"nav-link \">Gi\\xe1\\xba\\xa3i tr\\xc3\\xad\\r\\n                        </a>\\r\\n                    </li>\\r\\n                    <li>\\r\\n                        <a href=\"/the-thao.htm\" title=\"TH\\xe1\\xbb\\x82 THAO\" class=\"nav-link \">Th\\xe1\\xbb\\x83 thao\\r\\n                        </a>\\r\\n                    </li>\\r\\n                    <li>\\r\\n                        <a href=\"/giao-duc.htm\" title=\"GI\\xc3\\x81O D\\xe1\\xbb\\xa4C\" class=\"nav-link \">Gi\\xc3\\xa1o d\\xe1\\xbb\\xa5c\\r\\n                        </a>\\r\\n                    </li>\\r\\n                    <li>\\r\\n                        <a href=\"/khoa-hoc.htm\" title=\"KHOA H\\xe1\\xbb\\x8cC\" class=\"nav-link \">Khoa h\\xe1\\xbb\\x8dc\\r\\n                        </a>\\r\\n                    </li>\\r\\n                    <li>\\r\\n                        <a href=\"/suc-khoe.htm\" title=\"S\\xe1\\xbb\\xa9c kh\\xe1\\xbb\\x8fe\" class=\"nav-link \">S\\xe1\\xbb\\xa9c kh\\xe1\\xbb\\x8fe\\r\\n                        </a>\\r\\n                    </li>\\r\\n                    <li>\\r\\n                        <a href=\"/gia-that.htm\" title=\"Gi\\xe1\\xba\\xa3 th\\xe1\\xba\\xadt\" class=\"nav-link \">Gi\\xe1\\xba\\xa3 th\\xe1\\xba\\xadt\\r\\n                        </a>\\r\\n                    </li>\\r\\n                    <li>\\r\\n                        <a href=\"/ban-doc.htm\" title=\"B\\xe1\\xba\\xa1n \\xc4\\x91\\xe1\\xbb\\x8dc\" class=\"nav-link \">B\\xe1\\xba\\xa1n \\xc4\\x91\\xe1\\xbb\\x8dc\\r\\n                        </a>\\r\\n                    </li>\\r\\n                </ul>\\r\\n            </div>\\r\\n        </div>\\r\\n    </div>\\r\\n    <div class=\"footer__middle\">\\r\\n        <div class=\"container\">\\r\\n            <div class=\"footer__middle-flex\">\\r\\n\\r\\n                <div class=\"footer__logo\">\\r\\n                    <a href=\"/\" title=\"Tu\\xe1\\xbb\\x95i tr\\xe1\\xba\\xbb Online\" class=\"logo\">\\r\\n                        \\r\\n                    </a>\\r\\n                    <div class=\"list-social\">\\r\\n                        <a href=\"https://www.youtube.com/channel/UCrwJa6KRHWnJpJPZNeKKcvA\" title=\"Quan t\\xc3\\xa2m Tu\\xe1\\xbb\\x95i Tr\\xe1\\xba\\xbb tr\\xc3\\xaan Youtube\" target=\"_blank\" rel=\"nofollow\" class=\"icon\">\\r\\n                            <svg width=\"24\" height=\"25\" viewBox=\"0 0 24 25\" fill=\"none\" xmlns=\"http://www.w3.org/2000/svg\">\\r\\n                                <rect x=\"0.5\" y=\"1.16699\" width=\"23\" height=\"23\" rx=\"11.5\" stroke=\"#666666\"></rect>\\r\\n                                <path fill-rule=\"evenodd\" clip-rule=\"evenodd\" d=\"M6.75984 16.9011C6.52448 16.8314 6.30973 16.7076 6.13372 16.5399C5.9577 16.3722 5.82559 16.1657 5.74851 15.9377C5.3081 14.7594 5.1776 9.83915 6.02581 8.86784C6.30811 8.55186 6.70668 8.35732 7.13501 8.32645C9.41049 8.0876 16.4408 8.11945 17.2483 8.40606C17.4754 8.47799 17.6828 8.59915 17.8552 8.76047C18.0275 8.92178 18.1602 9.11908 18.2433 9.33757C18.7245 10.5557 18.7408 14.9823 18.178 16.1527C18.0287 16.4573 17.7788 16.7041 17.4685 16.8533C16.6203 17.2673 7.88534 17.2594 6.75984 16.9011ZM10.3729 14.5922L14.4508 12.5222L10.3729 10.4363V14.5922Z\" fill=\"#666666\"></path>\\r\\n                            </svg>\\r\\n\\r\\n                        </a>\\r\\n                        \\r\\n                        <a href=\"https://www.instagram.com/baotuoitre/\" title=\"Quan t\\xc3\\xa2m Tu\\xe1\\xbb\\x95i Tr\\xe1\\xba\\xbb tr\\xc3\\xaan Instagram\" target=\"_blank\" rel=\"nofollow\" class=\"icon\">\\r\\n                            <svg width=\"24\" height=\"24\" viewBox=\"0 0 24 24\" fill=\"none\" xmlns=\"http://www.w3.org/2000/svg\">\\r\\n                                <rect x=\"0.5\" y=\"0.5\" width=\"23\" height=\"23\" rx=\"11.5\" stroke=\"#565656\" />\\r\\n                                <path d=\"M17.6 11.8C17.6 13.1377 17.6 14.4754 17.6 15.813C17.6 16.8852 16.875 17.6 15.813 17.6C13.1377 17.6 10.4725 17.6 7.79718 17.6C6.725 17.6 6 16.875 6 15.813C6 13.1377 6 10.4725 6 7.79718C6 6.725 6.725 6 7.78697 6C10.4623 6 13.1275 6 15.8028 6C16.875 6 17.5898 6.725 17.5898 7.78697C17.6 9.12465 17.6 10.4623 17.6 11.8ZM14.8532 11.8102C14.843 10.1151 13.4644 8.75704 11.7694 8.76725C10.1049 8.77746 8.74683 10.1458 8.74683 11.8204C8.74683 13.5155 10.1254 14.8838 11.8204 14.8838C13.4951 14.8736 14.8634 13.4951 14.8532 11.8102ZM15.5373 8.76725C15.9049 8.76725 16.2113 8.46092 16.2113 8.0831C16.2113 7.70528 15.9049 7.40915 15.5373 7.40915C15.1697 7.40915 14.8634 7.71549 14.8634 8.09331C14.8634 8.46092 15.1697 8.76725 15.5373 8.76725Z\" fill=\"#565656\" />\\r\\n                                <path d=\"M9.42065 11.8323C9.42065 10.5253 10.4826 9.45312 11.7897 9.45312C13.1069 9.45312 14.1791 10.5253 14.1791 11.8426C14.1689 13.1394 13.1069 14.2014 11.7999 14.2014C10.4928 14.2014 9.42065 13.1394 9.42065 11.8323Z\" fill=\"#565656\" />\\r\\n                            </svg>\\r\\n                        </a>\\r\\n                        <a href=\"https://www.facebook.com/baotuoitre\" title=\"Quan t\\xc3\\xa2m Tu\\xe1\\xbb\\x95i Tr\\xe1\\xba\\xbb tr\\xc3\\xaan Facebook\" target=\"_blank\" rel=\"nofollow\" class=\"icon\">\\r\\n                            <svg width=\"24\" height=\"25\" viewBox=\"0 0 24 25\" fill=\"none\" xmlns=\"http://www.w3.org/2000/svg\">\\r\\n                                <rect x=\"0.5\" y=\"1.16699\" width=\"23\" height=\"23\" rx=\"11.5\" stroke=\"#666666\"></rect>\\r\\n                                <path d=\"M12.9966 12.8847H15.2299L15.5805 10.6021H12.9961V9.35462C12.9961 8.40641 13.3041 7.56559 14.1857 7.56559H15.6023V5.57366C15.3534 5.53985 14.827 5.46582 13.8323 5.46582C11.7553 5.46582 10.5375 6.5694 10.5375 9.08364V10.6021H8.40234V12.8847H10.5375V19.1584C10.9604 19.2224 11.3887 19.2658 11.8284 19.2658C12.2258 19.2658 12.6137 19.2293 12.9966 19.1772V12.8847Z\" fill=\"#666666\"></path>\\r\\n                            </svg>\\r\\n\\r\\n                        </a>\\r\\n                    </div>\\r\\n                </div>\\r\\n\\r\\n                <div class=\"footer__m-content\">\\r\\n                    <div class=\"box\">\\r\\n                        <p class=\"text\">\\r\\n                            T\\xe1\\xbb\\x95ng bi\\xc3\\xaan t\\xe1\\xba\\xadp: L\\xc3\\xaa Th\\xe1\\xba\\xbf Ch\\xe1\\xbb\\xaf\\r\\n                        </p>\\r\\n                        <p class=\"text\">\\r\\n                            Gi\\xe1\\xba\\xa5y ph\\xc3\\xa9p ho\\xe1\\xba\\xa1t \\xc4\\x91\\xe1\\xbb\\x99ng b\\xc3\\xa1o \\xc4\\x91i\\xe1\\xbb\\x87n t\\xe1\\xbb\\xad ti\\xe1\\xba\\xbfng Vi\\xe1\\xbb\\x87t, ti\\xe1\\xba\\xbfng Anh S\\xe1\\xbb\\x91 561/GP-BTTTT, c\\xe1\\xba\\xa5p ng\\xc3\\xa0y 25-11-2022.\\r\\n                        </p>\\r\\n                        <div class=\"list no-border\">\\r\\n                            <a href=\"/thong-tin-toa-soan.htm\" title=\"Th\\xc3\\xb4ng tin t\\xc3\\xb2a so\\xe1\\xba\\xa1n\">Th\\xc3\\xb4ng tin t\\xc3\\xb2a so\\xe1\\xba\\xa1n - </a>\\r\\n                            <a href=\"http://www.thanhdoan.hochiminhcity.gov.vn\" title=\"Th\\xc3\\xa0nh \\xc4\\x90o\\xc3\\xa0n TP.HCM\" rel=\"nofollow\" target=\"_blank\">Th\\xc3\\xa0nh \\xc4\\x90o\\xc3\\xa0n TP.HCM</a>\\r\\n                        </div>\\r\\n                    </div>\\r\\n                    <div class=\"box\">\\r\\n                        <p class=\"text\">\\r\\n                            \\xc4\\x90\\xe1\\xbb\\x8ba ch\\xe1\\xbb\\x89: 60A Ho\\xc3\\xa0ng V\\xc4\\x83n Th\\xe1\\xbb\\xa5, P.9, Q.Ph\\xc3\\xba Nhu\\xe1\\xba\\xadn, Tp. H\\xe1\\xbb\\x93 Ch\\xc3\\xad Minh\\r\\n                        </p>\\r\\n                        <p class=\"text\">\\r\\n                            Hotline: 0918.033.133 - Email: tto@tuoitre.com.vn\\r\\n                        </p>\\r\\n                        <p class=\"text\">\\r\\n                            Ph\\xc3\\xb2ng Qu\\xe1\\xba\\xa3ng C\\xc3\\xa1o B\\xc3\\xa1o Tu\\xe1\\xbb\\x95i Tr\\xe1\\xba\\xbb:  028.39974848\\r\\n                        </p>\\r\\n                        <div class=\"list\">\\r\\n                            <a rel=\"nofollow\" target=\"_blank\" href=\" https://quangcao.tuoitre.vn\" title=\"Li\\xc3\\xaan h\\xe1\\xbb\\x87 Qu\\xe1\\xba\\xa3ng c\\xc3\\xa1o\">Li\\xc3\\xaan h\\xe1\\xbb\\x87 Qu\\xe1\\xba\\xa3ng c\\xc3\\xa1o</a>\\r\\n                            <a href=\"javascript:;\" title=\"\\xc4\\x90i\\xe1\\xbb\\x81u kho\\xe1\\xba\\xa3n b\\xe1\\xba\\xa3o m\\xe1\\xba\\xadt\">\\xc4\\x90i\\xe1\\xbb\\x81u kho\\xe1\\xba\\xa3n b\\xe1\\xba\\xa3o m\\xe1\\xba\\xadt</a>\\r\\n                            <a href=\"https://docs.google.com/forms/d/e/1FAIpQLScSRj-Bxm1t6roko_ocQlUSZCnei3a03IdoOpPQ9-lp2McaKw/viewform\" rel=\"nofollow\" target=\"_blank\" title=\"Li\\xc3\\xaan h\\xe1\\xbb\\x87 g\\xc3\\xb3p \\xc3\\xbd\">Li\\xc3\\xaan h\\xe1\\xbb\\x87 g\\xc3\\xb3p \\xc3\\xbd</a>\\r\\n                        </div>\\r\\n                    </div>\\r\\n                </div>\\r\\n\\r\\n                <div class=\"footer__m-right\">\\r\\n                    <p class=\"title\">\\xc4\\x90\\xc4\\x83ng k\\xc3\\xbd nh\\xe1\\xba\\xadn b\\xe1\\xba\\xa3n tin h\\xc3\\xa0ng ng\\xc3\\xa0y</p>\\r\\n                    <p class=\"note\">\\r\\n                        Nh\\xe1\\xbb\\xafng tin t\\xe1\\xbb\\xa9c s\\xc3\\xbac t\\xc3\\xadch, d\\xe1\\xbb\\x85 hi\\xe1\\xbb\\x83u & ho\\xc3\\xa0n to\\xc3\\xa0n mi\\xe1\\xbb\\x85n ph\\xc3\\xad\\r\\n                    </p>\\r\\n                    <div class=\"form-note\">\\r\\n                        <input class=\"btn\" id=\"txtEmailQA\" placeholder=\"Nh\\xe1\\xba\\xadp email c\\xe1\\xbb\\xa7a b\\xe1\\xba\\xa1n\" />\\r\\n                        <a id=\"showModalSendEmail\" href=\"javascript:;\" class=\"submit\">\\xc4\\x90\\xc4\\x83ng k\\xc3\\xbd</a>\\r\\n                    </div>\\r\\n                </div>\\r\\n            </div>\\r\\n        </div>\\r\\n    </div>\\r\\n\\r\\n    <div class=\"footer__coppy\">\\r\\n        <div class=\"container\">\\r\\n            <div class=\"footer__coppy-flex\">\\r\\n                <p class=\"text\">\\r\\n                    \\xc2\\xa9 Copyright 2022 TuoiTre Online, All rights reserved \\xc2\\xae Tu\\xe1\\xbb\\x95i Tr\\xe1\\xba\\xbb Online gi\\xe1\\xbb\\xaf b\\xe1\\xba\\xa3n quy\\xe1\\xbb\\x81n n\\xe1\\xbb\\x99i dung tr\\xc3\\xaan website n\\xc3\\xa0y\\r\\n                </p>\\r\\n            </div>\\r\\n        </div>\\r\\n    </div>\\r\\n\\r\\n    <div class=\"bannerballoon\" id=\"BalloonAdsPc\">\\r\\n        \\r\\n<div class=\"clearfix \" data-atc=\"atc-nonstar\">\\r\\n    <zone id=\"jmg1jsy2\"></zone>\\r\\n    <script>\\r\\n        if (is_iPadScreen != null && widthScreen < 1024) { } else\\r\\n            arfAsync.push(\"jmg1jsy2\");\\r\\n    </script>\\r\\n</div>\\r\\n\\r\\n    </div>\\r\\n</div>\\r\\n\\r\\n<div class=\"wrapPopup\" id=\"infoForm\">\\r\\n    <div class=\"popup\">\\r\\n        <div class=\"centerPopup\">\\r\\n            <section>\\r\\n                <header>\\r\\n                    <p>Th\\xc3\\xb4ng tin c\\xe1\\xbb\\xa7a b\\xe1\\xba\\xa1n</p>\\r\\n                    <a href=\"javascript:void(0);\" title=\"\\xc4\\x90\\xc3\\xb3ng\" class=\"closepp\" onclick=\"comment.closePopup(\\'infoForm\\')\"></a>\\r\\n                </header>\\r\\n                <div class=\"content\">\\r\\n                    <div class=\"frm-1\" id=\"frm-comment\">\\r\\n                        <div class=\"form-group\">\\r\\n                            <span>Email</span>\\r\\n                            <input id=\"cm-email\" name=\"cm-email\" type=\"email\" class=\"form-control\" placeholder=\"E-mail (*)\">\\r\\n                            <p class=\"warning email-warning1\">Vui l\\xc3\\xb2ng nh\\xe1\\xba\\xadp Email</p>\\r\\n                            <p class=\"warning email-warning2\">Email Kh\\xc3\\xb4ng \\xc4\\x91\\xc3\\xbang \\xc4\\x91\\xe1\\xbb\\x8bnh d\\xe1\\xba\\xa1ng</p>\\r\\n                        </div>\\r\\n                        <div class=\"form-group\">\\r\\n                            <span>H\\xe1\\xbb\\x8d v\\xc3\\xa0 t\\xc3\\xaan</span>\\r\\n                            <input id=\"cm-name\" type=\"text\" name=\"cm-name\" class=\"form-control\" placeholder=\"H\\xe1\\xbb\\x8d &amp; t\\xc3\\xaan (*)\">\\r\\n                            <p class=\"warning name-warning\">Vui l\\xc3\\xb2ng nh\\xe1\\xba\\xadp H\\xe1\\xbb\\x8d &amp; T\\xc3\\xaan.</p>\\r\\n                        </div>\\r\\n                        \\r\\n\\r\\n                        <div class=\"form-group clboth\">\\r\\n                            <button type=\"button\" id=\"btn-info\" name=\"btn-info\" class=\"btn btn-danger\">G\\xe1\\xbb\\xadi b\\xc3\\xacnh lu\\xe1\\xba\\xadn</button>\\r\\n                            <input type=\"hidden\" id=\"cm-content\" name=\"cm-content\" value=\"\" />\\r\\n                            \\r\\n                            <input type=\"hidden\" id=\"cm-pid\" name=\"cm-pid\" value=\"0\" />\\r\\n                        </div>\\r\\n                    </div>\\r\\n                </div>\\r\\n            </section>\\r\\n        </div>\\r\\n    </div>\\r\\n</div>\\r\\n<div class=\"wrapPopup\" id=\"errorForm\">\\r\\n    <div class=\"popup\">\\r\\n        <div class=\"centerPopup\">\\r\\n            <section>\\r\\n                <header>\\r\\n                    <p>Th\\xc3\\xb4ng b\\xc3\\xa1o</p>\\r\\n                    <a href=\"javascript:;\" title=\"\\xc4\\x90\\xc3\\xb3ng\" class=\"closepp\" onclick=\"closePopup(\\'errorForm\\')\"></a>\\r\\n                </header>\\r\\n                <div class=\"content\">\\r\\n                    B\\xe1\\xba\\xa1n vui l\\xc3\\xb2ng \\xc4\\x91\\xe1\\xbb\\xa3i <span class=\"timeout\">0</span>s \\xc4\\x91\\xe1\\xbb\\x83 ti\\xe1\\xba\\xbfp t\\xe1\\xbb\\xa5c comment\\r\\n                </div>\\r\\n            </section>\\r\\n        </div>\\r\\n    </div>\\r\\n</div>\\r\\n<div class=\"wrapPopup\" id=\"successForm\">\\r\\n    <div class=\"popup\">\\r\\n        <div class=\"centerPopup\">\\r\\n            <section>\\r\\n                <header>\\r\\n                    <p>Th\\xc3\\xb4ng b\\xc3\\xa1o</p>\\r\\n                    <a href=\"javascript:;\" title=\"\\xc4\\x90\\xc3\\xb3ng\" class=\"closepp\" onclick=\"comment.closePopup(\\'successForm\\')\"></a>\\r\\n                </header>\\r\\n                <div class=\"content\">\\r\\n                    B\\xc3\\xacnh lu\\xe1\\xba\\xadn \\xc4\\x91\\xc6\\xb0\\xe1\\xbb\\xa3c g\\xe1\\xbb\\xadi th\\xc3\\xa0nh c\\xc3\\xb4ng\\r\\n                </div>\\r\\n            </section>\\r\\n        </div>\\r\\n    </div>\\r\\n</div>\\r\\n<div class=\"wrapPopup\" id=\"loginForm\">\\r\\n    <div class=\"popup\">\\r\\n        <div class=\"centerPopup\">\\r\\n            <section>\\r\\n                <div class=\"content\">\\r\\n                    <div class=\"frm-1\" id=\"frm-login\">\\r\\n                        <ul class=\"nav nav-tabs\">\\r\\n                            <li class=\"nav-item section-guest\">\\r\\n                                <a class=\"nav-link\" data-item=\"tab-guest\" href=\"javascript:;\" rel=\"nofollow\">B\\xc3\\xacnh lu\\xe1\\xba\\xadn</a>\\r\\n                            </li>\\r\\n                            <li class=\"nav-item\">\\r\\n                                <a class=\"nav-link active\" data-item=\"tab-login\" href=\"javascript:;\" rel=\"nofollow\"><i class=\"icon-reg-user\"></i>\\xc4\\x90\\xc4\\x83ng nh\\xe1\\xba\\xadp</a>\\r\\n                            </li>\\r\\n                            <li class=\"nav-item\">\\r\\n                                <a class=\"nav-link\" data-item=\"tab-register\" href=\"javascript:;\" rel=\"nofollow\"><i class=\"icon-reg-user\"></i>T\\xe1\\xba\\xa1o t\\xc3\\xa0i kho\\xe1\\xba\\xa3n</a>\\r\\n                            </li>\\r\\n                            <li class=\"nav-close\">\\r\\n                                <a href=\"javascript:void(0);\" title=\"\\xc4\\x90\\xc3\\xb3ng\" class=\"closepp\" onclick=\"comment.closePopup(\\'loginForm\\')\">\\r\\n                                    <svg width=\"24\" height=\"24\" viewBox=\"0 0 24 24\" fill=\"none\" xmlns=\"http://www.w3.org/2000/svg\">\\r\\n                                        <path fill-rule=\"evenodd\" clip-rule=\"evenodd\" d=\"M4.46967 4.46967C4.76256 4.17678 5.23744 4.17678 5.53033 4.46967L18.5303 17.4697C18.8232 17.7626 18.8232 18.2374 18.5303 18.5303C18.2374 18.8232 17.7626 18.8232 17.4697 18.5303L4.46967 5.53033C4.17678 5.23744 4.17678 4.76256 4.46967 4.46967Z\" fill=\"#656565\"></path>\\r\\n                                        <path fill-rule=\"evenodd\" clip-rule=\"evenodd\" d=\"M18.5303 4.46967C18.2374 4.17678 17.7626 4.17678 17.4697 4.46967L4.46967 17.4697C4.17678 17.7626 4.17678 18.2374 4.46967 18.5303C4.76256 18.8232 5.23744 18.8232 5.53033 18.5303L18.5303 5.53033C18.8232 5.23744 18.8232 4.76256 18.5303 4.46967Z\" fill=\"#656565\"></path>\\r\\n                                    </svg></a>\\r\\n                            </li>\\r\\n                        </ul>\\r\\n                        <div class=\"tab-content tab-guest\" id=\"tabGuest\">\\r\\n                            <div class=\"form-group guest-desc\">\\r\\n                                <div class=\"guest-icon\"><i class=\"icon-guest\"></i></div>\\r\\n                                <span class=\"guest-desc-header\">Th\\xc3\\xb4ng tin b\\xe1\\xba\\xa1n \\xc4\\x91\\xe1\\xbb\\x8dc</span>\\r\\n                                <span class=\"guest-desc-content\">Th\\xc3\\xb4ng tin c\\xe1\\xbb\\xa7a b\\xe1\\xba\\xa1n \\xc4\\x91\\xe1\\xbb\\x8dc s\\xe1\\xba\\xbd \\xc4\\x91\\xc6\\xb0\\xe1\\xbb\\xa3c b\\xe1\\xba\\xa3o m\\xe1\\xba\\xadt an to\\xc3\\xa0n v\\xc3\\xa0 ch\\xe1\\xbb\\x89 s\\xe1\\xbb\\xad d\\xe1\\xbb\\xa5ng trong tr\\xc6\\xb0\\xe1\\xbb\\x9dng h\\xe1\\xbb\\xa3p to\\xc3\\xa0 so\\xe1\\xba\\xa1n c\\xe1\\xba\\xa7n thi\\xe1\\xba\\xbft \\xc4\\x91\\xe1\\xbb\\x83 li\\xc3\\xaan l\\xe1\\xba\\xa1c v\\xe1\\xbb\\x9bi b\\xe1\\xba\\xa1n.</span>\\r\\n                            </div>\\r\\n                            <div class=\"form-group\">\\r\\n                                <span class=\"label\">T\\xc3\\xaan c\\xe1\\xbb\\xa7a b\\xe1\\xba\\xa1n</span>\\r\\n                                <input id=\"cm-guestname\" type=\"text\" name=\"rg-name\" class=\"form-control\" data-elementtype=\"name\" data-input=\"cm-guestname\" placeholder=\"T\\xc3\\xaan hi\\xe1\\xbb\\x83n th\\xe1\\xbb\\x8b\">\\r\\n                                <p class=\"warning name-warning\">Vui l\\xc3\\xb2ng nh\\xe1\\xba\\xadp T\\xc3\\xaan hi\\xe1\\xbb\\x83n th\\xe1\\xbb\\x8b</p>\\r\\n                            </div>\\r\\n                            <div class=\"form-group\">\\r\\n                                <span class=\"label\">Email</span>\\r\\n                                <input id=\"cm-guestemail\" name=\"rg-email\" type=\"email\" class=\"form-control\" data-elementtype=\"email\" data-input=\"cm-guestemail\" placeholder=\"Email\">\\r\\n                                <p class=\"warning email-warning1\">Vui l\\xc3\\xb2ng nh\\xe1\\xba\\xadp Email</p>\\r\\n                                <p class=\"warning email-warning2\">Email Kh\\xc3\\xb4ng \\xc4\\x91\\xc3\\xbang \\xc4\\x91\\xe1\\xbb\\x8bnh d\\xe1\\xba\\xa1ng</p>\\r\\n                            </div>\\r\\n                            <div class=\"form-group\">\\r\\n                                <span class=\"label\">M\\xc3\\xa3 x\\xc3\\xa1c nh\\xe1\\xba\\xadn</span>\\r\\n                                <div class=\"row-capcha\">\\r\\n                                    <input id=\"cm-guestcaptcha\" data-input=\"cm-guestcaptcha\" type=\"text\" name=\"txt-captcha\" class=\"form-control txtcaptchalogin\" placeholder=\"M\\xc3\\xa3 x\\xc3\\xa1c nh\\xe1\\xba\\xadn\">\\r\\n                                    <img id=\"cm-img-captcha\" class=\"imgcaptcha imgcaptchalogin\" src=\"data:image/gif;base64,R0lGODlhAQABAIAAAAAAAP///yH5BAEAAAAALAAAAAABAAEAAAIBRAA7\" alt=\"\" title=\"Click \\xc4\\x91\\xe1\\xbb\\x83 l\\xe1\\xba\\xa5y m\\xc3\\xa3 kh\\xc3\\xa1c\" />\\r\\n                                    <a id=\"cm-refresh-captcha\" class=\"resetcaptcha\">\\r\\n                                        <svg width=\"24\" height=\"24\" viewBox=\"0 0 24 24\" fill=\"none\" xmlns=\"http://www.w3.org/2000/svg\">\\r\\n                                            <path d=\"M18.3301 6.70117C18.3301 5.66702 18.3301 4.75987 18.3301 3.85272C18.3301 3.43543 18.5479 3.16329 18.9382 3.04536C19.3012 2.94557 19.6371 3.05443 19.8458 3.381C19.9366 3.52615 19.991 3.71665 19.991 3.88901C20.0001 5.31323 20.0092 6.72839 19.991 8.15261C19.982 9.04162 19.4192 9.72198 18.5298 9.75827C17.0231 9.82177 15.5073 9.80363 13.9916 9.78548C13.5015 9.77641 13.1747 9.35912 13.2019 8.90555C13.2292 8.45197 13.5831 8.11633 14.0823 8.10726C15.0898 8.09818 16.1064 8.10726 17.1865 8.10726C17.0957 7.97118 17.0412 7.8714 16.9777 7.78068C15.8159 6.33831 14.4545 5.1953 12.5666 4.80523C8.85437 4.07044 5.17845 6.73746 4.75186 10.5293C4.36158 13.9765 6.26761 17.079 9.42618 18.0224C11.904 18.7663 14.0733 18.1313 15.9611 16.4258C16.061 16.3351 16.1518 16.2353 16.2516 16.1355C16.6691 15.7092 17.1683 15.6638 17.5314 16.0085C17.9126 16.3714 17.8944 16.825 17.486 17.2876C14.7358 20.3901 9.93445 20.9072 6.53082 18.4488C1.24839 14.6387 2.03803 6.39274 7.94673 3.72572C11.187 2.26521 14.8901 3.05443 17.4497 5.73959C17.7129 6.02988 17.9761 6.32017 18.3301 6.70117Z\" fill=\"#8F8F8F\"></path>\\r\\n                                        </svg></a>\\r\\n                                </div>\\r\\n                                <p class=\"warning captcha-warning\">Vui l\\xc3\\xb2ng nh\\xe1\\xba\\xadp m\\xc3\\xa3 x\\xc3\\xa1c nh\\xe1\\xba\\xadn.</p>\\r\\n                            </div>\\r\\n                            <div class=\"form-group mgt8 clearfix\">\\r\\n                                <button type=\"button\" id=\"btn-send-comment\" name=\"btn-send-comment\" class=\"btn btn-secondary\" data-elementtype=\"send-comment\" data-act=\"guestsend\">G\\xe1\\xbb\\xadi b\\xc3\\xacnh lu\\xe1\\xba\\xadn</button>\\r\\n                                <button type=\"button\" id=\"btn-close-comment\" name=\"btn-close-comment\" class=\"btn btn-secondary\" onclick=\"comment.closePopup(\\'loginForm\\')\">\\xc4\\x90\\xc3\\xb3ng</button>\\r\\n                            </div>\\r\\n                            <div class=\"form-group guest-bottom\">\\r\\n                                \\r\\n                                <a href=\"javascript:void(0);\" rel=\"nofollow\" class=\"btn btn-link\" data-atc=\"login\">B\\xe1\\xba\\xa1n \\xc4\\x91\\xc3\\xa3 c\\xc3\\xb3 t\\xc3\\xa0i kho\\xe1\\xba\\xa3n? <b>\\xc4\\x90\\xc4\\x83ng nh\\xe1\\xba\\xadp</b> ngay</a>\\r\\n                                \\r\\n                            </div>\\r\\n                        </div>\\r\\n                        <div class=\"tab-content tab-login active\" id=\"tabLogin\">\\r\\n                            <div class=\"form-group\">\\r\\n                                <span class=\"label\">Email</span>\\r\\n                                <input id=\"lg-email\" name=\"lg-email\" type=\"email\" class=\"form-control\" placeholder=\"Email \\xc4\\x91\\xc4\\x83ng nh\\xe1\\xba\\xadp\" data-elementtype=\"email\">\\r\\n                                <p class=\"warning email-warning1\">Vui l\\xc3\\xb2ng nh\\xe1\\xba\\xadp Email</p>\\r\\n                                <p class=\"warning email-warning2\">Email Kh\\xc3\\xb4ng \\xc4\\x91\\xc3\\xbang \\xc4\\x91\\xe1\\xbb\\x8bnh d\\xe1\\xba\\xa1ng</p>\\r\\n                            </div>\\r\\n                            <div class=\"form-group\">\\r\\n                                <span class=\"label\">M\\xe1\\xba\\xadt kh\\xe1\\xba\\xa9u</span>\\r\\n                                <div class=\"formpass\">\\r\\n                                    <input id=\"lg-password\" type=\"password\" name=\"lg-password\" class=\"form-control\" data-elementtype=\"password\" placeholder=\"Nh\\xe1\\xba\\xadp m\\xe1\\xba\\xadt kh\\xe1\\xba\\xa9u\">\\r\\n                                    <a class=\"show-pass\" href=\"javascript:;\" rel=\"nofollow\" onclick=\"checkShowPass(this);\">\\r\\n                                        <svg width=\"16\" height=\"16\" viewBox=\"0 0 16 16\" fill=\"none\" xmlns=\"http://www.w3.org/2000/svg\">\\r\\n                                            <path d=\"M1.33325 7.89248C1.47582 7.68938 1.60101 7.47251 1.75749 7.28319C2.60945 6.25738 3.60745 5.40024 4.8141 4.79439C5.63824 4.38131 6.5041 4.1197 7.42561 4.03364C9.21298 3.86497 10.8334 4.33656 12.3148 5.31418C13.278 5.95101 14.0778 6.74963 14.7768 7.65496C14.9506 7.87871 14.9506 8.11967 14.7768 8.34342C13.97 9.38988 13.0277 10.2883 11.8766 10.9561C10.9238 11.5104 9.90497 11.8615 8.79917 11.9647C7.19262 12.1162 5.70779 11.7444 4.32727 10.9355C3.18669 10.2677 2.25128 9.36923 1.45496 8.32965C1.4028 8.2608 1.3715 8.17819 1.33325 8.10246C1.33325 8.03361 1.33325 7.96476 1.33325 7.89248ZM8.02719 5.17649C6.47976 5.20403 5.24182 6.50866 5.26964 8.0818C5.29746 9.62052 6.61538 10.846 8.21497 10.8184C9.75892 10.7909 11.0038 9.47594 10.976 7.90969C10.9412 6.37097 9.62331 5.14895 8.02719 5.17649Z\" fill=\"#8F8F8F\"></path>\\r\\n                                            <path d=\"M9.65797 8.00267C9.65102 8.84604 8.94859 9.52761 8.09316 9.52073C7.26206 9.51384 6.5805 8.82194 6.58746 7.9889C6.59093 7.15242 7.30032 6.47084 8.15923 6.48116C8.98336 6.48461 9.66145 7.17651 9.65797 8.00267Z\" fill=\"#8F8F8F\"></path>\\r\\n                                        </svg>\\r\\n                                    </a>\\r\\n                                </div>\\r\\n                                <p class=\"warning password-warning\">M\\xe1\\xba\\xadt kh\\xe1\\xba\\xa9u kh\\xc3\\xb4ng \\xc4\\x91\\xc3\\xbang.</p>\\r\\n                                <p class=\"warning invalid_info\">Th\\xc3\\xb4ng tin \\xc4\\x91\\xc4\\x83ng nh\\xe1\\xba\\xadp kh\\xc3\\xb4ng \\xc4\\x91\\xc3\\xbang.</p>\\r\\n                                <p class=\"warning blocked-warning\">T\\xc3\\xa0i kho\\xe1\\xba\\xa3n b\\xe1\\xbb\\x8b kh\\xc3\\xb3a, vui l\\xc3\\xb2ng li\\xc3\\xaan h\\xe1\\xbb\\x87 qu\\xe1\\xba\\xa3n tr\\xe1\\xbb\\x8b vi\\xc3\\xaan.</p>\\r\\n                                <p class=\"warning common-warning\">C\\xc3\\xb3 l\\xe1\\xbb\\x97i ph\\xc3\\xa1t sinh. Vui l\\xc3\\xb2ng th\\xe1\\xbb\\xad l\\xe1\\xba\\xa1i sau.</p>\\r\\n                            </div>\\r\\n                            <div class=\"form-group\">\\r\\n                                <a href=\"http://id.tuoitre.vn/quen-mat-khau.htm\" target=\"_blank\" rel=\"nofollow\" id=\"btn-lost-password\" class=\"btn btn-link\">Qu\\xc3\\xaan m\\xe1\\xba\\xadt kh\\xe1\\xba\\xa9u?</a>\\r\\n                                <button type=\"button\" id=\"btn-login\" name=\"btn-login\" class=\"btn btn-secondary\" data-elementtype=\"login\">\\xc4\\x90\\xc4\\x83ng nh\\xe1\\xba\\xadp</button>\\r\\n                            </div>\\r\\n                            <div class=\"form-group mgt8 content-social\">\\r\\n                                <span class=\"tit\"><i>ho\\xe1\\xba\\xb7c \\xc4\\x91\\xc4\\x83ng nh\\xe1\\xba\\xadp</i></span>\\r\\n                                <div class=\"flexbox\">\\r\\n                                    <button type=\"button\" class=\"btn btn-danger btn-google-plus\" data-elementtype=\"logingoogle\">\\r\\n                                        <span class=\"icon\">\\r\\n                                            <svg width=\"25\" height=\"24\" viewBox=\"0 0 25 24\" fill=\"none\" xmlns=\"http://www.w3.org/2000/svg\">\\r\\n                                                <path d=\"M20.5 12.1956C20.5 11.6445 20.4466 11.0756 20.3578 10.5422H12.6598V13.6889H17.0688C16.891 14.7023 16.3043 15.5912 15.4332 16.1601L18.0644 18.2046C19.6111 16.7646 20.5 14.6667 20.5 12.1956Z\" fill=\"#4280EF\"></path>\\r\\n                                                <path d=\"M12.6598 20.1602C14.8643 20.1602 16.7132 19.4313 18.0644 18.1868L15.4332 16.1601C14.7043 16.6579 13.762 16.9424 12.6598 16.9424C10.5264 16.9424 8.73081 15.5023 8.07301 13.5823L5.37073 15.6623C6.75743 18.4179 9.56638 20.1602 12.6598 20.1602Z\" fill=\"#34A353\"></path>\\r\\n                                                <path d=\"M8.073 13.5645C7.73522 12.5511 7.73522 11.4489 8.073 10.4355L5.37072 8.33771C4.21513 10.6489 4.21513 13.3689 5.37072 15.6623L8.073 13.5645Z\" fill=\"#F6B704\"></path>\\r\\n                                                <path d=\"M12.6598 7.07545C13.8154 7.05767 14.9532 7.50213 15.7888 8.30215L18.1177 5.95543C16.6421 4.56872 14.6865 3.82204 12.6598 3.83982C9.56639 3.83982 6.75743 5.58208 5.37073 8.33771L8.07301 10.4355C8.73081 8.49771 10.5264 7.07545 12.6598 7.07545Z\" fill=\"#E54335\"></path>\\r\\n                                            </svg>\\r\\n                                        </span>\\r\\n                                        Google\\r\\n                                    </button>\\r\\n                                    <button type=\"button\" class=\"btn btn-primary btn-facebook\" data-elementtype=\"loginfb\">\\r\\n                                        <span class=\"icon\">\\r\\n                                            <svg width=\"24\" height=\"24\" viewBox=\"0 0 24 24\" fill=\"none\" xmlns=\"http://www.w3.org/2000/svg\">\\r\\n                                                <rect width=\"24\" height=\"24\" rx=\"12\" fill=\"#1877F2\"></rect>\\r\\n                                                <path d=\"M16.6711 15.4688L17.2031 12H13.875V9.74906C13.875 8.80008 14.34 7.875 15.8306 7.875H17.3438V4.92188C17.3438 4.92188 15.9705 4.6875 14.6576 4.6875C11.9166 4.6875 10.125 6.34875 10.125 9.35625V12H7.07812V15.4688H10.125V23.8542C10.736 23.9501 11.362 24 12 24C12.638 24 13.264 23.9501 13.875 23.8542V15.4688H16.6711Z\" fill=\"white\"></path>\\r\\n                                            </svg>\\r\\n                                            Facebook\\r\\n                                        </span>\\r\\n                                    </button>\\r\\n                                </div>\\r\\n                            </div>\\r\\n                            \\r\\n                        </div>\\r\\n                        <div class=\"tab-content tab-register\" id=\"tabRegister\">\\r\\n                            <div class=\"form-group\">\\r\\n                                <span class=\"label\">T\\xc3\\xaan c\\xe1\\xbb\\xa7a b\\xe1\\xba\\xa1n</span>\\r\\n                                <input id=\"rg-name\" type=\"text\" name=\"rg-name\" class=\"form-control\" data-elementtype=\"name\" placeholder=\"T\\xc3\\xaan c\\xe1\\xbb\\xa7a b\\xe1\\xba\\xa1n\">\\r\\n                                <p class=\"warning name-warning\">Vui l\\xc3\\xb2ng nh\\xe1\\xba\\xadp T\\xc3\\xaan c\\xe1\\xbb\\xa7a b\\xe1\\xba\\xa1n.</p>\\r\\n                            </div>\\r\\n                            <div class=\"form-group\">\\r\\n                                <span class=\"label\">Email</span>\\r\\n                                <input id=\"rg-email\" name=\"rg-email\" type=\"email\" class=\"form-control\" data-elementtype=\"email\" placeholder=\"Email\">\\r\\n                                <p class=\"warning email-warning1\">Vui l\\xc3\\xb2ng nh\\xe1\\xba\\xadp Email</p>\\r\\n                                <p class=\"warning email-warning2\">Email Kh\\xc3\\xb4ng \\xc4\\x91\\xc3\\xbang \\xc4\\x91\\xe1\\xbb\\x8bnh d\\xe1\\xba\\xa1ng</p>\\r\\n                            </div>\\r\\n                            <div class=\"form-group\">\\r\\n                                <span class=\"label\">M\\xe1\\xba\\xadt kh\\xe1\\xba\\xa9u</span>\\r\\n                                <div class=\"formpass\">\\r\\n                                    <input id=\"rg-password\" type=\"password\" name=\"rg-password\" class=\"form-control\" data-elementtype=\"password\" placeholder=\"M\\xe1\\xba\\xadt kh\\xe1\\xba\\xa9u\">\\r\\n                                    <a class=\"show-pass\" href=\"javascript:;\" rel=\"nofollow\" onclick=\"checkShowPass(this);\">\\r\\n                                        <svg width=\"16\" height=\"16\" viewBox=\"0 0 16 16\" fill=\"none\" xmlns=\"http://www.w3.org/2000/svg\">\\r\\n                                            <path d=\"M1.33325 7.89248C1.47582 7.68938 1.60101 7.47251 1.75749 7.28319C2.60945 6.25738 3.60745 5.40024 4.8141 4.79439C5.63824 4.38131 6.5041 4.1197 7.42561 4.03364C9.21298 3.86497 10.8334 4.33656 12.3148 5.31418C13.278 5.95101 14.0778 6.74963 14.7768 7.65496C14.9506 7.87871 14.9506 8.11967 14.7768 8.34342C13.97 9.38988 13.0277 10.2883 11.8766 10.9561C10.9238 11.5104 9.90497 11.8615 8.79917 11.9647C7.19262 12.1162 5.70779 11.7444 4.32727 10.9355C3.18669 10.2677 2.25128 9.36923 1.45496 8.32965C1.4028 8.2608 1.3715 8.17819 1.33325 8.10246C1.33325 8.03361 1.33325 7.96476 1.33325 7.89248ZM8.02719 5.17649C6.47976 5.20403 5.24182 6.50866 5.26964 8.0818C5.29746 9.62052 6.61538 10.846 8.21497 10.8184C9.75892 10.7909 11.0038 9.47594 10.976 7.90969C10.9412 6.37097 9.62331 5.14895 8.02719 5.17649Z\" fill=\"#8F8F8F\"></path>\\r\\n                                            <path d=\"M9.65797 8.00267C9.65102 8.84604 8.94859 9.52761 8.09316 9.52073C7.26206 9.51384 6.5805 8.82194 6.58746 7.9889C6.59093 7.15242 7.30032 6.47084 8.15923 6.48116C8.98336 6.48461 9.66145 7.17651 9.65797 8.00267Z\" fill=\"#8F8F8F\"></path>\\r\\n                                        </svg>\\r\\n                                    </a>\\r\\n                                </div>\\r\\n\\r\\n                                <p class=\"warning password-warning\">M\\xe1\\xba\\xadt kh\\xe1\\xba\\xa9u ph\\xe1\\xba\\xa3i c\\xc3\\xb3 \\xc3\\xadt nh\\xe1\\xba\\xa5t 6 k\\xc3\\xad t\\xe1\\xbb\\xb1.</p>\\r\\n                            </div>\\r\\n                            <div class=\"form-group\">\\r\\n                                <span class=\"label\">X\\xc3\\xa1c nh\\xe1\\xba\\xadn m\\xe1\\xba\\xadt kh\\xe1\\xba\\xa9u</span>\\r\\n                                <div class=\"formpass\">\\r\\n                                    <input id=\"rg-re-password\" type=\"password\" name=\"rg-re-password\" class=\"form-control\" data-elementtype=\"repassword\" placeholder=\"X\\xc3\\xa1c nh\\xe1\\xba\\xadn m\\xe1\\xba\\xadt kh\\xe1\\xba\\xa9u\">\\r\\n                                    <a class=\"show-pass\" href=\"javascript:;\" rel=\"nofollow\" onclick=\"checkShowPass(this);\">\\r\\n                                        <svg width=\"16\" height=\"16\" viewBox=\"0 0 16 16\" fill=\"none\" xmlns=\"http://www.w3.org/2000/svg\">\\r\\n                                            <path d=\"M1.33325 7.89248C1.47582 7.68938 1.60101 7.47251 1.75749 7.28319C2.60945 6.25738 3.60745 5.40024 4.8141 4.79439C5.63824 4.38131 6.5041 4.1197 7.42561 4.03364C9.21298 3.86497 10.8334 4.33656 12.3148 5.31418C13.278 5.95101 14.0778 6.74963 14.7768 7.65496C14.9506 7.87871 14.9506 8.11967 14.7768 8.34342C13.97 9.38988 13.0277 10.2883 11.8766 10.9561C10.9238 11.5104 9.90497 11.8615 8.79917 11.9647C7.19262 12.1162 5.70779 11.7444 4.32727 10.9355C3.18669 10.2677 2.25128 9.36923 1.45496 8.32965C1.4028 8.2608 1.3715 8.17819 1.33325 8.10246C1.33325 8.03361 1.33325 7.96476 1.33325 7.89248ZM8.02719 5.17649C6.47976 5.20403 5.24182 6.50866 5.26964 8.0818C5.29746 9.62052 6.61538 10.846 8.21497 10.8184C9.75892 10.7909 11.0038 9.47594 10.976 7.90969C10.9412 6.37097 9.62331 5.14895 8.02719 5.17649Z\" fill=\"#8F8F8F\"></path>\\r\\n                                            <path d=\"M9.65797 8.00267C9.65102 8.84604 8.94859 9.52761 8.09316 9.52073C7.26206 9.51384 6.5805 8.82194 6.58746 7.9889C6.59093 7.15242 7.30032 6.47084 8.15923 6.48116C8.98336 6.48461 9.66145 7.17651 9.65797 8.00267Z\" fill=\"#8F8F8F\"></path>\\r\\n                                        </svg>\\r\\n                                    </a>\\r\\n                                </div>\\r\\n                                <p class=\"warning repassword-warning\">X\\xc3\\xa1c nh\\xe1\\xba\\xadn m\\xe1\\xba\\xadt kh\\xe1\\xba\\xa9u kh\\xc3\\xb4ng kh\\xe1\\xbb\\x9bp.</p>\\r\\n                            </div>\\r\\n                            <div class=\"form-group\">\\r\\n                                <span class=\"label\">M\\xc3\\xa3 x\\xc3\\xa1c nh\\xe1\\xba\\xadn</span>\\r\\n                                <div class=\"row-capcha\">\\r\\n                                    <input id=\"rg-re-captcha\" class=\"form-control txtcaptchalogin\" data-elementtype=\"captcha\" placeholder=\"M\\xc3\\xa3 x\\xc3\\xa1c nh\\xe1\\xba\\xadn\">\\r\\n                                    <img id=\"img-captcha\" src=\"data:image/gif;base64,R0lGODlhAQABAIAAAAAAAP///yH5BAEAAAAALAAAAAABAAEAAAIBRAA7\" class=\"imgcaptchalogin\" alt=\"captcha\" />\\r\\n                                    <a id=\"refresh-captcha\" class=\"resetcaptcha\">\\r\\n                                        <svg width=\"24\" height=\"24\" viewBox=\"0 0 24 24\" fill=\"none\" xmlns=\"http://www.w3.org/2000/svg\">\\r\\n                                            <path d=\"M18.3301 6.70117C18.3301 5.66702 18.3301 4.75987 18.3301 3.85272C18.3301 3.43543 18.5479 3.16329 18.9382 3.04536C19.3012 2.94557 19.6371 3.05443 19.8458 3.381C19.9366 3.52615 19.991 3.71665 19.991 3.88901C20.0001 5.31323 20.0092 6.72839 19.991 8.15261C19.982 9.04162 19.4192 9.72198 18.5298 9.75827C17.0231 9.82177 15.5073 9.80363 13.9916 9.78548C13.5015 9.77641 13.1747 9.35912 13.2019 8.90555C13.2292 8.45197 13.5831 8.11633 14.0823 8.10726C15.0898 8.09818 16.1064 8.10726 17.1865 8.10726C17.0957 7.97118 17.0412 7.8714 16.9777 7.78068C15.8159 6.33831 14.4545 5.1953 12.5666 4.80523C8.85437 4.07044 5.17845 6.73746 4.75186 10.5293C4.36158 13.9765 6.26761 17.079 9.42618 18.0224C11.904 18.7663 14.0733 18.1313 15.9611 16.4258C16.061 16.3351 16.1518 16.2353 16.2516 16.1355C16.6691 15.7092 17.1683 15.6638 17.5314 16.0085C17.9126 16.3714 17.8944 16.825 17.486 17.2876C14.7358 20.3901 9.93445 20.9072 6.53082 18.4488C1.24839 14.6387 2.03803 6.39274 7.94673 3.72572C11.187 2.26521 14.8901 3.05443 17.4497 5.73959C17.7129 6.02988 17.9761 6.32017 18.3301 6.70117Z\" fill=\"#8F8F8F\"></path>\\r\\n                                        </svg></a>\\r\\n                                </div>\\r\\n                                <p class=\"warning captcha-warning\">M\\xc3\\xa3 x\\xc3\\xa1c nh\\xe1\\xba\\xadn kh\\xc3\\xb4ng \\xc4\\x91\\xc3\\xbang.</p>\\r\\n                                <p class=\"warning common-warning\">C\\xc3\\xb3 l\\xe1\\xbb\\x97i ph\\xc3\\xa1t sinh. Vui l\\xc3\\xb2ng th\\xe1\\xbb\\xad l\\xe1\\xba\\xa1i sau.</p>\\r\\n                            </div>\\r\\n                            <div class=\"form-group\">\\r\\n                                <button type=\"button\" id=\"btn-notify-register\" rel=\"nofollow\" class=\"btn btn-link\">Khi b\\xe1\\xba\\xa5m t\\xe1\\xba\\xa1o t\\xc3\\xa0i kho\\xe1\\xba\\xa3n b\\xe1\\xba\\xa1n \\xc4\\x91\\xc3\\xa3 \\xc4\\x91\\xe1\\xbb\\x93ng \\xc3\\xbd v\\xe1\\xbb\\x9bi <b>quy \\xc4\\x91\\xe1\\xbb\\x8bnh</b> c\\xe1\\xbb\\xa7a t\\xc3\\xb2a so\\xe1\\xba\\xa1n</button>\\r\\n                            </div>\\r\\n                            <div class=\"form-group clearfix\">\\r\\n                                <button type=\"button\" id=\"btn-register\" name=\"btn-login\" class=\"btn btn-secondary\" data-elementtype=\"register\">T\\xe1\\xba\\xa1o t\\xc3\\xa0i kho\\xe1\\xba\\xa3n</button>\\r\\n                            </div>\\r\\n                            <div class=\"form-group mgt8 content-social\">\\r\\n                                <span class=\"tit\"><i>ho\\xe1\\xba\\xb7c \\xc4\\x91\\xc4\\x83ng nh\\xe1\\xba\\xadp</i></span>\\r\\n                                <div class=\"flexbox\">\\r\\n                                    <button type=\"button\" class=\"btn btn-danger btn-google-plus\" data-elementtype=\"logingoogle\">\\r\\n                                        <span class=\"icon\">\\r\\n                                            <svg width=\"25\" height=\"24\" viewBox=\"0 0 25 24\" fill=\"none\" xmlns=\"http://www.w3.org/2000/svg\">\\r\\n                                                <path d=\"M20.5 12.1956C20.5 11.6445 20.4466 11.0756 20.3578 10.5422H12.6598V13.6889H17.0688C16.891 14.7023 16.3043 15.5912 15.4332 16.1601L18.0644 18.2046C19.6111 16.7646 20.5 14.6667 20.5 12.1956Z\" fill=\"#4280EF\"></path>\\r\\n                                                <path d=\"M12.6598 20.1602C14.8643 20.1602 16.7132 19.4313 18.0644 18.1868L15.4332 16.1601C14.7043 16.6579 13.762 16.9424 12.6598 16.9424C10.5264 16.9424 8.73081 15.5023 8.07301 13.5823L5.37073 15.6623C6.75743 18.4179 9.56638 20.1602 12.6598 20.1602Z\" fill=\"#34A353\"></path>\\r\\n                                                <path d=\"M8.073 13.5645C7.73522 12.5511 7.73522 11.4489 8.073 10.4355L5.37072 8.33771C4.21513 10.6489 4.21513 13.3689 5.37072 15.6623L8.073 13.5645Z\" fill=\"#F6B704\"></path>\\r\\n                                                <path d=\"M12.6598 7.07545C13.8154 7.05767 14.9532 7.50213 15.7888 8.30215L18.1177 5.95543C16.6421 4.56872 14.6865 3.82204 12.6598 3.83982C9.56639 3.83982 6.75743 5.58208 5.37073 8.33771L8.07301 10.4355C8.73081 8.49771 10.5264 7.07545 12.6598 7.07545Z\" fill=\"#E54335\"></path>\\r\\n                                            </svg>\\r\\n                                        </span>\\r\\n                                        Google\\r\\n                                    </button>\\r\\n                                    <button type=\"button\" class=\"btn btn-primary btn-facebook\" data-elementtype=\"loginfb\">\\r\\n                                        <span class=\"icon\">\\r\\n                                            <svg width=\"24\" height=\"24\" viewBox=\"0 0 24 24\" fill=\"none\" xmlns=\"http://www.w3.org/2000/svg\">\\r\\n                                                <rect width=\"24\" height=\"24\" rx=\"12\" fill=\"#1877F2\"></rect>\\r\\n                                                <path d=\"M16.6711 15.4688L17.2031 12H13.875V9.74906C13.875 8.80008 14.34 7.875 15.8306 7.875H17.3438V4.92188C17.3438 4.92188 15.9705 4.6875 14.6576 4.6875C11.9166 4.6875 10.125 6.34875 10.125 9.35625V12H7.07812V15.4688H10.125V23.8542C10.736 23.9501 11.362 24 12 24C12.638 24 13.264 23.9501 13.875 23.8542V15.4688H16.6711Z\" fill=\"white\"></path>\\r\\n                                            </svg>\\r\\n                                            Facebook\\r\\n                                        </span>\\r\\n                                    </button>\\r\\n                                </div>\\r\\n                            </div>\\r\\n                        </div>\\r\\n                    </div>\\r\\n                </div>\\r\\n            </section>\\r\\n        </div>\\r\\n    </div>\\r\\n</div>\\r\\n<style>\\r\\n    #vote-re-captcha, #sendOtherVote-re-captcha { float: left; width: 100px; margin-right: 10px; }\\r\\n\\r\\n    #vote-img-captcha, #sendOtherVote-img-captcha { width: 100px; height: 34px; cursor: pointer; float: left; margin-right: 10px; }\\r\\n\\r\\n    #vote-refresh-captcha, #sendOtherVote-refresh-captcha { float: left; font-size: 12px; line-height: 34px; text-decoration: none; cursor: pointer; }\\r\\n\\r\\n    #btn-send-vote, #btn-sendOtherVote { width: 125px; font-family: Roboto; font-size: 14px; float: right; }\\r\\n\\r\\n    #voteCatpchaForm .popup { width: 375px; }\\r\\n\\r\\n    /*    .nav-link {\\r\\n        padding: 12px 24px;\\r\\n    }*/\\r\\n\\r\\n    /*.grecaptcha-badge {\\r\\n        display: none !important;\\r\\n    }*/\\r\\n\\r\\n    #voteCatpchaForm header, #sendOtherVoteForm header { position: relative; }\\r\\n\\r\\n    #voteCatpchaForm .closepp, #sendOtherVoteForm .closepp { font-size: 16px; font-family: Roboto; color: #220; position: absolute; right: 10px; top: 10px; }\\r\\n</style>\\r\\n<script>\\r\\n    (runinit = window.runinit || []).push(function () {\\r\\n        $(\"#vote-img-captcha\").click(function () {\\r\\n            $(\"#vote-img-captcha\").attr(\"src\", appSettings.apiDomain + \"/captcha.htm?time=\" + new Date().getTime());\\r\\n        });\\r\\n        $(\"#vote-refresh-captcha\").click(function () {\\r\\n            $(\"#vote-img-captcha\").attr(\"src\", appSettings.apiDomain + \"/captcha.htm?time=\" + new Date().getTime());\\r\\n        });\\r\\n    });\\r\\n\\r\\n    function openPopupCaptcha(id, element, callback) {\\r\\n        $(\\'#voteCatpchaForm .captcha-warning\\').hide();\\r\\n        $(\"#\" + id).fadeIn(100);\\r\\n\\r\\n        $(\"#vote-img-captcha\").attr(\"src\", appSettings.apiDomain + \"/captcha.htm?time=\" + new Date().getTime());\\r\\n        $(\\'#btn-send-vote\\').off(\"click\").click(function (e) {\\r\\n            if ($(\\'#vote-re-captcha\\').val() == \\'\\') {\\r\\n                $(\\'#voteCatpchaForm .captcha-warning\\').show();\\r\\n                return;\\r\\n            }\\r\\n\\r\\n            if (typeof callback == \"function\") {\\r\\n                callback(element);\\r\\n            }\\r\\n        });\\r\\n    }\\r\\n</script>\\r\\n<div class=\"wrapPopup\" id=\"voteCatpchaForm\">\\r\\n    <div class=\"popup\">\\r\\n        <div class=\"centerPopup\">\\r\\n            <section>\\r\\n                <header>\\r\\n                    <p>Nh\\xe1\\xba\\xadp m\\xc3\\xa3 x\\xc3\\xa1c nh\\xe1\\xba\\xadn</p>\\r\\n                    <a href=\"javascript:;\" title=\"\\xc4\\x90\\xc3\\xb3ng\" class=\"closepp\" onclick=\"comment.closePopup(\\'voteCatpchaForm\\')\">\\xc4\\x90\\xc3\\xb3ng l\\xe1\\xba\\xa1i</a>\\r\\n                </header>\\r\\n                <div class=\"content\">\\r\\n                    <div class=\"form-group\">\\r\\n                        <input id=\"vote-re-captcha\" class=\"form-control\" data-elementtype=\"captcha\">\\r\\n                        <img id=\"vote-img-captcha\" class=\"imgcaptchalogin\" src=\"data:image/gif;base64,R0lGODlhAQABAIAAAAAAAP///yH5BAEAAAAALAAAAAABAAEAAAIBRAA7\" alt=\"captcha\" />\\r\\n                        <a id=\"vote-refresh-captcha\" class=\"resetcaptcha\">\\r\\n                            <svg width=\"24\" height=\"24\" viewBox=\"0 0 24 24\" fill=\"none\" xmlns=\"http://www.w3.org/2000/svg\">\\r\\n                                <path d=\"M18.3301 6.70117C18.3301 5.66702 18.3301 4.75987 18.3301 3.85272C18.3301 3.43543 18.5479 3.16329 18.9382 3.04536C19.3012 2.94557 19.6371 3.05443 19.8458 3.381C19.9366 3.52615 19.991 3.71665 19.991 3.88901C20.0001 5.31323 20.0092 6.72839 19.991 8.15261C19.982 9.04162 19.4192 9.72198 18.5298 9.75827C17.0231 9.82177 15.5073 9.80363 13.9916 9.78548C13.5015 9.77641 13.1747 9.35912 13.2019 8.90555C13.2292 8.45197 13.5831 8.11633 14.0823 8.10726C15.0898 8.09818 16.1064 8.10726 17.1865 8.10726C17.0957 7.97118 17.0412 7.8714 16.9777 7.78068C15.8159 6.33831 14.4545 5.1953 12.5666 4.80523C8.85437 4.07044 5.17845 6.73746 4.75186 10.5293C4.36158 13.9765 6.26761 17.079 9.42618 18.0224C11.904 18.7663 14.0733 18.1313 15.9611 16.4258C16.061 16.3351 16.1518 16.2353 16.2516 16.1355C16.6691 15.7092 17.1683 15.6638 17.5314 16.0085C17.9126 16.3714 17.8944 16.825 17.486 17.2876C14.7358 20.3901 9.93445 20.9072 6.53082 18.4488C1.24839 14.6387 2.03803 6.39274 7.94673 3.72572C11.187 2.26521 14.8901 3.05443 17.4497 5.73959C17.7129 6.02988 17.9761 6.32017 18.3301 6.70117Z\" fill=\"#8F8F8F\"></path>\\r\\n                            </svg></a>\\r\\n                        <p class=\"warning captcha-warning\">M\\xc3\\xa3 x\\xc3\\xa1c nh\\xe1\\xba\\xadn kh\\xc3\\xb4ng \\xc4\\x91\\xc3\\xbang.</p>\\r\\n                        <p class=\"warning common-warning\">C\\xc3\\xb3 l\\xe1\\xbb\\x97i ph\\xc3\\xa1t sinh. Vui l\\xc3\\xb2ng th\\xe1\\xbb\\xad l\\xe1\\xba\\xa1i sau.</p>\\r\\n                    </div>\\r\\n                    <div class=\"form-group clearfix\">\\r\\n                        <button type=\"button\" id=\"btn-send-vote\" class=\"btn btn-secondary\">Ho\\xc3\\xa0n t\\xe1\\xba\\xa5t</button>\\r\\n                    </div>\\r\\n                </div>\\r\\n            </section>\\r\\n        </div>\\r\\n    </div>\\r\\n</div>\\r\\n\\r\\n<script>\\r\\n    (runinit = window.runinit || []).push(function () {\\r\\n        $(\"#sendOtherVote-img-captcha\").click(function () {\\r\\n            $(\"#sendOtherVote-img-captcha\").attr(\"src\", appSettings.apiDomain + \"/captcha.htm?time=\" + new Date().getTime());\\r\\n        });\\r\\n        $(\"#sendOtherVote-refresh-captcha\").click(function () {\\r\\n            $(\"#sendOtherVote-img-captcha\").attr(\"src\", appSettings.apiDomain + \"/captcha.htm?time=\" + new Date().getTime());\\r\\n        });\\r\\n    });\\r\\n\\r\\n    function openPopupSendOtherVote(id, element, callback) {\\r\\n        $(\\'#sendOtherVoteForm .email-warning1\\').hide();\\r\\n        $(\\'#sendOtherVoteForm .email-warning2\\').hide();\\r\\n        $(\\'#sendOtherVoteForm .captcha-warning\\').hide();\\r\\n        $(\\'#sendOtherVoteForm .name-warning\\').hide();\\r\\n        $(\\'#sendOtherVoteForm .content-warning\\').hide();\\r\\n\\r\\n        $(\\'#sendOtherVote-email\\').val(\"\");\\r\\n        $(\\'#sendOtherVote-name\\').val(\"\");\\r\\n        $(\\'#sendOtherVote-content\\').val(\"\");\\r\\n        $(\\'#sendOtherVote-re-captcha\\').val(\"\");\\r\\n\\r\\n        $(\"#\" + id).fadeIn(100);\\r\\n\\r\\n        $(\"#sendOtherVote-img-captcha\").attr(\"src\", appSettings.apiDomain + \"/captcha.htm?time=\" + new Date().getTime());\\r\\n        $(\\'#btn-sendOtherVote\\').off(\"click\").click(function (e) {\\r\\n            if ($(\\'#sendOtherVote-re-captcha\\').val() == \\'\\') {\\r\\n                $(\\'#sendOtherVoteForm .captcha-warning\\').show();\\r\\n                return;\\r\\n            }\\r\\n            else {\\r\\n                $(\\'#sendOtherVoteForm .captcha-warning\\').hide();\\r\\n            }\\r\\n\\r\\n            var email = $(\\'#sendOtherVote-email\\').val();\\r\\n            var name = $(\\'#sendOtherVote-name\\').val();\\r\\n            var content = $(\\'#sendOtherVote-content\\').val();\\r\\n\\r\\n            // Validate input\\r\\n            if (email != \\'\\' && name != \\'\\' && IsEmail(email) && content != \\'\\') {\\r\\n                if (typeof callback == \"function\") {\\r\\n                    callback(element, {\\r\\n                        email: email,\\r\\n                        name: name,\\r\\n                        content: content\\r\\n                    });\\r\\n                }\\r\\n            } else {\\r\\n                if (email == \\'\\') {\\r\\n                    $(\\'#sendOtherVoteForm .email-warning1\\').show();\\r\\n                }\\r\\n                else {\\r\\n                    $(\\'#sendOtherVoteForm .email-warning1\\').hide();\\r\\n                    if (IsEmail(email)) {\\r\\n                        $(\\'#sendOtherVoteForm .email-warning2\\').hide();\\r\\n                    } else {\\r\\n                        $(\\'#sendOtherVoteForm .email-warning2\\').show();\\r\\n                    }\\r\\n                }\\r\\n                if (name == \\'\\') {\\r\\n                    $(\\'#sendOtherVoteForm .name-warning\\').show();\\r\\n                } else {\\r\\n                    $(\\'#sendOtherVoteForm .name-warning\\').hide();\\r\\n                }\\r\\n                if (content == \\'\\') {\\r\\n                    $(\\'#sendOtherVoteForm .content-warning\\').show();\\r\\n                } else {\\r\\n                    $(\\'#sendOtherVoteForm .content-warning\\').hide();\\r\\n                }\\r\\n            }\\r\\n        });\\r\\n    }\\r\\n</script>\\r\\n<style>\\r\\n    #sendOtherVoteForm .popup { top: 30%; }\\r\\n\\r\\n    .wrapPopup textarea { padding: 6px 12px; font-size: 14px; box-sizing: border-box; height: 65px; }\\r\\n\\r\\n    /*    #cm-guestcaptcha { float: left; width: 105px; margin-right: 10px; }*/\\r\\n\\r\\n    #cm-img-captcha { width: 100px; height: 34px; cursor: pointer; float: left; margin-right: 10px; }\\r\\n\\r\\n    #cm-refresh-captcha { float: left; font-size: 12px; line-height: 34px; text-decoration: underline; cursor: pointer; }\\r\\n</style>\\r\\n<div class=\"wrapPopup\" id=\"sendOtherVoteForm\">\\r\\n    <div class=\"popup\">\\r\\n        <div class=\"centerPopup\">\\r\\n            <section>\\r\\n                <header>\\r\\n                    <p>Vui l\\xc3\\xb2ng nh\\xe1\\xba\\xadp th\\xc3\\xb4ng tin v\\xc3\\xa0 \\xc3\\xbd ki\\xe1\\xba\\xbfn c\\xe1\\xbb\\xa7a b\\xe1\\xba\\xa1n</p>\\r\\n                    <a href=\"javascript:;\" title=\"\\xc4\\x90\\xc3\\xb3ng l\\xe1\\xba\\xa1i\" class=\"closepp\" onclick=\"comment.closePopup(\\'sendOtherVoteForm\\')\">X</a>\\r\\n                </header>\\r\\n                <div class=\"content\">\\r\\n                    <div class=\"frm-1\" id=\"sendOtherVote-frm\">\\r\\n                        <div class=\"form-group\">\\r\\n                            <span>Email (*)</span>\\r\\n                            <input id=\"sendOtherVote-email\" name=\"cm-email\" type=\"email\" class=\"form-control\">\\r\\n                            <p class=\"warning email-warning1\">Vui l\\xc3\\xb2ng nh\\xe1\\xba\\xadp Email</p>\\r\\n                            <p class=\"warning email-warning2\">Email Kh\\xc3\\xb4ng \\xc4\\x91\\xc3\\xbang \\xc4\\x91\\xe1\\xbb\\x8bnh d\\xe1\\xba\\xa1ng</p>\\r\\n                        </div>\\r\\n                        <div class=\"form-group\">\\r\\n                            <span>H\\xe1\\xbb\\x8d v\\xc3\\xa0 t\\xc3\\xaan (*)</span>\\r\\n                            <input id=\"sendOtherVote-name\" type=\"text\" name=\"cm-name\" class=\"form-control\">\\r\\n                            <p class=\"warning name-warning\">Vui l\\xc3\\xb2ng nh\\xe1\\xba\\xadp H\\xe1\\xbb\\x8d &amp; T\\xc3\\xaan.</p>\\r\\n                        </div>\\r\\n                        <div class=\"form-group\">\\r\\n                            <span>\\xc3\\x9d ki\\xe1\\xba\\xbfn c\\xe1\\xbb\\xa7a b\\xe1\\xba\\xa1n (*)</span>\\r\\n                            <textarea id=\"sendOtherVote-content\" name=\"cm-content\" class=\"form-control\" maxlength=\"500\"></textarea>\\r\\n                            <p class=\"warning content-warning\">Vui l\\xc3\\xb2ng nh\\xe1\\xba\\xadp \\xc3\\x9d ki\\xe1\\xba\\xbfn c\\xe1\\xbb\\xa7a b\\xe1\\xba\\xa1n.</p>\\r\\n                        </div>\\r\\n                        <div class=\"form-group\">\\r\\n                            <input id=\"sendOtherVote-re-captcha\" class=\"form-control\" data-elementtype=\"captcha\">\\r\\n                            <img id=\"sendOtherVote-img-captcha\" src=\"data:image/gif;base64,R0lGODlhAQABAIAAAAAAAP///yH5BAEAAAAALAAAAAABAAEAAAIBRAA7\" alt=\"captcha\" />\\r\\n                            <a id=\"sendOtherVote-refresh-captcha\" class=\"resetcaptcha\">\\r\\n                                <svg width=\"24\" height=\"24\" viewBox=\"0 0 24 24\" fill=\"none\" xmlns=\"http://www.w3.org/2000/svg\">\\r\\n                                    <path d=\"M18.3301 6.70117C18.3301 5.66702 18.3301 4.75987 18.3301 3.85272C18.3301 3.43543 18.5479 3.16329 18.9382 3.04536C19.3012 2.94557 19.6371 3.05443 19.8458 3.381C19.9366 3.52615 19.991 3.71665 19.991 3.88901C20.0001 5.31323 20.0092 6.72839 19.991 8.15261C19.982 9.04162 19.4192 9.72198 18.5298 9.75827C17.0231 9.82177 15.5073 9.80363 13.9916 9.78548C13.5015 9.77641 13.1747 9.35912 13.2019 8.90555C13.2292 8.45197 13.5831 8.11633 14.0823 8.10726C15.0898 8.09818 16.1064 8.10726 17.1865 8.10726C17.0957 7.97118 17.0412 7.8714 16.9777 7.78068C15.8159 6.33831 14.4545 5.1953 12.5666 4.80523C8.85437 4.07044 5.17845 6.73746 4.75186 10.5293C4.36158 13.9765 6.26761 17.079 9.42618 18.0224C11.904 18.7663 14.0733 18.1313 15.9611 16.4258C16.061 16.3351 16.1518 16.2353 16.2516 16.1355C16.6691 15.7092 17.1683 15.6638 17.5314 16.0085C17.9126 16.3714 17.8944 16.825 17.486 17.2876C14.7358 20.3901 9.93445 20.9072 6.53082 18.4488C1.24839 14.6387 2.03803 6.39274 7.94673 3.72572C11.187 2.26521 14.8901 3.05443 17.4497 5.73959C17.7129 6.02988 17.9761 6.32017 18.3301 6.70117Z\" fill=\"#8F8F8F\"></path>\\r\\n                                </svg></a>\\r\\n                            <p class=\"warning captcha-warning\">M\\xc3\\xa3 x\\xc3\\xa1c nh\\xe1\\xba\\xadn kh\\xc3\\xb4ng \\xc4\\x91\\xc3\\xbang.</p>\\r\\n                            <p class=\"warning common-warning\">C\\xc3\\xb3 l\\xe1\\xbb\\x97i ph\\xc3\\xa1t sinh. Vui l\\xc3\\xb2ng th\\xe1\\xbb\\xad l\\xe1\\xba\\xa1i sau.</p>\\r\\n                        </div>\\r\\n                        <div class=\"form-group clearfix\">\\r\\n                            <button type=\"button\" id=\"btn-sendOtherVote\" class=\"btn btn-secondary\">G\\xe1\\xbb\\xadi \\xc3\\xbd ki\\xe1\\xba\\xbfn</button>\\r\\n                        </div>\\r\\n                    </div>\\r\\n                </div>\\r\\n            </section>\\r\\n        </div>\\r\\n    </div>\\r\\n</div>\\r\\n\\r\\n\\r\\n<div class=\"modal_introduce\" id=\"introduce_tto\">\\r\\n    <div class=\"popup\">\\r\\n        <div class=\"popup_header\">\\r\\n            <a href=\"javascript:;\" title=\"\\xc4\\x90\\xc3\\xb3ng l\\xe1\\xba\\xa1i\" class=\"close_introduce\">\\r\\n                <svg width=\"24\" height=\"24\" viewBox=\"0 0 24 24\" fill=\"none\" xmlns=\"http://www.w3.org/2000/svg\">\\r\\n                    <path fill-rule=\"evenodd\" clip-rule=\"evenodd\" d=\"M5.2121 5.2121C5.49489 4.9293 5.95339 4.9293 6.23618 5.2121L18.7879 17.7638C19.0707 18.0466 19.0707 18.5051 18.7879 18.7879C18.5051 19.0707 18.0466 19.0707 17.7638 18.7879L5.2121 6.23618C4.9293 5.95339 4.9293 5.49489 5.2121 5.2121Z\" fill=\"#222222\" />\\r\\n                    <path fill-rule=\"evenodd\" clip-rule=\"evenodd\" d=\"M18.7879 5.2121C18.5051 4.9293 18.0466 4.9293 17.7638 5.2121L5.2121 17.7638C4.9293 18.0466 4.9293 18.5051 5.2121 18.7879C5.49489 19.0707 5.95339 19.0707 6.23618 18.7879L18.7879 6.23618C19.0707 5.95339 19.0707 5.49489 18.7879 5.2121Z\" fill=\"#222222\" />\\r\\n                </svg>\\r\\n            </a>\\r\\n            <img src=\"https://static.mediacdn.vn/tuoitre/web_images/banner_introduce_tto.png\" alt=\"Gi\\xe1\\xbb\\x9bi thi\\xe1\\xbb\\x87u v\\xe1\\xbb\\x81 Tu\\xe1\\xbb\\x95i Tr\\xe1\\xba\\xbb Sao\" />\\r\\n        </div>\\r\\n        <div class=\"content\">\\r\\n            <p>\\r\\n                T\\xe1\\xbb\\xab ng\\xc3\\xa0y 1-1-2023, Tu\\xe1\\xbb\\x95i Tr\\xe1\\xba\\xbb Online s\\xe1\\xba\\xbd ra m\\xe1\\xba\\xaft m\\xe1\\xbb\\x99t phi\\xc3\\xaan b\\xe1\\xba\\xa3n \\xc4\\x91\\xe1\\xba\\xb7c bi\\xe1\\xbb\\x87t mang t\\xc3\\xaan Tu\\xe1\\xbb\\x95i Tr\\xe1\\xba\\xbb Sao v\\xe1\\xbb\\x9bi nhi\\xe1\\xbb\\x81u chuy\\xc3\\xaan m\\xe1\\xbb\\xa5c m\\xe1\\xbb\\x9bi nh\\xc6\\xb0: T\\xc6\\xb0 v\\xe1\\xba\\xa5n ph\\xc3\\xa1p lu\\xe1\\xba\\xadt, H\\xe1\\xbb\\x8fi chuy\\xe1\\xbb\\x87n s\\xe1\\xbb\\xa9c kh\\xe1\\xbb\\x8fe; Xem b\\xc3\\xa1o in s\\xe1\\xba\\xafc n\\xc3\\xa9t tr\\xc3\\xaan m\\xe1\\xba\\xa1ng, Tu\\xe1\\xbb\\x95i Tr\\xe1\\xba\\xbb Live (tr\\xe1\\xbb\\xb1c ti\\xe1\\xba\\xbfp c\\xc3\\xa1c s\\xe1\\xbb\\xb1 ki\\xe1\\xbb\\x87n th\\xe1\\xbb\\x9di s\\xe1\\xbb\\xb1 n\\xc3\\xb3ng b\\xe1\\xbb\\x8fng, h\\xe1\\xba\\xa5p d\\xe1\\xba\\xabn)\\xe2\\x80\\xa6\\r\\n            </p>\\r\\n            <br />\\r\\n            <p>\\r\\n                \\xc4\\x90i\\xe1\\xbb\\x81u \\xc4\\x91\\xc3\\xa1ng ch\\xc3\\xba \\xc3\\xbd khi ch\\xe1\\xbb\\x8dn Tu\\xe1\\xbb\\x95i Tr\\xe1\\xba\\xbb Sao, b\\xe1\\xba\\xa1n \\xc4\\x91\\xe1\\xbb\\x8dc s\\xe1\\xba\\xbd \\xc4\\x91\\xc6\\xb0\\xe1\\xbb\\xa3c tr\\xe1\\xba\\xa3i nghi\\xe1\\xbb\\x87m n\\xe1\\xbb\\x99i dung th\\xc3\\xb4ng su\\xe1\\xbb\\x91t, kh\\xc3\\xb4ng b\\xe1\\xbb\\x8b xen l\\xe1\\xba\\xabn qu\\xe1\\xba\\xa3ng c\\xc3\\xa1o hi\\xe1\\xbb\\x83n th\\xe1\\xbb\\x8b. B\\xe1\\xbb\\x9fi m\\xe1\\xbb\\x99t s\\xe1\\xbb\\x91 b\\xe1\\xba\\xa1n \\xc4\\x91\\xe1\\xbb\\x8dc c\\xc3\\xb3 c\\xe1\\xba\\xa3m gi\\xc3\\xa1c kh\\xc3\\xb4ng tho\\xe1\\xba\\xa3i m\\xc3\\xa1i ho\\xe1\\xba\\xb7c c\\xe1\\xba\\xa3m th\\xe1\\xba\\xa5y b\\xe1\\xbb\\x8b l\\xc3\\xa0m phi\\xe1\\xbb\\x81n khi c\\xc3\\xb3 qu\\xc3\\xa1 nhi\\xe1\\xbb\\x81u qu\\xe1\\xba\\xa3ng c\\xc3\\xa1o hi\\xe1\\xbb\\x83n th\\xe1\\xbb\\x8b v\\xc3\\xa2y quanh n\\xe1\\xbb\\x99i dung l\\xc3\\xa0m ng\\xe1\\xba\\xaft qu\\xc3\\xa3ng s\\xe1\\xbb\\xb1 t\\xe1\\xba\\xadp trung c\\xe1\\xbb\\xa7a b\\xe1\\xba\\xa1n \\xc4\\x91\\xe1\\xbb\\x8dc. V\\xc3\\xac th\\xe1\\xba\\xbf, t\\xe1\\xba\\xa5t c\\xe1\\xba\\xa3 c\\xc3\\xa1c trang, chuy\\xc3\\xaan m\\xe1\\xbb\\xa5c, video \\xc4\\x91\\xe1\\xbb\\x81u \\xc4\\x91\\xc6\\xb0\\xe1\\xbb\\xa3c t\\xe1\\xba\\xaft qu\\xe1\\xba\\xa3ng c\\xc3\\xa1o hi\\xe1\\xbb\\x83n th\\xe1\\xbb\\x8b \\xc4\\x91\\xe1\\xbb\\x83 kh\\xc3\\xb4ng \\xe1\\xba\\xa3nh h\\xc6\\xb0\\xe1\\xbb\\x9fng \\xc4\\x91\\xe1\\xba\\xbfn qu\\xc3\\xa1 tr\\xc3\\xacnh th\\xc6\\xb0\\xe1\\xbb\\x9fng th\\xe1\\xbb\\xa9c n\\xe1\\xbb\\x99i dung c\\xe1\\xbb\\xa7a b\\xe1\\xba\\xa1n \\xc4\\x91\\xe1\\xbb\\x8dc.\\r\\n            </p>\\r\\n            <br />\\r\\n            <p>\\r\\n                \\xc4\\x90\\xe1\\xbb\\x93ng th\\xe1\\xbb\\x9di \\xc4\\x91\\xe1\\xbb\\x83 \\xc4\\x91\\xc3\\xa1p \\xe1\\xbb\\xa9ng nguy\\xe1\\xbb\\x87n v\\xe1\\xbb\\x8dng c\\xe1\\xbb\\xa7a nhi\\xe1\\xbb\\x81u b\\xe1\\xba\\xa1n \\xc4\\x91\\xe1\\xbb\\x8dc, ch\\xc3\\xbang t\\xc3\\xb4i m\\xe1\\xbb\\x9f ra th\\xc3\\xaam m\\xe1\\xbb\\x99t ph\\xc6\\xb0\\xc6\\xa1ng th\\xe1\\xbb\\xa9c m\\xe1\\xbb\\x9bi \\xc4\\x91\\xe1\\xbb\\x83 b\\xe1\\xba\\xa1n \\xc4\\x91\\xe1\\xbb\\x8dc c\\xc3\\xb3 th\\xe1\\xbb\\x83 h\\xe1\\xbb\\x97 tr\\xe1\\xbb\\xa3 ngu\\xe1\\xbb\\x93n l\\xe1\\xbb\\xb1c ph\\xc3\\xa1t tri\\xe1\\xbb\\x83n b\\xc3\\xa1o Tu\\xe1\\xbb\\x95i Tr\\xe1\\xba\\xbb b\\xe1\\xba\\xb1ng c\\xc3\\xa1ch \\xc4\\x91\\xc3\\xb3ng g\\xc3\\xb3p c\\xc3\\xa1c ng\\xc3\\xb4i sao  (c\\xc3\\xb3 th\\xe1\\xbb\\x83 chuy\\xe1\\xbb\\x83n \\xc4\\x91\\xe1\\xbb\\x95i ra chi ph\\xc3\\xad giao d\\xe1\\xbb\\x8bch) \\xc4\\x91\\xe1\\xbb\\x83 tham gia ho\\xe1\\xba\\xa1t \\xc4\\x91\\xe1\\xbb\\x99ng v\\xc3\\xa0 t\\xc6\\xb0\\xc6\\xa1ng t\\xc3\\xa1c tr\\xc3\\xaan Tu\\xe1\\xbb\\x95i Tr\\xe1\\xba\\xbb Online. C\\xe1\\xbb\\xa5 th\\xe1\\xbb\\x83, b\\xe1\\xba\\xa1n \\xc4\\x91\\xe1\\xbb\\x8dc c\\xc3\\xb3 th\\xe1\\xbb\\x83 l\\xc3\\xa0 t\\xe1\\xba\\xb7ng  cho t\\xc3\\xa1c gi\\xe1\\xba\\xa3, \\xc4\\x91\\xe1\\xbb\\x95i qu\\xc3\\xa0 l\\xc6\\xb0u ni\\xe1\\xbb\\x87m (t\\xc3\\xb9y theo ch\\xc6\\xb0\\xc6\\xa1ng tr\\xc3\\xacnh), \\xc4\\x91\\xc4\\x83ng k\\xc3\\xbd qu\\xe1\\xba\\xa3ng c\\xc3\\xa1o, mua s\\xe1\\xba\\xafm online\\xe2\\x80\\xa6\\r\\n            </p>\\r\\n            <br />\\r\\n            <p>\\r\\n                Ch\\xc3\\xbang t\\xc3\\xb4i t\\xe1\\xba\\xa1o ra Tu\\xe1\\xbb\\x95i Tr\\xe1\\xba\\xbb Sao nh\\xe1\\xba\\xb1m t\\xe1\\xbb\\xabng b\\xc6\\xb0\\xe1\\xbb\\x9bc n\\xc3\\xa2ng cao ch\\xe1\\xba\\xa5t l\\xc6\\xb0\\xe1\\xbb\\xa3ng n\\xe1\\xbb\\x99i dung, s\\xe1\\xba\\xa3n xu\\xe1\\xba\\xa5t th\\xc3\\xaam nh\\xe1\\xbb\\xafng n\\xe1\\xbb\\x99i dung ri\\xc3\\xaang, gia t\\xc4\\x83ng k\\xe1\\xba\\xbft n\\xe1\\xbb\\x91i, t\\xc6\\xb0\\xc6\\xa1ng t\\xc3\\xa1c v\\xc3\\xa0 th\\xe1\\xbb\\xb1c hi\\xe1\\xbb\\x87n nh\\xe1\\xbb\\xafng n\\xe1\\xbb\\x99i dung m\\xe1\\xbb\\x9bi theo nhu c\\xe1\\xba\\xa7u b\\xe1\\xba\\xa1n \\xc4\\x91\\xe1\\xbb\\x8dc \\xc4\\x91\\xe1\\xbb\\x83 th\\xe1\\xba\\xadt s\\xe1\\xbb\\xb1 ch\\xc4\\x83m s\\xc3\\xb3c v\\xc3\\xa0 ph\\xe1\\xbb\\xa5c v\\xe1\\xbb\\xa5 b\\xe1\\xba\\xa1n \\xc4\\x91\\xe1\\xbb\\x8dc ng\\xc3\\xa0y c\\xc3\\xa0ng t\\xe1\\xbb\\x91t h\\xc6\\xa1n.\\r\\n            </p>\\r\\n            <br />\\r\\n            <p>\\r\\n                TTO\\r\\n            </p>\\r\\n            <br />\\r\\n            <a href=\"/dang-ky-tuoi-tre-sao.htm\" title=\"\\xc4\\x90\\xc4\\x83ng k\\xc3\\xbd Tu\\xe1\\xbb\\x95i Tr\\xe1\\xba\\xbb Sao\" class=\"btnstarregister\">\\xc4\\x90\\xc4\\x83ng k\\xc3\\xbd Tu\\xe1\\xbb\\x95i Tr\\xe1\\xba\\xbb Sao</a>\\r\\n        </div>\\r\\n    </div>\\r\\n    <div class=\"modal_introduce__bg\"></div>\\r\\n</div>\\r\\n\\r\\n\\r\\n\\r\\n<script>\\r\\n    (runinit = window.runinit || []).push(function () {\\r\\n        sendMailQA_Footer.init(\\'#modalSendEmailCatpchaForm\\');\\r\\n\\r\\n    })\\r\\n</script>\\r\\n\\r\\n                </div>\\r\\n            </div>\\r\\n            \\r\\n    \\r\\n\\r\\n\\r\\n\\r\\n<script async src=\"https://static.mediacdn.vn/tuoitre/web_js/tuoitrenew.list.10012023v1.min.js\"></script>\\r\\n    \\r\\n    <script>                \\r\\n        (runinit = window.runinit || []).push(function () {\\r\\n            timeline.init();\\r\\n        });\\r\\n    </script>\\r\\n    \\r\\n\\r\\n        \\r\\n        \\r\\n        \\r\\n        <div class=\"modal__bg\"></div>\\r\\n        \\r\\n<div id=\"back-to-top\" class=\"\">\\r\\n    <a href=\"javascript:;\" rel=\"nofollow\" title=\"\" class=\"layout__sticky-icon\">\\r\\n        <span class=\"icon\">\\r\\n            <svg width=\"19\" height=\"22\" viewBox=\"0 0 19 22\" fill=\"none\" xmlns=\"http://www.w3.org/2000/svg\">\\r\\n                <path d=\"M2.37373 9.70711C1.98321 10.0976 1.35004 10.0976 0.959519 9.70711C0.568995 9.31658 0.568995 8.68342 0.959519 8.29289L2.37373 9.70711ZM9.66663 1L8.95952 0.292893C9.35004 -0.0976308 9.98321 -0.0976307 10.3737 0.292894L9.66663 1ZM18.3737 8.29289C18.7643 8.68342 18.7643 9.31658 18.3737 9.70711C17.9832 10.0976 17.35 10.0976 16.9595 9.70711L18.3737 8.29289ZM10.6666 21C10.6666 21.5523 10.2189 22 9.66663 22C9.11434 22 8.66663 21.5523 8.66663 21L10.6666 21ZM0.959519 8.29289L8.95952 0.292893L10.3737 1.70711L2.37373 9.70711L0.959519 8.29289ZM10.3737 0.292894L18.3737 8.29289L16.9595 9.70711L8.95952 1.70711L10.3737 0.292894ZM10.6666 1L10.6666 21L8.66663 21L8.66663 1L10.6666 1Z\" fill=\"#222222\"></path>\\r\\n            </svg>\\r\\n\\r\\n        </span>\\r\\n    </a>\\r\\n</div>\\r\\n\\r\\n        \\r\\n        <script>\\r\\n            (runinit = window.runinit || []).push(function () {\\r\\n                if (appSettings.isLoginv2 == 0)\\r\\n                    comment.init();\\r\\n\\r\\n                if ($(\\'.title-time-home\\').length > 0) {\\r\\n                    let now = new Date();\\r\\n                    let currentDay = \\'Th\\xe1\\xbb\\xa9 \\';\\r\\n                    switch (now.getDay()) {\\r\\n                        case 0:\\r\\n                            currentDay = \\'Ch\\xe1\\xbb\\xa7 nh\\xe1\\xba\\xadt\\';\\r\\n                            break;\\r\\n                        default:\\r\\n                            currentDay += now.getDay() + 1;\\r\\n                    }\\r\\n                    let currentTime = currentDay + \\', ng\\xc3\\xa0y \\' + now.getDate() + \\' th\\xc3\\xa1ng \\' + (now.getMonth() + 1) + \\' n\\xc4\\x83m \\' + now.getFullYear();\\r\\n                    $(\\'.title-time-home\\').html(currentTime);\\r\\n                }\\r\\n            });\\r\\n\\r\\n            (function () {\\r\\n                window.addEventListener(\\'message\\', (event) => {\\r\\n                    if (event.data && event.data.action && event.data.action == \\'tdk-setHeight\\') {\\r\\n                        document.querySelectorAll(event.data.target).forEach((elem) => {\\r\\n                            elem.setAttribute(\\'height\\', event.data.value);\\r\\n                            elem.style.height = event.data.value + \\'px\\';\\r\\n                        });\\r\\n                    }\\r\\n                });\\r\\n            })()\\r\\n        </script>\\r\\n        \\r\\n<script>\\r\\n    //g\\xe1\\xba\\xafn code login\\r\\n    (runinit = window.runinit || []).push(function () {\\r\\n        //loadJsAsync(\\'/web_js/login/login_sso.js\\', function () {\\r\\n        loadJsAsync(\\'https://static.mediacdn.vn/tuoitre/web_js/tuoitrenew.ssologinbase.24.min.js\\', function () {\\r\\n            loginSSO.init();\\r\\n        });\\r\\n    });\\r\\n</script>\\r\\n\\r\\n    </body>\\r\\n    </html>\\r\\n\\r\\n<!--/tin-moi-nhat.htm--><!--s: 2/1/2023 4:42:54 PM--><!--LastModifiedDate:01/02/2023 16:42:54--><!--/tin-moi-nhat.htm-->'\n"
          ]
        }
      ]
    },
    {
      "cell_type": "code",
      "source": [
        "from bs4 import BeautifulSoup as bs\n",
        "soup = bs(r.content,\"html.parser\")\n",
        "print(soup)"
      ],
      "metadata": {
        "colab": {
          "base_uri": "https://localhost:8080/"
        },
        "id": "RK3R8fcbPS3P",
        "outputId": "3376fb2c-4ac6-477d-848d-c038194c9d53"
      },
      "execution_count": null,
      "outputs": [
        {
          "output_type": "stream",
          "name": "stdout",
          "text": [
            "\n",
            "<!DOCTYPE html>\n",
            "\n",
            "<html id=\"mainHtml\" lang=\"vi\" xmlns=\"http://www.w3.org/1999/xhtml\">\n",
            "<head prefix=\"og: http://ogp.me/ns# fb: http://ogp.me/ns/fb# website: http://ogp.me/ns/website#\"><link href=\"https://cdn.tuoitre.vn\" rel=\"dns-prefetch\"/><link href=\"https://cdn1.tuoitre.vn\" rel=\"dns-prefetch\"/><link href=\"https://statictuoitre.mediacdn.vn\" rel=\"dns-prefetch\"/><link href=\"https://adservice.google.com\" rel=\"dns-prefetch\"/><link href=\"https://adservice.google.com.vn\" rel=\"dns-prefetch\"/><link href=\"https://www.googletagservices.com\" rel=\"dns-prefetch\"/><link href=\"https://partner.googleadservices.com\" rel=\"dns-prefetch\"/><link href=\"https://js.aiservice.vn\" rel=\"dns-prefetch\"/><link href=\"https://media1.admicro.vn\" rel=\"dns-prefetch\"/><link href=\"https://lg1.logging.admicro.vn\" rel=\"dns-prefetch\"/><link href=\"https://static.contineljs.com\" rel=\"dns-prefetch\"/><link href=\"https://contineljs.com\" rel=\"dns-prefetch\"/><link href=\"https://www.googletagmanager.com\" rel=\"preconnect\"/><link href=\"https://www.google-analytics.com\" rel=\"preconnect\"/><link href=\"https://securepubads.g.doubleclick.net\" rel=\"preconnect\"/><link href=\"https://tpc.googlesyndication.com\" rel=\"preconnect\"/><link href=\"https://media1.admicro.vn\" rel=\"preconnect\"/><title>Tin mới nhất - Tuổi trẻ Online</title><meta content=\"Tin mới nhất - Tuổi trẻ Online\" name=\"keywords\"/>\n",
            "<meta content=\"Tin mới nhất - Tuổi trẻ Online\" name=\"news_keywords\"/>\n",
            "<meta content=\"\" name=\"description\"/>\n",
            "<meta content=\"index,follow,all\" id=\"metaRobots\" name=\"robots\"/><meta content=\"width=device-width, initial-scale=1.0, maximum-scale=1.0, user-scalable=1\" name=\"viewport\"/><script type=\"text/javascript\">var _ADM_Channel = '%2Ftin-moi-nhat%2F';</script>\n",
            "<script type=\"text/javascript\">\r\n",
            "    var arfAsync = arfAsync || [];\r\n",
            "    var googletag = googletag || {};\r\n",
            "    googletag.cmd = googletag.cmd || [];\r\n",
            "\r\n",
            "    var is_iPadScreen = navigator.userAgent.match(/iPad/i);\r\n",
            "    var widthScreen;\r\n",
            "    (runinit = window.runinit || []).push(function () {\r\n",
            "        widthScreen = $(window).width();\r\n",
            "    });\r\n",
            "</script><script>window.dataLayer = window.dataLayer || [];dataLayer.push({'pageCategory': '/tin-moi-nhat/'});</script><script>window.dataLayer = window.dataLayer || [];dataLayer.push({  'articleId': '0',  'articleTitle': '',  'articleCategory': 'Tin m\\u1edbi nh\\u1ea5t',  'articleAlowAds': '1',  'articleSponsor': '0',  'articleType': '',  'articleTags': '',  'articlePublishDate': '',  'articleThumbnail': '',  'articleShortUrl': '',  'articleFullUrl': '',  'articleLayout': '',  'pageType': 'LatestNews'});</script>\n",
            "<meta content=\"TUOI TRE ONLINE\" name=\"author\"/>\n",
            "<meta content=\"Copyright © 2023 by TUOITRE.VN\" name=\"copyright\"/>\n",
            "<meta content=\"GENERAL\" name=\"RATING\"/>\n",
            "<meta content=\"TUOI TRE ONLINE\" name=\"GENERATOR\"/>\n",
            "<link href=\"https://statictuoitre.mediacdn.vn/web_css/font.2017.11.28.1.min.css\" rel=\"stylesheet\" type=\"text/css\"/>\n",
            "<script type=\"text/javascript\">\r\n",
            "    var appSettings = pageSettings = {\r\n",
            "        domain: \"https://tuoitre.vn\",\r\n",
            "        apiDomain: \"https://s5.tuoitre.vn\",\r\n",
            "        ajaxDomain: \"https://s5.tuoitre.vn\",\r\n",
            "        idDomain: \"https://id.tuoitre.vn\",\r\n",
            "        //urlJsId:\"https://static.mediacdn.vn/tuoitre/web_js/kcb.plugin.01082022v1.min.js\",\r\n",
            "        urlJsId: \"https://static.mediacdn.vn/tuoitre/web_js/corecommentv2.plugin.27122022v1.min.js\",\r\n",
            "        \r\n",
            "        \r\n",
            "        sharefbApiDomain: \"https://sharefb.cnnd.vn\",\r\n",
            "        videoplayer: \"https://vcplayer.mediacdn.vn\",\r\n",
            "        imageStorage:\"https://cdn.tuoitre.vn\",\r\n",
            "        videoImageDomain: \"http://video-thumbs.tuoitre.vn\",\r\n",
            "        domain_TVO: \"https://video.tuoitre.vn\",\r\n",
            "        apiUtils: \"https://utils3.cnnd.vn\",\r\n",
            "        isLoginv2: 2,\r\n",
            "        SSOapiurl: 'https://sso.tuoitre.vn',\r\n",
            "        allowAds: true,\r\n",
            "        playerSecureToken: \"L3NlY3VyZS92ZXJpZnkveHZxcmNhZGhlYmZpMHY1dm5zM2Ywd3d3a3Y2MDdkMDgvMTAwMjI1L2V5SmhiR2NpT2lKSVV6STFOaUlzSW5SNWNDSTZJa3BYVkNKOS5leUp5WldZaU9pSWlMQ0poY0hCclpYa2lPaUo0ZG5GeVkyRmthR1ZpWm1rd2RqVjJibk16WmpCM2QzZHJkall3TjJRd09DSXNJbkJzWVhsbGNpSTZJakV3TURJeU5TSXNJbWxuYm05eVpVVjRjR2x5WVhScGIyNGlPblJ5ZFdVc0ltbGhkQ0k2TVRVek9UVTNNVEE1TVN3aVpYaHdJam94TlRNNU5UY3hNakV4ZlEuVVZUWUxLNkROcjF1TG9vMDYzNVJ2TXNpeU1wUFJvYVJCa0tva3VhWC03OA==\"\r\n",
            "        \r\n",
            "        \r\n",
            "    };\r\n",
            "</script>\n",
            "<script type=\"text/javascript\">\r\n",
            "    function getCookie(n) { var t, i; return document.cookie.length > 0 ? (t = document.cookie.indexOf(n + \"=\"), t != -1 ? (t = t + n.length + 1, i = document.cookie.indexOf(\";\", t), i == -1 && (i = document.cookie.length), unescape(document.cookie.substring(t, i))) : \"\") : \"\" } function loadCss(n) { var i = document.getElementsByTagName(\"head\")[0], t = document.createElement(\"link\"); t.rel = \"stylesheet\"; t.type = \"text/css\"; t.href = n; t.media = \"all\"; i.appendChild(t) } function loadJsAsync(n, t, i) { var r = document.createElement(\"script\"), f, e, u, o; if (r.type = \"text/javascript\", r.async = !0, typeof t == \"function\" && (r.onreadystatechange = r.onload = function () { t() }), r.src = n, typeof i != \"undefined\" && r.setAttribute(\"onerror\", i), r) { for (f = document.getElementsByTagName(\"script\"), e = !1, u = 0; u < f.length; u++)f[u].src == n && (e = !0); e || (o = document.getElementsByTagName(\"head\")[0], o.appendChild(r)) } } function adsCore() { pageSettings.allowAds && (loadCss(\"https://quangcao.tuoitre.vn/static/js/cms_ads.css\"), loadJsAsync(\"https://quangcao.tuoitre.vn/static/js/cms_ads.js\"), loadJsAsync(\"https://static.amcdn.vn/tka/cdn.js\"), loadJsAsync(\"https://media1.admicro.vn/cms/Arf.min.js\", \"\", callbackEr = \"window.arferrorload = true;\"), (window.location.host == \"tuoitre.vn\" || window.location.host == \"b1.tuoitre.vn\" || window.location.host == \"b2.tuoitre.vn\") && function (n, t, i, r, u) { n[r] = n[r] || []; n[r].push({ \"gtm.start\": (new Date).getTime(), event: \"gtm.js\" }); var e = t.getElementsByTagName(i)[0], f = t.createElement(i), o = r != \"dataLayer\" ? \"&l=\" + r : \"\"; f.async = !0; f.src = \"https://www.googletagmanager.com/gtm.js?id=\" + u + o; e.parentNode.insertBefore(f, e) }(window, document, \"script\", \"dataLayer\", \"GTM-KG7C9D4\")) } var ttostartloadads = getCookie(\"_ck_user\"), ttocheckuserstar, ttocheckuserlogin; \"true\" == ttostartloadads || pageSettings.allowAds && adsCore(); ttocheckuserstar = getCookie(\"_ck_isTTSao\"); typeof ttocheckuserstar != \"undefined\" && ttocheckuserstar != null && ttocheckuserstar == \"true\" ? dataLayer.push({ isTTSao: \"1\" }) : dataLayer.push({ isTTSao: \"0\" }); ttocheckuserlogin = getCookie(\"_ck_isLogin\"); typeof ttocheckuserlogin != \"undefined\" && ttocheckuserlogin != null && ttocheckuserlogin == \"true\" ? dataLayer.push({ isLogin: \"1\" }) : dataLayer.push({ isLogin: \"0\" });\r\n",
            "</script>\n",
            "<!-- adm tracking -->\n",
            "<script async=\"\" src=\"//media1.admicro.vn/core/adm_tracking.js\" type=\"text/javascript\"></script>\n",
            "<!-- Google Analytics -->\n",
            "<script>(function (w, d, s, l, i) {\r\n",
            "        w[l] = w[l] || []; w[l].push({\r\n",
            "            'gtm.start':\r\n",
            "                new Date().getTime(), event: 'gtm.js'\r\n",
            "        }); var f = d.getElementsByTagName(s)[0],\r\n",
            "            j = d.createElement(s), dl = l != 'dataLayer' ? '&l=' + l : ''; j.async = true; j.src =\r\n",
            "                'https://www.googletagmanager.com/gtm.js?id=' + i + dl; f.parentNode.insertBefore(j, f);\r\n",
            "    })(window, document, 'script', 'dataLayer', 'GTM-KFJP3N');</script>\n",
            "<meta content=\"y8PMKPH-UzpVdjHXzQjJ4oUEPfqLSWZl_EyOz5P02vc\" name=\"google-site-verification\"/>\n",
            "<!-- Open Graph data -->\n",
            "<!--end Open Graph data -->\n",
            "<meta content=\"769128874330419\" property=\"fb:app_id\"/><meta content=\"Global\" name=\"distribution\"/><meta content=\"214610578564918\" property=\"fb:pages\"/><meta content=\"131539760743\" property=\"fb:pages\"/><meta content=\"E52E0AECFFC89B1959FC75D368D4B11E\" name=\"msvalidate.01\"/><link href=\"https://statictuoitre.mediacdn.vn/web_images/favicon.ico\" rel=\"shortcut icon\" type=\"image/x-icon\"/><meta content=\"text/html;charset=utf-8\" http-equiv=\"Content-Type\"/><meta content=\"vi\" http-equiv=\"Content-Language\"/><meta content=\"vi\" name=\"Language\"/><meta content=\"1800\" http-equiv=\"REFRESH\"/><meta content=\"1 DAYS\" name=\"REVISIT-AFTER\"/>\n",
            "<link href=\"https://static.mediacdn.vn/tuoitre/web_css/tuoitrenew.list.10012023v1.min.css\" rel=\"stylesheet\"/>\n",
            "<link href=\"https://tuoitre.vn/tin-moi-nhat.htm\" rel=\"canonical\"/></head>\n",
            "<body class=\" pagewaiting\">\n",
            "<script type=\"text/javascript\">var ttostarteamplate = \"\"; if (document.cookie.length > 0) { var t = document.cookie.indexOf(\"_ck_user=\"); if (-1 != t) { t = t + 8 + 1; var e = document.cookie.indexOf(\";\", t); -1 == e && (e = document.cookie.length), ttostarteamplate = unescape(document.cookie.substring(t, e)) } else ttostarteamplate = \"\" } \"true\" == ttostarteamplate && document.body.classList.add(\"blue-style\");</script>\n",
            "<!-- Google Tag Manager (noscript) -->\n",
            "<noscript>\n",
            "<iframe height=\"0\" src=\"https://www.googletagmanager.com/ns.html?id=GTM-KFJP3N\" style=\"display: none; visibility: hidden\" width=\"0\"></iframe>\n",
            "</noscript>\n",
            "<!-- End Google Tag Manager (noscript) -->\n",
            "<div id=\"admWrapsite\">\n",
            "<div class=\"wapper\">\n",
            "<div id=\"LeaderBoardTop\">\n",
            "<div class=\"clearfix \" data-atc=\"atc-nonstar\">\n",
            "<zone id=\"jmg15j90\"></zone>\n",
            "<script>\r\n",
            "        if (is_iPadScreen != null && widthScreen < 1024) { } else\r\n",
            "            arfAsync.push(\"jmg15j90\");\r\n",
            "    </script>\n",
            "</div>\n",
            "</div>\n",
            "<div class=\"header\">\n",
            "<div class=\"header__sc\">\n",
            "<div class=\"header__top\">\n",
            "<div class=\"container\">\n",
            "<div class=\"header__top-flex\">\n",
            "<div class=\"header__top-left\">\n",
            "<a class=\"header__logo\" href=\"/\" title=\"Tin tức, tin nóng, đọc báo điện tử - Tuổi Trẻ Online\"><img alt=\"Tin tức, tin nóng, đọc báo điện tử - Tuổi Trẻ Online\" src=\"https://static.mediacdn.vn/tuoitre/web_images/logottonew.png\"/></a>\n",
            "</div>\n",
            "<div class=\"header__top-right\">\n",
            "<div class=\"header__cate\">\n",
            "<ul>\n",
            "<li>\n",
            "<a class=\"header__clink\" href=\"https://podcast.tuoitre.vn/\" rel=\"nofollow\" target=\"_blank\" title=\"PODCAST TUỔI TRẺ\">\n",
            "<span class=\"icon\">\n",
            "<svg fill=\"none\" height=\"18\" viewbox=\"0 0 18 18\" width=\"18\" xmlns=\"http://www.w3.org/2000/svg\">\n",
            "<path d=\"M13.0909 7.3125H12.6818C12.4558 7.3125 12.2727 7.50129 12.2727 7.73438V9C12.2727 10.9723 10.6238 12.5548 8.67298 12.3587C6.9727 12.1875 5.72727 10.6113 5.72727 8.84971V7.73438C5.72727 7.50129 5.5442 7.3125 5.31818 7.3125H4.90909C4.68307 7.3125 4.5 7.50129 4.5 7.73438V8.79328C4.5 11.1568 6.1356 13.2638 8.38636 13.5839V14.4844H6.95455C6.72852 14.4844 6.54545 14.6732 6.54545 14.9062V15.3281C6.54545 15.5612 6.72852 15.75 6.95455 15.75H11.0455C11.2715 15.75 11.4545 15.5612 11.4545 15.3281V14.9062C11.4545 14.6732 11.2715 14.4844 11.0455 14.4844H9.61364V13.594C11.8051 13.2839 13.5 11.344 13.5 9V7.73438C13.5 7.50129 13.3169 7.3125 13.0909 7.3125ZM9 11.5312C10.3556 11.5312 11.4545 10.398 11.4545 9H9.27281C9.12222 9 9 8.90561 9 8.78906V8.36719C9 8.25064 9.12222 8.15625 9.27281 8.15625H11.4545V7.3125H9.27281C9.12222 7.3125 9 7.21811 9 7.10156V6.67969C9 6.56314 9.12222 6.46875 9.27281 6.46875H11.4545V5.625H9.27281C9.12222 5.625 9 5.53061 9 5.41406V4.99219C9 4.87564 9.12222 4.78125 9.27281 4.78125H11.4545C11.4545 3.38326 10.3556 2.25 9 2.25C7.64438 2.25 6.54545 3.38326 6.54545 4.78125V9C6.54545 10.398 7.64438 11.5312 9 11.5312Z\" fill=\"#FF7772\"></path>\n",
            "</svg>\n",
            "</span>\r\n",
            "                                        Podcast\r\n",
            "                                    </a>\n",
            "</li>\n",
            "<li>\n",
            "<a class=\"header__clink\" href=\"https://www.youtube.com/channel/UC47WI-kZXFf0H_f7pvaNCEQ\" rel=\"nofollow\" target=\"_blank\" title=\"YOUTUBE BÁO TUỔI TRẺ\">\n",
            "<span class=\"icon\">\n",
            "<svg fill=\"none\" height=\"18\" viewbox=\"0 0 18 18\" width=\"18\" xmlns=\"http://www.w3.org/2000/svg\">\n",
            "<path clip-rule=\"evenodd\" d=\"M3.80103 5.78651C3.67089 6.1225 3.59951 6.48778 3.59951 6.86972V11.4001C3.59951 13.057 4.94266 14.4001 6.59951 14.4001H11.6699C12.052 14.4001 12.4174 14.3287 12.7535 14.1985C12.0218 15.1425 10.8769 15.7501 9.59014 15.7501H6.24969C4.04055 15.7501 2.24969 13.9592 2.24969 11.7501V8.94967C2.24969 7.663 2.8572 6.51822 3.80103 5.78651Z\" fill=\"#FF7772\" fill-rule=\"evenodd\"></path>\n",
            "<path clip-rule=\"evenodd\" d=\"M8.6795 2.24966C6.47037 2.24966 4.6795 4.04052 4.6795 6.24966V9.3201C4.6795 11.5292 6.47037 13.3201 8.6795 13.3201H11.7499C13.9591 13.3201 15.7499 11.5292 15.7499 9.3201V6.24966C15.7499 4.04052 13.9591 2.24966 11.7499 2.24966H8.6795ZM12.1051 8.15374C12.2851 8.04981 12.2851 7.78999 12.1051 7.68606L9.27002 6.04921C9.09002 5.94528 8.86501 6.07519 8.86501 6.28305L8.86501 9.55675C8.86501 9.76461 9.09002 9.89451 9.27002 9.79059L12.1051 8.15374Z\" fill=\"#FF7772\" fill-rule=\"evenodd\"></path>\n",
            "</svg>\n",
            "</span>\r\n",
            "                                        YouTube\r\n",
            "                                    </a>\n",
            "</li>\n",
            "<li>\n",
            "<a class=\"header__clink\" href=\"https://tuoitre.vn/can-biet.htm\" title=\"CẦN BIẾT\">\n",
            "<span class=\"icon\">\n",
            "<svg fill=\"none\" height=\"18\" viewbox=\"0 0 18 18\" width=\"18\" xmlns=\"http://www.w3.org/2000/svg\">\n",
            "<path d=\"M8.99662 14.2486C8.84917 14.2486 8.70171 14.2518 8.55425 14.2486C8.10867 14.2356 7.78812 13.9218 7.78491 13.4753C7.78491 13.2941 7.75606 13.1712 7.59257 13.0579C7.40024 12.9285 7.33292 12.7085 7.33292 12.4723C7.33292 12.1973 7.35536 11.9223 7.32651 11.6505C7.29446 11.3108 7.24317 10.971 7.15982 10.6443C7.07647 10.3142 6.86491 10.0489 6.60846 9.82567C5.8872 9.19476 5.44804 8.40206 5.29737 7.4476C5.03772 5.83956 5.86476 4.18947 7.30407 3.43883C7.85864 3.14764 8.44847 2.9794 9.07676 3.00204C10.6764 3.06028 12.1221 4.16035 12.5676 5.71338C13.026 7.302 12.6125 8.67384 11.4136 9.79979C11.1796 10.0198 10.9713 10.256 10.8623 10.5634C10.8078 10.7219 10.7789 10.8901 10.7469 11.0552C10.6539 11.5275 10.6603 12.0064 10.6635 12.4852C10.6635 12.7797 10.5321 12.9997 10.2853 13.1582C10.2532 13.1776 10.2276 13.2294 10.2212 13.2682C10.2083 13.375 10.218 13.485 10.2019 13.595C10.1538 13.9541 9.85893 14.2259 9.50311 14.2453C9.33641 14.255 9.16652 14.2453 8.99983 14.2453C8.99662 14.2453 8.99662 14.2453 8.99662 14.2486ZM6.43856 6.47695C6.43856 6.51901 6.43536 6.5449 6.43856 6.57402C6.45459 6.71638 6.55717 6.81668 6.6918 6.81991C6.82003 6.82315 6.92261 6.72932 6.94825 6.59343C6.95466 6.55784 6.95466 6.52225 6.95466 6.48342C7.01236 5.61308 7.44191 5.00157 8.23049 4.6489C8.46129 4.54537 8.71133 4.50331 8.96457 4.49684C9.1569 4.49037 9.27551 4.36418 9.24986 4.20241C9.22743 4.05034 9.11202 3.97269 8.91969 3.97916C7.56693 4.02446 6.48344 5.11805 6.43856 6.47695ZM7.84582 11.9708C7.84582 12.152 7.83941 12.3299 7.84582 12.5047C7.85223 12.6405 7.9516 12.7376 8.08624 12.7408C8.69209 12.7441 9.30115 12.7441 9.90701 12.7408C10.0288 12.7408 10.125 12.6664 10.1346 12.5499C10.1538 12.3558 10.141 12.1617 10.141 11.974C9.37488 11.9708 8.61836 11.9708 7.84582 11.9708ZM9.69865 13.2715C9.22422 13.2715 8.76582 13.2715 8.2978 13.2715C8.2978 13.3459 8.2946 13.4138 8.2978 13.4818C8.30742 13.6241 8.40038 13.7277 8.54143 13.7277C8.84596 13.7341 9.14729 13.7341 9.45182 13.7277C9.59286 13.7244 9.68582 13.6241 9.69544 13.4785C9.70185 13.4138 9.69865 13.3459 9.69865 13.2715Z\" fill=\"#FF7772\"></path>\n",
            "</svg>\n",
            "</span>\r\n",
            "                                        Cần biết\r\n",
            "                                    </a>\n",
            "</li>\n",
            "<li>\n",
            "<a class=\"header__clink\" href=\"https://raovat.tuoitre.vn\" rel=\"nofollow\" target=\"_blank\" title=\"RAO VẶT\">\n",
            "<span class=\"icon\">\n",
            "<svg fill=\"none\" height=\"18\" viewbox=\"0 0 18 18\" width=\"18\" xmlns=\"http://www.w3.org/2000/svg\">\n",
            "<path d=\"M15 6.08317C15 6.05337 14.9706 6.03251 14.9442 6.04443C13.1301 6.73582 11.319 7.42722 9.50195 8.11265C9.39921 8.15139 9.36986 8.19907 9.36986 8.30636C9.37279 10.4938 9.37279 12.6842 9.37279 14.8716V14.958C9.37279 14.9879 9.40215 15.0087 9.42857 14.9968C11.2838 14.2905 13.1272 13.5902 14.9706 12.8868C14.9883 12.8809 15 12.863 15 12.8451C15 10.5921 15 8.33616 15 6.08317ZM12.0558 12.8779C12.0294 12.8868 12 12.869 12 12.8392C12 12.6097 12.0029 12.3951 11.9971 12.1776C11.9941 12.1031 12.0235 12.0733 12.0881 12.0524C12.1937 12.0166 12.2994 11.9719 12.4051 11.9332C12.7485 11.8021 13.089 11.6739 13.4442 11.5398C13.4706 11.5309 13.5 11.5488 13.5 11.5786C13.5 11.817 13.5029 12.0464 13.4971 12.2759C13.4971 12.3027 13.4589 12.3415 13.4325 12.3534C13.2916 12.413 13.1507 12.4637 13.0068 12.5173C12.6928 12.6365 12.3816 12.7557 12.0558 12.8779Z\" fill=\"#FF7772\"></path>\n",
            "<path d=\"M8.57142 14.9936C8.59784 15.0026 8.62426 14.9817 8.62426 14.9549V14.8834C8.62426 12.687 8.62426 10.4906 8.6272 8.29425C8.6272 8.19292 8.59784 8.1512 8.50685 8.11842C7.96966 7.91875 7.43248 7.71312 6.8953 7.50749C6.86594 7.49557 6.83952 7.48663 6.80724 7.47769C6.78082 7.46875 6.7544 7.48961 6.7544 7.51643V9.29856C6.7544 9.32836 6.72504 9.34922 6.69863 9.3373C6.60763 9.30154 6.5225 9.27174 6.44031 9.23896C6.07925 9.10187 5.71819 8.9618 5.3542 8.83068C5.27494 8.80087 5.24853 8.76511 5.24853 8.67869C5.25146 8.11246 5.25146 7.54325 5.25146 6.97702C5.25146 6.91742 5.24559 6.87868 5.17808 6.85186C4.47357 6.58662 3.76907 6.31543 3.06457 6.04722C3.06164 6.04424 3.05577 6.04424 3.05283 6.04424C3.02641 6.03828 3.00293 6.05914 3.00293 6.08596V6.14854C3.00293 8.35385 3.00293 10.5592 2.99999 12.7615C2.99999 12.8539 3.02935 12.8926 3.11154 12.9224C4.91682 13.6049 6.71917 14.2933 8.52152 14.9787C8.5362 14.9817 8.55381 14.9877 8.57142 14.9936Z\" fill=\"#FF7772\"></path>\n",
            "<path d=\"M3.10269 5.2217C3.06746 5.2366 3.06746 5.28726 3.10269 5.29918C3.66629 5.51376 4.20347 5.71939 4.74359 5.92502C4.91091 5.9876 5.08116 6.10382 5.24848 6.09786C5.41873 6.0919 5.58605 5.96674 5.75337 5.89223C6.3023 5.64488 6.84828 5.39455 7.39721 5.14422C7.46472 5.11144 7.52343 5.10846 7.59388 5.14124C8.02539 5.33197 8.46277 5.51674 8.89427 5.70448C8.90015 5.70746 8.90308 5.70746 8.90895 5.71045C8.94124 5.72535 8.94124 5.77303 8.90895 5.78793C8.225 6.07402 7.54985 6.35714 6.85416 6.64919C6.81893 6.66409 6.81893 6.71476 6.85416 6.72668C6.9158 6.75052 6.96864 6.77138 7.02148 6.79224C7.65259 7.03363 8.28371 7.27502 8.91482 7.51343C8.96179 7.53132 9.02343 7.5343 9.06746 7.51642C11.0136 6.78032 12.954 6.04124 14.8972 5.29918C14.9324 5.28726 14.9324 5.2366 14.9001 5.2217C14.8943 5.21872 14.8884 5.21574 14.8825 5.21276C12.951 4.47964 11.0225 3.74653 9.09095 3.01341C9.04105 2.99553 8.95885 2.99553 8.90895 3.01341C6.97744 3.74355 5.04887 4.47964 3.1203 5.21574C3.11443 5.21574 3.10856 5.21872 3.10269 5.2217Z\" fill=\"#FF7772\"></path>\n",
            "</svg>\n",
            "</span>\r\n",
            "                                        Rao vặt\r\n",
            "                                    </a>\n",
            "</li>\n",
            "</ul>\n",
            "</div>\n",
            "<div class=\"header__action\">\n",
            "<div class=\"box-search frm-search\">\n",
            "<input class=\"input-search txt-search\" onfocus=\"this.removeAttribute('readonly');\" placeholder=\"Nhập nội dung cần tìm\"/>\n",
            "<a class=\"header__search\" href=\"javascript:;\" rel=\"nofollow\">\n",
            "<svg fill=\"none\" height=\"24\" viewbox=\"0 0 24 24\" width=\"24\" xmlns=\"http://www.w3.org/2000/svg\">\n",
            "<g clip-path=\"url(#clip0_5065_43138)\">\n",
            "<path d=\"M15.4996 14.0006H14.7096L14.4296 13.7306C15.6296 12.3306 16.2496 10.4206 15.9096 8.39063C15.4396 5.61063 13.1196 3.39063 10.3196 3.05063C6.08965 2.53063 2.52965 6.09063 3.04965 10.3206C3.38965 13.1206 5.60965 15.4406 8.38965 15.9106C10.4196 16.2506 12.3296 15.6306 13.7296 14.4306L13.9996 14.7106V15.5006L18.2496 19.7506C18.6596 20.1606 19.3296 20.1606 19.7396 19.7506C20.1496 19.3406 20.1496 18.6706 19.7396 18.2606L15.4996 14.0006ZM9.49965 14.0006C7.00965 14.0006 4.99965 11.9906 4.99965 9.50063C4.99965 7.01063 7.00965 5.00063 9.49965 5.00063C11.9896 5.00063 13.9996 7.01063 13.9996 9.50063C13.9996 11.9906 11.9896 14.0006 9.49965 14.0006Z\" fill=\"white\"></path>\n",
            "</g>\n",
            "<defs>\n",
            "<clippath id=\"clip0_5065_43138\">\n",
            "<rect fill=\"white\" height=\"24\" width=\"24\"></rect>\n",
            "</clippath>\n",
            "</defs>\n",
            "</svg>\n",
            "</a>\n",
            "<a class=\"header__search btn-search\" href=\"javascript:;\" rel=\"nofollow\">\n",
            "<svg fill=\"none\" height=\"24\" viewbox=\"0 0 24 24\" width=\"24\" xmlns=\"http://www.w3.org/2000/svg\">\n",
            "<g clip-path=\"url(#clip0_5065_431381)\">\n",
            "<path d=\"M15.4996 14.0006H14.7096L14.4296 13.7306C15.6296 12.3306 16.2496 10.4206 15.9096 8.39063C15.4396 5.61063 13.1196 3.39063 10.3196 3.05063C6.08965 2.53063 2.52965 6.09063 3.04965 10.3206C3.38965 13.1206 5.60965 15.4406 8.38965 15.9106C10.4196 16.2506 12.3296 15.6306 13.7296 14.4306L13.9996 14.7106V15.5006L18.2496 19.7506C18.6596 20.1606 19.3296 20.1606 19.7396 19.7506C20.1496 19.3406 20.1496 18.6706 19.7396 18.2606L15.4996 14.0006ZM9.49965 14.0006C7.00965 14.0006 4.99965 11.9906 4.99965 9.50063C4.99965 7.01063 7.00965 5.00063 9.49965 5.00063C11.9896 5.00063 13.9996 7.01063 13.9996 9.50063C13.9996 11.9906 11.9896 14.0006 9.49965 14.0006Z\" fill=\"white\"></path>\n",
            "</g>\n",
            "<defs>\n",
            "<clippath id=\"clip0_5065_431381\">\n",
            "<rect fill=\"white\" height=\"24\" width=\"24\"></rect>\n",
            "</clippath>\n",
            "</defs>\n",
            "</svg>\n",
            "</a>\n",
            "</div>\n",
            "<div class=\"loginform\">\n",
            "<div class=\"h_logout\" id=\"head_login\">\n",
            "<a class=\"header__user\" data-atc=\"login\" href=\"javascript:;\" rel=\"nofollow\">\n",
            "<svg fill=\"none\" height=\"24\" viewbox=\"0 0 32 32\" width=\"24\" xmlns=\"http://www.w3.org/2000/svg\">\n",
            "<ellipse cx=\"16\" cy=\"13.3333\" fill=\"white\" rx=\"4\" ry=\"4\" stroke=\"white\" stroke-linecap=\"round\" stroke-width=\"2\"></ellipse>\n",
            "<circle cx=\"16\" cy=\"16\" r=\"12\" stroke=\"white\" stroke-width=\"2\"></circle>\n",
            "<path d=\"M23.7074 25.1019C23.8769 25.0088 23.957 24.8073 23.8854 24.6277C23.3712 23.3393 22.3808 22.2046 21.0419 21.3776C19.5955 20.4843 17.8232 20 16 20C14.1768 20 12.4046 20.4842 10.9581 21.3776C9.61925 22.2046 8.6288 23.3393 8.11464 24.6277C8.04298 24.8073 8.12314 25.0088 8.29264 25.1019C13.0929 27.7373 18.9071 27.7373 23.7074 25.1019Z\" fill=\"white\"></path>\n",
            "</svg>\n",
            "</a>\n",
            "</div>\n",
            "<div class=\"h_login\" id=\"head_islogin\">\n",
            "<a class=\"h_name\" href=\"https://sso.tuoitre.vn\" rel=\"nofollow\" target=\"_blank\" title=\"Thông tin tài khoản\">\n",
            "<img alt=\"thông tin tài khoản\" data-uinfo=\"avatar_path\" src=\"https://static.mediacdn.vn/tuoitre/web_images/userdeffault.jpg\"/>\n",
            "<span class=\"txt\"></span>\n",
            "</a>\n",
            "<div class=\"logininfo\">\n",
            "<div class=\"u_name\">Xin chào, <a data-uinfo=\"name\" href=\"javascript:;\" rel=\"nofollow\" title=\"\"></a></div>\n",
            "<ul>\n",
            "<li>\n",
            "<a href=\"https://sso.tuoitre.vn\" rel=\"nofollow\" target=\"_blank\" title=\"Cài đặt tài khoản\">Cài đặt tài khoản</a>\n",
            "</li>\n",
            "<li>\n",
            "<a href=\"https://sso.tuoitre.vn/bookmarked-articles\" rel=\"nofollow\" target=\"_blank\" title=\"Tin đã lưu\">Tin đã lưu</a>\n",
            "</li>\n",
            "<li>\n",
            "<a href=\"https://sso.tuoitre.vn/commented-articles\" rel=\"nofollow\" target=\"_blank\" title=\"Bình luận của bạn\">Bình luận của bạn</a>\n",
            "</li>\n",
            "<li>\n",
            "<a href=\"https://sso.tuoitre.vn/transactions\" rel=\"nofollow\" target=\"_blank\" title=\"Lịch sử giao dịch\">Lịch sử giao dịch</a>\n",
            "</li>\n",
            "<li data-atc=\"atc-star\">\n",
            "<a href=\"/danh-cho-ban.htm\" title=\"Dành cho bạn\">Dành cho bạn</a>\n",
            "</li>\n",
            "<li class=\"templatestarbtn\" data-atc=\"atc-startemp\">\n",
            "<a href=\"javascript:;\" id=\"btnStarTemp1\" rel=\"nofollow\" title=\"Vào Tuổi Trẻ Sao\">Vào Tuổi Trẻ Sao</a>\n",
            "</li>\n",
            "<li class=\"templatestarbtn\" data-atc=\"logouttemplatestar\">\n",
            "<a href=\"javascript:;\" rel=\"nofollow\" title=\"Thoát Tuổi Trẻ Sao\">Thoát Tuổi Trẻ Sao</a>\n",
            "</li>\n",
            "<li>\n",
            "<a data-atc=\"logout\" href=\"javascript:;\" id=\"head_logout\" rel=\"nofollow\" title=\"Đăng xuất\">Đăng xuất</a>\n",
            "</li>\n",
            "</ul>\n",
            "</div>\n",
            "</div>\n",
            "</div>\n",
            "<a class=\"btnstarregister templatestarbtn\" data-view=\"hidebylogin\" href=\"/dang-ky-tuoi-tre-sao.htm\">Đăng ký Tuổi Trẻ Sao</a>\n",
            "<a class=\"btnstarregister templatestarbtn\" data-atc=\"atc-startemp\" href=\"javascript:void(0)\" id=\"btnStarTemp\" rel=\"nofollow\" title=\"Vào Tuổi Trẻ Sao\">Vào trang Tuổi Trẻ Sao</a>\n",
            "<a class=\"introduce_tto\" data-view=\"hidebylogin\" href=\"javascript:;\" rel=\"nofollow\">\n",
            "<svg fill=\"none\" height=\"19\" viewbox=\"0 0 18 19\" width=\"18\" xmlns=\"http://www.w3.org/2000/svg\">\n",
            "<circle cx=\"8.5\" cy=\"8.5\" fill=\"white\" r=\"7.5\"></circle>\n",
            "<path d=\"M15.8028 18.048C15.3611 17.8664 14.9462 17.6938 14.5284 17.5211C13.633 17.1519 12.7376 16.7828 11.8422 16.4077C11.7467 16.366 11.6631 16.36 11.5616 16.4017C6.6936 18.2743 1.28836 15.3568 0.189996 10.263C-0.791963 5.70517 2.13003 1.18303 6.69957 0.194651C11.4183 -0.826478 16.0625 2.27561 16.8803 7.02401C17.2892 9.40565 16.7579 11.5848 15.3342 13.5408C15.2596 13.642 15.2387 13.7343 15.2537 13.8563C15.4297 15.1722 15.6029 16.491 15.779 17.8099C15.7879 17.8783 15.7939 17.9528 15.8028 18.048ZM9.37086 11.6087C9.37981 11.5789 9.38578 11.564 9.38578 11.5491C9.39175 11.4539 9.40369 11.3616 9.39772 11.2663C9.3619 10.6947 9.60665 10.2928 10.0842 9.97724C10.5647 9.65572 11.0363 9.30443 11.4601 8.91146C12.7913 7.673 12.9913 5.29136 11.29 3.92192C10.517 3.29972 9.62455 3.06453 8.65155 3.07048C6.64286 3.07941 5.0192 4.38932 4.6103 6.34524C4.56553 6.55661 4.54165 6.77096 4.50882 6.98828C5.15053 7.10141 5.76537 7.21156 6.38917 7.32469C6.40111 7.25622 6.41006 7.20263 6.422 7.15202C6.50258 6.83645 6.55929 6.51195 6.66973 6.20532C6.9861 5.32113 7.61885 4.88053 8.51426 4.88053C9.69619 4.88053 10.3976 5.83319 10.1618 6.97637C10.0484 7.53606 9.70216 7.9588 9.2843 8.32498C8.98583 8.58696 8.67244 8.83108 8.36801 9.08413C8.01283 9.37885 7.73824 9.72419 7.72332 10.2095C7.70839 10.6649 7.71735 11.1204 7.71735 11.5789C7.71735 11.5878 7.72929 11.5938 7.73824 11.6087C8.2725 11.6087 8.81869 11.6087 9.37086 11.6087ZM9.72305 12.8441C9.04254 12.8441 8.37696 12.8441 7.71436 12.8441C7.71436 13.5616 7.71436 14.2672 7.71436 14.9698C8.39188 14.9698 9.05448 14.9698 9.72305 14.9698C9.72305 14.2553 9.72305 13.5527 9.72305 12.8441Z\" fill=\"#5580DF\"></path>\n",
            "</svg>\n",
            "</a>\n",
            "</div>\n",
            "</div>\n",
            "</div>\n",
            "</div>\n",
            "</div>\n",
            "<div class=\"header__middle\">\n",
            "<div class=\"header__postion\">\n",
            "<div class=\"header__nav\">\n",
            "<div class=\"container\">\n",
            "<div class=\"header__nav-flex\">\n",
            "<ul class=\"menu-nav\">\n",
            "<li>\n",
            "<a class=\"nav-link home\" href=\"/\" title=\"Trang chủ\">\n",
            "<svg fill=\"none\" height=\"18\" viewbox=\"0 0 18 18\" width=\"18\" xmlns=\"http://www.w3.org/2000/svg\">\n",
            "<path d=\"M3.23348 7.8415L8.81161 2.47448C9.12279 2.17517 9.62721 2.17517 9.93839 2.47448L15.5165 7.8415C15.6659 7.98526 15.75 8.18023 15.75 8.38357V15.7333C15.75 16.1567 15.3932 16.5 14.9531 16.5H10.9688V11.133H7.78125V16.5H3.79688C3.35678 16.5 3 16.1567 3 15.7333V8.38357C3 8.18023 3.08403 7.98526 3.23348 7.8415Z\" fill=\"#ED1C24\"></path>\n",
            "</svg>\n",
            "</a>\n",
            "</li>\n",
            "<li>\n",
            "<a class=\"nav-link\" href=\"https://video.tuoitre.vn\" title=\"Media\">Media\r\n",
            "                                    </a>\n",
            "</li>\n",
            "<li>\n",
            "<a class=\"nav-link \" href=\"/thoi-su.htm\" title=\"Thời sự\">Thời sự\r\n",
            "                                    </a>\n",
            "</li>\n",
            "<li>\n",
            "<a class=\"nav-link \" href=\"/the-gioi.htm\" title=\"Thế giới\">Thế giới\r\n",
            "                                    </a>\n",
            "</li>\n",
            "<li>\n",
            "<a class=\"nav-link \" href=\"/phap-luat.htm\" title=\"Pháp luật\">Pháp luật\r\n",
            "                                    </a>\n",
            "</li>\n",
            "<li>\n",
            "<a class=\"nav-link \" href=\"/kinh-doanh.htm\" title=\"Kinh doanh\">Kinh doanh\r\n",
            "                                    </a>\n",
            "</li>\n",
            "<li>\n",
            "<a class=\"nav-link \" href=\"/cong-nghe.htm\" title=\"Công nghệ\">Công nghệ\r\n",
            "                                    </a>\n",
            "</li>\n",
            "<li>\n",
            "<a class=\"nav-link \" href=\"/xe.htm\" title=\"Xe\">Xe\r\n",
            "                                    </a>\n",
            "</li>\n",
            "<li>\n",
            "<a class=\"nav-link \" href=\"/du-lich.htm\" title=\"Du lịch\">Du lịch\r\n",
            "                                    </a>\n",
            "</li>\n",
            "<li>\n",
            "<a class=\"nav-link \" href=\"/nhip-song-tre.htm\" title=\"Nhịp sống trẻ\">Nhịp sống trẻ\r\n",
            "                                    </a>\n",
            "</li>\n",
            "<li>\n",
            "<a class=\"nav-link \" href=\"/van-hoa.htm\" title=\"Văn hóa\">Văn hóa\r\n",
            "                                    </a>\n",
            "</li>\n",
            "<li>\n",
            "<a class=\"nav-link \" href=\"/giai-tri.htm\" title=\"Giải trí\">Giải trí\r\n",
            "                                    </a>\n",
            "</li>\n",
            "<li>\n",
            "<a class=\"nav-link \" href=\"/the-thao.htm\" title=\"Thể thao\">Thể thao\r\n",
            "                                    </a>\n",
            "</li>\n",
            "<li>\n",
            "<a class=\"nav-link \" href=\"/giao-duc.htm\" title=\"Giáo dục\">Giáo dục\r\n",
            "                                    </a>\n",
            "</li>\n",
            "<li>\n",
            "<a class=\"nav-link\" href=\"/nha-dat.htm\" title=\"Nhà đất\">Nhà đất</a>\n",
            "</li>\n",
            "<li>\n",
            "<a class=\"nav-link \" href=\"/suc-khoe.htm\" title=\"Sức khỏe\">Sức khỏe\r\n",
            "                                    </a>\n",
            "</li>\n",
            "<li>\n",
            "<a class=\"nav-link \" href=\"/gia-that.htm\" title=\"Giả-thật\">Giả thật\r\n",
            "                                    </a>\n",
            "</li>\n",
            "<li>\n",
            "<a class=\"nav-link \" href=\"/ban-doc-lam-bao.htm\" title=\"Bạn đọc\">Bạn đọc\r\n",
            "                                    </a>\n",
            "</li>\n",
            "</ul>\n",
            "</div>\n",
            "</div>\n",
            "</div>\n",
            "</div>\n",
            "</div>\n",
            "</div>\n",
            "</div>\n",
            "<div id=\"LeaderBoardBackgroundU\">\n",
            "<div class=\"clearfix \" data-atc=\"atc-nonstar\">\n",
            "<zone id=\"jphs5rwl\"></zone>\n",
            "<script>\r\n",
            "        if (is_iPadScreen != null && widthScreen < 1024) { } else\r\n",
            "            arfAsync.push(\"jphs5rwl\");\r\n",
            "    </script>\n",
            "</div>\n",
            "</div>\n",
            "<div class=\"main\" id=\"content\">\n",
            "<div class=\"pagetag\">\n",
            "<div class=\"list__breadcrumb\">\n",
            "<div class=\"container\">\n",
            "<div class=\"list__breadcrumb-flex\">\n",
            "<h1>\n",
            "<span class=\"title\">Tin mới nhất</span>\n",
            "</h1>\n",
            "<p>Thứ tư, ngày 1 tháng 2 năm 2023</p>\n",
            "</div>\n",
            "</div>\n",
            "</div>\n",
            "<div class=\"list__listing\">\n",
            "<div class=\"container\">\n",
            "<div class=\"list__listing-flex\">\n",
            "<div class=\"list__listing-main\">\n",
            "<div class=\"box-category-news box-first\">\n",
            "<div class=\"box-category box-border-top box-last-news\" data-layout=\"3\">\n",
            "<div class=\"box-category-middle\" id=\"load-list-news\">\n",
            "<div class=\"box-category-item\">\n",
            "<span class=\"time-ago-last-news\" title=\"2023-02-01T16:30:26\"></span>\n",
            "<a class=\"box-category-link-with-avatar img-resize\" data-newstype=\"0\" data-type=\"0\" href=\"/cac-dai-gia-premier-league-mua-sam-the-nao-trong-mua-dong-20230201161646786.htm\" title=\"Các đại gia Premier League mua sắm thế nào trong mùa đông?\">\n",
            "<img alt=\"Các đại gia Premier League mua sắm thế nào trong mùa đông?\" class=\"box-category-avatar\" data-type=\"avatar\" loading=\"lazy\" src=\"https://cdn.tuoitre.vn/zoom/260_163/471584752817336320/2023/2/1/r1118849-1296x729-16-9-1675242823740275980732-0-0-729-1166-crop-1675242828359932143639.jpeg\"/>\n",
            "</a>\n",
            "<div class=\"box-category-content\">\n",
            "<a class=\"box-category-category\" href=\"/the-thao.htm\" title=\"Thể thao\">Thể thao</a>\n",
            "<div class=\"box-content-title\">\n",
            "<h3 class=\"box-title-text\" data-comment=\"20230201161646786\">\n",
            "<a class=\"box-category-link-title\" data-id=\"20230201161646786\" data-linktype=\"newsdetail\" data-newstype=\"0\" data-objecttype=\"\" data-type=\"0\" href=\"/cac-dai-gia-premier-league-mua-sam-the-nao-trong-mua-dong-20230201161646786.htm\" title=\"Các đại gia Premier League mua sắm thế nào trong mùa đông?\">Các đại gia Premier League mua sắm thế nào trong mùa đông?</a>\n",
            "</h3>\n",
            "</div>\n",
            "<p class=\"box-category-sapo need-trimline\" data-type=\"sapo\" rel=\"3\">Thị trường chuyển nhượng mùa đông các Premier League tiếp tục diễn ra đầy sôi động. Và thậm chí nhiều \"bom tấn\" đã nổ vào giờ chót.</p>\n",
            "</div>\n",
            "</div>\n",
            "<div class=\"box-category-item\">\n",
            "<span class=\"time-ago-last-news\" title=\"2023-02-01T16:30:16\"></span>\n",
            "<a class=\"box-category-link-with-avatar img-resize\" data-newstype=\"0\" data-type=\"0\" href=\"/me-ngoai-35-tuoi-bo-tren-45-tuoi-co-nguy-co-sinh-con-khuyet-tat-20230201161202107.htm\" title=\"Mẹ ngoài 35 tuổi, bố trên 45 tuổi có nguy cơ sinh con khuyết tật\">\n",
            "<img alt=\"Mẹ ngoài 35 tuổi, bố trên 45 tuổi có nguy cơ sinh con khuyết tật\" class=\"box-category-avatar\" data-type=\"avatar\" loading=\"lazy\" src=\"https://cdn.tuoitre.vn/zoom/260_163/471584752817336320/2023/2/1/ky-thuat-lay-mau-got-chan-16752424822922145898656-91-0-457-586-crop-1675242599670470531962.jpg\"/>\n",
            "</a>\n",
            "<div class=\"box-category-content\">\n",
            "<a class=\"box-category-category\" href=\"/suc-khoe.htm\" title=\"Sức khỏe\">Sức khỏe</a>\n",
            "<div class=\"box-content-title\">\n",
            "<h3 class=\"box-title-text\" data-comment=\"20230201161202107\">\n",
            "<a class=\"box-category-link-title\" data-id=\"20230201161202107\" data-linktype=\"newsdetail\" data-newstype=\"0\" data-objecttype=\"\" data-type=\"0\" href=\"/me-ngoai-35-tuoi-bo-tren-45-tuoi-co-nguy-co-sinh-con-khuyet-tat-20230201161202107.htm\" title=\"Mẹ ngoài 35 tuổi, bố trên 45 tuổi có nguy cơ sinh con khuyết tật\">Mẹ ngoài 35 tuổi, bố trên 45 tuổi có nguy cơ sinh con khuyết tật</a>\n",
            "</h3>\n",
            "</div>\n",
            "<p class=\"box-category-sapo need-trimline\" data-type=\"sapo\" rel=\"3\">Theo tài liệu “Hướng dẫn phát hiện sớm – can thiệp sớm khuyết tật trẻ em” do Bộ Y tế vừa ban hành, một trong những nguyên nhân gây khuyết tật ở trẻ là sinh con khi mẹ trên 35 và bố trên 45 tuổi.</p>\n",
            "</div>\n",
            "</div>\n",
            "<div class=\"box-category-item\">\n",
            "<span class=\"time-ago-last-news\" title=\"2023-02-01T16:30:00\"></span>\n",
            "<a class=\"box-category-link-with-avatar img-resize\" data-newstype=\"0\" data-type=\"0\" href=\"/dau-nam-quy-mao-2023-gia-gas-ban-le-tang-manh-20230201140050746.htm\" title=\"Đầu năm Quý Mão 2023, giá gas bán lẻ tăng mạnh\">\n",
            "<img alt=\"Đầu năm Quý Mão 2023, giá gas bán lẻ tăng mạnh\" class=\"box-category-avatar\" data-type=\"avatar\" loading=\"lazy\" src=\"https://cdn.tuoitre.vn/zoom/260_163/471584752817336320/2023/2/1/photo1675234555819-16752345558941572736722.jpg\"/>\n",
            "</a>\n",
            "<div class=\"box-category-content\">\n",
            "<a class=\"box-category-category\" href=\"/can-biet.htm\" title=\"Cần biết\">Cần biết</a>\n",
            "<div class=\"box-content-title\">\n",
            "<h3 class=\"box-title-text\" data-comment=\"20230201140050746\">\n",
            "<a class=\"box-category-link-title\" data-id=\"20230201140050746\" data-linktype=\"newsdetail\" data-newstype=\"0\" data-objecttype=\"\" data-type=\"0\" href=\"/dau-nam-quy-mao-2023-gia-gas-ban-le-tang-manh-20230201140050746.htm\" title=\"Đầu năm Quý Mão 2023, giá gas bán lẻ tăng mạnh\">Đầu năm Quý Mão 2023, giá gas bán lẻ tăng mạnh</a>\n",
            "</h3>\n",
            "</div>\n",
            "<p class=\"box-category-sapo need-trimline\" data-type=\"sapo\" rel=\"3\">Đầu năm Quý Mão 2023, một số doanh nghiệp kinh doanh gas trong nước vừa thông báo tăng giá bán gas.</p>\n",
            "</div>\n",
            "</div>\n",
            "<div class=\"box-category-item\">\n",
            "<span class=\"time-ago-last-news\" title=\"2023-02-01T16:29:38\"></span>\n",
            "<a class=\"box-category-link-with-avatar img-resize\" data-newstype=\"0\" data-type=\"0\" href=\"/dan-mang-trung-quoc-lo-ceo-tiktok-gap-nguy-hiem-tai-my-20230201115012606.htm\" title=\"Dân mạng Trung Quốc lo CEO TikTok gặp nguy hiểm tại Mỹ\">\n",
            "<img alt=\"Dân mạng Trung Quốc lo CEO TikTok gặp nguy hiểm tại Mỹ\" class=\"box-category-avatar\" data-type=\"avatar\" loading=\"lazy\" src=\"https://cdn.tuoitre.vn/zoom/260_163/471584752817336320/2023/2/1/221219164230-20-tiktok-stock-16752252589941384692757-0-0-478-765-crop-16752252618371394434745.jpg\"/>\n",
            "</a>\n",
            "<div class=\"box-category-content\">\n",
            "<a class=\"box-category-category\" href=\"/cong-nghe.htm\" title=\"Công nghệ\">Công nghệ</a>\n",
            "<div class=\"box-content-title\">\n",
            "<h3 class=\"box-title-text\" data-comment=\"20230201115012606\">\n",
            "<a class=\"box-category-link-title\" data-id=\"20230201115012606\" data-linktype=\"newsdetail\" data-newstype=\"0\" data-objecttype=\"\" data-type=\"0\" href=\"/dan-mang-trung-quoc-lo-ceo-tiktok-gap-nguy-hiem-tai-my-20230201115012606.htm\" title=\"Dân mạng Trung Quốc lo CEO TikTok gặp nguy hiểm tại Mỹ\">Dân mạng Trung Quốc lo CEO TikTok gặp nguy hiểm tại Mỹ</a>\n",
            "</h3>\n",
            "</div>\n",
            "<p class=\"box-category-sapo need-trimline\" data-type=\"sapo\" rel=\"3\">Sau khi những tin tức về việc ông Shou Zi Chew, CEO TikTok sẽ điều trần trước Quốc hội Mỹ vào tháng 3 tới, cộng đồng mạng Trung Quốc lo ngại ông này sẽ bị bắt giữ tại Mỹ.</p>\n",
            "</div>\n",
            "</div>\n",
            "<div class=\"box-category-item\">\n",
            "<span class=\"time-ago-last-news\" title=\"2023-02-01T16:29:22\"></span>\n",
            "<a class=\"box-category-link-with-avatar img-resize\" data-newstype=\"0\" data-type=\"0\" href=\"/da-nang-canh-sat-dot-kich-vu-truong-new-phuong-dong-nhieu-dan-choi-ma-tuy-gay-canh-20230201160159709.htm\" title=\"Đà Nẵng: Cảnh sát đột kích vũ trường New Phương Đông, nhiều dân chơi ma túy ‘gãy cánh’\">\n",
            "<img alt=\"Đà Nẵng: Cảnh sát đột kích vũ trường New Phương Đông, nhiều dân chơi ma túy ‘gãy cánh’\" class=\"box-category-avatar\" data-type=\"avatar\" loading=\"lazy\" src=\"https://cdn.tuoitre.vn/zoom/260_163/471584752817336320/2023/2/1/13-3-vu-truong-new-phuong-dong-1-1675241404785518034842-159-0-959-1280-crop-1675242408315446492124.jpg\"/>\n",
            "</a>\n",
            "<div class=\"box-category-content\">\n",
            "<a class=\"box-category-category\" href=\"/phap-luat.htm\" title=\"Pháp luật\">Pháp luật</a>\n",
            "<div class=\"box-content-title\">\n",
            "<h3 class=\"box-title-text\" data-comment=\"20230201160159709\">\n",
            "<a class=\"box-category-link-title\" data-id=\"20230201160159709\" data-linktype=\"newsdetail\" data-newstype=\"0\" data-objecttype=\"\" data-type=\"0\" href=\"/da-nang-canh-sat-dot-kich-vu-truong-new-phuong-dong-nhieu-dan-choi-ma-tuy-gay-canh-20230201160159709.htm\" title=\"Đà Nẵng: Cảnh sát đột kích vũ trường New Phương Đông, nhiều dân chơi ma túy ‘gãy cánh’\">Đà Nẵng: Cảnh sát đột kích vũ trường New Phương Đông, nhiều dân chơi ma túy ‘gãy cánh’</a>\n",
            "</h3>\n",
            "</div>\n",
            "<p class=\"box-category-sapo need-trimline\" data-type=\"sapo\" rel=\"3\">Công an quận Hải Châu (Đà Nẵng) đang tiếp tục điều tra vụ hàng chục thanh niên sử dụng trái phép chất ma túy trong vũ trường New Phương Đông (quận Hảu Châu, Đà Nẵng).</p>\n",
            "</div>\n",
            "</div>\n",
            "<div class=\"box-category-item\">\n",
            "<span class=\"time-ago-last-news\" title=\"2023-02-01T16:08:49\"></span>\n",
            "<a class=\"box-category-link-with-avatar img-resize\" data-newstype=\"0\" data-type=\"0\" href=\"/de-xuat-co-che-moi-lam-cac-du-an-bot-o-tp-hcm-20230201152557466.htm\" title=\"Đề xuất cơ chế mới làm các dự án BOT ở TP.HCM\">\n",
            "<img alt=\"Đề xuất cơ chế mới làm các dự án BOT ở TP.HCM\" class=\"box-category-avatar\" data-type=\"avatar\" loading=\"lazy\" src=\"https://cdn.tuoitre.vn/zoom/260_163/471584752817336320/2023/2/1/cau-binh-trieu-17-16752394913632129242791.jpg\"/>\n",
            "</a>\n",
            "<div class=\"box-category-content\">\n",
            "<a class=\"box-category-category\" href=\"/thoi-su.htm\" title=\"Thời sự\">Thời sự</a>\n",
            "<div class=\"box-content-title\">\n",
            "<h3 class=\"box-title-text\" data-comment=\"20230201152557466\">\n",
            "<a class=\"box-category-link-title\" data-id=\"20230201152557466\" data-linktype=\"newsdetail\" data-newstype=\"0\" data-objecttype=\"\" data-type=\"0\" href=\"/de-xuat-co-che-moi-lam-cac-du-an-bot-o-tp-hcm-20230201152557466.htm\" title=\"Đề xuất cơ chế mới làm các dự án BOT ở TP.HCM\">Đề xuất cơ chế mới làm các dự án BOT ở TP.HCM</a>\n",
            "</h3>\n",
            "</div>\n",
            "<p class=\"box-category-sapo need-trimline\" data-type=\"sapo\" rel=\"3\">Để mở rộng các tuyến đường, quốc lộ trong bối cảnh ngân sách hạn chế, Sở Giao thông vận tải TP.HCM đề xuất cơ chế chính sách đặc thù để áp dụng cho các dự án giao thông theo hình thức BOT (xây dựng - kinh doanh - chuyển giao).</p>\n",
            "</div>\n",
            "</div>\n",
            "<div class=\"box-category-item\">\n",
            "<span class=\"time-ago-last-news\" title=\"2023-02-01T16:08:38\"></span>\n",
            "<a class=\"box-category-link-with-avatar img-resize\" data-newstype=\"0\" data-type=\"0\" href=\"/el-pais-tay-ban-nha-gui-xe-tang-leopard-cho-ukraine-20230201150602434.htm\" title=\"El Pais: Tây Ban Nha gửi xe tăng Leopard cho Ukraine\">\n",
            "<img alt=\"El Pais: Tây Ban Nha gửi xe tăng Leopard cho Ukraine\" class=\"box-category-avatar\" data-type=\"avatar\" loading=\"lazy\" src=\"https://cdn.tuoitre.vn/zoom/260_163/471584752817336320/2023/2/1/2023-01-25t154038z1621074297rc2yqw99e1adrtrmadp3ukraine-crisis-arms-leopard-16752384820222002798116-96-0-1346-2000-crop-1675238545276959403128.jpg\"/>\n",
            "</a>\n",
            "<div class=\"box-category-content\">\n",
            "<a class=\"box-category-category\" href=\"/the-gioi.htm\" title=\"Thế giới\">Thế giới</a>\n",
            "<div class=\"box-content-title\">\n",
            "<h3 class=\"box-title-text\" data-comment=\"20230201150602434\">\n",
            "<a class=\"box-category-link-title\" data-id=\"20230201150602434\" data-linktype=\"newsdetail\" data-newstype=\"0\" data-objecttype=\"\" data-type=\"0\" href=\"/el-pais-tay-ban-nha-gui-xe-tang-leopard-cho-ukraine-20230201150602434.htm\" title=\"El Pais: Tây Ban Nha gửi xe tăng Leopard cho Ukraine\">El Pais: Tây Ban Nha gửi xe tăng Leopard cho Ukraine</a>\n",
            "</h3>\n",
            "</div>\n",
            "<p class=\"box-category-sapo need-trimline\" data-type=\"sapo\" rel=\"3\">Tờ El Pais đưa tin Tây Ban Nha có kế hoạch gửi từ 4 đến 6 xe tăng Leopard 2A4 do Đức chế tạo tới Ukraine.</p>\n",
            "</div>\n",
            "</div>\n",
            "<div class=\"box-category-item\">\n",
            "<span class=\"time-ago-last-news\" title=\"2023-02-01T16:08:29\"></span>\n",
            "<a class=\"box-category-link-with-avatar img-resize\" data-newstype=\"0\" data-type=\"0\" href=\"/cong-an-phuong-co-duoc-dung-xe-xu-phat-vi-pham-giao-thong-khong-20230201151348022.htm\" title=\"Công an phường có được dừng xe xử phạt vi phạm giao thông không?\">\n",
            "<img alt=\"Công an phường có được dừng xe xử phạt vi phạm giao thông không?\" class=\"box-category-avatar\" data-type=\"avatar\" loading=\"lazy\" src=\"https://cdn.tuoitre.vn/zoom/260_163/471584752817336320/2023/2/1/edit-img8462-167523303634410372354-261-0-1451-1904-crop-16752333066931420274392.png\"/>\n",
            "</a>\n",
            "<div class=\"box-category-content\">\n",
            "<a class=\"box-category-category\" href=\"/phap-luat/tu-van.htm\" title=\"Tư vấn\">Tư vấn</a>\n",
            "<div class=\"box-content-title\">\n",
            "<h3 class=\"box-title-text\" data-comment=\"20230201151348022\">\n",
            "<a class=\"box-category-link-title\" data-id=\"20230201151348022\" data-linktype=\"newsdetail\" data-newstype=\"0\" data-objecttype=\"\" data-type=\"0\" href=\"/cong-an-phuong-co-duoc-dung-xe-xu-phat-vi-pham-giao-thong-khong-20230201151348022.htm\" title=\"Công an phường có được dừng xe xử phạt vi phạm giao thông không?\">Công an phường có được dừng xe xử phạt vi phạm giao thông không?</a>\n",
            "</h3>\n",
            "</div>\n",
            "<p class=\"box-category-sapo need-trimline\" data-type=\"sapo\" rel=\"3\">Tôi thấy lực lượng công an một phường ở Hà Nội lập chốt ngay trước cổng trụ sở, trong ngõ nhỏ, dừng xe người vi phạm để xử lý vi phạm giao thông, như vậy có đúng quy định không?</p>\n",
            "</div>\n",
            "</div>\n",
            "<div class=\"box-category-item\">\n",
            "<span class=\"time-ago-last-news\" title=\"2023-02-01T16:08:16\"></span>\n",
            "<a class=\"box-category-link-with-avatar img-resize\" data-newstype=\"0\" data-type=\"0\" href=\"/khach-di-choi-tet-qua-tan-son-nhat-tang-61-20230201155807154.htm\" title=\"Khách đi chơi Tết qua Tân Sơn Nhất tăng 61%\">\n",
            "<img alt=\"Khách đi chơi Tết qua Tân Sơn Nhất tăng 61%\" class=\"box-category-avatar\" data-type=\"avatar\" loading=\"lazy\" src=\"https://cdn.tuoitre.vn/zoom/260_163/471584752817336320/2023/2/1/z4068735081906-cf3cf07edefc978acdf0b482196ee704-1675241746602141663295-69-0-1319-2000-crop-1675241753430740239821.jpg\"/>\n",
            "</a>\n",
            "<div class=\"box-category-content\">\n",
            "<a class=\"box-category-category\" href=\"/kinh-doanh.htm\" title=\"Kinh doanh\">Kinh doanh</a>\n",
            "<div class=\"box-content-title\">\n",
            "<h3 class=\"box-title-text\" data-comment=\"20230201155807154\">\n",
            "<a class=\"box-category-link-title\" data-id=\"20230201155807154\" data-linktype=\"newsdetail\" data-newstype=\"0\" data-objecttype=\"\" data-type=\"0\" href=\"/khach-di-choi-tet-qua-tan-son-nhat-tang-61-20230201155807154.htm\" title=\"Khách đi chơi Tết qua Tân Sơn Nhất tăng 61%\">Khách đi chơi Tết qua Tân Sơn Nhất tăng 61%</a>\n",
            "</h3>\n",
            "</div>\n",
            "<p class=\"box-category-sapo need-trimline\" data-type=\"sapo\" rel=\"3\">Một con số đáng chú ý khi sản lượng khách trước và sau Tết qua Tân Sơn Nhất tăng kỷ lục hơn 3,1 triệu khách, tăng 61% so với cùng kỳ năm ngoái. Chủ động phương án phục vụ, tần suất, sản lượng khách tăng, việc đi lại Tết ở sân bay cơ bản thuận lợi.</p>\n",
            "</div>\n",
            "</div>\n",
            "<div class=\"box-category-item\">\n",
            "<span class=\"time-ago-last-news\" title=\"2023-02-01T16:07:54\"></span>\n",
            "<a class=\"box-category-link-with-avatar img-resize\" data-newstype=\"0\" data-type=\"0\" href=\"/phat-dong-cuoc-thi-bao-ve-nen-tang-tu-tuong-cua-dang-lan-thu-3-20230201154618226.htm\" title=\"Phát động Cuộc thi bảo vệ nền tảng tư tưởng của Đảng lần thứ 3\">\n",
            "<img alt=\"Phát động Cuộc thi bảo vệ nền tảng tư tưởng của Đảng lần thứ 3\" class=\"box-category-avatar\" data-type=\"avatar\" loading=\"lazy\" src=\"https://cdn.tuoitre.vn/zoom/260_163/471584752817336320/2023/2/1/hinh-ttx-16752408294531395828798-13-0-735-1155-crop-16752410701721826595108.jpg\"/>\n",
            "</a>\n",
            "<div class=\"box-category-content\">\n",
            "<a class=\"box-category-category\" href=\"/thoi-su.htm\" title=\"Thời sự\">Thời sự</a>\n",
            "<div class=\"box-content-title\">\n",
            "<h3 class=\"box-title-text\" data-comment=\"20230201154618226\">\n",
            "<a class=\"box-category-link-title\" data-id=\"20230201154618226\" data-linktype=\"newsdetail\" data-newstype=\"0\" data-objecttype=\"\" data-type=\"0\" href=\"/phat-dong-cuoc-thi-bao-ve-nen-tang-tu-tuong-cua-dang-lan-thu-3-20230201154618226.htm\" title=\"Phát động Cuộc thi bảo vệ nền tảng tư tưởng của Đảng lần thứ 3\">Phát động Cuộc thi bảo vệ nền tảng tư tưởng của Đảng lần thứ 3</a>\n",
            "</h3>\n",
            "</div>\n",
            "<p class=\"box-category-sapo need-trimline\" data-type=\"sapo\" rel=\"3\">Cuộc thi là sự tiếp nối thành công của 2 cuộc thi viết chính luận về \"Bảo vệ nền tảng tư tưởng của Đảng, đấu tranh phản bác các quan điểm sai trái, thù địch trong tình hình mới\" năm 2021, 2022.</p>\n",
            "</div>\n",
            "</div>\n",
            "<div class=\"box-category-item\">\n",
            "<span class=\"time-ago-last-news\" title=\"2023-02-01T16:07:27\"></span>\n",
            "<a class=\"box-category-link-with-avatar img-resize\" data-newstype=\"0\" data-type=\"0\" href=\"/mang-xa-hoi-snapchat-bao-lo-nang-20230201155225369.htm\" title=\"Mạng xã hội Snapchat báo lỗ nặng\">\n",
            "<img alt=\"Mạng xã hội Snapchat báo lỗ nặng\" class=\"box-category-avatar\" data-type=\"avatar\" loading=\"lazy\" src=\"https://cdn.tuoitre.vn/zoom/260_163/471584752817336320/2023/2/1/snapchat-1675241452818634265962-0-28-403-673-crop-1675241594600817765342.jpg\"/>\n",
            "</a>\n",
            "<div class=\"box-category-content\">\n",
            "<a class=\"box-category-category\" href=\"/cong-nghe.htm\" title=\"Công nghệ\">Công nghệ</a>\n",
            "<div class=\"box-content-title\">\n",
            "<h3 class=\"box-title-text\" data-comment=\"20230201155225369\">\n",
            "<a class=\"box-category-link-title\" data-id=\"20230201155225369\" data-linktype=\"newsdetail\" data-newstype=\"0\" data-objecttype=\"\" data-type=\"0\" href=\"/mang-xa-hoi-snapchat-bao-lo-nang-20230201155225369.htm\" title=\"Mạng xã hội Snapchat báo lỗ nặng\">Mạng xã hội Snapchat báo lỗ nặng</a>\n",
            "</h3>\n",
            "</div>\n",
            "<p class=\"box-category-sapo need-trimline\" data-type=\"sapo\" rel=\"3\">Giới chuyên gia cảnh báo doanh thu ảm đạm của Snapchat cho thấy 'bức tranh đáng lo ngại' về thực trạng của thị trường quảng cáo trên mạng xã hội.</p>\n",
            "</div>\n",
            "</div>\n",
            "<div class=\"box-category-item\">\n",
            "<span class=\"time-ago-last-news\" title=\"2023-02-01T15:48:00\"></span>\n",
            "<a class=\"box-category-link-with-avatar img-resize\" data-newstype=\"0\" data-type=\"1\" href=\"/xe-may-dien-honda-cub-e-sang-cua-ban-tai-viet-nam-nhieu-chi-tiet-hien-dai-20230201111822056.htm\" title=\"Xe máy điện Honda Cub E sáng cửa bán tại Việt Nam, nhiều chi tiết hiện đại hợp nữ giới\">\n",
            "<img alt=\"Xe máy điện Honda Cub E sáng cửa bán tại Việt Nam, nhiều chi tiết hiện đại hợp nữ giới\" class=\"box-category-avatar\" data-type=\"avatar\" loading=\"lazy\" src=\"https://cdn.tuoitre.vn/zoom/260_163/471584752817336320/2023/2/1/cub-e-1-16752249058591226761223-122-0-849-1164-crop-16752250550801084201490.png\"/>\n",
            "</a>\n",
            "<div class=\"box-category-content\">\n",
            "<a class=\"box-category-category\" href=\"/xe.htm\" title=\"Xe\">Xe</a>\n",
            "<div class=\"box-content-title\">\n",
            "<h3 class=\"box-title-text\" data-comment=\"20230201111822056\">\n",
            "<a class=\"box-category-link-title\" data-id=\"20230201111822056\" data-linktype=\"newsdetail\" data-newstype=\"0\" data-objecttype=\"\" data-type=\"1\" href=\"/xe-may-dien-honda-cub-e-sang-cua-ban-tai-viet-nam-nhieu-chi-tiet-hien-dai-20230201111822056.htm\" title=\"Xe máy điện Honda Cub E sáng cửa bán tại Việt Nam, nhiều chi tiết hiện đại hợp nữ giới\">Xe máy điện Honda Cub E sáng cửa bán tại Việt Nam, nhiều chi tiết hiện đại hợp nữ giới</a>\n",
            "</h3>\n",
            "</div>\n",
            "<p class=\"box-category-sapo need-trimline\" data-type=\"sapo\" rel=\"3\">Kiểu dáng dựa trên dòng Cub huyền thoại, Honda Cub E sử dụng động cơ điện đã được đăng ký bảo hộ kiểu dáng công nghiệp tại Việt Nam.</p>\n",
            "</div>\n",
            "</div>\n",
            "<div class=\"box-category-item\">\n",
            "<span class=\"time-ago-last-news\" title=\"2023-02-01T15:41:44\"></span>\n",
            "<a class=\"box-category-link-with-avatar img-resize\" data-newstype=\"0\" data-type=\"0\" href=\"/den-tho-vua-hung-tp-can-tho-tro-thanh-diem-du-lich-tieu-bieu-20230201152918774.htm\" title=\"Đền thờ Vua Hùng TP Cần Thơ trở thành điểm du lịch tiêu biểu\">\n",
            "<img alt=\"Đền thờ Vua Hùng TP Cần Thơ trở thành điểm du lịch tiêu biểu\" class=\"box-category-avatar\" data-type=\"avatar\" loading=\"lazy\" src=\"https://cdn.tuoitre.vn/zoom/260_163/471584752817336320/2023/2/1/den-tho-1675239604316383470831-0-71-602-1034-crop-1675239685203372683447.jpg\"/>\n",
            "</a>\n",
            "<div class=\"box-category-content\">\n",
            "<a class=\"box-category-category\" href=\"/du-lich.htm\" title=\"Du lịch\">Du lịch</a>\n",
            "<div class=\"box-content-title\">\n",
            "<h3 class=\"box-title-text\" data-comment=\"20230201152918774\">\n",
            "<a class=\"box-category-link-title\" data-id=\"20230201152918774\" data-linktype=\"newsdetail\" data-newstype=\"0\" data-objecttype=\"\" data-type=\"0\" href=\"/den-tho-vua-hung-tp-can-tho-tro-thanh-diem-du-lich-tieu-bieu-20230201152918774.htm\" title=\"Đền thờ Vua Hùng TP Cần Thơ trở thành điểm du lịch tiêu biểu\">Đền thờ Vua Hùng TP Cần Thơ trở thành điểm du lịch tiêu biểu</a>\n",
            "</h3>\n",
            "</div>\n",
            "<p class=\"box-category-sapo need-trimline\" data-type=\"sapo\" rel=\"3\">Đền thờ Vua Hùng thành phố Cần Thơ là một trong hai điểm du lịch vừa được công nhận tiêu biểu cấp thành phố, nâng tổng số điểm du lịch tiêu biểu của Cần Thơ lên 18.</p>\n",
            "</div>\n",
            "</div>\n",
            "<div class=\"box-category-item\">\n",
            "<span class=\"time-ago-last-news\" title=\"2023-02-01T15:41:17\"></span>\n",
            "<a class=\"box-category-link-with-avatar img-resize\" data-newstype=\"0\" data-type=\"0\" href=\"/du-khach-da-nhan-lai-duoc-vali-bi-cam-nham-tai-san-bay-phu-quoc-20230201145805418.htm\" title=\"Du khách đã nhận lại được vali bị 'cầm nhầm' tại sân bay Phú Quốc\">\n",
            "<img alt=\"Du khách đã nhận lại được vali bị 'cầm nhầm' tại sân bay Phú Quốc\" class=\"box-category-avatar\" data-type=\"avatar\" loading=\"lazy\" src=\"https://cdn.tuoitre.vn/zoom/260_163/471584752817336320/2023/2/1/b9af113f1caac7f49ebb-1675238322323923065586-119-0-1369-2000-crop-1675238327746220540263.jpg\"/>\n",
            "</a>\n",
            "<div class=\"box-category-content\">\n",
            "<a class=\"box-category-category\" href=\"/thoi-su.htm\" title=\"Thời sự\">Thời sự</a>\n",
            "<div class=\"box-content-title\">\n",
            "<h3 class=\"box-title-text\" data-comment=\"20230201145805418\">\n",
            "<a class=\"box-category-link-title\" data-id=\"20230201145805418\" data-linktype=\"newsdetail\" data-newstype=\"0\" data-objecttype=\"\" data-type=\"0\" href=\"/du-khach-da-nhan-lai-duoc-vali-bi-cam-nham-tai-san-bay-phu-quoc-20230201145805418.htm\" title=\"Du khách đã nhận lại được vali bị 'cầm nhầm' tại sân bay Phú Quốc\">Du khách đã nhận lại được vali bị 'cầm nhầm' tại sân bay Phú Quốc</a>\n",
            "</h3>\n",
            "</div>\n",
            "<p class=\"box-category-sapo need-trimline\" data-type=\"sapo\" rel=\"3\">Liên quan đến việc bị 'cầm nhầm' vali ở sân bay Phú Quốc, vợ chồng du khách người Hà Nội đã nhận được vali sau hai ngày thất lạc.</p>\n",
            "</div>\n",
            "</div>\n",
            "<div class=\"box-category-item\">\n",
            "<span class=\"time-ago-last-news\" title=\"2023-02-01T15:34:42\"></span>\n",
            "<a class=\"box-category-link-with-avatar img-resize\" data-newstype=\"0\" data-type=\"0\" href=\"/bang-duong-vuot-bui-ram-den-thang-canh-roi-te-ngua-20230201151359225.htm\" title=\"Băng đường, vượt bụi rậm đến thắng cảnh rồi… té ngửa\">\n",
            "<img alt=\"Băng đường, vượt bụi rậm đến thắng cảnh rồi… té ngửa\" class=\"box-category-avatar\" data-type=\"avatar\" loading=\"lazy\" src=\"https://cdn.tuoitre.vn/zoom/260_163/471584752817336320/2023/2/1/figure-eight-pools-anh-instagramjesshendersonntiktok-1675239114780117104662-0-19-402-662-crop-16752391435771678935293.png\"/>\n",
            "</a>\n",
            "<div class=\"box-category-content\">\n",
            "<a class=\"box-category-category\" href=\"/du-lich.htm\" title=\"Du lịch\">Du lịch</a>\n",
            "<div class=\"box-content-title\">\n",
            "<h3 class=\"box-title-text\" data-comment=\"20230201151359225\">\n",
            "<a class=\"box-category-link-title\" data-id=\"20230201151359225\" data-linktype=\"newsdetail\" data-newstype=\"0\" data-objecttype=\"\" data-type=\"0\" href=\"/bang-duong-vuot-bui-ram-den-thang-canh-roi-te-ngua-20230201151359225.htm\" title=\"Băng đường, vượt bụi rậm đến thắng cảnh rồi… té ngửa\">Băng đường, vượt bụi rậm đến thắng cảnh rồi… té ngửa</a>\n",
            "</h3>\n",
            "</div>\n",
            "<p class=\"box-category-sapo need-trimline\" data-type=\"sapo\" rel=\"3\">Nỗi thất vọng của nữ TikToker khi đến Figure Eight Pools chỉ là một trong rất nhiều trường hợp ảnh mạng xã hội là một trời một vực so với thực tế.</p>\n",
            "</div>\n",
            "</div>\n",
            "<div class=\"box-category-item\">\n",
            "<span class=\"time-ago-last-news\" title=\"2023-02-01T15:34:32\"></span>\n",
            "<a class=\"box-category-link-with-avatar img-resize\" data-newstype=\"0\" data-type=\"0\" href=\"/dieu-tra-vu-mot-cong-an-xa-bi-vay-danh-khi-xac-minh-tin-bao-danh-bac-20230201150550863.htm\" title=\"Điều tra vụ một công an xã bị vây đánh khi xác minh tin báo đánh bạc\">\n",
            "<img alt=\"Điều tra vụ một công an xã bị vây đánh khi xác minh tin báo đánh bạc\" class=\"box-category-avatar\" data-type=\"avatar\" loading=\"lazy\" src=\"https://cdn.tuoitre.vn/zoom/260_163/471584752817336320/2023/2/1/danh-bac-1-1675238554167335138329-0-0-1229-1966-crop-16752385577981369284152.jpg\"/>\n",
            "</a>\n",
            "<div class=\"box-category-content\">\n",
            "<a class=\"box-category-category\" href=\"/phap-luat.htm\" title=\"Pháp luật\">Pháp luật</a>\n",
            "<div class=\"box-content-title\">\n",
            "<h3 class=\"box-title-text\" data-comment=\"20230201150550863\">\n",
            "<a class=\"box-category-link-title\" data-id=\"20230201150550863\" data-linktype=\"newsdetail\" data-newstype=\"0\" data-objecttype=\"\" data-type=\"0\" href=\"/dieu-tra-vu-mot-cong-an-xa-bi-vay-danh-khi-xac-minh-tin-bao-danh-bac-20230201150550863.htm\" title=\"Điều tra vụ một công an xã bị vây đánh khi xác minh tin báo đánh bạc\">Điều tra vụ một công an xã bị vây đánh khi xác minh tin báo đánh bạc</a>\n",
            "</h3>\n",
            "</div>\n",
            "<p class=\"box-category-sapo need-trimline\" data-type=\"sapo\" rel=\"3\">Công an đang vào cuộc điều tra vụ việc một cán bộ công an xã ở Quảng Nam bị một số người vây đánh bị thương trong lúc xác minh thông tin đánh bạc.</p>\n",
            "</div>\n",
            "</div>\n",
            "<div class=\"box-category-item\">\n",
            "<span class=\"time-ago-last-news\" title=\"2023-02-01T15:26:54\"></span>\n",
            "<a class=\"box-category-link-with-avatar img-resize\" data-newstype=\"1\" data-type=\"1\" href=\"/toyota-wigo-sap-tro-lai-viet-nam-gia-tam-tinh-tu-352-trieu-dong-co-the-giao-xe-thang-6-20230131185523077.htm\" title=\"Toyota Wigo sắp trở lại Việt Nam: Giá tạm tính từ 352 triệu đồng, có thể giao xe tháng 6\">\n",
            "<img alt=\"Toyota Wigo sắp trở lại Việt Nam: Giá tạm tính từ 352 triệu đồng, có thể giao xe tháng 6\" class=\"box-category-avatar\" data-type=\"avatar\" loading=\"lazy\" src=\"https://cdn.tuoitre.vn/zoom/260_163/471584752817336320/2023/1/31/6342131529304164111443094n-1675151293740231188355-1675152169948-1675152172173569825469-1675165638345-1675165638735514406182-0-93-1134-1907-crop-1675165981635912764353.jpg\"/>\n",
            "</a>\n",
            "<div class=\"box-category-content\">\n",
            "<a class=\"box-category-category\" href=\"/xe.htm\" title=\"Xe\">Xe</a>\n",
            "<div class=\"box-content-title\">\n",
            "<h3 class=\"box-title-text\" data-comment=\"20230131185523077\">\n",
            "<a class=\"box-category-link-title\" data-id=\"20230131185523077\" data-linktype=\"newsdetail\" data-newstype=\"1\" data-objecttype=\"\" data-type=\"1\" href=\"/toyota-wigo-sap-tro-lai-viet-nam-gia-tam-tinh-tu-352-trieu-dong-co-the-giao-xe-thang-6-20230131185523077.htm\" title=\"Toyota Wigo sắp trở lại Việt Nam: Giá tạm tính từ 352 triệu đồng, có thể giao xe tháng 6\">Toyota Wigo sắp trở lại Việt Nam: Giá tạm tính từ 352 triệu đồng, có thể giao xe tháng 6</a>\n",
            "</h3>\n",
            "</div>\n",
            "<p class=\"box-category-sapo need-trimline\" data-type=\"sapo\" rel=\"3\">Toyota Wigo phiên bản mới sẽ trở lại Việt Nam giữa năm nay với những thay đổi đáng chú ý để cạnh tranh Hyundai Grand i10 và Kia Morning.</p>\n",
            "</div>\n",
            "</div>\n",
            "<div class=\"box-category-item\">\n",
            "<span class=\"time-ago-last-news\" title=\"2023-02-01T15:14:55\"></span>\n",
            "<a class=\"box-category-link-with-avatar img-resize\" data-newstype=\"0\" data-type=\"0\" href=\"/13-hanh-vi-bi-nghiem-cam-lien-quan-den-dat-dai-20230201151227952.htm\" title=\"13 hành vi bị nghiêm cấm liên quan đến đất đai\">\n",
            "<img alt=\"13 hành vi bị nghiêm cấm liên quan đến đất đai\" class=\"box-category-avatar\" data-type=\"avatar\" loading=\"lazy\" src=\"https://cdn.tuoitre.vn/zoom/260_163/471584752817336320/2023/1/16/907d0efc88cc4e9217dd-1read-only-1667871934229637947920-16738665899461568290218-92-0-548-730-crop-1673866597071369212017.jpg\"/>\n",
            "</a>\n",
            "<div class=\"box-category-content\">\n",
            "<a class=\"box-category-category\" href=\"/nha-dat.htm\" title=\"Nhà đất\">Nhà đất</a>\n",
            "<div class=\"box-content-title\">\n",
            "<h3 class=\"box-title-text\" data-comment=\"20230201151227952\">\n",
            "<a class=\"box-category-link-title\" data-id=\"20230201151227952\" data-linktype=\"newsdetail\" data-newstype=\"0\" data-objecttype=\"\" data-type=\"0\" href=\"/13-hanh-vi-bi-nghiem-cam-lien-quan-den-dat-dai-20230201151227952.htm\" title=\"13 hành vi bị nghiêm cấm liên quan đến đất đai\">13 hành vi bị nghiêm cấm liên quan đến đất đai</a>\n",
            "</h3>\n",
            "</div>\n",
            "<p class=\"box-category-sapo need-trimline\" data-type=\"sapo\" rel=\"3\">Tại dự thảo Luật đất đai (sửa đổi), Bộ Tài nguyên và Môi trường đề xuất 13 hành vi bị nghiêm cấm liên quan đến đất đai.</p>\n",
            "</div>\n",
            "</div>\n",
            "<div class=\"box-category-item\">\n",
            "<span class=\"time-ago-last-news\" title=\"2023-02-01T15:14:38\"></span>\n",
            "<a class=\"box-category-link-with-avatar img-resize\" data-newstype=\"0\" data-type=\"0\" href=\"/khanh-hoa-gap-rut-sua-chua-san-van-dong-19-8-truoc-mua-giai-v-league-2023-20230201145348155.htm\" title=\"Khánh Hòa gấp rút sửa chữa sân vận động 19-8 trước mùa giải V-League 2023\">\n",
            "<img alt=\"Khánh Hòa gấp rút sửa chữa sân vận động 19-8 trước mùa giải V-League 2023\" class=\"box-category-avatar\" data-type=\"avatar\" loading=\"lazy\" src=\"https://cdn.tuoitre.vn/zoom/260_163/471584752817336320/2023/2/1/dsc-0854-16752372744041087525501-83-0-1333-2000-crop-1675237281907152837905.jpg\"/>\n",
            "</a>\n",
            "<div class=\"box-category-content\">\n",
            "<a class=\"box-category-category\" href=\"/thoi-su.htm\" title=\"Thời sự\">Thời sự</a>\n",
            "<div class=\"box-content-title\">\n",
            "<h3 class=\"box-title-text\" data-comment=\"20230201145348155\">\n",
            "<a class=\"box-category-link-title\" data-id=\"20230201145348155\" data-linktype=\"newsdetail\" data-newstype=\"0\" data-objecttype=\"\" data-type=\"0\" href=\"/khanh-hoa-gap-rut-sua-chua-san-van-dong-19-8-truoc-mua-giai-v-league-2023-20230201145348155.htm\" title=\"Khánh Hòa gấp rút sửa chữa sân vận động 19-8 trước mùa giải V-League 2023\">Khánh Hòa gấp rút sửa chữa sân vận động 19-8 trước mùa giải V-League 2023</a>\n",
            "</h3>\n",
            "</div>\n",
            "<p class=\"box-category-sapo need-trimline\" data-type=\"sapo\" rel=\"3\">Chiều 1-2, lãnh đạo Sở Văn hóa - Thể thao Khánh Hòa cho hay dự kiến sẽ chi khoảng 37 tỉ đồng để sửa chữa, nâng cấp sân vận động 19-8 (TP Nha Trang) trước mùa giải V-League 2023.</p>\n",
            "</div>\n",
            "</div>\n",
            "<div class=\"box-category-item\">\n",
            "<span class=\"time-ago-last-news\" title=\"2023-02-01T15:03:20\"></span>\n",
            "<a class=\"box-category-link-with-avatar img-resize\" data-newstype=\"0\" data-type=\"0\" href=\"/bat-dong-san-it-nguoi-mua-vi-gia-qua-cao-2023020108581581.htm\" title=\"Bất động sản ít người mua vì giá quá cao\">\n",
            "<img alt=\"Bất động sản ít người mua vì giá quá cao\" class=\"box-category-avatar\" data-type=\"avatar\" loading=\"lazy\" src=\"https://cdn.tuoitre.vn/zoom/260_163/471584752817336320/2023/2/1/bat-dong-san-1675216504403547410045-0-0-1250-2000-crop-1675216540882423654403.jpg\"/>\n",
            "</a>\n",
            "<div class=\"box-category-content\">\n",
            "<a class=\"box-category-category\" href=\"/kinh-doanh.htm\" title=\"Kinh doanh\">Kinh doanh</a>\n",
            "<div class=\"box-content-title\">\n",
            "<h3 class=\"box-title-text\" data-comment=\"2023020108581581\">\n",
            "<a class=\"box-category-link-title\" data-id=\"2023020108581581\" data-linktype=\"newsdetail\" data-newstype=\"0\" data-objecttype=\"\" data-type=\"0\" href=\"/bat-dong-san-it-nguoi-mua-vi-gia-qua-cao-2023020108581581.htm\" title=\"Bất động sản ít người mua vì giá quá cao\">Bất động sản ít người mua vì giá quá cao</a>\n",
            "</h3>\n",
            "</div>\n",
            "<p class=\"box-category-sapo need-trimline\" data-type=\"sapo\" rel=\"3\">Thông tin về nhà ở và thị trường bất động sản quý 4 và cả năm 2022 vừa được Bộ Xây dựng công bố cho thấy trong năm 2022, cả nước chỉ có 126 dự án (quy mô 55.732 căn hộ) được cấp phép.</p>\n",
            "</div>\n",
            "</div>\n",
            "<script>\r\n",
            "    (runinit = window.runinit || []).push(function () {\r\n",
            "        $(\".time-ago-last-news\").timeago();\r\n",
            "    });\r\n",
            "</script>\n",
            "</div>\n",
            "</div>\n",
            "<div class=\"fb-loading-wrapper\" id=\"IconLoadListDetail\">\n",
            "<div class=\"fblw-timeline-item\">\n",
            "<div class=\"fblwti-animated\">\n",
            "<div class=\"fblwtia-mask fblwtia-title-line fblwtia-title-mask-0\"></div>\n",
            "<div class=\"fblwtia-mask fblwtia-sepline-sapo fblwtia-sapo-line-0\"></div>\n",
            "<div class=\"fblwtia-mask fblwtia-sepline-sapo fblwtia-sepline-sapo-0\"></div>\n",
            "<!-- End .fblwtia-title-line -->\n",
            "<div class=\"fblwtia-mask fblwtia-title-line fblwtia-title-mask-1\"></div>\n",
            "<div class=\"fblwtia-mask fblwtia-sepline-sapo fblwtia-sapo-line-1\"></div>\n",
            "<div class=\"fblwtia-mask fblwtia-sepline-sapo fblwtia-sepline-sapo-1\"></div>\n",
            "<!-- End .fblwtia-title-line 1 -->\n",
            "<div class=\"fblwtia-mask fblwtia-front-mask fblwtia-front-mask-2\"></div>\n",
            "<div class=\"fblwtia-mask fblwtia-sapo-line fblwtia-sapo-line-2\"></div>\n",
            "<div class=\"fblwtia-mask fblwtia-sepline-sapo fblwtia-sepline-sapo-2\"></div>\n",
            "<!-- End .fblwtia-cate -->\n",
            "<div class=\"fblwtia-mask fblwtia-front-mask fblwtia-front-mask-3\"></div>\n",
            "<div class=\"fblwtia-mask fblwtia-sapo-line fblwtia-sapo-line-3\"></div>\n",
            "<div class=\"fblwtia-mask fblwtia-sepline-sapo fblwtia-sepline-sapo-3\"></div>\n",
            "<!-- End .fblwtia-sapo 1 -->\n",
            "<div class=\"fblwtia-mask fblwtia-front-mask fblwtia-front-mask-4\"></div>\n",
            "<div class=\"fblwtia-mask fblwtia-sapo-line fblwtia-sapo-line-4\"></div>\n",
            "<div class=\"fblwtia-mask fblwtia-sepline-sapo fblwtia-sepline-sapo-4\"></div>\n",
            "<!-- End .fblwtia-sapo 2 -->\n",
            "</div>\n",
            "</div>\n",
            "</div>\n",
            "<div class=\"clearfix\" id=\"elmCheckTopLoadTimeline\"></div>\n",
            "<div class=\"box-viewmore\">\n",
            "<a class=\"view-more\" href=\"javascript:;\" rel=\"nofollow\">Xem thêm</a>\n",
            "</div>\n",
            "</div>\n",
            "</div>\n",
            "<div class=\"list__search-sub\">\n",
            "</div>\n",
            "</div>\n",
            "</div>\n",
            "</div>\n",
            "</div>\n",
            "<input id=\"hdZoneId\" name=\"hdZoneId\" type=\"hidden\" value=\"0\"/>\n",
            "<input id=\"hdPageIndex\" name=\"hdPageIndex\" type=\"hidden\" value=\"1\"/>\n",
            "</div>\n",
            "<style>\r\n",
            "    .footer__m-content .box .list.no-border a {border:none;padding:0}\r\n",
            "</style>\n",
            "<div class=\"section__muasam\" data-atc=\"atc-nonstar\">\n",
            "<div class=\"container\">\n",
            "<div class=\"content-amuasam\" id=\"advfootpage\">\n",
            "</div>\n",
            "</div>\n",
            "</div>\n",
            "<div class=\"footer\">\n",
            "<div class=\"footer__top\">\n",
            "<div class=\"container\">\n",
            "<div class=\"footer__nav\">\n",
            "<ul class=\"menu-nav\">\n",
            "<li>\n",
            "<a class=\"nav-link\" href=\"/\" title=\"Trang chủ\">Trang chủ\r\n",
            "                        </a>\n",
            "</li>\n",
            "<li>\n",
            "<a class=\"nav-link\" href=\"https://video.tuoitre.vn\" rel=\"nofollow\" target=\"_blank\" title=\"MEDIA\">Media\r\n",
            "                        </a>\n",
            "</li>\n",
            "<li>\n",
            "<a class=\"nav-link \" href=\"/thoi-su.htm\" title=\"THỜI SỰ\">Thời sự\r\n",
            "                        </a>\n",
            "</li>\n",
            "<li>\n",
            "<a class=\"nav-link \" href=\"/the-gioi.htm\" title=\"THẾ GIỚI\">Thế giới\r\n",
            "                        </a>\n",
            "</li>\n",
            "<li>\n",
            "<a class=\"nav-link \" href=\"/phap-luat.htm\" title=\"PHÁP LUẬT\">Pháp luật\r\n",
            "                        </a>\n",
            "</li>\n",
            "<li>\n",
            "<a class=\"nav-link \" href=\"/kinh-doanh.htm\" title=\"KINH DOANH\">Kinh doanh\r\n",
            "                        </a>\n",
            "</li>\n",
            "<li>\n",
            "<a class=\"nav-link \" href=\"/cong-nghe.htm\" title=\"CÔNG NGHỆ\">Công nghệ\r\n",
            "                        </a>\n",
            "</li>\n",
            "<li>\n",
            "<a class=\"nav-link \" href=\"/xe.htm\" title=\"XE\">Xe\r\n",
            "                        </a>\n",
            "</li>\n",
            "<li>\n",
            "<a class=\"nav-link \" href=\"/du-lich.htm\" title=\"DU LỊCH\">Du lịch\r\n",
            "                        </a>\n",
            "</li>\n",
            "<li>\n",
            "<a class=\"nav-link \" href=\"/nhip-song-tre.htm\" title=\"NHỊP SỐNG TRẺ\">Nhịp sống trẻ\r\n",
            "                        </a>\n",
            "</li>\n",
            "<li>\n",
            "<a class=\"nav-link \" href=\"/van-hoa.htm\" title=\"VĂN HÓA\">Văn hóa\r\n",
            "                        </a>\n",
            "</li>\n",
            "<li>\n",
            "<a class=\"nav-link \" href=\"/giai-tri.htm\" title=\"GIẢI TRÍ\">Giải trí\r\n",
            "                        </a>\n",
            "</li>\n",
            "<li>\n",
            "<a class=\"nav-link \" href=\"/the-thao.htm\" title=\"THỂ THAO\">Thể thao\r\n",
            "                        </a>\n",
            "</li>\n",
            "<li>\n",
            "<a class=\"nav-link \" href=\"/giao-duc.htm\" title=\"GIÁO DỤC\">Giáo dục\r\n",
            "                        </a>\n",
            "</li>\n",
            "<li>\n",
            "<a class=\"nav-link \" href=\"/khoa-hoc.htm\" title=\"KHOA HỌC\">Khoa học\r\n",
            "                        </a>\n",
            "</li>\n",
            "<li>\n",
            "<a class=\"nav-link \" href=\"/suc-khoe.htm\" title=\"Sức khỏe\">Sức khỏe\r\n",
            "                        </a>\n",
            "</li>\n",
            "<li>\n",
            "<a class=\"nav-link \" href=\"/gia-that.htm\" title=\"Giả thật\">Giả thật\r\n",
            "                        </a>\n",
            "</li>\n",
            "<li>\n",
            "<a class=\"nav-link \" href=\"/ban-doc.htm\" title=\"Bạn đọc\">Bạn đọc\r\n",
            "                        </a>\n",
            "</li>\n",
            "</ul>\n",
            "</div>\n",
            "</div>\n",
            "</div>\n",
            "<div class=\"footer__middle\">\n",
            "<div class=\"container\">\n",
            "<div class=\"footer__middle-flex\">\n",
            "<div class=\"footer__logo\">\n",
            "<a class=\"logo\" href=\"/\" title=\"Tuổi trẻ Online\">\n",
            "</a>\n",
            "<div class=\"list-social\">\n",
            "<a class=\"icon\" href=\"https://www.youtube.com/channel/UCrwJa6KRHWnJpJPZNeKKcvA\" rel=\"nofollow\" target=\"_blank\" title=\"Quan tâm Tuổi Trẻ trên Youtube\">\n",
            "<svg fill=\"none\" height=\"25\" viewbox=\"0 0 24 25\" width=\"24\" xmlns=\"http://www.w3.org/2000/svg\">\n",
            "<rect height=\"23\" rx=\"11.5\" stroke=\"#666666\" width=\"23\" x=\"0.5\" y=\"1.16699\"></rect>\n",
            "<path clip-rule=\"evenodd\" d=\"M6.75984 16.9011C6.52448 16.8314 6.30973 16.7076 6.13372 16.5399C5.9577 16.3722 5.82559 16.1657 5.74851 15.9377C5.3081 14.7594 5.1776 9.83915 6.02581 8.86784C6.30811 8.55186 6.70668 8.35732 7.13501 8.32645C9.41049 8.0876 16.4408 8.11945 17.2483 8.40606C17.4754 8.47799 17.6828 8.59915 17.8552 8.76047C18.0275 8.92178 18.1602 9.11908 18.2433 9.33757C18.7245 10.5557 18.7408 14.9823 18.178 16.1527C18.0287 16.4573 17.7788 16.7041 17.4685 16.8533C16.6203 17.2673 7.88534 17.2594 6.75984 16.9011ZM10.3729 14.5922L14.4508 12.5222L10.3729 10.4363V14.5922Z\" fill=\"#666666\" fill-rule=\"evenodd\"></path>\n",
            "</svg>\n",
            "</a>\n",
            "<a class=\"icon\" href=\"https://www.instagram.com/baotuoitre/\" rel=\"nofollow\" target=\"_blank\" title=\"Quan tâm Tuổi Trẻ trên Instagram\">\n",
            "<svg fill=\"none\" height=\"24\" viewbox=\"0 0 24 24\" width=\"24\" xmlns=\"http://www.w3.org/2000/svg\">\n",
            "<rect height=\"23\" rx=\"11.5\" stroke=\"#565656\" width=\"23\" x=\"0.5\" y=\"0.5\"></rect>\n",
            "<path d=\"M17.6 11.8C17.6 13.1377 17.6 14.4754 17.6 15.813C17.6 16.8852 16.875 17.6 15.813 17.6C13.1377 17.6 10.4725 17.6 7.79718 17.6C6.725 17.6 6 16.875 6 15.813C6 13.1377 6 10.4725 6 7.79718C6 6.725 6.725 6 7.78697 6C10.4623 6 13.1275 6 15.8028 6C16.875 6 17.5898 6.725 17.5898 7.78697C17.6 9.12465 17.6 10.4623 17.6 11.8ZM14.8532 11.8102C14.843 10.1151 13.4644 8.75704 11.7694 8.76725C10.1049 8.77746 8.74683 10.1458 8.74683 11.8204C8.74683 13.5155 10.1254 14.8838 11.8204 14.8838C13.4951 14.8736 14.8634 13.4951 14.8532 11.8102ZM15.5373 8.76725C15.9049 8.76725 16.2113 8.46092 16.2113 8.0831C16.2113 7.70528 15.9049 7.40915 15.5373 7.40915C15.1697 7.40915 14.8634 7.71549 14.8634 8.09331C14.8634 8.46092 15.1697 8.76725 15.5373 8.76725Z\" fill=\"#565656\"></path>\n",
            "<path d=\"M9.42065 11.8323C9.42065 10.5253 10.4826 9.45312 11.7897 9.45312C13.1069 9.45312 14.1791 10.5253 14.1791 11.8426C14.1689 13.1394 13.1069 14.2014 11.7999 14.2014C10.4928 14.2014 9.42065 13.1394 9.42065 11.8323Z\" fill=\"#565656\"></path>\n",
            "</svg>\n",
            "</a>\n",
            "<a class=\"icon\" href=\"https://www.facebook.com/baotuoitre\" rel=\"nofollow\" target=\"_blank\" title=\"Quan tâm Tuổi Trẻ trên Facebook\">\n",
            "<svg fill=\"none\" height=\"25\" viewbox=\"0 0 24 25\" width=\"24\" xmlns=\"http://www.w3.org/2000/svg\">\n",
            "<rect height=\"23\" rx=\"11.5\" stroke=\"#666666\" width=\"23\" x=\"0.5\" y=\"1.16699\"></rect>\n",
            "<path d=\"M12.9966 12.8847H15.2299L15.5805 10.6021H12.9961V9.35462C12.9961 8.40641 13.3041 7.56559 14.1857 7.56559H15.6023V5.57366C15.3534 5.53985 14.827 5.46582 13.8323 5.46582C11.7553 5.46582 10.5375 6.5694 10.5375 9.08364V10.6021H8.40234V12.8847H10.5375V19.1584C10.9604 19.2224 11.3887 19.2658 11.8284 19.2658C12.2258 19.2658 12.6137 19.2293 12.9966 19.1772V12.8847Z\" fill=\"#666666\"></path>\n",
            "</svg>\n",
            "</a>\n",
            "</div>\n",
            "</div>\n",
            "<div class=\"footer__m-content\">\n",
            "<div class=\"box\">\n",
            "<p class=\"text\">\r\n",
            "                            Tổng biên tập: Lê Thế Chữ\r\n",
            "                        </p>\n",
            "<p class=\"text\">\r\n",
            "                            Giấy phép hoạt động báo điện tử tiếng Việt, tiếng Anh Số 561/GP-BTTTT, cấp ngày 25-11-2022.\r\n",
            "                        </p>\n",
            "<div class=\"list no-border\">\n",
            "<a href=\"/thong-tin-toa-soan.htm\" title=\"Thông tin tòa soạn\">Thông tin tòa soạn - </a>\n",
            "<a href=\"http://www.thanhdoan.hochiminhcity.gov.vn\" rel=\"nofollow\" target=\"_blank\" title=\"Thành Đoàn TP.HCM\">Thành Đoàn TP.HCM</a>\n",
            "</div>\n",
            "</div>\n",
            "<div class=\"box\">\n",
            "<p class=\"text\">\r\n",
            "                            Địa chỉ: 60A Hoàng Văn Thụ, P.9, Q.Phú Nhuận, Tp. Hồ Chí Minh\r\n",
            "                        </p>\n",
            "<p class=\"text\">\r\n",
            "                            Hotline: 0918.033.133 - Email: tto@tuoitre.com.vn\r\n",
            "                        </p>\n",
            "<p class=\"text\">\r\n",
            "                            Phòng Quảng Cáo Báo Tuổi Trẻ:  028.39974848\r\n",
            "                        </p>\n",
            "<div class=\"list\">\n",
            "<a href=\" https://quangcao.tuoitre.vn\" rel=\"nofollow\" target=\"_blank\" title=\"Liên hệ Quảng cáo\">Liên hệ Quảng cáo</a>\n",
            "<a href=\"javascript:;\" title=\"Điều khoản bảo mật\">Điều khoản bảo mật</a>\n",
            "<a href=\"https://docs.google.com/forms/d/e/1FAIpQLScSRj-Bxm1t6roko_ocQlUSZCnei3a03IdoOpPQ9-lp2McaKw/viewform\" rel=\"nofollow\" target=\"_blank\" title=\"Liên hệ góp ý\">Liên hệ góp ý</a>\n",
            "</div>\n",
            "</div>\n",
            "</div>\n",
            "<div class=\"footer__m-right\">\n",
            "<p class=\"title\">Đăng ký nhận bản tin hàng ngày</p>\n",
            "<p class=\"note\">\r\n",
            "                        Những tin tức súc tích, dễ hiểu &amp; hoàn toàn miễn phí\r\n",
            "                    </p>\n",
            "<div class=\"form-note\">\n",
            "<input class=\"btn\" id=\"txtEmailQA\" placeholder=\"Nhập email của bạn\"/>\n",
            "<a class=\"submit\" href=\"javascript:;\" id=\"showModalSendEmail\">Đăng ký</a>\n",
            "</div>\n",
            "</div>\n",
            "</div>\n",
            "</div>\n",
            "</div>\n",
            "<div class=\"footer__coppy\">\n",
            "<div class=\"container\">\n",
            "<div class=\"footer__coppy-flex\">\n",
            "<p class=\"text\">\r\n",
            "                    © Copyright 2022 TuoiTre Online, All rights reserved ® Tuổi Trẻ Online giữ bản quyền nội dung trên website này\r\n",
            "                </p>\n",
            "</div>\n",
            "</div>\n",
            "</div>\n",
            "<div class=\"bannerballoon\" id=\"BalloonAdsPc\">\n",
            "<div class=\"clearfix \" data-atc=\"atc-nonstar\">\n",
            "<zone id=\"jmg1jsy2\"></zone>\n",
            "<script>\r\n",
            "        if (is_iPadScreen != null && widthScreen < 1024) { } else\r\n",
            "            arfAsync.push(\"jmg1jsy2\");\r\n",
            "    </script>\n",
            "</div>\n",
            "</div>\n",
            "</div>\n",
            "<div class=\"wrapPopup\" id=\"infoForm\">\n",
            "<div class=\"popup\">\n",
            "<div class=\"centerPopup\">\n",
            "<section>\n",
            "<header>\n",
            "<p>Thông tin của bạn</p>\n",
            "<a class=\"closepp\" href=\"javascript:void(0);\" onclick=\"comment.closePopup('infoForm')\" title=\"Đóng\"></a>\n",
            "</header>\n",
            "<div class=\"content\">\n",
            "<div class=\"frm-1\" id=\"frm-comment\">\n",
            "<div class=\"form-group\">\n",
            "<span>Email</span>\n",
            "<input class=\"form-control\" id=\"cm-email\" name=\"cm-email\" placeholder=\"E-mail (*)\" type=\"email\"/>\n",
            "<p class=\"warning email-warning1\">Vui lòng nhập Email</p>\n",
            "<p class=\"warning email-warning2\">Email Không đúng định dạng</p>\n",
            "</div>\n",
            "<div class=\"form-group\">\n",
            "<span>Họ và tên</span>\n",
            "<input class=\"form-control\" id=\"cm-name\" name=\"cm-name\" placeholder=\"Họ &amp; tên (*)\" type=\"text\"/>\n",
            "<p class=\"warning name-warning\">Vui lòng nhập Họ &amp; Tên.</p>\n",
            "</div>\n",
            "<div class=\"form-group clboth\">\n",
            "<button class=\"btn btn-danger\" id=\"btn-info\" name=\"btn-info\" type=\"button\">Gửi bình luận</button>\n",
            "<input id=\"cm-content\" name=\"cm-content\" type=\"hidden\" value=\"\">\n",
            "<input id=\"cm-pid\" name=\"cm-pid\" type=\"hidden\" value=\"0\">\n",
            "</input></input></div>\n",
            "</div>\n",
            "</div>\n",
            "</section>\n",
            "</div>\n",
            "</div>\n",
            "</div>\n",
            "<div class=\"wrapPopup\" id=\"errorForm\">\n",
            "<div class=\"popup\">\n",
            "<div class=\"centerPopup\">\n",
            "<section>\n",
            "<header>\n",
            "<p>Thông báo</p>\n",
            "<a class=\"closepp\" href=\"javascript:;\" onclick=\"closePopup('errorForm')\" title=\"Đóng\"></a>\n",
            "</header>\n",
            "<div class=\"content\">\r\n",
            "                    Bạn vui lòng đợi <span class=\"timeout\">0</span>s để tiếp tục comment\r\n",
            "                </div>\n",
            "</section>\n",
            "</div>\n",
            "</div>\n",
            "</div>\n",
            "<div class=\"wrapPopup\" id=\"successForm\">\n",
            "<div class=\"popup\">\n",
            "<div class=\"centerPopup\">\n",
            "<section>\n",
            "<header>\n",
            "<p>Thông báo</p>\n",
            "<a class=\"closepp\" href=\"javascript:;\" onclick=\"comment.closePopup('successForm')\" title=\"Đóng\"></a>\n",
            "</header>\n",
            "<div class=\"content\">\r\n",
            "                    Bình luận được gửi thành công\r\n",
            "                </div>\n",
            "</section>\n",
            "</div>\n",
            "</div>\n",
            "</div>\n",
            "<div class=\"wrapPopup\" id=\"loginForm\">\n",
            "<div class=\"popup\">\n",
            "<div class=\"centerPopup\">\n",
            "<section>\n",
            "<div class=\"content\">\n",
            "<div class=\"frm-1\" id=\"frm-login\">\n",
            "<ul class=\"nav nav-tabs\">\n",
            "<li class=\"nav-item section-guest\">\n",
            "<a class=\"nav-link\" data-item=\"tab-guest\" href=\"javascript:;\" rel=\"nofollow\">Bình luận</a>\n",
            "</li>\n",
            "<li class=\"nav-item\">\n",
            "<a class=\"nav-link active\" data-item=\"tab-login\" href=\"javascript:;\" rel=\"nofollow\"><i class=\"icon-reg-user\"></i>Đăng nhập</a>\n",
            "</li>\n",
            "<li class=\"nav-item\">\n",
            "<a class=\"nav-link\" data-item=\"tab-register\" href=\"javascript:;\" rel=\"nofollow\"><i class=\"icon-reg-user\"></i>Tạo tài khoản</a>\n",
            "</li>\n",
            "<li class=\"nav-close\">\n",
            "<a class=\"closepp\" href=\"javascript:void(0);\" onclick=\"comment.closePopup('loginForm')\" title=\"Đóng\">\n",
            "<svg fill=\"none\" height=\"24\" viewbox=\"0 0 24 24\" width=\"24\" xmlns=\"http://www.w3.org/2000/svg\">\n",
            "<path clip-rule=\"evenodd\" d=\"M4.46967 4.46967C4.76256 4.17678 5.23744 4.17678 5.53033 4.46967L18.5303 17.4697C18.8232 17.7626 18.8232 18.2374 18.5303 18.5303C18.2374 18.8232 17.7626 18.8232 17.4697 18.5303L4.46967 5.53033C4.17678 5.23744 4.17678 4.76256 4.46967 4.46967Z\" fill=\"#656565\" fill-rule=\"evenodd\"></path>\n",
            "<path clip-rule=\"evenodd\" d=\"M18.5303 4.46967C18.2374 4.17678 17.7626 4.17678 17.4697 4.46967L4.46967 17.4697C4.17678 17.7626 4.17678 18.2374 4.46967 18.5303C4.76256 18.8232 5.23744 18.8232 5.53033 18.5303L18.5303 5.53033C18.8232 5.23744 18.8232 4.76256 18.5303 4.46967Z\" fill=\"#656565\" fill-rule=\"evenodd\"></path>\n",
            "</svg></a>\n",
            "</li>\n",
            "</ul>\n",
            "<div class=\"tab-content tab-guest\" id=\"tabGuest\">\n",
            "<div class=\"form-group guest-desc\">\n",
            "<div class=\"guest-icon\"><i class=\"icon-guest\"></i></div>\n",
            "<span class=\"guest-desc-header\">Thông tin bạn đọc</span>\n",
            "<span class=\"guest-desc-content\">Thông tin của bạn đọc sẽ được bảo mật an toàn và chỉ sử dụng trong trường hợp toà soạn cần thiết để liên lạc với bạn.</span>\n",
            "</div>\n",
            "<div class=\"form-group\">\n",
            "<span class=\"label\">Tên của bạn</span>\n",
            "<input class=\"form-control\" data-elementtype=\"name\" data-input=\"cm-guestname\" id=\"cm-guestname\" name=\"rg-name\" placeholder=\"Tên hiển thị\" type=\"text\"/>\n",
            "<p class=\"warning name-warning\">Vui lòng nhập Tên hiển thị</p>\n",
            "</div>\n",
            "<div class=\"form-group\">\n",
            "<span class=\"label\">Email</span>\n",
            "<input class=\"form-control\" data-elementtype=\"email\" data-input=\"cm-guestemail\" id=\"cm-guestemail\" name=\"rg-email\" placeholder=\"Email\" type=\"email\"/>\n",
            "<p class=\"warning email-warning1\">Vui lòng nhập Email</p>\n",
            "<p class=\"warning email-warning2\">Email Không đúng định dạng</p>\n",
            "</div>\n",
            "<div class=\"form-group\">\n",
            "<span class=\"label\">Mã xác nhận</span>\n",
            "<div class=\"row-capcha\">\n",
            "<input class=\"form-control txtcaptchalogin\" data-input=\"cm-guestcaptcha\" id=\"cm-guestcaptcha\" name=\"txt-captcha\" placeholder=\"Mã xác nhận\" type=\"text\"/>\n",
            "<img alt=\"\" class=\"imgcaptcha imgcaptchalogin\" id=\"cm-img-captcha\" src=\"data:image/gif;base64,R0lGODlhAQABAIAAAAAAAP///yH5BAEAAAAALAAAAAABAAEAAAIBRAA7\" title=\"Click để lấy mã khác\">\n",
            "<a class=\"resetcaptcha\" id=\"cm-refresh-captcha\">\n",
            "<svg fill=\"none\" height=\"24\" viewbox=\"0 0 24 24\" width=\"24\" xmlns=\"http://www.w3.org/2000/svg\">\n",
            "<path d=\"M18.3301 6.70117C18.3301 5.66702 18.3301 4.75987 18.3301 3.85272C18.3301 3.43543 18.5479 3.16329 18.9382 3.04536C19.3012 2.94557 19.6371 3.05443 19.8458 3.381C19.9366 3.52615 19.991 3.71665 19.991 3.88901C20.0001 5.31323 20.0092 6.72839 19.991 8.15261C19.982 9.04162 19.4192 9.72198 18.5298 9.75827C17.0231 9.82177 15.5073 9.80363 13.9916 9.78548C13.5015 9.77641 13.1747 9.35912 13.2019 8.90555C13.2292 8.45197 13.5831 8.11633 14.0823 8.10726C15.0898 8.09818 16.1064 8.10726 17.1865 8.10726C17.0957 7.97118 17.0412 7.8714 16.9777 7.78068C15.8159 6.33831 14.4545 5.1953 12.5666 4.80523C8.85437 4.07044 5.17845 6.73746 4.75186 10.5293C4.36158 13.9765 6.26761 17.079 9.42618 18.0224C11.904 18.7663 14.0733 18.1313 15.9611 16.4258C16.061 16.3351 16.1518 16.2353 16.2516 16.1355C16.6691 15.7092 17.1683 15.6638 17.5314 16.0085C17.9126 16.3714 17.8944 16.825 17.486 17.2876C14.7358 20.3901 9.93445 20.9072 6.53082 18.4488C1.24839 14.6387 2.03803 6.39274 7.94673 3.72572C11.187 2.26521 14.8901 3.05443 17.4497 5.73959C17.7129 6.02988 17.9761 6.32017 18.3301 6.70117Z\" fill=\"#8F8F8F\"></path>\n",
            "</svg></a>\n",
            "</img></div>\n",
            "<p class=\"warning captcha-warning\">Vui lòng nhập mã xác nhận.</p>\n",
            "</div>\n",
            "<div class=\"form-group mgt8 clearfix\">\n",
            "<button class=\"btn btn-secondary\" data-act=\"guestsend\" data-elementtype=\"send-comment\" id=\"btn-send-comment\" name=\"btn-send-comment\" type=\"button\">Gửi bình luận</button>\n",
            "<button class=\"btn btn-secondary\" id=\"btn-close-comment\" name=\"btn-close-comment\" onclick=\"comment.closePopup('loginForm')\" type=\"button\">Đóng</button>\n",
            "</div>\n",
            "<div class=\"form-group guest-bottom\">\n",
            "<a class=\"btn btn-link\" data-atc=\"login\" href=\"javascript:void(0);\" rel=\"nofollow\">Bạn đã có tài khoản? <b>Đăng nhập</b> ngay</a>\n",
            "</div>\n",
            "</div>\n",
            "<div class=\"tab-content tab-login active\" id=\"tabLogin\">\n",
            "<div class=\"form-group\">\n",
            "<span class=\"label\">Email</span>\n",
            "<input class=\"form-control\" data-elementtype=\"email\" id=\"lg-email\" name=\"lg-email\" placeholder=\"Email đăng nhập\" type=\"email\"/>\n",
            "<p class=\"warning email-warning1\">Vui lòng nhập Email</p>\n",
            "<p class=\"warning email-warning2\">Email Không đúng định dạng</p>\n",
            "</div>\n",
            "<div class=\"form-group\">\n",
            "<span class=\"label\">Mật khẩu</span>\n",
            "<div class=\"formpass\">\n",
            "<input class=\"form-control\" data-elementtype=\"password\" id=\"lg-password\" name=\"lg-password\" placeholder=\"Nhập mật khẩu\" type=\"password\"/>\n",
            "<a class=\"show-pass\" href=\"javascript:;\" onclick=\"checkShowPass(this);\" rel=\"nofollow\">\n",
            "<svg fill=\"none\" height=\"16\" viewbox=\"0 0 16 16\" width=\"16\" xmlns=\"http://www.w3.org/2000/svg\">\n",
            "<path d=\"M1.33325 7.89248C1.47582 7.68938 1.60101 7.47251 1.75749 7.28319C2.60945 6.25738 3.60745 5.40024 4.8141 4.79439C5.63824 4.38131 6.5041 4.1197 7.42561 4.03364C9.21298 3.86497 10.8334 4.33656 12.3148 5.31418C13.278 5.95101 14.0778 6.74963 14.7768 7.65496C14.9506 7.87871 14.9506 8.11967 14.7768 8.34342C13.97 9.38988 13.0277 10.2883 11.8766 10.9561C10.9238 11.5104 9.90497 11.8615 8.79917 11.9647C7.19262 12.1162 5.70779 11.7444 4.32727 10.9355C3.18669 10.2677 2.25128 9.36923 1.45496 8.32965C1.4028 8.2608 1.3715 8.17819 1.33325 8.10246C1.33325 8.03361 1.33325 7.96476 1.33325 7.89248ZM8.02719 5.17649C6.47976 5.20403 5.24182 6.50866 5.26964 8.0818C5.29746 9.62052 6.61538 10.846 8.21497 10.8184C9.75892 10.7909 11.0038 9.47594 10.976 7.90969C10.9412 6.37097 9.62331 5.14895 8.02719 5.17649Z\" fill=\"#8F8F8F\"></path>\n",
            "<path d=\"M9.65797 8.00267C9.65102 8.84604 8.94859 9.52761 8.09316 9.52073C7.26206 9.51384 6.5805 8.82194 6.58746 7.9889C6.59093 7.15242 7.30032 6.47084 8.15923 6.48116C8.98336 6.48461 9.66145 7.17651 9.65797 8.00267Z\" fill=\"#8F8F8F\"></path>\n",
            "</svg>\n",
            "</a>\n",
            "</div>\n",
            "<p class=\"warning password-warning\">Mật khẩu không đúng.</p>\n",
            "<p class=\"warning invalid_info\">Thông tin đăng nhập không đúng.</p>\n",
            "<p class=\"warning blocked-warning\">Tài khoản bị khóa, vui lòng liên hệ quản trị viên.</p>\n",
            "<p class=\"warning common-warning\">Có lỗi phát sinh. Vui lòng thử lại sau.</p>\n",
            "</div>\n",
            "<div class=\"form-group\">\n",
            "<a class=\"btn btn-link\" href=\"http://id.tuoitre.vn/quen-mat-khau.htm\" id=\"btn-lost-password\" rel=\"nofollow\" target=\"_blank\">Quên mật khẩu?</a>\n",
            "<button class=\"btn btn-secondary\" data-elementtype=\"login\" id=\"btn-login\" name=\"btn-login\" type=\"button\">Đăng nhập</button>\n",
            "</div>\n",
            "<div class=\"form-group mgt8 content-social\">\n",
            "<span class=\"tit\"><i>hoặc đăng nhập</i></span>\n",
            "<div class=\"flexbox\">\n",
            "<button class=\"btn btn-danger btn-google-plus\" data-elementtype=\"logingoogle\" type=\"button\">\n",
            "<span class=\"icon\">\n",
            "<svg fill=\"none\" height=\"24\" viewbox=\"0 0 25 24\" width=\"25\" xmlns=\"http://www.w3.org/2000/svg\">\n",
            "<path d=\"M20.5 12.1956C20.5 11.6445 20.4466 11.0756 20.3578 10.5422H12.6598V13.6889H17.0688C16.891 14.7023 16.3043 15.5912 15.4332 16.1601L18.0644 18.2046C19.6111 16.7646 20.5 14.6667 20.5 12.1956Z\" fill=\"#4280EF\"></path>\n",
            "<path d=\"M12.6598 20.1602C14.8643 20.1602 16.7132 19.4313 18.0644 18.1868L15.4332 16.1601C14.7043 16.6579 13.762 16.9424 12.6598 16.9424C10.5264 16.9424 8.73081 15.5023 8.07301 13.5823L5.37073 15.6623C6.75743 18.4179 9.56638 20.1602 12.6598 20.1602Z\" fill=\"#34A353\"></path>\n",
            "<path d=\"M8.073 13.5645C7.73522 12.5511 7.73522 11.4489 8.073 10.4355L5.37072 8.33771C4.21513 10.6489 4.21513 13.3689 5.37072 15.6623L8.073 13.5645Z\" fill=\"#F6B704\"></path>\n",
            "<path d=\"M12.6598 7.07545C13.8154 7.05767 14.9532 7.50213 15.7888 8.30215L18.1177 5.95543C16.6421 4.56872 14.6865 3.82204 12.6598 3.83982C9.56639 3.83982 6.75743 5.58208 5.37073 8.33771L8.07301 10.4355C8.73081 8.49771 10.5264 7.07545 12.6598 7.07545Z\" fill=\"#E54335\"></path>\n",
            "</svg>\n",
            "</span>\r\n",
            "                                        Google\r\n",
            "                                    </button>\n",
            "<button class=\"btn btn-primary btn-facebook\" data-elementtype=\"loginfb\" type=\"button\">\n",
            "<span class=\"icon\">\n",
            "<svg fill=\"none\" height=\"24\" viewbox=\"0 0 24 24\" width=\"24\" xmlns=\"http://www.w3.org/2000/svg\">\n",
            "<rect fill=\"#1877F2\" height=\"24\" rx=\"12\" width=\"24\"></rect>\n",
            "<path d=\"M16.6711 15.4688L17.2031 12H13.875V9.74906C13.875 8.80008 14.34 7.875 15.8306 7.875H17.3438V4.92188C17.3438 4.92188 15.9705 4.6875 14.6576 4.6875C11.9166 4.6875 10.125 6.34875 10.125 9.35625V12H7.07812V15.4688H10.125V23.8542C10.736 23.9501 11.362 24 12 24C12.638 24 13.264 23.9501 13.875 23.8542V15.4688H16.6711Z\" fill=\"white\"></path>\n",
            "</svg>\r\n",
            "                                            Facebook\r\n",
            "                                        </span>\n",
            "</button>\n",
            "</div>\n",
            "</div>\n",
            "</div>\n",
            "<div class=\"tab-content tab-register\" id=\"tabRegister\">\n",
            "<div class=\"form-group\">\n",
            "<span class=\"label\">Tên của bạn</span>\n",
            "<input class=\"form-control\" data-elementtype=\"name\" id=\"rg-name\" name=\"rg-name\" placeholder=\"Tên của bạn\" type=\"text\"/>\n",
            "<p class=\"warning name-warning\">Vui lòng nhập Tên của bạn.</p>\n",
            "</div>\n",
            "<div class=\"form-group\">\n",
            "<span class=\"label\">Email</span>\n",
            "<input class=\"form-control\" data-elementtype=\"email\" id=\"rg-email\" name=\"rg-email\" placeholder=\"Email\" type=\"email\"/>\n",
            "<p class=\"warning email-warning1\">Vui lòng nhập Email</p>\n",
            "<p class=\"warning email-warning2\">Email Không đúng định dạng</p>\n",
            "</div>\n",
            "<div class=\"form-group\">\n",
            "<span class=\"label\">Mật khẩu</span>\n",
            "<div class=\"formpass\">\n",
            "<input class=\"form-control\" data-elementtype=\"password\" id=\"rg-password\" name=\"rg-password\" placeholder=\"Mật khẩu\" type=\"password\"/>\n",
            "<a class=\"show-pass\" href=\"javascript:;\" onclick=\"checkShowPass(this);\" rel=\"nofollow\">\n",
            "<svg fill=\"none\" height=\"16\" viewbox=\"0 0 16 16\" width=\"16\" xmlns=\"http://www.w3.org/2000/svg\">\n",
            "<path d=\"M1.33325 7.89248C1.47582 7.68938 1.60101 7.47251 1.75749 7.28319C2.60945 6.25738 3.60745 5.40024 4.8141 4.79439C5.63824 4.38131 6.5041 4.1197 7.42561 4.03364C9.21298 3.86497 10.8334 4.33656 12.3148 5.31418C13.278 5.95101 14.0778 6.74963 14.7768 7.65496C14.9506 7.87871 14.9506 8.11967 14.7768 8.34342C13.97 9.38988 13.0277 10.2883 11.8766 10.9561C10.9238 11.5104 9.90497 11.8615 8.79917 11.9647C7.19262 12.1162 5.70779 11.7444 4.32727 10.9355C3.18669 10.2677 2.25128 9.36923 1.45496 8.32965C1.4028 8.2608 1.3715 8.17819 1.33325 8.10246C1.33325 8.03361 1.33325 7.96476 1.33325 7.89248ZM8.02719 5.17649C6.47976 5.20403 5.24182 6.50866 5.26964 8.0818C5.29746 9.62052 6.61538 10.846 8.21497 10.8184C9.75892 10.7909 11.0038 9.47594 10.976 7.90969C10.9412 6.37097 9.62331 5.14895 8.02719 5.17649Z\" fill=\"#8F8F8F\"></path>\n",
            "<path d=\"M9.65797 8.00267C9.65102 8.84604 8.94859 9.52761 8.09316 9.52073C7.26206 9.51384 6.5805 8.82194 6.58746 7.9889C6.59093 7.15242 7.30032 6.47084 8.15923 6.48116C8.98336 6.48461 9.66145 7.17651 9.65797 8.00267Z\" fill=\"#8F8F8F\"></path>\n",
            "</svg>\n",
            "</a>\n",
            "</div>\n",
            "<p class=\"warning password-warning\">Mật khẩu phải có ít nhất 6 kí tự.</p>\n",
            "</div>\n",
            "<div class=\"form-group\">\n",
            "<span class=\"label\">Xác nhận mật khẩu</span>\n",
            "<div class=\"formpass\">\n",
            "<input class=\"form-control\" data-elementtype=\"repassword\" id=\"rg-re-password\" name=\"rg-re-password\" placeholder=\"Xác nhận mật khẩu\" type=\"password\"/>\n",
            "<a class=\"show-pass\" href=\"javascript:;\" onclick=\"checkShowPass(this);\" rel=\"nofollow\">\n",
            "<svg fill=\"none\" height=\"16\" viewbox=\"0 0 16 16\" width=\"16\" xmlns=\"http://www.w3.org/2000/svg\">\n",
            "<path d=\"M1.33325 7.89248C1.47582 7.68938 1.60101 7.47251 1.75749 7.28319C2.60945 6.25738 3.60745 5.40024 4.8141 4.79439C5.63824 4.38131 6.5041 4.1197 7.42561 4.03364C9.21298 3.86497 10.8334 4.33656 12.3148 5.31418C13.278 5.95101 14.0778 6.74963 14.7768 7.65496C14.9506 7.87871 14.9506 8.11967 14.7768 8.34342C13.97 9.38988 13.0277 10.2883 11.8766 10.9561C10.9238 11.5104 9.90497 11.8615 8.79917 11.9647C7.19262 12.1162 5.70779 11.7444 4.32727 10.9355C3.18669 10.2677 2.25128 9.36923 1.45496 8.32965C1.4028 8.2608 1.3715 8.17819 1.33325 8.10246C1.33325 8.03361 1.33325 7.96476 1.33325 7.89248ZM8.02719 5.17649C6.47976 5.20403 5.24182 6.50866 5.26964 8.0818C5.29746 9.62052 6.61538 10.846 8.21497 10.8184C9.75892 10.7909 11.0038 9.47594 10.976 7.90969C10.9412 6.37097 9.62331 5.14895 8.02719 5.17649Z\" fill=\"#8F8F8F\"></path>\n",
            "<path d=\"M9.65797 8.00267C9.65102 8.84604 8.94859 9.52761 8.09316 9.52073C7.26206 9.51384 6.5805 8.82194 6.58746 7.9889C6.59093 7.15242 7.30032 6.47084 8.15923 6.48116C8.98336 6.48461 9.66145 7.17651 9.65797 8.00267Z\" fill=\"#8F8F8F\"></path>\n",
            "</svg>\n",
            "</a>\n",
            "</div>\n",
            "<p class=\"warning repassword-warning\">Xác nhận mật khẩu không khớp.</p>\n",
            "</div>\n",
            "<div class=\"form-group\">\n",
            "<span class=\"label\">Mã xác nhận</span>\n",
            "<div class=\"row-capcha\">\n",
            "<input class=\"form-control txtcaptchalogin\" data-elementtype=\"captcha\" id=\"rg-re-captcha\" placeholder=\"Mã xác nhận\"/>\n",
            "<img alt=\"captcha\" class=\"imgcaptchalogin\" id=\"img-captcha\" src=\"data:image/gif;base64,R0lGODlhAQABAIAAAAAAAP///yH5BAEAAAAALAAAAAABAAEAAAIBRAA7\">\n",
            "<a class=\"resetcaptcha\" id=\"refresh-captcha\">\n",
            "<svg fill=\"none\" height=\"24\" viewbox=\"0 0 24 24\" width=\"24\" xmlns=\"http://www.w3.org/2000/svg\">\n",
            "<path d=\"M18.3301 6.70117C18.3301 5.66702 18.3301 4.75987 18.3301 3.85272C18.3301 3.43543 18.5479 3.16329 18.9382 3.04536C19.3012 2.94557 19.6371 3.05443 19.8458 3.381C19.9366 3.52615 19.991 3.71665 19.991 3.88901C20.0001 5.31323 20.0092 6.72839 19.991 8.15261C19.982 9.04162 19.4192 9.72198 18.5298 9.75827C17.0231 9.82177 15.5073 9.80363 13.9916 9.78548C13.5015 9.77641 13.1747 9.35912 13.2019 8.90555C13.2292 8.45197 13.5831 8.11633 14.0823 8.10726C15.0898 8.09818 16.1064 8.10726 17.1865 8.10726C17.0957 7.97118 17.0412 7.8714 16.9777 7.78068C15.8159 6.33831 14.4545 5.1953 12.5666 4.80523C8.85437 4.07044 5.17845 6.73746 4.75186 10.5293C4.36158 13.9765 6.26761 17.079 9.42618 18.0224C11.904 18.7663 14.0733 18.1313 15.9611 16.4258C16.061 16.3351 16.1518 16.2353 16.2516 16.1355C16.6691 15.7092 17.1683 15.6638 17.5314 16.0085C17.9126 16.3714 17.8944 16.825 17.486 17.2876C14.7358 20.3901 9.93445 20.9072 6.53082 18.4488C1.24839 14.6387 2.03803 6.39274 7.94673 3.72572C11.187 2.26521 14.8901 3.05443 17.4497 5.73959C17.7129 6.02988 17.9761 6.32017 18.3301 6.70117Z\" fill=\"#8F8F8F\"></path>\n",
            "</svg></a>\n",
            "</img></div>\n",
            "<p class=\"warning captcha-warning\">Mã xác nhận không đúng.</p>\n",
            "<p class=\"warning common-warning\">Có lỗi phát sinh. Vui lòng thử lại sau.</p>\n",
            "</div>\n",
            "<div class=\"form-group\">\n",
            "<button class=\"btn btn-link\" id=\"btn-notify-register\" rel=\"nofollow\" type=\"button\">Khi bấm tạo tài khoản bạn đã đồng ý với <b>quy định</b> của tòa soạn</button>\n",
            "</div>\n",
            "<div class=\"form-group clearfix\">\n",
            "<button class=\"btn btn-secondary\" data-elementtype=\"register\" id=\"btn-register\" name=\"btn-login\" type=\"button\">Tạo tài khoản</button>\n",
            "</div>\n",
            "<div class=\"form-group mgt8 content-social\">\n",
            "<span class=\"tit\"><i>hoặc đăng nhập</i></span>\n",
            "<div class=\"flexbox\">\n",
            "<button class=\"btn btn-danger btn-google-plus\" data-elementtype=\"logingoogle\" type=\"button\">\n",
            "<span class=\"icon\">\n",
            "<svg fill=\"none\" height=\"24\" viewbox=\"0 0 25 24\" width=\"25\" xmlns=\"http://www.w3.org/2000/svg\">\n",
            "<path d=\"M20.5 12.1956C20.5 11.6445 20.4466 11.0756 20.3578 10.5422H12.6598V13.6889H17.0688C16.891 14.7023 16.3043 15.5912 15.4332 16.1601L18.0644 18.2046C19.6111 16.7646 20.5 14.6667 20.5 12.1956Z\" fill=\"#4280EF\"></path>\n",
            "<path d=\"M12.6598 20.1602C14.8643 20.1602 16.7132 19.4313 18.0644 18.1868L15.4332 16.1601C14.7043 16.6579 13.762 16.9424 12.6598 16.9424C10.5264 16.9424 8.73081 15.5023 8.07301 13.5823L5.37073 15.6623C6.75743 18.4179 9.56638 20.1602 12.6598 20.1602Z\" fill=\"#34A353\"></path>\n",
            "<path d=\"M8.073 13.5645C7.73522 12.5511 7.73522 11.4489 8.073 10.4355L5.37072 8.33771C4.21513 10.6489 4.21513 13.3689 5.37072 15.6623L8.073 13.5645Z\" fill=\"#F6B704\"></path>\n",
            "<path d=\"M12.6598 7.07545C13.8154 7.05767 14.9532 7.50213 15.7888 8.30215L18.1177 5.95543C16.6421 4.56872 14.6865 3.82204 12.6598 3.83982C9.56639 3.83982 6.75743 5.58208 5.37073 8.33771L8.07301 10.4355C8.73081 8.49771 10.5264 7.07545 12.6598 7.07545Z\" fill=\"#E54335\"></path>\n",
            "</svg>\n",
            "</span>\r\n",
            "                                        Google\r\n",
            "                                    </button>\n",
            "<button class=\"btn btn-primary btn-facebook\" data-elementtype=\"loginfb\" type=\"button\">\n",
            "<span class=\"icon\">\n",
            "<svg fill=\"none\" height=\"24\" viewbox=\"0 0 24 24\" width=\"24\" xmlns=\"http://www.w3.org/2000/svg\">\n",
            "<rect fill=\"#1877F2\" height=\"24\" rx=\"12\" width=\"24\"></rect>\n",
            "<path d=\"M16.6711 15.4688L17.2031 12H13.875V9.74906C13.875 8.80008 14.34 7.875 15.8306 7.875H17.3438V4.92188C17.3438 4.92188 15.9705 4.6875 14.6576 4.6875C11.9166 4.6875 10.125 6.34875 10.125 9.35625V12H7.07812V15.4688H10.125V23.8542C10.736 23.9501 11.362 24 12 24C12.638 24 13.264 23.9501 13.875 23.8542V15.4688H16.6711Z\" fill=\"white\"></path>\n",
            "</svg>\r\n",
            "                                            Facebook\r\n",
            "                                        </span>\n",
            "</button>\n",
            "</div>\n",
            "</div>\n",
            "</div>\n",
            "</div>\n",
            "</div>\n",
            "</section>\n",
            "</div>\n",
            "</div>\n",
            "</div>\n",
            "<style>\r\n",
            "    #vote-re-captcha, #sendOtherVote-re-captcha { float: left; width: 100px; margin-right: 10px; }\r\n",
            "\r\n",
            "    #vote-img-captcha, #sendOtherVote-img-captcha { width: 100px; height: 34px; cursor: pointer; float: left; margin-right: 10px; }\r\n",
            "\r\n",
            "    #vote-refresh-captcha, #sendOtherVote-refresh-captcha { float: left; font-size: 12px; line-height: 34px; text-decoration: none; cursor: pointer; }\r\n",
            "\r\n",
            "    #btn-send-vote, #btn-sendOtherVote { width: 125px; font-family: Roboto; font-size: 14px; float: right; }\r\n",
            "\r\n",
            "    #voteCatpchaForm .popup { width: 375px; }\r\n",
            "\r\n",
            "    /*    .nav-link {\r\n",
            "        padding: 12px 24px;\r\n",
            "    }*/\r\n",
            "\r\n",
            "    /*.grecaptcha-badge {\r\n",
            "        display: none !important;\r\n",
            "    }*/\r\n",
            "\r\n",
            "    #voteCatpchaForm header, #sendOtherVoteForm header { position: relative; }\r\n",
            "\r\n",
            "    #voteCatpchaForm .closepp, #sendOtherVoteForm .closepp { font-size: 16px; font-family: Roboto; color: #220; position: absolute; right: 10px; top: 10px; }\r\n",
            "</style>\n",
            "<script>\r\n",
            "    (runinit = window.runinit || []).push(function () {\r\n",
            "        $(\"#vote-img-captcha\").click(function () {\r\n",
            "            $(\"#vote-img-captcha\").attr(\"src\", appSettings.apiDomain + \"/captcha.htm?time=\" + new Date().getTime());\r\n",
            "        });\r\n",
            "        $(\"#vote-refresh-captcha\").click(function () {\r\n",
            "            $(\"#vote-img-captcha\").attr(\"src\", appSettings.apiDomain + \"/captcha.htm?time=\" + new Date().getTime());\r\n",
            "        });\r\n",
            "    });\r\n",
            "\r\n",
            "    function openPopupCaptcha(id, element, callback) {\r\n",
            "        $('#voteCatpchaForm .captcha-warning').hide();\r\n",
            "        $(\"#\" + id).fadeIn(100);\r\n",
            "\r\n",
            "        $(\"#vote-img-captcha\").attr(\"src\", appSettings.apiDomain + \"/captcha.htm?time=\" + new Date().getTime());\r\n",
            "        $('#btn-send-vote').off(\"click\").click(function (e) {\r\n",
            "            if ($('#vote-re-captcha').val() == '') {\r\n",
            "                $('#voteCatpchaForm .captcha-warning').show();\r\n",
            "                return;\r\n",
            "            }\r\n",
            "\r\n",
            "            if (typeof callback == \"function\") {\r\n",
            "                callback(element);\r\n",
            "            }\r\n",
            "        });\r\n",
            "    }\r\n",
            "</script>\n",
            "<div class=\"wrapPopup\" id=\"voteCatpchaForm\">\n",
            "<div class=\"popup\">\n",
            "<div class=\"centerPopup\">\n",
            "<section>\n",
            "<header>\n",
            "<p>Nhập mã xác nhận</p>\n",
            "<a class=\"closepp\" href=\"javascript:;\" onclick=\"comment.closePopup('voteCatpchaForm')\" title=\"Đóng\">Đóng lại</a>\n",
            "</header>\n",
            "<div class=\"content\">\n",
            "<div class=\"form-group\">\n",
            "<input class=\"form-control\" data-elementtype=\"captcha\" id=\"vote-re-captcha\"/>\n",
            "<img alt=\"captcha\" class=\"imgcaptchalogin\" id=\"vote-img-captcha\" src=\"data:image/gif;base64,R0lGODlhAQABAIAAAAAAAP///yH5BAEAAAAALAAAAAABAAEAAAIBRAA7\">\n",
            "<a class=\"resetcaptcha\" id=\"vote-refresh-captcha\">\n",
            "<svg fill=\"none\" height=\"24\" viewbox=\"0 0 24 24\" width=\"24\" xmlns=\"http://www.w3.org/2000/svg\">\n",
            "<path d=\"M18.3301 6.70117C18.3301 5.66702 18.3301 4.75987 18.3301 3.85272C18.3301 3.43543 18.5479 3.16329 18.9382 3.04536C19.3012 2.94557 19.6371 3.05443 19.8458 3.381C19.9366 3.52615 19.991 3.71665 19.991 3.88901C20.0001 5.31323 20.0092 6.72839 19.991 8.15261C19.982 9.04162 19.4192 9.72198 18.5298 9.75827C17.0231 9.82177 15.5073 9.80363 13.9916 9.78548C13.5015 9.77641 13.1747 9.35912 13.2019 8.90555C13.2292 8.45197 13.5831 8.11633 14.0823 8.10726C15.0898 8.09818 16.1064 8.10726 17.1865 8.10726C17.0957 7.97118 17.0412 7.8714 16.9777 7.78068C15.8159 6.33831 14.4545 5.1953 12.5666 4.80523C8.85437 4.07044 5.17845 6.73746 4.75186 10.5293C4.36158 13.9765 6.26761 17.079 9.42618 18.0224C11.904 18.7663 14.0733 18.1313 15.9611 16.4258C16.061 16.3351 16.1518 16.2353 16.2516 16.1355C16.6691 15.7092 17.1683 15.6638 17.5314 16.0085C17.9126 16.3714 17.8944 16.825 17.486 17.2876C14.7358 20.3901 9.93445 20.9072 6.53082 18.4488C1.24839 14.6387 2.03803 6.39274 7.94673 3.72572C11.187 2.26521 14.8901 3.05443 17.4497 5.73959C17.7129 6.02988 17.9761 6.32017 18.3301 6.70117Z\" fill=\"#8F8F8F\"></path>\n",
            "</svg></a>\n",
            "<p class=\"warning captcha-warning\">Mã xác nhận không đúng.</p>\n",
            "<p class=\"warning common-warning\">Có lỗi phát sinh. Vui lòng thử lại sau.</p>\n",
            "</img></div>\n",
            "<div class=\"form-group clearfix\">\n",
            "<button class=\"btn btn-secondary\" id=\"btn-send-vote\" type=\"button\">Hoàn tất</button>\n",
            "</div>\n",
            "</div>\n",
            "</section>\n",
            "</div>\n",
            "</div>\n",
            "</div>\n",
            "<script>\r\n",
            "    (runinit = window.runinit || []).push(function () {\r\n",
            "        $(\"#sendOtherVote-img-captcha\").click(function () {\r\n",
            "            $(\"#sendOtherVote-img-captcha\").attr(\"src\", appSettings.apiDomain + \"/captcha.htm?time=\" + new Date().getTime());\r\n",
            "        });\r\n",
            "        $(\"#sendOtherVote-refresh-captcha\").click(function () {\r\n",
            "            $(\"#sendOtherVote-img-captcha\").attr(\"src\", appSettings.apiDomain + \"/captcha.htm?time=\" + new Date().getTime());\r\n",
            "        });\r\n",
            "    });\r\n",
            "\r\n",
            "    function openPopupSendOtherVote(id, element, callback) {\r\n",
            "        $('#sendOtherVoteForm .email-warning1').hide();\r\n",
            "        $('#sendOtherVoteForm .email-warning2').hide();\r\n",
            "        $('#sendOtherVoteForm .captcha-warning').hide();\r\n",
            "        $('#sendOtherVoteForm .name-warning').hide();\r\n",
            "        $('#sendOtherVoteForm .content-warning').hide();\r\n",
            "\r\n",
            "        $('#sendOtherVote-email').val(\"\");\r\n",
            "        $('#sendOtherVote-name').val(\"\");\r\n",
            "        $('#sendOtherVote-content').val(\"\");\r\n",
            "        $('#sendOtherVote-re-captcha').val(\"\");\r\n",
            "\r\n",
            "        $(\"#\" + id).fadeIn(100);\r\n",
            "\r\n",
            "        $(\"#sendOtherVote-img-captcha\").attr(\"src\", appSettings.apiDomain + \"/captcha.htm?time=\" + new Date().getTime());\r\n",
            "        $('#btn-sendOtherVote').off(\"click\").click(function (e) {\r\n",
            "            if ($('#sendOtherVote-re-captcha').val() == '') {\r\n",
            "                $('#sendOtherVoteForm .captcha-warning').show();\r\n",
            "                return;\r\n",
            "            }\r\n",
            "            else {\r\n",
            "                $('#sendOtherVoteForm .captcha-warning').hide();\r\n",
            "            }\r\n",
            "\r\n",
            "            var email = $('#sendOtherVote-email').val();\r\n",
            "            var name = $('#sendOtherVote-name').val();\r\n",
            "            var content = $('#sendOtherVote-content').val();\r\n",
            "\r\n",
            "            // Validate input\r\n",
            "            if (email != '' && name != '' && IsEmail(email) && content != '') {\r\n",
            "                if (typeof callback == \"function\") {\r\n",
            "                    callback(element, {\r\n",
            "                        email: email,\r\n",
            "                        name: name,\r\n",
            "                        content: content\r\n",
            "                    });\r\n",
            "                }\r\n",
            "            } else {\r\n",
            "                if (email == '') {\r\n",
            "                    $('#sendOtherVoteForm .email-warning1').show();\r\n",
            "                }\r\n",
            "                else {\r\n",
            "                    $('#sendOtherVoteForm .email-warning1').hide();\r\n",
            "                    if (IsEmail(email)) {\r\n",
            "                        $('#sendOtherVoteForm .email-warning2').hide();\r\n",
            "                    } else {\r\n",
            "                        $('#sendOtherVoteForm .email-warning2').show();\r\n",
            "                    }\r\n",
            "                }\r\n",
            "                if (name == '') {\r\n",
            "                    $('#sendOtherVoteForm .name-warning').show();\r\n",
            "                } else {\r\n",
            "                    $('#sendOtherVoteForm .name-warning').hide();\r\n",
            "                }\r\n",
            "                if (content == '') {\r\n",
            "                    $('#sendOtherVoteForm .content-warning').show();\r\n",
            "                } else {\r\n",
            "                    $('#sendOtherVoteForm .content-warning').hide();\r\n",
            "                }\r\n",
            "            }\r\n",
            "        });\r\n",
            "    }\r\n",
            "</script>\n",
            "<style>\r\n",
            "    #sendOtherVoteForm .popup { top: 30%; }\r\n",
            "\r\n",
            "    .wrapPopup textarea { padding: 6px 12px; font-size: 14px; box-sizing: border-box; height: 65px; }\r\n",
            "\r\n",
            "    /*    #cm-guestcaptcha { float: left; width: 105px; margin-right: 10px; }*/\r\n",
            "\r\n",
            "    #cm-img-captcha { width: 100px; height: 34px; cursor: pointer; float: left; margin-right: 10px; }\r\n",
            "\r\n",
            "    #cm-refresh-captcha { float: left; font-size: 12px; line-height: 34px; text-decoration: underline; cursor: pointer; }\r\n",
            "</style>\n",
            "<div class=\"wrapPopup\" id=\"sendOtherVoteForm\">\n",
            "<div class=\"popup\">\n",
            "<div class=\"centerPopup\">\n",
            "<section>\n",
            "<header>\n",
            "<p>Vui lòng nhập thông tin và ý kiến của bạn</p>\n",
            "<a class=\"closepp\" href=\"javascript:;\" onclick=\"comment.closePopup('sendOtherVoteForm')\" title=\"Đóng lại\">X</a>\n",
            "</header>\n",
            "<div class=\"content\">\n",
            "<div class=\"frm-1\" id=\"sendOtherVote-frm\">\n",
            "<div class=\"form-group\">\n",
            "<span>Email (*)</span>\n",
            "<input class=\"form-control\" id=\"sendOtherVote-email\" name=\"cm-email\" type=\"email\"/>\n",
            "<p class=\"warning email-warning1\">Vui lòng nhập Email</p>\n",
            "<p class=\"warning email-warning2\">Email Không đúng định dạng</p>\n",
            "</div>\n",
            "<div class=\"form-group\">\n",
            "<span>Họ và tên (*)</span>\n",
            "<input class=\"form-control\" id=\"sendOtherVote-name\" name=\"cm-name\" type=\"text\"/>\n",
            "<p class=\"warning name-warning\">Vui lòng nhập Họ &amp; Tên.</p>\n",
            "</div>\n",
            "<div class=\"form-group\">\n",
            "<span>Ý kiến của bạn (*)</span>\n",
            "<textarea class=\"form-control\" id=\"sendOtherVote-content\" maxlength=\"500\" name=\"cm-content\"></textarea>\n",
            "<p class=\"warning content-warning\">Vui lòng nhập Ý kiến của bạn.</p>\n",
            "</div>\n",
            "<div class=\"form-group\">\n",
            "<input class=\"form-control\" data-elementtype=\"captcha\" id=\"sendOtherVote-re-captcha\"/>\n",
            "<img alt=\"captcha\" id=\"sendOtherVote-img-captcha\" src=\"data:image/gif;base64,R0lGODlhAQABAIAAAAAAAP///yH5BAEAAAAALAAAAAABAAEAAAIBRAA7\">\n",
            "<a class=\"resetcaptcha\" id=\"sendOtherVote-refresh-captcha\">\n",
            "<svg fill=\"none\" height=\"24\" viewbox=\"0 0 24 24\" width=\"24\" xmlns=\"http://www.w3.org/2000/svg\">\n",
            "<path d=\"M18.3301 6.70117C18.3301 5.66702 18.3301 4.75987 18.3301 3.85272C18.3301 3.43543 18.5479 3.16329 18.9382 3.04536C19.3012 2.94557 19.6371 3.05443 19.8458 3.381C19.9366 3.52615 19.991 3.71665 19.991 3.88901C20.0001 5.31323 20.0092 6.72839 19.991 8.15261C19.982 9.04162 19.4192 9.72198 18.5298 9.75827C17.0231 9.82177 15.5073 9.80363 13.9916 9.78548C13.5015 9.77641 13.1747 9.35912 13.2019 8.90555C13.2292 8.45197 13.5831 8.11633 14.0823 8.10726C15.0898 8.09818 16.1064 8.10726 17.1865 8.10726C17.0957 7.97118 17.0412 7.8714 16.9777 7.78068C15.8159 6.33831 14.4545 5.1953 12.5666 4.80523C8.85437 4.07044 5.17845 6.73746 4.75186 10.5293C4.36158 13.9765 6.26761 17.079 9.42618 18.0224C11.904 18.7663 14.0733 18.1313 15.9611 16.4258C16.061 16.3351 16.1518 16.2353 16.2516 16.1355C16.6691 15.7092 17.1683 15.6638 17.5314 16.0085C17.9126 16.3714 17.8944 16.825 17.486 17.2876C14.7358 20.3901 9.93445 20.9072 6.53082 18.4488C1.24839 14.6387 2.03803 6.39274 7.94673 3.72572C11.187 2.26521 14.8901 3.05443 17.4497 5.73959C17.7129 6.02988 17.9761 6.32017 18.3301 6.70117Z\" fill=\"#8F8F8F\"></path>\n",
            "</svg></a>\n",
            "<p class=\"warning captcha-warning\">Mã xác nhận không đúng.</p>\n",
            "<p class=\"warning common-warning\">Có lỗi phát sinh. Vui lòng thử lại sau.</p>\n",
            "</img></div>\n",
            "<div class=\"form-group clearfix\">\n",
            "<button class=\"btn btn-secondary\" id=\"btn-sendOtherVote\" type=\"button\">Gửi ý kiến</button>\n",
            "</div>\n",
            "</div>\n",
            "</div>\n",
            "</section>\n",
            "</div>\n",
            "</div>\n",
            "</div>\n",
            "<div class=\"modal_introduce\" id=\"introduce_tto\">\n",
            "<div class=\"popup\">\n",
            "<div class=\"popup_header\">\n",
            "<a class=\"close_introduce\" href=\"javascript:;\" title=\"Đóng lại\">\n",
            "<svg fill=\"none\" height=\"24\" viewbox=\"0 0 24 24\" width=\"24\" xmlns=\"http://www.w3.org/2000/svg\">\n",
            "<path clip-rule=\"evenodd\" d=\"M5.2121 5.2121C5.49489 4.9293 5.95339 4.9293 6.23618 5.2121L18.7879 17.7638C19.0707 18.0466 19.0707 18.5051 18.7879 18.7879C18.5051 19.0707 18.0466 19.0707 17.7638 18.7879L5.2121 6.23618C4.9293 5.95339 4.9293 5.49489 5.2121 5.2121Z\" fill=\"#222222\" fill-rule=\"evenodd\"></path>\n",
            "<path clip-rule=\"evenodd\" d=\"M18.7879 5.2121C18.5051 4.9293 18.0466 4.9293 17.7638 5.2121L5.2121 17.7638C4.9293 18.0466 4.9293 18.5051 5.2121 18.7879C5.49489 19.0707 5.95339 19.0707 6.23618 18.7879L18.7879 6.23618C19.0707 5.95339 19.0707 5.49489 18.7879 5.2121Z\" fill=\"#222222\" fill-rule=\"evenodd\"></path>\n",
            "</svg>\n",
            "</a>\n",
            "<img alt=\"Giới thiệu về Tuổi Trẻ Sao\" src=\"https://static.mediacdn.vn/tuoitre/web_images/banner_introduce_tto.png\">\n",
            "</img></div>\n",
            "<div class=\"content\">\n",
            "<p>\r\n",
            "                Từ ngày 1-1-2023, Tuổi Trẻ Online sẽ ra mắt một phiên bản đặc biệt mang tên Tuổi Trẻ Sao với nhiều chuyên mục mới như: Tư vấn pháp luật, Hỏi chuyện sức khỏe; Xem báo in sắc nét trên mạng, Tuổi Trẻ Live (trực tiếp các sự kiện thời sự nóng bỏng, hấp dẫn)…\r\n",
            "            </p>\n",
            "<br/>\n",
            "<p>\r\n",
            "                Điều đáng chú ý khi chọn Tuổi Trẻ Sao, bạn đọc sẽ được trải nghiệm nội dung thông suốt, không bị xen lẫn quảng cáo hiển thị. Bởi một số bạn đọc có cảm giác không thoải mái hoặc cảm thấy bị làm phiền khi có quá nhiều quảng cáo hiển thị vây quanh nội dung làm ngắt quãng sự tập trung của bạn đọc. Vì thế, tất cả các trang, chuyên mục, video đều được tắt quảng cáo hiển thị để không ảnh hưởng đến quá trình thưởng thức nội dung của bạn đọc.\r\n",
            "            </p>\n",
            "<br/>\n",
            "<p>\r\n",
            "                Đồng thời để đáp ứng nguyện vọng của nhiều bạn đọc, chúng tôi mở ra thêm một phương thức mới để bạn đọc có thể hỗ trợ nguồn lực phát triển báo Tuổi Trẻ bằng cách đóng góp các ngôi sao  (có thể chuyển đổi ra chi phí giao dịch) để tham gia hoạt động và tương tác trên Tuổi Trẻ Online. Cụ thể, bạn đọc có thể là tặng  cho tác giả, đổi quà lưu niệm (tùy theo chương trình), đăng ký quảng cáo, mua sắm online…\r\n",
            "            </p>\n",
            "<br/>\n",
            "<p>\r\n",
            "                Chúng tôi tạo ra Tuổi Trẻ Sao nhằm từng bước nâng cao chất lượng nội dung, sản xuất thêm những nội dung riêng, gia tăng kết nối, tương tác và thực hiện những nội dung mới theo nhu cầu bạn đọc để thật sự chăm sóc và phục vụ bạn đọc ngày càng tốt hơn.\r\n",
            "            </p>\n",
            "<br/>\n",
            "<p>\r\n",
            "                TTO\r\n",
            "            </p>\n",
            "<br/>\n",
            "<a class=\"btnstarregister\" href=\"/dang-ky-tuoi-tre-sao.htm\" title=\"Đăng ký Tuổi Trẻ Sao\">Đăng ký Tuổi Trẻ Sao</a>\n",
            "</div>\n",
            "</div>\n",
            "<div class=\"modal_introduce__bg\"></div>\n",
            "</div>\n",
            "<script>\r\n",
            "    (runinit = window.runinit || []).push(function () {\r\n",
            "        sendMailQA_Footer.init('#modalSendEmailCatpchaForm');\r\n",
            "\r\n",
            "    })\r\n",
            "</script>\n",
            "</div>\n",
            "</div>\n",
            "<script async=\"\" src=\"https://static.mediacdn.vn/tuoitre/web_js/tuoitrenew.list.10012023v1.min.js\"></script>\n",
            "<script>                \r\n",
            "        (runinit = window.runinit || []).push(function () {\r\n",
            "            timeline.init();\r\n",
            "        });\r\n",
            "    </script>\n",
            "<div class=\"modal__bg\"></div>\n",
            "<div class=\"\" id=\"back-to-top\">\n",
            "<a class=\"layout__sticky-icon\" href=\"javascript:;\" rel=\"nofollow\" title=\"\">\n",
            "<span class=\"icon\">\n",
            "<svg fill=\"none\" height=\"22\" viewbox=\"0 0 19 22\" width=\"19\" xmlns=\"http://www.w3.org/2000/svg\">\n",
            "<path d=\"M2.37373 9.70711C1.98321 10.0976 1.35004 10.0976 0.959519 9.70711C0.568995 9.31658 0.568995 8.68342 0.959519 8.29289L2.37373 9.70711ZM9.66663 1L8.95952 0.292893C9.35004 -0.0976308 9.98321 -0.0976307 10.3737 0.292894L9.66663 1ZM18.3737 8.29289C18.7643 8.68342 18.7643 9.31658 18.3737 9.70711C17.9832 10.0976 17.35 10.0976 16.9595 9.70711L18.3737 8.29289ZM10.6666 21C10.6666 21.5523 10.2189 22 9.66663 22C9.11434 22 8.66663 21.5523 8.66663 21L10.6666 21ZM0.959519 8.29289L8.95952 0.292893L10.3737 1.70711L2.37373 9.70711L0.959519 8.29289ZM10.3737 0.292894L18.3737 8.29289L16.9595 9.70711L8.95952 1.70711L10.3737 0.292894ZM10.6666 1L10.6666 21L8.66663 21L8.66663 1L10.6666 1Z\" fill=\"#222222\"></path>\n",
            "</svg>\n",
            "</span>\n",
            "</a>\n",
            "</div>\n",
            "<script>\r\n",
            "            (runinit = window.runinit || []).push(function () {\r\n",
            "                if (appSettings.isLoginv2 == 0)\r\n",
            "                    comment.init();\r\n",
            "\r\n",
            "                if ($('.title-time-home').length > 0) {\r\n",
            "                    let now = new Date();\r\n",
            "                    let currentDay = 'Thứ ';\r\n",
            "                    switch (now.getDay()) {\r\n",
            "                        case 0:\r\n",
            "                            currentDay = 'Chủ nhật';\r\n",
            "                            break;\r\n",
            "                        default:\r\n",
            "                            currentDay += now.getDay() + 1;\r\n",
            "                    }\r\n",
            "                    let currentTime = currentDay + ', ngày ' + now.getDate() + ' tháng ' + (now.getMonth() + 1) + ' năm ' + now.getFullYear();\r\n",
            "                    $('.title-time-home').html(currentTime);\r\n",
            "                }\r\n",
            "            });\r\n",
            "\r\n",
            "            (function () {\r\n",
            "                window.addEventListener('message', (event) => {\r\n",
            "                    if (event.data && event.data.action && event.data.action == 'tdk-setHeight') {\r\n",
            "                        document.querySelectorAll(event.data.target).forEach((elem) => {\r\n",
            "                            elem.setAttribute('height', event.data.value);\r\n",
            "                            elem.style.height = event.data.value + 'px';\r\n",
            "                        });\r\n",
            "                    }\r\n",
            "                });\r\n",
            "            })()\r\n",
            "        </script>\n",
            "<script>\r\n",
            "    //gắn code login\r\n",
            "    (runinit = window.runinit || []).push(function () {\r\n",
            "        //loadJsAsync('/web_js/login/login_sso.js', function () {\r\n",
            "        loadJsAsync('https://static.mediacdn.vn/tuoitre/web_js/tuoitrenew.ssologinbase.24.min.js', function () {\r\n",
            "            loginSSO.init();\r\n",
            "        });\r\n",
            "    });\r\n",
            "</script>\n",
            "</body>\n",
            "</html>\n",
            "<!--/tin-moi-nhat.htm--><!--s: 2/1/2023 4:42:54 PM--><!--LastModifiedDate:01/02/2023 16:42:54--><!--/tin-moi-nhat.htm-->\n"
          ]
        }
      ]
    },
    {
      "cell_type": "code",
      "source": [
        "titles = soup.find_all('h3',class_=\"box-title-text\")"
      ],
      "metadata": {
        "id": "Jr0vrZfAQUcN"
      },
      "execution_count": null,
      "outputs": []
    },
    {
      "cell_type": "code",
      "source": [
        "print(titles)"
      ],
      "metadata": {
        "colab": {
          "base_uri": "https://localhost:8080/"
        },
        "id": "gmLuUvf6QiNM",
        "outputId": "48744565-5d3f-44ff-a32a-17d08db43a5a"
      },
      "execution_count": null,
      "outputs": [
        {
          "output_type": "stream",
          "name": "stdout",
          "text": [
            "[<h3 class=\"box-title-text\" data-comment=\"20230201161646786\">\n",
            "<a class=\"box-category-link-title\" data-id=\"20230201161646786\" data-linktype=\"newsdetail\" data-newstype=\"0\" data-objecttype=\"\" data-type=\"0\" href=\"/cac-dai-gia-premier-league-mua-sam-the-nao-trong-mua-dong-20230201161646786.htm\" title=\"Các đại gia Premier League mua sắm thế nào trong mùa đông?\">Các đại gia Premier League mua sắm thế nào trong mùa đông?</a>\n",
            "</h3>, <h3 class=\"box-title-text\" data-comment=\"20230201161202107\">\n",
            "<a class=\"box-category-link-title\" data-id=\"20230201161202107\" data-linktype=\"newsdetail\" data-newstype=\"0\" data-objecttype=\"\" data-type=\"0\" href=\"/me-ngoai-35-tuoi-bo-tren-45-tuoi-co-nguy-co-sinh-con-khuyet-tat-20230201161202107.htm\" title=\"Mẹ ngoài 35 tuổi, bố trên 45 tuổi có nguy cơ sinh con khuyết tật\">Mẹ ngoài 35 tuổi, bố trên 45 tuổi có nguy cơ sinh con khuyết tật</a>\n",
            "</h3>, <h3 class=\"box-title-text\" data-comment=\"20230201140050746\">\n",
            "<a class=\"box-category-link-title\" data-id=\"20230201140050746\" data-linktype=\"newsdetail\" data-newstype=\"0\" data-objecttype=\"\" data-type=\"0\" href=\"/dau-nam-quy-mao-2023-gia-gas-ban-le-tang-manh-20230201140050746.htm\" title=\"Đầu năm Quý Mão 2023, giá gas bán lẻ tăng mạnh\">Đầu năm Quý Mão 2023, giá gas bán lẻ tăng mạnh</a>\n",
            "</h3>, <h3 class=\"box-title-text\" data-comment=\"20230201115012606\">\n",
            "<a class=\"box-category-link-title\" data-id=\"20230201115012606\" data-linktype=\"newsdetail\" data-newstype=\"0\" data-objecttype=\"\" data-type=\"0\" href=\"/dan-mang-trung-quoc-lo-ceo-tiktok-gap-nguy-hiem-tai-my-20230201115012606.htm\" title=\"Dân mạng Trung Quốc lo CEO TikTok gặp nguy hiểm tại Mỹ\">Dân mạng Trung Quốc lo CEO TikTok gặp nguy hiểm tại Mỹ</a>\n",
            "</h3>, <h3 class=\"box-title-text\" data-comment=\"20230201160159709\">\n",
            "<a class=\"box-category-link-title\" data-id=\"20230201160159709\" data-linktype=\"newsdetail\" data-newstype=\"0\" data-objecttype=\"\" data-type=\"0\" href=\"/da-nang-canh-sat-dot-kich-vu-truong-new-phuong-dong-nhieu-dan-choi-ma-tuy-gay-canh-20230201160159709.htm\" title=\"Đà Nẵng: Cảnh sát đột kích vũ trường New Phương Đông, nhiều dân chơi ma túy ‘gãy cánh’\">Đà Nẵng: Cảnh sát đột kích vũ trường New Phương Đông, nhiều dân chơi ma túy ‘gãy cánh’</a>\n",
            "</h3>, <h3 class=\"box-title-text\" data-comment=\"20230201152557466\">\n",
            "<a class=\"box-category-link-title\" data-id=\"20230201152557466\" data-linktype=\"newsdetail\" data-newstype=\"0\" data-objecttype=\"\" data-type=\"0\" href=\"/de-xuat-co-che-moi-lam-cac-du-an-bot-o-tp-hcm-20230201152557466.htm\" title=\"Đề xuất cơ chế mới làm các dự án BOT ở TP.HCM\">Đề xuất cơ chế mới làm các dự án BOT ở TP.HCM</a>\n",
            "</h3>, <h3 class=\"box-title-text\" data-comment=\"20230201150602434\">\n",
            "<a class=\"box-category-link-title\" data-id=\"20230201150602434\" data-linktype=\"newsdetail\" data-newstype=\"0\" data-objecttype=\"\" data-type=\"0\" href=\"/el-pais-tay-ban-nha-gui-xe-tang-leopard-cho-ukraine-20230201150602434.htm\" title=\"El Pais: Tây Ban Nha gửi xe tăng Leopard cho Ukraine\">El Pais: Tây Ban Nha gửi xe tăng Leopard cho Ukraine</a>\n",
            "</h3>, <h3 class=\"box-title-text\" data-comment=\"20230201151348022\">\n",
            "<a class=\"box-category-link-title\" data-id=\"20230201151348022\" data-linktype=\"newsdetail\" data-newstype=\"0\" data-objecttype=\"\" data-type=\"0\" href=\"/cong-an-phuong-co-duoc-dung-xe-xu-phat-vi-pham-giao-thong-khong-20230201151348022.htm\" title=\"Công an phường có được dừng xe xử phạt vi phạm giao thông không?\">Công an phường có được dừng xe xử phạt vi phạm giao thông không?</a>\n",
            "</h3>, <h3 class=\"box-title-text\" data-comment=\"20230201155807154\">\n",
            "<a class=\"box-category-link-title\" data-id=\"20230201155807154\" data-linktype=\"newsdetail\" data-newstype=\"0\" data-objecttype=\"\" data-type=\"0\" href=\"/khach-di-choi-tet-qua-tan-son-nhat-tang-61-20230201155807154.htm\" title=\"Khách đi chơi Tết qua Tân Sơn Nhất tăng 61%\">Khách đi chơi Tết qua Tân Sơn Nhất tăng 61%</a>\n",
            "</h3>, <h3 class=\"box-title-text\" data-comment=\"20230201154618226\">\n",
            "<a class=\"box-category-link-title\" data-id=\"20230201154618226\" data-linktype=\"newsdetail\" data-newstype=\"0\" data-objecttype=\"\" data-type=\"0\" href=\"/phat-dong-cuoc-thi-bao-ve-nen-tang-tu-tuong-cua-dang-lan-thu-3-20230201154618226.htm\" title=\"Phát động Cuộc thi bảo vệ nền tảng tư tưởng của Đảng lần thứ 3\">Phát động Cuộc thi bảo vệ nền tảng tư tưởng của Đảng lần thứ 3</a>\n",
            "</h3>, <h3 class=\"box-title-text\" data-comment=\"20230201155225369\">\n",
            "<a class=\"box-category-link-title\" data-id=\"20230201155225369\" data-linktype=\"newsdetail\" data-newstype=\"0\" data-objecttype=\"\" data-type=\"0\" href=\"/mang-xa-hoi-snapchat-bao-lo-nang-20230201155225369.htm\" title=\"Mạng xã hội Snapchat báo lỗ nặng\">Mạng xã hội Snapchat báo lỗ nặng</a>\n",
            "</h3>, <h3 class=\"box-title-text\" data-comment=\"20230201111822056\">\n",
            "<a class=\"box-category-link-title\" data-id=\"20230201111822056\" data-linktype=\"newsdetail\" data-newstype=\"0\" data-objecttype=\"\" data-type=\"1\" href=\"/xe-may-dien-honda-cub-e-sang-cua-ban-tai-viet-nam-nhieu-chi-tiet-hien-dai-20230201111822056.htm\" title=\"Xe máy điện Honda Cub E sáng cửa bán tại Việt Nam, nhiều chi tiết hiện đại hợp nữ giới\">Xe máy điện Honda Cub E sáng cửa bán tại Việt Nam, nhiều chi tiết hiện đại hợp nữ giới</a>\n",
            "</h3>, <h3 class=\"box-title-text\" data-comment=\"20230201152918774\">\n",
            "<a class=\"box-category-link-title\" data-id=\"20230201152918774\" data-linktype=\"newsdetail\" data-newstype=\"0\" data-objecttype=\"\" data-type=\"0\" href=\"/den-tho-vua-hung-tp-can-tho-tro-thanh-diem-du-lich-tieu-bieu-20230201152918774.htm\" title=\"Đền thờ Vua Hùng TP Cần Thơ trở thành điểm du lịch tiêu biểu\">Đền thờ Vua Hùng TP Cần Thơ trở thành điểm du lịch tiêu biểu</a>\n",
            "</h3>, <h3 class=\"box-title-text\" data-comment=\"20230201145805418\">\n",
            "<a class=\"box-category-link-title\" data-id=\"20230201145805418\" data-linktype=\"newsdetail\" data-newstype=\"0\" data-objecttype=\"\" data-type=\"0\" href=\"/du-khach-da-nhan-lai-duoc-vali-bi-cam-nham-tai-san-bay-phu-quoc-20230201145805418.htm\" title=\"Du khách đã nhận lại được vali bị 'cầm nhầm' tại sân bay Phú Quốc\">Du khách đã nhận lại được vali bị 'cầm nhầm' tại sân bay Phú Quốc</a>\n",
            "</h3>, <h3 class=\"box-title-text\" data-comment=\"20230201151359225\">\n",
            "<a class=\"box-category-link-title\" data-id=\"20230201151359225\" data-linktype=\"newsdetail\" data-newstype=\"0\" data-objecttype=\"\" data-type=\"0\" href=\"/bang-duong-vuot-bui-ram-den-thang-canh-roi-te-ngua-20230201151359225.htm\" title=\"Băng đường, vượt bụi rậm đến thắng cảnh rồi… té ngửa\">Băng đường, vượt bụi rậm đến thắng cảnh rồi… té ngửa</a>\n",
            "</h3>, <h3 class=\"box-title-text\" data-comment=\"20230201150550863\">\n",
            "<a class=\"box-category-link-title\" data-id=\"20230201150550863\" data-linktype=\"newsdetail\" data-newstype=\"0\" data-objecttype=\"\" data-type=\"0\" href=\"/dieu-tra-vu-mot-cong-an-xa-bi-vay-danh-khi-xac-minh-tin-bao-danh-bac-20230201150550863.htm\" title=\"Điều tra vụ một công an xã bị vây đánh khi xác minh tin báo đánh bạc\">Điều tra vụ một công an xã bị vây đánh khi xác minh tin báo đánh bạc</a>\n",
            "</h3>, <h3 class=\"box-title-text\" data-comment=\"20230131185523077\">\n",
            "<a class=\"box-category-link-title\" data-id=\"20230131185523077\" data-linktype=\"newsdetail\" data-newstype=\"1\" data-objecttype=\"\" data-type=\"1\" href=\"/toyota-wigo-sap-tro-lai-viet-nam-gia-tam-tinh-tu-352-trieu-dong-co-the-giao-xe-thang-6-20230131185523077.htm\" title=\"Toyota Wigo sắp trở lại Việt Nam: Giá tạm tính từ 352 triệu đồng, có thể giao xe tháng 6\">Toyota Wigo sắp trở lại Việt Nam: Giá tạm tính từ 352 triệu đồng, có thể giao xe tháng 6</a>\n",
            "</h3>, <h3 class=\"box-title-text\" data-comment=\"20230201151227952\">\n",
            "<a class=\"box-category-link-title\" data-id=\"20230201151227952\" data-linktype=\"newsdetail\" data-newstype=\"0\" data-objecttype=\"\" data-type=\"0\" href=\"/13-hanh-vi-bi-nghiem-cam-lien-quan-den-dat-dai-20230201151227952.htm\" title=\"13 hành vi bị nghiêm cấm liên quan đến đất đai\">13 hành vi bị nghiêm cấm liên quan đến đất đai</a>\n",
            "</h3>, <h3 class=\"box-title-text\" data-comment=\"20230201145348155\">\n",
            "<a class=\"box-category-link-title\" data-id=\"20230201145348155\" data-linktype=\"newsdetail\" data-newstype=\"0\" data-objecttype=\"\" data-type=\"0\" href=\"/khanh-hoa-gap-rut-sua-chua-san-van-dong-19-8-truoc-mua-giai-v-league-2023-20230201145348155.htm\" title=\"Khánh Hòa gấp rút sửa chữa sân vận động 19-8 trước mùa giải V-League 2023\">Khánh Hòa gấp rút sửa chữa sân vận động 19-8 trước mùa giải V-League 2023</a>\n",
            "</h3>, <h3 class=\"box-title-text\" data-comment=\"2023020108581581\">\n",
            "<a class=\"box-category-link-title\" data-id=\"2023020108581581\" data-linktype=\"newsdetail\" data-newstype=\"0\" data-objecttype=\"\" data-type=\"0\" href=\"/bat-dong-san-it-nguoi-mua-vi-gia-qua-cao-2023020108581581.htm\" title=\"Bất động sản ít người mua vì giá quá cao\">Bất động sản ít người mua vì giá quá cao</a>\n",
            "</h3>]\n"
          ]
        }
      ]
    },
    {
      "cell_type": "code",
      "source": [
        "links = [link.find('a').attrs[\"href\"] for link in titles]\n",
        "print(links)"
      ],
      "metadata": {
        "colab": {
          "base_uri": "https://localhost:8080/"
        },
        "id": "yUiQChlfQpUH",
        "outputId": "d7418c4d-29f3-450e-c4a2-92668fa27d5e"
      },
      "execution_count": null,
      "outputs": [
        {
          "output_type": "stream",
          "name": "stdout",
          "text": [
            "['/cac-dai-gia-premier-league-mua-sam-the-nao-trong-mua-dong-20230201161646786.htm', '/me-ngoai-35-tuoi-bo-tren-45-tuoi-co-nguy-co-sinh-con-khuyet-tat-20230201161202107.htm', '/dau-nam-quy-mao-2023-gia-gas-ban-le-tang-manh-20230201140050746.htm', '/dan-mang-trung-quoc-lo-ceo-tiktok-gap-nguy-hiem-tai-my-20230201115012606.htm', '/da-nang-canh-sat-dot-kich-vu-truong-new-phuong-dong-nhieu-dan-choi-ma-tuy-gay-canh-20230201160159709.htm', '/de-xuat-co-che-moi-lam-cac-du-an-bot-o-tp-hcm-20230201152557466.htm', '/el-pais-tay-ban-nha-gui-xe-tang-leopard-cho-ukraine-20230201150602434.htm', '/cong-an-phuong-co-duoc-dung-xe-xu-phat-vi-pham-giao-thong-khong-20230201151348022.htm', '/khach-di-choi-tet-qua-tan-son-nhat-tang-61-20230201155807154.htm', '/phat-dong-cuoc-thi-bao-ve-nen-tang-tu-tuong-cua-dang-lan-thu-3-20230201154618226.htm', '/mang-xa-hoi-snapchat-bao-lo-nang-20230201155225369.htm', '/xe-may-dien-honda-cub-e-sang-cua-ban-tai-viet-nam-nhieu-chi-tiet-hien-dai-20230201111822056.htm', '/den-tho-vua-hung-tp-can-tho-tro-thanh-diem-du-lich-tieu-bieu-20230201152918774.htm', '/du-khach-da-nhan-lai-duoc-vali-bi-cam-nham-tai-san-bay-phu-quoc-20230201145805418.htm', '/bang-duong-vuot-bui-ram-den-thang-canh-roi-te-ngua-20230201151359225.htm', '/dieu-tra-vu-mot-cong-an-xa-bi-vay-danh-khi-xac-minh-tin-bao-danh-bac-20230201150550863.htm', '/toyota-wigo-sap-tro-lai-viet-nam-gia-tam-tinh-tu-352-trieu-dong-co-the-giao-xe-thang-6-20230131185523077.htm', '/13-hanh-vi-bi-nghiem-cam-lien-quan-den-dat-dai-20230201151227952.htm', '/khanh-hoa-gap-rut-sua-chua-san-van-dong-19-8-truoc-mua-giai-v-league-2023-20230201145348155.htm', '/bat-dong-san-it-nguoi-mua-vi-gia-qua-cao-2023020108581581.htm']\n"
          ]
        }
      ]
    },
    {
      "cell_type": "code",
      "source": [
        "for link in links:\n",
        "  news = rq.get(\"http://tuoitre.vn\"+link)\n",
        "  soup = bs(news.content,\"html.parser\")\n",
        "  title=soup.find(\"h1\",class_=\"detail-title\").text\n",
        "  mota = soup.find(\"h2\",class_=\"detail-sapo\").text\n",
        "  print(30*\"*\")\n",
        "  print(\"Tiêu đề:\",title)\n",
        "  print(\"Mô tả:\", mota)"
      ],
      "metadata": {
        "colab": {
          "base_uri": "https://localhost:8080/",
          "height": 725
        },
        "id": "V1MS1umDTerK",
        "outputId": "d14d6b76-4554-40a6-fb2a-b8873ea11dc5"
      },
      "execution_count": null,
      "outputs": [
        {
          "output_type": "error",
          "ename": "ConnectionError",
          "evalue": "ignored",
          "traceback": [
            "\u001b[0;31m---------------------------------------------------------------------------\u001b[0m",
            "\u001b[0;31mTimeoutError\u001b[0m                              Traceback (most recent call last)",
            "\u001b[0;32m/usr/local/lib/python3.8/dist-packages/urllib3/connection.py\u001b[0m in \u001b[0;36m_new_conn\u001b[0;34m(self)\u001b[0m\n\u001b[1;32m    157\u001b[0m         \u001b[0;32mtry\u001b[0m\u001b[0;34m:\u001b[0m\u001b[0;34m\u001b[0m\u001b[0;34m\u001b[0m\u001b[0m\n\u001b[0;32m--> 158\u001b[0;31m             conn = connection.create_connection(\n\u001b[0m\u001b[1;32m    159\u001b[0m                 (self._dns_host, self.port), self.timeout, **extra_kw)\n",
            "\u001b[0;32m/usr/local/lib/python3.8/dist-packages/urllib3/util/connection.py\u001b[0m in \u001b[0;36mcreate_connection\u001b[0;34m(address, timeout, source_address, socket_options)\u001b[0m\n\u001b[1;32m     79\u001b[0m     \u001b[0;32mif\u001b[0m \u001b[0merr\u001b[0m \u001b[0;32mis\u001b[0m \u001b[0;32mnot\u001b[0m \u001b[0;32mNone\u001b[0m\u001b[0;34m:\u001b[0m\u001b[0;34m\u001b[0m\u001b[0;34m\u001b[0m\u001b[0m\n\u001b[0;32m---> 80\u001b[0;31m         \u001b[0;32mraise\u001b[0m \u001b[0merr\u001b[0m\u001b[0;34m\u001b[0m\u001b[0;34m\u001b[0m\u001b[0m\n\u001b[0m\u001b[1;32m     81\u001b[0m \u001b[0;34m\u001b[0m\u001b[0m\n",
            "\u001b[0;32m/usr/local/lib/python3.8/dist-packages/urllib3/util/connection.py\u001b[0m in \u001b[0;36mcreate_connection\u001b[0;34m(address, timeout, source_address, socket_options)\u001b[0m\n\u001b[1;32m     69\u001b[0m                 \u001b[0msock\u001b[0m\u001b[0;34m.\u001b[0m\u001b[0mbind\u001b[0m\u001b[0;34m(\u001b[0m\u001b[0msource_address\u001b[0m\u001b[0;34m)\u001b[0m\u001b[0;34m\u001b[0m\u001b[0;34m\u001b[0m\u001b[0m\n\u001b[0;32m---> 70\u001b[0;31m             \u001b[0msock\u001b[0m\u001b[0;34m.\u001b[0m\u001b[0mconnect\u001b[0m\u001b[0;34m(\u001b[0m\u001b[0msa\u001b[0m\u001b[0;34m)\u001b[0m\u001b[0;34m\u001b[0m\u001b[0;34m\u001b[0m\u001b[0m\n\u001b[0m\u001b[1;32m     71\u001b[0m             \u001b[0;32mreturn\u001b[0m \u001b[0msock\u001b[0m\u001b[0;34m\u001b[0m\u001b[0;34m\u001b[0m\u001b[0m\n",
            "\u001b[0;31mTimeoutError\u001b[0m: [Errno 110] Connection timed out",
            "\nDuring handling of the above exception, another exception occurred:\n",
            "\u001b[0;31mNewConnectionError\u001b[0m                        Traceback (most recent call last)",
            "\u001b[0;32m/usr/local/lib/python3.8/dist-packages/urllib3/connectionpool.py\u001b[0m in \u001b[0;36murlopen\u001b[0;34m(self, method, url, body, headers, retries, redirect, assert_same_host, timeout, pool_timeout, release_conn, chunked, body_pos, **response_kw)\u001b[0m\n\u001b[1;32m    596\u001b[0m             \u001b[0;31m# Make the request on the httplib connection object.\u001b[0m\u001b[0;34m\u001b[0m\u001b[0;34m\u001b[0m\u001b[0;34m\u001b[0m\u001b[0m\n\u001b[0;32m--> 597\u001b[0;31m             httplib_response = self._make_request(conn, method, url,\n\u001b[0m\u001b[1;32m    598\u001b[0m                                                   \u001b[0mtimeout\u001b[0m\u001b[0;34m=\u001b[0m\u001b[0mtimeout_obj\u001b[0m\u001b[0;34m,\u001b[0m\u001b[0;34m\u001b[0m\u001b[0;34m\u001b[0m\u001b[0m\n",
            "\u001b[0;32m/usr/local/lib/python3.8/dist-packages/urllib3/connectionpool.py\u001b[0m in \u001b[0;36m_make_request\u001b[0;34m(self, conn, method, url, timeout, chunked, **httplib_request_kw)\u001b[0m\n\u001b[1;32m    353\u001b[0m         \u001b[0;32melse\u001b[0m\u001b[0;34m:\u001b[0m\u001b[0;34m\u001b[0m\u001b[0;34m\u001b[0m\u001b[0m\n\u001b[0;32m--> 354\u001b[0;31m             \u001b[0mconn\u001b[0m\u001b[0;34m.\u001b[0m\u001b[0mrequest\u001b[0m\u001b[0;34m(\u001b[0m\u001b[0mmethod\u001b[0m\u001b[0;34m,\u001b[0m \u001b[0murl\u001b[0m\u001b[0;34m,\u001b[0m \u001b[0;34m**\u001b[0m\u001b[0mhttplib_request_kw\u001b[0m\u001b[0;34m)\u001b[0m\u001b[0;34m\u001b[0m\u001b[0;34m\u001b[0m\u001b[0m\n\u001b[0m\u001b[1;32m    355\u001b[0m \u001b[0;34m\u001b[0m\u001b[0m\n",
            "\u001b[0;32m/usr/lib/python3.8/http/client.py\u001b[0m in \u001b[0;36mrequest\u001b[0;34m(self, method, url, body, headers, encode_chunked)\u001b[0m\n\u001b[1;32m   1255\u001b[0m         \u001b[0;34m\"\"\"Send a complete request to the server.\"\"\"\u001b[0m\u001b[0;34m\u001b[0m\u001b[0;34m\u001b[0m\u001b[0m\n\u001b[0;32m-> 1256\u001b[0;31m         \u001b[0mself\u001b[0m\u001b[0;34m.\u001b[0m\u001b[0m_send_request\u001b[0m\u001b[0;34m(\u001b[0m\u001b[0mmethod\u001b[0m\u001b[0;34m,\u001b[0m \u001b[0murl\u001b[0m\u001b[0;34m,\u001b[0m \u001b[0mbody\u001b[0m\u001b[0;34m,\u001b[0m \u001b[0mheaders\u001b[0m\u001b[0;34m,\u001b[0m \u001b[0mencode_chunked\u001b[0m\u001b[0;34m)\u001b[0m\u001b[0;34m\u001b[0m\u001b[0;34m\u001b[0m\u001b[0m\n\u001b[0m\u001b[1;32m   1257\u001b[0m \u001b[0;34m\u001b[0m\u001b[0m\n",
            "\u001b[0;32m/usr/lib/python3.8/http/client.py\u001b[0m in \u001b[0;36m_send_request\u001b[0;34m(self, method, url, body, headers, encode_chunked)\u001b[0m\n\u001b[1;32m   1301\u001b[0m             \u001b[0mbody\u001b[0m \u001b[0;34m=\u001b[0m \u001b[0m_encode\u001b[0m\u001b[0;34m(\u001b[0m\u001b[0mbody\u001b[0m\u001b[0;34m,\u001b[0m \u001b[0;34m'body'\u001b[0m\u001b[0;34m)\u001b[0m\u001b[0;34m\u001b[0m\u001b[0;34m\u001b[0m\u001b[0m\n\u001b[0;32m-> 1302\u001b[0;31m         \u001b[0mself\u001b[0m\u001b[0;34m.\u001b[0m\u001b[0mendheaders\u001b[0m\u001b[0;34m(\u001b[0m\u001b[0mbody\u001b[0m\u001b[0;34m,\u001b[0m \u001b[0mencode_chunked\u001b[0m\u001b[0;34m=\u001b[0m\u001b[0mencode_chunked\u001b[0m\u001b[0;34m)\u001b[0m\u001b[0;34m\u001b[0m\u001b[0;34m\u001b[0m\u001b[0m\n\u001b[0m\u001b[1;32m   1303\u001b[0m \u001b[0;34m\u001b[0m\u001b[0m\n",
            "\u001b[0;32m/usr/lib/python3.8/http/client.py\u001b[0m in \u001b[0;36mendheaders\u001b[0;34m(self, message_body, encode_chunked)\u001b[0m\n\u001b[1;32m   1250\u001b[0m             \u001b[0;32mraise\u001b[0m \u001b[0mCannotSendHeader\u001b[0m\u001b[0;34m(\u001b[0m\u001b[0;34m)\u001b[0m\u001b[0;34m\u001b[0m\u001b[0;34m\u001b[0m\u001b[0m\n\u001b[0;32m-> 1251\u001b[0;31m         \u001b[0mself\u001b[0m\u001b[0;34m.\u001b[0m\u001b[0m_send_output\u001b[0m\u001b[0;34m(\u001b[0m\u001b[0mmessage_body\u001b[0m\u001b[0;34m,\u001b[0m \u001b[0mencode_chunked\u001b[0m\u001b[0;34m=\u001b[0m\u001b[0mencode_chunked\u001b[0m\u001b[0;34m)\u001b[0m\u001b[0;34m\u001b[0m\u001b[0;34m\u001b[0m\u001b[0m\n\u001b[0m\u001b[1;32m   1252\u001b[0m \u001b[0;34m\u001b[0m\u001b[0m\n",
            "\u001b[0;32m/usr/lib/python3.8/http/client.py\u001b[0m in \u001b[0;36m_send_output\u001b[0;34m(self, message_body, encode_chunked)\u001b[0m\n\u001b[1;32m   1010\u001b[0m         \u001b[0;32mdel\u001b[0m \u001b[0mself\u001b[0m\u001b[0;34m.\u001b[0m\u001b[0m_buffer\u001b[0m\u001b[0;34m[\u001b[0m\u001b[0;34m:\u001b[0m\u001b[0;34m]\u001b[0m\u001b[0;34m\u001b[0m\u001b[0;34m\u001b[0m\u001b[0m\n\u001b[0;32m-> 1011\u001b[0;31m         \u001b[0mself\u001b[0m\u001b[0;34m.\u001b[0m\u001b[0msend\u001b[0m\u001b[0;34m(\u001b[0m\u001b[0mmsg\u001b[0m\u001b[0;34m)\u001b[0m\u001b[0;34m\u001b[0m\u001b[0;34m\u001b[0m\u001b[0m\n\u001b[0m\u001b[1;32m   1012\u001b[0m \u001b[0;34m\u001b[0m\u001b[0m\n",
            "\u001b[0;32m/usr/lib/python3.8/http/client.py\u001b[0m in \u001b[0;36msend\u001b[0;34m(self, data)\u001b[0m\n\u001b[1;32m    950\u001b[0m             \u001b[0;32mif\u001b[0m \u001b[0mself\u001b[0m\u001b[0;34m.\u001b[0m\u001b[0mauto_open\u001b[0m\u001b[0;34m:\u001b[0m\u001b[0;34m\u001b[0m\u001b[0;34m\u001b[0m\u001b[0m\n\u001b[0;32m--> 951\u001b[0;31m                 \u001b[0mself\u001b[0m\u001b[0;34m.\u001b[0m\u001b[0mconnect\u001b[0m\u001b[0;34m(\u001b[0m\u001b[0;34m)\u001b[0m\u001b[0;34m\u001b[0m\u001b[0;34m\u001b[0m\u001b[0m\n\u001b[0m\u001b[1;32m    952\u001b[0m             \u001b[0;32melse\u001b[0m\u001b[0;34m:\u001b[0m\u001b[0;34m\u001b[0m\u001b[0;34m\u001b[0m\u001b[0m\n",
            "\u001b[0;32m/usr/local/lib/python3.8/dist-packages/urllib3/connection.py\u001b[0m in \u001b[0;36mconnect\u001b[0;34m(self)\u001b[0m\n\u001b[1;32m    180\u001b[0m     \u001b[0;32mdef\u001b[0m \u001b[0mconnect\u001b[0m\u001b[0;34m(\u001b[0m\u001b[0mself\u001b[0m\u001b[0;34m)\u001b[0m\u001b[0;34m:\u001b[0m\u001b[0;34m\u001b[0m\u001b[0;34m\u001b[0m\u001b[0m\n\u001b[0;32m--> 181\u001b[0;31m         \u001b[0mconn\u001b[0m \u001b[0;34m=\u001b[0m \u001b[0mself\u001b[0m\u001b[0;34m.\u001b[0m\u001b[0m_new_conn\u001b[0m\u001b[0;34m(\u001b[0m\u001b[0;34m)\u001b[0m\u001b[0;34m\u001b[0m\u001b[0;34m\u001b[0m\u001b[0m\n\u001b[0m\u001b[1;32m    182\u001b[0m         \u001b[0mself\u001b[0m\u001b[0;34m.\u001b[0m\u001b[0m_prepare_conn\u001b[0m\u001b[0;34m(\u001b[0m\u001b[0mconn\u001b[0m\u001b[0;34m)\u001b[0m\u001b[0;34m\u001b[0m\u001b[0;34m\u001b[0m\u001b[0m\n",
            "\u001b[0;32m/usr/local/lib/python3.8/dist-packages/urllib3/connection.py\u001b[0m in \u001b[0;36m_new_conn\u001b[0;34m(self)\u001b[0m\n\u001b[1;32m    166\u001b[0m         \u001b[0;32mexcept\u001b[0m \u001b[0mSocketError\u001b[0m \u001b[0;32mas\u001b[0m \u001b[0me\u001b[0m\u001b[0;34m:\u001b[0m\u001b[0;34m\u001b[0m\u001b[0;34m\u001b[0m\u001b[0m\n\u001b[0;32m--> 167\u001b[0;31m             raise NewConnectionError(\n\u001b[0m\u001b[1;32m    168\u001b[0m                 self, \"Failed to establish a new connection: %s\" % e)\n",
            "\u001b[0;31mNewConnectionError\u001b[0m: <urllib3.connection.HTTPConnection object at 0x7f6feb261670>: Failed to establish a new connection: [Errno 110] Connection timed out",
            "\nDuring handling of the above exception, another exception occurred:\n",
            "\u001b[0;31mMaxRetryError\u001b[0m                             Traceback (most recent call last)",
            "\u001b[0;32m/usr/local/lib/python3.8/dist-packages/requests/adapters.py\u001b[0m in \u001b[0;36msend\u001b[0;34m(self, request, stream, timeout, verify, cert, proxies)\u001b[0m\n\u001b[1;32m    438\u001b[0m             \u001b[0;32mif\u001b[0m \u001b[0;32mnot\u001b[0m \u001b[0mchunked\u001b[0m\u001b[0;34m:\u001b[0m\u001b[0;34m\u001b[0m\u001b[0;34m\u001b[0m\u001b[0m\n\u001b[0;32m--> 439\u001b[0;31m                 resp = conn.urlopen(\n\u001b[0m\u001b[1;32m    440\u001b[0m                     \u001b[0mmethod\u001b[0m\u001b[0;34m=\u001b[0m\u001b[0mrequest\u001b[0m\u001b[0;34m.\u001b[0m\u001b[0mmethod\u001b[0m\u001b[0;34m,\u001b[0m\u001b[0;34m\u001b[0m\u001b[0;34m\u001b[0m\u001b[0m\n",
            "\u001b[0;32m/usr/local/lib/python3.8/dist-packages/urllib3/connectionpool.py\u001b[0m in \u001b[0;36murlopen\u001b[0;34m(self, method, url, body, headers, retries, redirect, assert_same_host, timeout, pool_timeout, release_conn, chunked, body_pos, **response_kw)\u001b[0m\n\u001b[1;32m    636\u001b[0m \u001b[0;34m\u001b[0m\u001b[0m\n\u001b[0;32m--> 637\u001b[0;31m             retries = retries.increment(method, url, error=e, _pool=self,\n\u001b[0m\u001b[1;32m    638\u001b[0m                                         _stacktrace=sys.exc_info()[2])\n",
            "\u001b[0;32m/usr/local/lib/python3.8/dist-packages/urllib3/util/retry.py\u001b[0m in \u001b[0;36mincrement\u001b[0;34m(self, method, url, response, error, _pool, _stacktrace)\u001b[0m\n\u001b[1;32m    398\u001b[0m         \u001b[0;32mif\u001b[0m \u001b[0mnew_retry\u001b[0m\u001b[0;34m.\u001b[0m\u001b[0mis_exhausted\u001b[0m\u001b[0;34m(\u001b[0m\u001b[0;34m)\u001b[0m\u001b[0;34m:\u001b[0m\u001b[0;34m\u001b[0m\u001b[0;34m\u001b[0m\u001b[0m\n\u001b[0;32m--> 399\u001b[0;31m             \u001b[0;32mraise\u001b[0m \u001b[0mMaxRetryError\u001b[0m\u001b[0;34m(\u001b[0m\u001b[0m_pool\u001b[0m\u001b[0;34m,\u001b[0m \u001b[0murl\u001b[0m\u001b[0;34m,\u001b[0m \u001b[0merror\u001b[0m \u001b[0;32mor\u001b[0m \u001b[0mResponseError\u001b[0m\u001b[0;34m(\u001b[0m\u001b[0mcause\u001b[0m\u001b[0;34m)\u001b[0m\u001b[0;34m)\u001b[0m\u001b[0;34m\u001b[0m\u001b[0;34m\u001b[0m\u001b[0m\n\u001b[0m\u001b[1;32m    400\u001b[0m \u001b[0;34m\u001b[0m\u001b[0m\n",
            "\u001b[0;31mMaxRetryError\u001b[0m: HTTPConnectionPool(host='tuoitre.vn', port=80): Max retries exceeded with url: /cac-dai-gia-premier-league-mua-sam-the-nao-trong-mua-dong-20230201161646786.htm (Caused by NewConnectionError('<urllib3.connection.HTTPConnection object at 0x7f6feb261670>: Failed to establish a new connection: [Errno 110] Connection timed out'))",
            "\nDuring handling of the above exception, another exception occurred:\n",
            "\u001b[0;31mConnectionError\u001b[0m                           Traceback (most recent call last)",
            "\u001b[0;32m<ipython-input-70-2010c6d3da09>\u001b[0m in \u001b[0;36m<module>\u001b[0;34m\u001b[0m\n\u001b[1;32m      1\u001b[0m \u001b[0;32mfor\u001b[0m \u001b[0mlink\u001b[0m \u001b[0;32min\u001b[0m \u001b[0mlinks\u001b[0m\u001b[0;34m:\u001b[0m\u001b[0;34m\u001b[0m\u001b[0;34m\u001b[0m\u001b[0m\n\u001b[0;32m----> 2\u001b[0;31m   \u001b[0mnews\u001b[0m \u001b[0;34m=\u001b[0m \u001b[0mrq\u001b[0m\u001b[0;34m.\u001b[0m\u001b[0mget\u001b[0m\u001b[0;34m(\u001b[0m\u001b[0;34m\"http://tuoitre.vn\"\u001b[0m\u001b[0;34m+\u001b[0m\u001b[0mlink\u001b[0m\u001b[0;34m)\u001b[0m\u001b[0;34m\u001b[0m\u001b[0;34m\u001b[0m\u001b[0m\n\u001b[0m\u001b[1;32m      3\u001b[0m   \u001b[0msoup\u001b[0m \u001b[0;34m=\u001b[0m \u001b[0mbs\u001b[0m\u001b[0;34m(\u001b[0m\u001b[0mnews\u001b[0m\u001b[0;34m.\u001b[0m\u001b[0mcontent\u001b[0m\u001b[0;34m,\u001b[0m\u001b[0;34m\"html.parser\"\u001b[0m\u001b[0;34m)\u001b[0m\u001b[0;34m\u001b[0m\u001b[0;34m\u001b[0m\u001b[0m\n\u001b[1;32m      4\u001b[0m   \u001b[0mtitle\u001b[0m\u001b[0;34m=\u001b[0m\u001b[0msoup\u001b[0m\u001b[0;34m.\u001b[0m\u001b[0mfind\u001b[0m\u001b[0;34m(\u001b[0m\u001b[0;34m\"h1\"\u001b[0m\u001b[0;34m,\u001b[0m\u001b[0mclass_\u001b[0m\u001b[0;34m=\u001b[0m\u001b[0;34m\"detail-title\"\u001b[0m\u001b[0;34m)\u001b[0m\u001b[0;34m.\u001b[0m\u001b[0mtext\u001b[0m\u001b[0;34m\u001b[0m\u001b[0;34m\u001b[0m\u001b[0m\n\u001b[1;32m      5\u001b[0m   \u001b[0mmota\u001b[0m \u001b[0;34m=\u001b[0m \u001b[0msoup\u001b[0m\u001b[0;34m.\u001b[0m\u001b[0mfind\u001b[0m\u001b[0;34m(\u001b[0m\u001b[0;34m\"h2\"\u001b[0m\u001b[0;34m,\u001b[0m\u001b[0mclass_\u001b[0m\u001b[0;34m=\u001b[0m\u001b[0;34m\"detail-sapo\"\u001b[0m\u001b[0;34m)\u001b[0m\u001b[0;34m.\u001b[0m\u001b[0mtext\u001b[0m\u001b[0;34m\u001b[0m\u001b[0;34m\u001b[0m\u001b[0m\n",
            "\u001b[0;32m/usr/local/lib/python3.8/dist-packages/requests/api.py\u001b[0m in \u001b[0;36mget\u001b[0;34m(url, params, **kwargs)\u001b[0m\n\u001b[1;32m     74\u001b[0m \u001b[0;34m\u001b[0m\u001b[0m\n\u001b[1;32m     75\u001b[0m     \u001b[0mkwargs\u001b[0m\u001b[0;34m.\u001b[0m\u001b[0msetdefault\u001b[0m\u001b[0;34m(\u001b[0m\u001b[0;34m'allow_redirects'\u001b[0m\u001b[0;34m,\u001b[0m \u001b[0;32mTrue\u001b[0m\u001b[0;34m)\u001b[0m\u001b[0;34m\u001b[0m\u001b[0;34m\u001b[0m\u001b[0m\n\u001b[0;32m---> 76\u001b[0;31m     \u001b[0;32mreturn\u001b[0m \u001b[0mrequest\u001b[0m\u001b[0;34m(\u001b[0m\u001b[0;34m'get'\u001b[0m\u001b[0;34m,\u001b[0m \u001b[0murl\u001b[0m\u001b[0;34m,\u001b[0m \u001b[0mparams\u001b[0m\u001b[0;34m=\u001b[0m\u001b[0mparams\u001b[0m\u001b[0;34m,\u001b[0m \u001b[0;34m**\u001b[0m\u001b[0mkwargs\u001b[0m\u001b[0;34m)\u001b[0m\u001b[0;34m\u001b[0m\u001b[0;34m\u001b[0m\u001b[0m\n\u001b[0m\u001b[1;32m     77\u001b[0m \u001b[0;34m\u001b[0m\u001b[0m\n\u001b[1;32m     78\u001b[0m \u001b[0;34m\u001b[0m\u001b[0m\n",
            "\u001b[0;32m/usr/local/lib/python3.8/dist-packages/requests/api.py\u001b[0m in \u001b[0;36mrequest\u001b[0;34m(method, url, **kwargs)\u001b[0m\n\u001b[1;32m     59\u001b[0m     \u001b[0;31m# cases, and look like a memory leak in others.\u001b[0m\u001b[0;34m\u001b[0m\u001b[0;34m\u001b[0m\u001b[0;34m\u001b[0m\u001b[0m\n\u001b[1;32m     60\u001b[0m     \u001b[0;32mwith\u001b[0m \u001b[0msessions\u001b[0m\u001b[0;34m.\u001b[0m\u001b[0mSession\u001b[0m\u001b[0;34m(\u001b[0m\u001b[0;34m)\u001b[0m \u001b[0;32mas\u001b[0m \u001b[0msession\u001b[0m\u001b[0;34m:\u001b[0m\u001b[0;34m\u001b[0m\u001b[0;34m\u001b[0m\u001b[0m\n\u001b[0;32m---> 61\u001b[0;31m         \u001b[0;32mreturn\u001b[0m \u001b[0msession\u001b[0m\u001b[0;34m.\u001b[0m\u001b[0mrequest\u001b[0m\u001b[0;34m(\u001b[0m\u001b[0mmethod\u001b[0m\u001b[0;34m=\u001b[0m\u001b[0mmethod\u001b[0m\u001b[0;34m,\u001b[0m \u001b[0murl\u001b[0m\u001b[0;34m=\u001b[0m\u001b[0murl\u001b[0m\u001b[0;34m,\u001b[0m \u001b[0;34m**\u001b[0m\u001b[0mkwargs\u001b[0m\u001b[0;34m)\u001b[0m\u001b[0;34m\u001b[0m\u001b[0;34m\u001b[0m\u001b[0m\n\u001b[0m\u001b[1;32m     62\u001b[0m \u001b[0;34m\u001b[0m\u001b[0m\n\u001b[1;32m     63\u001b[0m \u001b[0;34m\u001b[0m\u001b[0m\n",
            "\u001b[0;32m/usr/local/lib/python3.8/dist-packages/requests/sessions.py\u001b[0m in \u001b[0;36mrequest\u001b[0;34m(self, method, url, params, data, headers, cookies, files, auth, timeout, allow_redirects, proxies, hooks, stream, verify, cert, json)\u001b[0m\n\u001b[1;32m    540\u001b[0m         }\n\u001b[1;32m    541\u001b[0m         \u001b[0msend_kwargs\u001b[0m\u001b[0;34m.\u001b[0m\u001b[0mupdate\u001b[0m\u001b[0;34m(\u001b[0m\u001b[0msettings\u001b[0m\u001b[0;34m)\u001b[0m\u001b[0;34m\u001b[0m\u001b[0;34m\u001b[0m\u001b[0m\n\u001b[0;32m--> 542\u001b[0;31m         \u001b[0mresp\u001b[0m \u001b[0;34m=\u001b[0m \u001b[0mself\u001b[0m\u001b[0;34m.\u001b[0m\u001b[0msend\u001b[0m\u001b[0;34m(\u001b[0m\u001b[0mprep\u001b[0m\u001b[0;34m,\u001b[0m \u001b[0;34m**\u001b[0m\u001b[0msend_kwargs\u001b[0m\u001b[0;34m)\u001b[0m\u001b[0;34m\u001b[0m\u001b[0;34m\u001b[0m\u001b[0m\n\u001b[0m\u001b[1;32m    543\u001b[0m \u001b[0;34m\u001b[0m\u001b[0m\n\u001b[1;32m    544\u001b[0m         \u001b[0;32mreturn\u001b[0m \u001b[0mresp\u001b[0m\u001b[0;34m\u001b[0m\u001b[0;34m\u001b[0m\u001b[0m\n",
            "\u001b[0;32m/usr/local/lib/python3.8/dist-packages/requests/sessions.py\u001b[0m in \u001b[0;36msend\u001b[0;34m(self, request, **kwargs)\u001b[0m\n\u001b[1;32m    653\u001b[0m \u001b[0;34m\u001b[0m\u001b[0m\n\u001b[1;32m    654\u001b[0m         \u001b[0;31m# Send the request\u001b[0m\u001b[0;34m\u001b[0m\u001b[0;34m\u001b[0m\u001b[0;34m\u001b[0m\u001b[0m\n\u001b[0;32m--> 655\u001b[0;31m         \u001b[0mr\u001b[0m \u001b[0;34m=\u001b[0m \u001b[0madapter\u001b[0m\u001b[0;34m.\u001b[0m\u001b[0msend\u001b[0m\u001b[0;34m(\u001b[0m\u001b[0mrequest\u001b[0m\u001b[0;34m,\u001b[0m \u001b[0;34m**\u001b[0m\u001b[0mkwargs\u001b[0m\u001b[0;34m)\u001b[0m\u001b[0;34m\u001b[0m\u001b[0;34m\u001b[0m\u001b[0m\n\u001b[0m\u001b[1;32m    656\u001b[0m \u001b[0;34m\u001b[0m\u001b[0m\n\u001b[1;32m    657\u001b[0m         \u001b[0;31m# Total elapsed time of the request (approximately)\u001b[0m\u001b[0;34m\u001b[0m\u001b[0;34m\u001b[0m\u001b[0;34m\u001b[0m\u001b[0m\n",
            "\u001b[0;32m/usr/local/lib/python3.8/dist-packages/requests/adapters.py\u001b[0m in \u001b[0;36msend\u001b[0;34m(self, request, stream, timeout, verify, cert, proxies)\u001b[0m\n\u001b[1;32m    514\u001b[0m                 \u001b[0;32mraise\u001b[0m \u001b[0mSSLError\u001b[0m\u001b[0;34m(\u001b[0m\u001b[0me\u001b[0m\u001b[0;34m,\u001b[0m \u001b[0mrequest\u001b[0m\u001b[0;34m=\u001b[0m\u001b[0mrequest\u001b[0m\u001b[0;34m)\u001b[0m\u001b[0;34m\u001b[0m\u001b[0;34m\u001b[0m\u001b[0m\n\u001b[1;32m    515\u001b[0m \u001b[0;34m\u001b[0m\u001b[0m\n\u001b[0;32m--> 516\u001b[0;31m             \u001b[0;32mraise\u001b[0m \u001b[0mConnectionError\u001b[0m\u001b[0;34m(\u001b[0m\u001b[0me\u001b[0m\u001b[0;34m,\u001b[0m \u001b[0mrequest\u001b[0m\u001b[0;34m=\u001b[0m\u001b[0mrequest\u001b[0m\u001b[0;34m)\u001b[0m\u001b[0;34m\u001b[0m\u001b[0;34m\u001b[0m\u001b[0m\n\u001b[0m\u001b[1;32m    517\u001b[0m \u001b[0;34m\u001b[0m\u001b[0m\n\u001b[1;32m    518\u001b[0m         \u001b[0;32mexcept\u001b[0m \u001b[0mClosedPoolError\u001b[0m \u001b[0;32mas\u001b[0m \u001b[0me\u001b[0m\u001b[0;34m:\u001b[0m\u001b[0;34m\u001b[0m\u001b[0;34m\u001b[0m\u001b[0m\n",
            "\u001b[0;31mConnectionError\u001b[0m: HTTPConnectionPool(host='tuoitre.vn', port=80): Max retries exceeded with url: /cac-dai-gia-premier-league-mua-sam-the-nao-trong-mua-dong-20230201161646786.htm (Caused by NewConnectionError('<urllib3.connection.HTTPConnection object at 0x7f6feb261670>: Failed to establish a new connection: [Errno 110] Connection timed out'))"
          ]
        }
      ]
    }
  ]
}